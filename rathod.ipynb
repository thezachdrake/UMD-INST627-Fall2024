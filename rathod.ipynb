{
 "cells": [
  {
   "cell_type": "code",
   "execution_count": 85,
   "id": "29f201c0-edee-4ac8-a261-88786ef89efa",
   "metadata": {},
   "outputs": [],
   "source": [
    "import pandas as pd\n",
    "import sqlite3\n",
    "\n",
    "con = sqlite3.connect(\"data/nba.sqlite\")\n",
    "games = pd.read_sql_query(\"SELECT * FROM game LIMIT 100\", con)\n",
    "active_players = pd.read_sql_query(\"SELECT full_name FROM player WHERE is_active=TRUE\", con)"
   ]
  },
  {
   "cell_type": "code",
   "execution_count": 91,
   "id": "00186c77-ac37-471a-b3ef-c67d7e0ddd2d",
   "metadata": {},
   "outputs": [
    {
     "name": "stdout",
     "output_type": "stream",
     "text": [
      "Most recent season:  2023\n"
     ]
    }
   ],
   "source": [
    "all_seasons=pd.read_sql_query(\"SELECT DISTINCT strftime('%Y', game_date) AS season_year FROM game ORDER BY season_year DESC;\", con)\n",
    "most_recent_season=all_seasons.iloc[0]['season_year']\n",
    "print(\"Most recent season: \", most_recent_season)"
   ]
  },
  {
   "cell_type": "code",
   "execution_count": 99,
   "id": "2bc91364-ce78-4213-8972-72923e920e50",
   "metadata": {},
   "outputs": [
    {
     "name": "stdout",
     "output_type": "stream",
     "text": [
      "                 team_home               team_away  pts_home  pts_away\n",
      "0    Golden State Warriors           Atlanta Hawks     143.0     141.0\n",
      "1    Golden State Warriors         Detroit Pistons     119.0     122.0\n",
      "2    Golden State Warriors           Orlando Magic     101.0     115.0\n",
      "3    Golden State Warriors            Phoenix Suns     113.0     125.0\n",
      "4        San Antonio Spurs   Golden State Warriors     113.0     144.0\n",
      "5            Chicago Bulls   Golden State Warriors     132.0     118.0\n",
      "6       Washington Wizards   Golden State Warriors     118.0     127.0\n",
      "7           Boston Celtics   Golden State Warriors     121.0     118.0\n",
      "8      Cleveland Cavaliers   Golden State Warriors     114.0     120.0\n",
      "9    Golden State Warriors           Brooklyn Nets     116.0     120.0\n",
      "10   Golden State Warriors       Memphis Grizzlies     122.0     120.0\n",
      "11   Golden State Warriors         Toronto Raptors     129.0     117.0\n",
      "12   Oklahoma City Thunder   Golden State Warriors     120.0     128.0\n",
      "13  Minnesota Timberwolves   Golden State Warriors     119.0     114.0\n",
      "14          Denver Nuggets   Golden State Warriors     134.0     117.0\n",
      "15   Golden State Warriors        Dallas Mavericks     119.0     113.0\n",
      "16   Golden State Warriors   Oklahoma City Thunder     141.0     114.0\n",
      "17  Portland Trail Blazers   Golden State Warriors     125.0     122.0\n",
      "18   Golden State Warriors      Los Angeles Lakers     103.0     109.0\n",
      "19   Golden State Warriors      Washington Wizards     135.0     126.0\n",
      "20             LA Clippers   Golden State Warriors     134.0     124.0\n",
      "21      Los Angeles Lakers   Golden State Warriors     124.0     111.0\n",
      "22   Golden State Warriors         Houston Rockets     116.0     101.0\n",
      "23   Golden State Warriors  Minnesota Timberwolves     109.0     104.0\n",
      "24   Golden State Warriors  Portland Trail Blazers     123.0     105.0\n",
      "25   Golden State Warriors             LA Clippers     115.0      91.0\n",
      "26   Golden State Warriors    New Orleans Pelicans     108.0      99.0\n",
      "27      Los Angeles Lakers   Golden State Warriors     113.0     105.0\n",
      "28   Oklahoma City Thunder   Golden State Warriors     137.0     128.0\n",
      "29       Memphis Grizzlies   Golden State Warriors     131.0     110.0\n",
      "30   Golden State Warriors         Milwaukee Bucks     125.0     116.0\n",
      "31   Golden State Warriors            Phoenix Suns     123.0     112.0\n",
      "32             LA Clippers   Golden State Warriors     134.0     126.0\n",
      "33           Atlanta Hawks   Golden State Warriors     127.0     119.0\n",
      "34       Memphis Grizzlies   Golden State Warriors     133.0     119.0\n",
      "35         Houston Rockets   Golden State Warriors     108.0     121.0\n",
      "36        Dallas Mavericks   Golden State Warriors     125.0     127.0\n",
      "37   Golden State Warriors      Philadelphia 76ers     120.0     112.0\n",
      "38   Golden State Warriors  Minnesota Timberwolves      96.0      99.0\n",
      "39   Golden State Warriors    New Orleans Pelicans     120.0     109.0\n",
      "40   Golden State Warriors       San Antonio Spurs     130.0     115.0\n",
      "41          Denver Nuggets   Golden State Warriors     112.0     110.0\n",
      "42   Golden State Warriors   Oklahoma City Thunder     136.0     125.0\n",
      "43        Sacramento Kings   Golden State Warriors      97.0     119.0\n",
      "44  Portland Trail Blazers   Golden State Warriors     101.0     157.0\n",
      "45        Sacramento Kings   Golden State Warriors     126.0     123.0\n",
      "46        Sacramento Kings   Golden State Warriors     114.0     106.0\n",
      "47   Golden State Warriors        Sacramento Kings     114.0      97.0\n",
      "48   Golden State Warriors        Sacramento Kings     126.0     125.0\n",
      "49        Sacramento Kings   Golden State Warriors     116.0     123.0\n",
      "50   Golden State Warriors        Sacramento Kings      99.0     118.0\n",
      "51        Sacramento Kings   Golden State Warriors     100.0     120.0\n",
      "52   Golden State Warriors      Los Angeles Lakers     112.0     117.0\n",
      "53   Golden State Warriors      Los Angeles Lakers     127.0     100.0\n",
      "54      Los Angeles Lakers   Golden State Warriors     127.0      97.0\n",
      "55      Los Angeles Lakers   Golden State Warriors     104.0     101.0\n",
      "56   Golden State Warriors      Los Angeles Lakers     121.0     106.0\n",
      "57      Los Angeles Lakers   Golden State Warriors     122.0     101.0\n"
     ]
    }
   ],
   "source": [
    "#selecting team as golden state warriors\n",
    "team_name='Golden State Warriors'\n",
    "team_games=pd.read_sql_query (f\"\"\"\n",
    "SELECT team_name_home AS team_home, team_name_away AS team_away,pts_home,pts_away\n",
    "FROM game \n",
    "WHERE (team_name_home='{team_name}' OR team_name_away='{team_name}')\n",
    "    AND strftime('%Y', game_date)='{most_recent_season}'\"\"\", con)\n",
    "print(team_games)                           \n",
    "                             "
   ]
  },
  {
   "cell_type": "code",
   "execution_count": 102,
   "id": "c08d9e71-e2d4-4421-8aea-d86d89ac5324",
   "metadata": {},
   "outputs": [
    {
     "name": "stdout",
     "output_type": "stream",
     "text": [
      "pts_away    116.000000\n",
      "pts_home    119.689655\n",
      "dtype: float64\n"
     ]
    }
   ],
   "source": [
    "avg_team_pts=team_games[['pts_away','pts_home']].mean()\n",
    "print(avg_team_pts)\n"
   ]
  },
  {
   "cell_type": "code",
   "execution_count": null,
   "id": "39923abd-7f96-4f8a-b2f6-104969151e83",
   "metadata": {},
   "outputs": [],
   "source": []
  }
 ],
 "metadata": {
  "kernelspec": {
   "display_name": "Python 3 (ipykernel)",
   "language": "python",
   "name": "python3"
  },
  "language_info": {
   "codemirror_mode": {
    "name": "ipython",
    "version": 3
   },
   "file_extension": ".py",
   "mimetype": "text/x-python",
   "name": "python",
   "nbconvert_exporter": "python",
   "pygments_lexer": "ipython3",
   "version": "3.12.5"
  }
 },
 "nbformat": 4,
 "nbformat_minor": 5
}
