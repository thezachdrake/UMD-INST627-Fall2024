{
 "cells": [
  {
   "cell_type": "markdown",
   "id": "fbdc0075-50ee-4c35-819d-e1c3e3dd34ed",
   "metadata": {},
   "source": [
    "Issue 5 - Question re-upload\n",
    "1. Which teams have most consistently had the highest scores?\n",
    "2. Does trading players have an impact on a teams total points per season? \n",
    "3. What players have had the longest consistent below-average points per season?\n",
    "4. Which players perform better in the playoffs compared to the regular season?\n",
    "5. Does trading players have an impact on a teams total points per season?"
   ]
  }
 ],
 "metadata": {
  "kernelspec": {
   "display_name": "Python 3 (ipykernel)",
   "language": "python",
   "name": "python3"
  },
  "language_info": {
   "codemirror_mode": {
    "name": "ipython",
    "version": 3
   },
   "file_extension": ".py",
   "mimetype": "text/x-python",
   "name": "python",
   "nbconvert_exporter": "python",
   "pygments_lexer": "ipython3",
   "version": "3.12.5"
  }
 },
 "nbformat": 4,
 "nbformat_minor": 5
}
