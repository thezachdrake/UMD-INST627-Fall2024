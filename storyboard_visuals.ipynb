{
 "cells": [
  {
   "cell_type": "markdown",
   "metadata": {},
   "source": [
    "#### Business Objective: What was the impact of the COVID-19 pandemic on the level of home court advantage?\n",
    "- Question 1: How has the difference in win-loss ratio between home and away teams changed from the 2019-20 season to the 2022-23 season? (wl_home and wl_away columns in game table)\n",
    "- Question 2: How has the difference in average points scored between home and away teams changed from the 2019-20 season to the 2022-23 season? (pts_home and pts_away columns in game table)\n",
    "- Question 3: How has the difference in offensive and defensive rebounds between home and away teams changed from 2019-20 to 2022-23?(oreb_home, oreb_away, dreb_home, dreb_away in the game table)\n",
    "- Question 4: How does the average number of three-point field goals made by home teams compare to that of away teams from the 2019-20 season to the 2022-23 season? (fg3_pct_home and fg3_pct_away columns in game table)\n",
    "- Question 5: How does the free throw percentage of home teams compare to that of away teams from the 2019-20 season to the 2022-23 season? (ft_pct_home and ft_pct_away in the game table)"
   ]
  },
  {
   "cell_type": "code",
   "execution_count": null,
   "metadata": {},
   "outputs": [],
   "source": [
    "import pandas as pd\n",
    "import sqlite3\n",
    "\n",
    "# Connect to the SQLite database\n",
    "con = sqlite3.connect(\"data/nba.sqlite\")\n",
    "\n",
    "# Define relevant season IDs for analysis\n",
    "seasons = ['22019', '22020', '22021', '22022']"
   ]
  },
  {
   "cell_type": "markdown",
   "metadata": {},
   "source": [
    "# Question 1"
   ]
  },
  {
   "cell_type": "markdown",
   "metadata": {},
   "source": [
    "## Intro\n",
    "#### Objective of the script: calculating the win-loss ratio difference between home and away games by season"
   ]
  },
  {
   "cell_type": "code",
   "execution_count": null,
   "metadata": {},
   "outputs": [],
   "source": [
    "print(\"Question 1: Win-Loss Ratio Difference (Home vs. Away) by Season\")"
   ]
  },
  {
   "cell_type": "markdown",
   "metadata": {},
   "source": [
    "## Rising Action\n",
    "#### Gather data for home and away win-loss ratios."
   ]
  },
  {
   "cell_type": "code",
   "execution_count": null,
   "metadata": {},
   "outputs": [],
   "source": [
    "# Rising Action: Fetching and preparing the home win-loss data\n",
    "wl_home = pd.read_sql_query(\n",
    "    f\"SELECT team_name_home AS team, wl_home AS wl, season_id FROM game WHERE season_id IN ({', '.join(seasons)})\", \n",
    "    con\n",
    ")\n",
    "wl_home['wl'] = wl_home['wl'].map({'W': 1, 'L': 0})  # Convert 'W' and 'L' to numerical values\n",
    "wl_home_grouped = wl_home.groupby(['team', 'season_id'])['wl'].mean().reset_index(name='home_win_ratio')\n",
    "\n",
    "# Fetching and preparing the away win-loss data\n",
    "wl_away = pd.read_sql_query(\n",
    "    f\"SELECT team_name_away AS team, wl_away AS wl, season_id FROM game WHERE season_id IN ({', '.join(seasons)})\", \n",
    "    con\n",
    ")\n",
    "wl_away['wl'] = wl_away['wl'].map({'W': 1, 'L': 0})  # Convert 'W' and 'L' to numerical values\n",
    "wl_away_grouped = wl_away.groupby(['team', 'season_id'])['wl'].mean().reset_index(name='away_win_ratio')\n"
   ]
  },
  {
   "cell_type": "markdown",
   "metadata": {},
   "source": [
    "## Climax\n",
    "#### Combine the home and away data and compute the win-loss ratio difference."
   ]
  },
  {
   "cell_type": "code",
   "execution_count": null,
   "metadata": {},
   "outputs": [],
   "source": [
    "# Climax: Combining data and calculating win-loss ratio difference\n",
    "win_loss_diff = pd.merge(wl_home_grouped, wl_away_grouped, on=['team', 'season_id'])\n",
    "win_loss_diff['win_loss_diff'] = win_loss_diff['home_win_ratio'] - win_loss_diff['away_win_ratio']"
   ]
  },
  {
   "cell_type": "markdown",
   "metadata": {},
   "source": [
    "## Falling Action\n",
    "#### Examine to ensure the calculations are correct"
   ]
  },
  {
   "cell_type": "code",
   "execution_count": null,
   "metadata": {},
   "outputs": [],
   "source": [
    "print(\"Calculated Win-Loss Ratio Differences (Sample):\")\n",
    "print(win_loss_diff.head(), \"\\n\")\n",
    "\n",
    "plt.figure(figsize=(12, 6))\n",
    "for season in points_diff['season_id'].unique():\n",
    "    data = points_diff[points_diff['season_id'] == season]\n",
    "    plt.plot(data['team'], data['points_diff'], label=f'Season {season}', marker='o')\n",
    "plt.axhline(0, color='black', linestyle='--', linewidth=0.8)\n",
    "plt.xticks(rotation=90)\n",
    "plt.title('Average Points Difference (Home vs. Away) by Team and Season')\n",
    "plt.xlabel('Team')\n",
    "plt.ylabel('Points Difference')\n",
    "plt.legend(title='Season')\n",
    "plt.tight_layout()\n",
    "plt.show()"
   ]
  },
  {
   "cell_type": "markdown",
   "metadata": {},
   "source": [
    "## Conclusion\n",
    "#### Reviewed the code"
   ]
  },
  {
   "cell_type": "markdown",
   "metadata": {},
   "source": [
    "# Question 2"
   ]
  },
  {
   "cell_type": "markdown",
   "metadata": {},
   "source": [
    "## Intro\n",
    "#### Comparing the average points scored by teams at home versus away, grouped by season"
   ]
  },
  {
   "cell_type": "code",
   "execution_count": null,
   "metadata": {},
   "outputs": [],
   "source": [
    "print(\"\\nQuestion 2: Average Points Difference (Home vs. Away) by Season\")"
   ]
  },
  {
   "cell_type": "markdown",
   "metadata": {},
   "source": [
    "## Rising Action\n",
    "#### Fetch data for average points scored at home and away"
   ]
  },
  {
   "cell_type": "code",
   "execution_count": null,
   "metadata": {},
   "outputs": [],
   "source": [
    "# Rising Action: Fetching and calculating average points scored at home\n",
    "pts_home = pd.read_sql_query(\n",
    "    f\"SELECT team_name_home AS team, AVG(pts_home) AS avg_pts_home, season_id FROM game WHERE season_id IN ({', '.join(seasons)}) GROUP BY team_name_home, season_id\", \n",
    "    con\n",
    ")\n",
    "\n",
    "# Fetching and calculating average points scored away\n",
    "pts_away = pd.read_sql_query(\n",
    "    f\"SELECT team_name_away AS team, AVG(pts_away) AS avg_pts_away, season_id FROM game WHERE season_id IN ({', '.join(seasons)}) GROUP BY team_name_away, season_id\", \n",
    "    con\n",
    ")"
   ]
  },
  {
   "cell_type": "markdown",
   "metadata": {},
   "source": [
    "## Climax\n",
    "### Combine the home and away data to compute the average points difference"
   ]
  },
  {
   "cell_type": "code",
   "execution_count": null,
   "metadata": {},
   "outputs": [],
   "source": [
    "# Climax: Merging the data and calculating the points difference\n",
    "points_diff = pd.merge(pts_home, pts_away, on=['team', 'season_id'])\n",
    "points_diff['points_diff'] = points_diff['avg_pts_home'] - points_diff['avg_pts_away']"
   ]
  },
  {
   "cell_type": "markdown",
   "metadata": {},
   "source": [
    "## Falling Action\n",
    "#### Check results to ensure calculations are accurate"
   ]
  },
  {
   "cell_type": "code",
   "execution_count": null,
   "metadata": {},
   "outputs": [],
   "source": [
    "# Falling Action: Inspecting the calculated points difference\n",
    "print(\"Calculated Average Points Differences (Sample):\")\n",
    "print(points_diff.head(), \"\\n\")\n",
    "\n",
    "\n",
    "plt.figure(figsize=(12, 6))\n",
    "for season in points_diff['season_id'].unique():\n",
    "    data = points_diff[points_diff['season_id'] == season]\n",
    "    plt.plot(data['team'], data['points_diff'], label=f'Season {season}', marker='o')\n",
    "plt.axhline(0, color='black', linestyle='--', linewidth=0.8)\n",
    "plt.xticks(rotation=90)\n",
    "plt.title('Average Points Difference (Home vs. Away) by Team and Season')\n",
    "plt.xlabel('Team')\n",
    "plt.ylabel('Points Difference')\n",
    "plt.legend(title='Season')\n",
    "plt.tight_layout()\n",
    "plt.show()"
   ]
  },
  {
   "cell_type": "markdown",
   "metadata": {},
   "source": [
    "## Conclusion\n",
    "#### Reviewed the code"
   ]
  },
  {
   "cell_type": "markdown",
   "metadata": {},
   "source": [
    "Question 3"
   ]
  },
  {
   "cell_type": "markdown",
   "metadata": {},
   "source": [
    "## Introduction\n",
    "#### Calculating the difference in offensive and defensive rebounds between home and away games, grouped by season"
   ]
  },
  {
   "cell_type": "code",
   "execution_count": null,
   "metadata": {},
   "outputs": [],
   "source": [
    "# Introduction\n",
    "print(\"\\nQuestion 3: Rebounds Difference (Offensive and Defensive) by Season\")"
   ]
  },
  {
   "cell_type": "markdown",
   "metadata": {},
   "source": [
    "## Rising Action\n",
    "#### Calculate average rebounds (offensive and defensive) at home and away"
   ]
  },
  {
   "cell_type": "code",
   "execution_count": null,
   "metadata": {},
   "outputs": [],
   "source": [
    "# Rising Action: Fetching and calculating average offensive and defensive rebounds at home\n",
    "reb_home = pd.read_sql_query(\n",
    "    f\"SELECT team_name_home AS team, AVG(oreb_home) AS avg_oreb_home, AVG(dreb_home) AS avg_dreb_home, season_id FROM game WHERE season_id IN ({', '.join(seasons)}) GROUP BY team_name_home, season_id\", \n",
    "    con\n",
    ")\n",
    "\n",
    "# Fetching and calculating average offensive and defensive rebounds away\n",
    "reb_away = pd.read_sql_query(\n",
    "    f\"SELECT team_name_away AS team, AVG(oreb_away) AS avg_oreb_away, AVG(dreb_away) AS avg_dreb_away, season_id FROM game WHERE season_id IN ({', '.join(seasons)}) GROUP BY team_name_away, season_id\", \n",
    "    con\n",
    ")\n"
   ]
  },
  {
   "cell_type": "markdown",
   "metadata": {},
   "source": [
    "## Climax\n",
    "#### Combine the home and away data to compute the rebound differences."
   ]
  },
  {
   "cell_type": "code",
   "execution_count": null,
   "metadata": {},
   "outputs": [],
   "source": [
    "# Climax: Merging data and calculating the offensive and defensive rebound differences\n",
    "rebounds_diff = pd.merge(reb_home, reb_away, on=['team', 'season_id'])\n",
    "rebounds_diff['offensive_rebound_diff'] = rebounds_diff['avg_oreb_home'] - rebounds_diff['avg_oreb_away']\n",
    "rebounds_diff['defensive_rebound_diff'] = rebounds_diff['avg_dreb_home'] - rebounds_diff['avg_dreb_away']\n"
   ]
  },
  {
   "cell_type": "markdown",
   "metadata": {},
   "source": [
    "## Falling Action\n",
    "#### verify the calculated rebound differences"
   ]
  },
  {
   "cell_type": "code",
   "execution_count": null,
   "metadata": {},
   "outputs": [],
   "source": [
    "plt.figure(figsize=(12, 6))\n",
    "for season in rebounds_diff['season_id'].unique():\n",
    "    data = rebounds_diff[rebounds_diff['season_id'] == season]\n",
    "    plt.bar(data['team'], data['offensive_rebound_diff'], label=f'Season {season} (Offensive)', alpha=0.6)\n",
    "plt.axhline(0, color='black', linestyle='--', linewidth=0.8)\n",
    "plt.xticks(rotation=90)\n",
    "plt.title('Offensive Rebounds Difference (Home vs. Away) by Team and Season')\n",
    "plt.xlabel('Team')\n",
    "plt.ylabel('Offensive Rebound Difference')\n",
    "plt.legend(title='Season')\n",
    "plt.tight_layout()\n",
    "plt.show()\n",
    "\n",
    "plt.figure(figsize=(12, 6))\n",
    "for season in rebounds_diff['season_id'].unique():\n",
    "    data = rebounds_diff[rebounds_diff['season_id'] == season]\n",
    "    plt.bar(data['team'], data['defensive_rebound_diff'], label=f'Season {season} (Defensive)', alpha=0.6)\n",
    "plt.axhline(0, color='black', linestyle='--', linewidth=0.8)\n",
    "plt.xticks(rotation=90)\n",
    "plt.title('Defensive Rebounds Difference (Home vs. Away) by Team and Season')\n",
    "plt.xlabel('Team')\n",
    "plt.ylabel('Defensive Rebound Difference')\n",
    "plt.legend(title='Season')\n",
    "plt.tight_layout()\n",
    "plt.show()"
   ]
  },
  {
   "cell_type": "markdown",
   "metadata": {},
   "source": [
    "## Conclusion\n",
    "#### Reviewed the code"
   ]
  },
  {
   "cell_type": "markdown",
   "metadata": {},
   "source": [
    "# Question 4"
   ]
  },
  {
   "cell_type": "markdown",
   "metadata": {},
   "source": [
    "## Introduction\n",
    "#### Determining the difference in three-point field goal percentages between home and away games by season."
   ]
  },
  {
   "cell_type": "code",
   "execution_count": null,
   "metadata": {},
   "outputs": [],
   "source": [
    "# Introduction\n",
    "print(\"\\nQuestion 4: Three-Point FG% Difference (Home vs. Away) by Season\")"
   ]
  },
  {
   "cell_type": "markdown",
   "metadata": {},
   "source": [
    "## Rising Action\n",
    "#### Find the AVG three-point field goal percentage at home and away"
   ]
  },
  {
   "cell_type": "code",
   "execution_count": null,
   "metadata": {},
   "outputs": [],
   "source": [
    "# Rising Action: Fetching and calculating the average three-point field goal percentage at home\n",
    "fg3_home = pd.read_sql_query(\n",
    "    f\"SELECT team_name_home AS team, AVG(fg3_pct_home) AS avg_fg3_pct_home, season_id FROM game WHERE season_id IN ({', '.join(seasons)}) GROUP BY team_name_home, season_id\", \n",
    "    con\n",
    ")\n",
    "\n",
    "# Fetching and calculating the average three-point field goal percentage away\n",
    "fg3_away = pd.read_sql_query(\n",
    "    f\"SELECT team_name_away AS team, AVG(fg3_pct_away) AS avg_fg3_pct_away, season_id FROM game WHERE season_id IN ({', '.join(seasons)}) GROUP BY team_name_away, season_id\", \n",
    "    con\n",
    ")\n"
   ]
  },
  {
   "cell_type": "markdown",
   "metadata": {},
   "source": [
    "## climax \n",
    "#### Combine the home and away data to find the difference in three-point field goal percentages."
   ]
  },
  {
   "cell_type": "code",
   "execution_count": null,
   "metadata": {},
   "outputs": [],
   "source": [
    "# Climax: Merging data and calculating the three-point FG% difference\n",
    "fg3_diff = pd.merge(fg3_home, fg3_away, on=['team', 'season_id'])\n",
    "fg3_diff['fg3_pct_diff'] = fg3_diff['avg_fg3_pct_home'] - fg3_diff['avg_fg3_pct_away']"
   ]
  },
  {
   "cell_type": "markdown",
   "metadata": {},
   "source": [
    "## Falling Action\n",
    "#### Verify the differences."
   ]
  },
  {
   "cell_type": "code",
   "execution_count": null,
   "metadata": {},
   "outputs": [],
   "source": [
    "# Falling Action: Inspecting the calculated three-point FG% differences\n",
    "print(\"Calculated Three-Point FG% Differences (Sample):\")\n",
    "print(fg3_diff.head(), \"\\n\")  # Display the first few rows of the result\n",
    "\n",
    "plt.figure(figsize=(12, 6))\n",
    "for season in fg3_diff['season_id'].unique():\n",
    "    data = fg3_diff[fg3_diff['season_id'] == season]\n",
    "    plt.scatter(data['team'], data['fg3_pct_diff'], label=f'Season {season}', alpha=0.7)\n",
    "plt.axhline(0, color='black', linestyle='--', linewidth=0.8)\n",
    "plt.xticks(rotation=90)\n",
    "plt.title('Three-Point FG% Difference (Home vs. Away) by Team and Season')\n",
    "plt.xlabel('Team')\n",
    "plt.ylabel('Three-Point FG% Difference')\n",
    "plt.legend(title='Season')\n",
    "plt.tight_layout()\n",
    "plt.show()"
   ]
  },
  {
   "cell_type": "markdown",
   "metadata": {},
   "source": [
    "## Conclusion\n",
    "#### Reviewed the code"
   ]
  },
  {
   "cell_type": "markdown",
   "metadata": {},
   "source": [
    "# Question 5"
   ]
  },
  {
   "cell_type": "markdown",
   "metadata": {},
   "source": [
    "## Introduction\n",
    "#### Comparing the free throw shooting percentages between home and away games by season."
   ]
  },
  {
   "cell_type": "code",
   "execution_count": null,
   "metadata": {},
   "outputs": [],
   "source": [
    "# Introduction\n",
    "print(\"\\nQuestion 5: Free Throw Percentage Difference (Home vs. Away) by Season\")"
   ]
  },
  {
   "cell_type": "markdown",
   "metadata": {},
   "source": [
    "## Rising Action\n",
    "#### Calculate AVG free throw percentage at home and away"
   ]
  },
  {
   "cell_type": "code",
   "execution_count": null,
   "metadata": {},
   "outputs": [],
   "source": [
    "# Rising Action: Fetching and calculating the average free throw percentage at home\n",
    "ft_home = pd.read_sql_query(\n",
    "    f\"SELECT team_name_home AS team, AVG(ft_pct_home) AS avg_ft_pct_home, season_id FROM game WHERE season_id IN ({', '.join(seasons)}) GROUP BY team_name_home, season_id\", \n",
    "    con\n",
    ")\n",
    "\n",
    "# Fetching and calculating the average free throw percentage away\n",
    "ft_away = pd.read_sql_query(\n",
    "    f\"SELECT team_name_away AS team, AVG(ft_pct_away) AS avg_ft_pct_away, season_id FROM game WHERE season_id IN ({', '.join(seasons)}) GROUP BY team_name_away, season_id\", \n",
    "    con\n",
    ")"
   ]
  },
  {
   "cell_type": "markdown",
   "metadata": {},
   "source": [
    "## Climax\n",
    "#### Combine the home and away data to calculate the free throw percentage difference."
   ]
  },
  {
   "cell_type": "code",
   "execution_count": null,
   "metadata": {},
   "outputs": [],
   "source": [
    "# Climax: Merging data and calculating the free throw percentage difference\n",
    "ft_diff = pd.merge(ft_home, ft_away, on=['team', 'season_id'])\n",
    "ft_diff['ft_pct_diff'] = ft_diff['avg_ft_pct_home'] - ft_diff['avg_ft_pct_away']"
   ]
  },
  {
   "cell_type": "markdown",
   "metadata": {},
   "source": [
    "## Falling Action\n",
    "#### Verify the calculated differences"
   ]
  },
  {
   "cell_type": "code",
   "execution_count": null,
   "metadata": {},
   "outputs": [],
   "source": [
    "# Falling Action: Inspecting the calculated free throw percentage differences\n",
    "print(\"Calculated Free Throw Percentage Differences (Sample):\")\n",
    "print(ft_diff.head(), \"\\n\")  # Display the first few rows of the result\n",
    "\n",
    "plt.figure(figsize=(10, 8))\n",
    "plt.imshow(ft_pivot, cmap='coolwarm', aspect='auto')\n",
    "plt.colorbar(label='Free Throw % Difference')\n",
    "plt.xticks(range(len(ft_pivot.columns)), ft_pivot.columns, rotation=45)\n",
    "plt.yticks(range(len(ft_pivot.index)), ft_pivot.index)\n",
    "plt.title('Free Throw Percentage Difference (Home vs. Away) by Team and Season')\n",
    "plt.tight_layout()\n",
    "plt.show()"
   ]
  },
  {
   "cell_type": "markdown",
   "metadata": {},
   "source": [
    "## Conclusion\n",
    "#### Reviewed the code"
   ]
  }
 ],
 "metadata": {
  "kernelspec": {
   "display_name": "Python 3",
   "language": "python",
   "name": "python3"
  },
  "language_info": {
   "codemirror_mode": {
    "name": "ipython",
    "version": 3
   },
   "file_extension": ".py",
   "mimetype": "text/x-python",
   "name": "python",
   "nbconvert_exporter": "python",
   "pygments_lexer": "ipython3",
   "version": "3.11.9"
  }
 },
 "nbformat": 4,
 "nbformat_minor": 4
}
