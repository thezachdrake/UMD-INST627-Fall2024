{
 "cells": [
  {
   "cell_type": "code",
   "execution_count": 9,
   "id": "70bd3751-7fa3-4010-bfb1-e0be4dddb21f",
   "metadata": {},
   "outputs": [
    {
     "name": "stdout",
     "output_type": "stream",
     "text": [
      "Arrests DF: Index(['ARREST_KEY', 'ARREST_DATE', 'PD_CD', 'PD_DESC', 'KY_CD', 'OFNS_DESC',\n",
      "       'LAW_CODE', 'LAW_CAT_CD', 'ARREST_BORO', 'ARREST_PRECINCT',\n",
      "       'JURISDICTION_CODE', 'AGE_GROUP', 'PERP_SEX', 'PERP_RACE', 'X_COORD_CD',\n",
      "       'Y_COORD_CD', 'Latitude', 'Longitude', 'New Georeferenced Column'],\n",
      "      dtype='object')\n",
      "Crimes DF: Index(['Unnamed: 0', 'CMPLNT_NUM', 'ADDR_PCT_CD', 'BORO_NM', 'CMPLNT_FR_DT',\n",
      "       'CMPLNT_FR_TM', 'CMPLNT_TO_DT', 'CMPLNT_TO_TM', 'CRM_ATPT_CPTD_CD',\n",
      "       'HADEVELOPT', 'HOUSING_PSA', 'JURISDICTION_CODE', 'JURIS_DESC', 'KY_CD',\n",
      "       'LAW_CAT_CD', 'LOC_OF_OCCUR_DESC', 'OFNS_DESC', 'PARKS_NM',\n",
      "       'PATROL_BORO', 'PD_CD', 'PD_DESC', 'PREM_TYP_DESC', 'RPT_DT',\n",
      "       'STATION_NAME', 'SUSP_AGE_GROUP', 'SUSP_RACE', 'SUSP_SEX',\n",
      "       'TRANSIT_DISTRICT', 'VIC_AGE_GROUP', 'VIC_RACE', 'VIC_SEX',\n",
      "       'X_COORD_CD', 'Y_COORD_CD', 'Latitude', 'Longitude', 'Lat_Lon',\n",
      "       'New Georeferenced Column'],\n",
      "      dtype='object')\n"
     ]
    }
   ],
   "source": [
    "import pandas as pd\n",
    "#creating dataframes\n",
    "arrests_df = pd.read_csv(\"data/arrests.csv\")\n",
    "crimes_df = pd.read_csv(\"data/crimes.csv\")"
   ]
  },
  {
   "cell_type": "code",
   "execution_count": 36,
   "id": "e2bf404f-6875-4aa8-b987-fe6a11a5753f",
   "metadata": {},
   "outputs": [
    {
     "name": "stdout",
     "output_type": "stream",
     "text": [
      "   Unnamed: 0 CMPLNT_NUM  ADDR_PCT_CD   BORO_NM CMPLNT_FR_DT CMPLNT_TO_DT  \\\n",
      "0       51870  282411683           60  BROOKLYN   02/18/2024   02/18/2024   \n",
      "1       51870  282411683           60  BROOKLYN   02/18/2024   02/18/2024   \n",
      "2       51870  282411683           60  BROOKLYN   02/18/2024   02/18/2024   \n",
      "3       51870  282411683           60  BROOKLYN   02/18/2024   02/18/2024   \n",
      "4       51870  282411683           60  BROOKLYN   02/18/2024   02/18/2024   \n",
      "\n",
      "  CMPLNT_TO_TM CRM_ATPT_CPTD_CD        JURIS_DESC  KY_CD_x  ...  \\\n",
      "0     12:18:00        COMPLETED  N.Y. POLICE DEPT      235  ...   \n",
      "1     12:18:00        COMPLETED  N.Y. POLICE DEPT      235  ...   \n",
      "2     12:18:00        COMPLETED  N.Y. POLICE DEPT      235  ...   \n",
      "3     12:18:00        COMPLETED  N.Y. POLICE DEPT      235  ...   \n",
      "4     12:18:00        COMPLETED  N.Y. POLICE DEPT      235  ...   \n",
      "\n",
      "               OFNS_DESC_y    LAW_CODE LAW_CAT_CD_y ARREST_BORO  \\\n",
      "0  MISCELLANEOUS PENAL LAW  PL 1706502            F           K   \n",
      "1          DANGEROUS DRUGS  PL 2200300            M           K   \n",
      "2          DANGEROUS DRUGS  PL 2201601            F           K   \n",
      "3          DANGEROUS DRUGS  PL 2203901            F           K   \n",
      "4                  ROBBERY  PL 1601502            F           K   \n",
      "\n",
      "   ARREST_PRECINCT AGE_GROUP PERP_SEX       PERP_RACE Longitude_y  \\\n",
      "0               60     25-44        M           WHITE  -73.978763   \n",
      "1               60     18-24        M           BLACK  -73.978763   \n",
      "2               60     25-44        M           BLACK  -73.978763   \n",
      "3               61     25-44        F           WHITE  -73.978763   \n",
      "4               61     25-44        F  WHITE HISPANIC  -73.978763   \n",
      "\n",
      "                      New Georeferenced Column_y  \n",
      "0  POINT (-73.97876328945328 40.592813307614215)  \n",
      "1  POINT (-73.97876328945328 40.592813307614215)  \n",
      "2  POINT (-73.97876328945328 40.592813307614215)  \n",
      "3  POINT (-73.97876328945328 40.592813307614215)  \n",
      "4  POINT (-73.97876328945328 40.592813307614215)  \n",
      "\n",
      "[5 rows x 47 columns]\n"
     ]
    }
   ],
   "source": [
    "#merge dataframes\n",
    "merged_arrests_crimes_df = crimes_df.merge(arrests_df, on='Latitude')\n",
    "#dropping some columns\n",
    "final_arrests_crimes_df = merged_arrests_crimes_df.drop(['HADEVELOPT', 'X_COORD_CD_y', \"Y_COORD_CD_y\", \"HOUSING_PSA\", \"JURISDICTION_CODE_x\", \"JURISDICTION_CODE_y\", \"PARKS_NM\", \"CMPLNT_FR_TM\"], axis=1)\n",
    "\n",
    "print(final_arrests_crimes_df.head())"
   ]
  },
  {
   "cell_type": "code",
   "execution_count": null,
   "id": "727c6136-3b56-41da-89c8-d4791161cc45",
   "metadata": {},
   "outputs": [],
   "source": []
  }
 ],
 "metadata": {
  "kernelspec": {
   "display_name": "Python 3 (ipykernel)",
   "language": "python",
   "name": "python3"
  },
  "language_info": {
   "codemirror_mode": {
    "name": "ipython",
    "version": 3
   },
   "file_extension": ".py",
   "mimetype": "text/x-python",
   "name": "python",
   "nbconvert_exporter": "python",
   "pygments_lexer": "ipython3",
   "version": "3.10.6"
  }
 },
 "nbformat": 4,
 "nbformat_minor": 5
}
