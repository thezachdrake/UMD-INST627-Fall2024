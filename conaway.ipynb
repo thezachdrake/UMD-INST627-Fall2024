{
 "cells": [
  {
   "cell_type": "code",
   "execution_count": 29,
   "id": "ff3b4076-bdc0-4851-9f75-9267b90adfd8",
   "metadata": {},
   "outputs": [
    {
     "name": "stdout",
     "output_type": "stream",
     "text": [
      "     Unnamed: 0.1  Unnamed: 0 CMPLNT_NUM  ADDR_PCT_CD BORO_NM CMPLNT_FR_DT  \\\n",
      "0         87090.0    245931.0  287733963        105.0  QUEENS   05/14/2024   \n",
      "1         87090.0    245931.0  287733963        105.0  QUEENS   05/14/2024   \n",
      "2         87090.0    245931.0  287733963        105.0  QUEENS   05/14/2024   \n",
      "3         87090.0    245931.0  287733963        105.0  QUEENS   05/14/2024   \n",
      "4         87090.0    245931.0  287733963        105.0  QUEENS   05/14/2024   \n",
      "..            ...         ...        ...          ...     ...          ...   \n",
      "195       57686.0    279548.0  285023438        105.0  QUEENS   04/07/2024   \n",
      "196       23068.0    280430.0  284434399        105.0  QUEENS   03/27/2024   \n",
      "197       53895.0    237518.0  282713387        105.0  QUEENS   02/24/2024   \n",
      "198       17587.0    167454.0  286178714        105.0  QUEENS   04/30/2024   \n",
      "199       36859.0    278634.0  286599232        105.0  QUEENS   05/04/2024   \n",
      "\n",
      "    CMPLNT_FR_TM CMPLNT_TO_DT CMPLNT_TO_TM CRM_ATPT_CPTD_CD  ... ARREST_BORO  \\\n",
      "0       08:28:00   05/31/2024     03:25:00        COMPLETED  ...           Q   \n",
      "1       08:28:00   05/31/2024     03:25:00        COMPLETED  ...           Q   \n",
      "2       08:28:00   05/31/2024     03:25:00        COMPLETED  ...           Q   \n",
      "3       08:28:00   05/31/2024     03:25:00        COMPLETED  ...           Q   \n",
      "4       08:28:00   05/31/2024     03:25:00        COMPLETED  ...           Q   \n",
      "..           ...          ...          ...              ...  ...         ...   \n",
      "195     22:43:00   04/07/2024     22:53:00        COMPLETED  ...         NaN   \n",
      "196     08:30:00   03/27/2024     18:30:00        COMPLETED  ...         NaN   \n",
      "197     02:00:00   02/24/2024     02:15:00        COMPLETED  ...           Q   \n",
      "198     15:00:00   05/01/2024     08:00:00        COMPLETED  ...           Q   \n",
      "199     17:00:00   05/04/2024     17:05:00        COMPLETED  ...         NaN   \n",
      "\n",
      "     ARREST_PRECINCT  JURISDICTION_CODE_y AGE_GROUP  PERP_SEX  \\\n",
      "0              105.0                  0.0     25-44         M   \n",
      "1              105.0                  0.0     25-44         M   \n",
      "2              105.0                  0.0     25-44         M   \n",
      "3              105.0                  0.0     25-44         M   \n",
      "4              105.0                  0.0     25-44         M   \n",
      "..               ...                  ...       ...       ...   \n",
      "195              NaN                  NaN       NaN       NaN   \n",
      "196              NaN                  NaN       NaN       NaN   \n",
      "197            105.0                  0.0     25-44         M   \n",
      "198            105.0                  0.0     25-44         M   \n",
      "199              NaN                  NaN       NaN       NaN   \n",
      "\n",
      "                    PERP_RACE X_COORD_CD_y Y_COORD_CD_y Latitude_y Longitude_y  \n",
      "0    ASIAN / PACIFIC ISLANDER    1067185.0     209005.0  40.739959  -73.700717  \n",
      "1    ASIAN / PACIFIC ISLANDER    1067185.0     209005.0  40.739959  -73.700717  \n",
      "2    ASIAN / PACIFIC ISLANDER    1067185.0     209005.0  40.739959  -73.700717  \n",
      "3    ASIAN / PACIFIC ISLANDER    1067185.0     209005.0  40.739959  -73.700717  \n",
      "4    ASIAN / PACIFIC ISLANDER    1067185.0     209005.0  40.739959  -73.700717  \n",
      "..                        ...          ...          ...        ...         ...  \n",
      "195                       NaN          NaN          NaN        NaN         NaN  \n",
      "196                       NaN          NaN          NaN        NaN         NaN  \n",
      "197  ASIAN / PACIFIC ISLANDER    1064988.0     208370.0  40.738238  -73.708654  \n",
      "198  ASIAN / PACIFIC ISLANDER    1064988.0     208370.0  40.738238  -73.708654  \n",
      "199                       NaN          NaN          NaN        NaN         NaN  \n",
      "\n",
      "[200 rows x 56 columns]\n"
     ]
    }
   ],
   "source": [
    "import pandas as pd\n",
    "crimes = pd.read_csv('/Users/kailynconaway/Documents/GitHub/UMD-INST627-Fall2024/data/crimes.csv')\n",
    "arrests = pd.read_csv('/Users/kailynconaway/Documents/GitHub/UMD-INST627-Fall2024/data/arrests.csv')\n",
    "ny_arrests_crimes = crimes.merge(arrests, on='New Georeferenced Column', how='outer')\n",
    "print(ny_arrests_crimes.head(200))"
   ]
  },
  {
   "cell_type": "code",
   "execution_count": null,
   "id": "1c6c2756-9719-4792-9f65-c71bf92f5587",
   "metadata": {},
   "outputs": [],
   "source": []
  }
 ],
 "metadata": {
  "kernelspec": {
   "display_name": "Python 3 (ipykernel)",
   "language": "python",
   "name": "python3"
  },
  "language_info": {
   "codemirror_mode": {
    "name": "ipython",
    "version": 3
   },
   "file_extension": ".py",
   "mimetype": "text/x-python",
   "name": "python",
   "nbconvert_exporter": "python",
   "pygments_lexer": "ipython3",
   "version": "3.12.5"
  }
 },
 "nbformat": 4,
 "nbformat_minor": 5
}
