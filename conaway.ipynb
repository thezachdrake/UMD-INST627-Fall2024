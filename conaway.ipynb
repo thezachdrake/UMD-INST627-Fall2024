{
 "cells": [
  {
   "cell_type": "code",
   "execution_count": 7,
   "id": "ff3b4076-bdc0-4851-9f75-9267b90adfd8",
   "metadata": {},
   "outputs": [
    {
     "data": {
      "text/plain": [
       "BORO_NM\n",
       "BROOKLYN         27707\n",
       "MANHATTAN        23959\n",
       "QUEENS           22258\n",
       "BRONX            21508\n",
       "STATEN ISLAND     4525\n",
       "(null)              43\n",
       "Name: count, dtype: int64"
      ]
     },
     "execution_count": 7,
     "metadata": {},
     "output_type": "execute_result"
    }
   ],
   "source": [
<<<<<<< Updated upstream
    "print('issue_again')"
=======
    "import pandas as pd\n",
    "crimes = pd.read_csv('/Users/kailynconaway/Documents/GitHub/UMD-INST627-Fall2024/data/crimes.csv')\n",
    "crimes['BORO_NM'].value_counts(sort=True)"
>>>>>>> Stashed changes
   ]
  },
  {
   "cell_type": "code",
   "execution_count": null,
   "id": "1c6c2756-9719-4792-9f65-c71bf92f5587",
   "metadata": {},
   "outputs": [],
   "source": []
  }
 ],
 "metadata": {
  "kernelspec": {
   "display_name": "Python 3 (ipykernel)",
   "language": "python",
   "name": "python3"
  },
  "language_info": {
   "codemirror_mode": {
    "name": "ipython",
    "version": 3
   },
   "file_extension": ".py",
   "mimetype": "text/x-python",
   "name": "python",
   "nbconvert_exporter": "python",
   "pygments_lexer": "ipython3",
   "version": "3.12.5"
  }
 },
 "nbformat": 4,
 "nbformat_minor": 5
}
