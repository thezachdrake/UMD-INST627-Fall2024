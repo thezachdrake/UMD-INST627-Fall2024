{
 "cells": [
  {
   "cell_type": "code",
   "execution_count": 2,
   "metadata": {},
   "outputs": [],
   "source": [
    "import pandas as pd\n",
    "import sqlite3\n",
    "\n",
    "con = sqlite3.connect(\"data/nba.sqlite\")"
   ]
  },
  {
   "cell_type": "code",
   "execution_count": 5,
   "metadata": {},
   "outputs": [
    {
     "data": {
      "text/html": [
       "<div>\n",
       "<style scoped>\n",
       "    .dataframe tbody tr th:only-of-type {\n",
       "        vertical-align: middle;\n",
       "    }\n",
       "\n",
       "    .dataframe tbody tr th {\n",
       "        vertical-align: top;\n",
       "    }\n",
       "\n",
       "    .dataframe thead th {\n",
       "        text-align: right;\n",
       "    }\n",
       "</style>\n",
       "<table border=\"1\" class=\"dataframe\">\n",
       "  <thead>\n",
       "    <tr style=\"text-align: right;\">\n",
       "      <th></th>\n",
       "      <th>game_id</th>\n",
       "      <th>team_abbreviation_home</th>\n",
       "      <th>pts_home</th>\n",
       "      <th>team_abbreviation_away</th>\n",
       "      <th>pts_away</th>\n",
       "      <th>season_id</th>\n",
       "      <th>game_date</th>\n",
       "    </tr>\n",
       "  </thead>\n",
       "  <tbody>\n",
       "    <tr>\n",
       "      <th>0</th>\n",
       "      <td>0022201225</td>\n",
       "      <td>MIN</td>\n",
       "      <td>113.0</td>\n",
       "      <td>NOP</td>\n",
       "      <td>108.0</td>\n",
       "      <td>22022</td>\n",
       "      <td>2023-04-09 00:00:00</td>\n",
       "    </tr>\n",
       "    <tr>\n",
       "      <th>1</th>\n",
       "      <td>0022201209</td>\n",
       "      <td>NOP</td>\n",
       "      <td>113.0</td>\n",
       "      <td>NYK</td>\n",
       "      <td>105.0</td>\n",
       "      <td>22022</td>\n",
       "      <td>2023-04-07 00:00:00</td>\n",
       "    </tr>\n",
       "    <tr>\n",
       "      <th>2</th>\n",
       "      <td>0022201194</td>\n",
       "      <td>NOP</td>\n",
       "      <td>138.0</td>\n",
       "      <td>MEM</td>\n",
       "      <td>131.0</td>\n",
       "      <td>22022</td>\n",
       "      <td>2023-04-05 00:00:00</td>\n",
       "    </tr>\n",
       "    <tr>\n",
       "      <th>3</th>\n",
       "      <td>0022201185</td>\n",
       "      <td>NOP</td>\n",
       "      <td>103.0</td>\n",
       "      <td>SAC</td>\n",
       "      <td>121.0</td>\n",
       "      <td>22022</td>\n",
       "      <td>2023-04-04 00:00:00</td>\n",
       "    </tr>\n",
       "    <tr>\n",
       "      <th>4</th>\n",
       "      <td>0022201162</td>\n",
       "      <td>NOP</td>\n",
       "      <td>122.0</td>\n",
       "      <td>LAC</td>\n",
       "      <td>114.0</td>\n",
       "      <td>22022</td>\n",
       "      <td>2023-04-01 00:00:00</td>\n",
       "    </tr>\n",
       "    <tr>\n",
       "      <th>5</th>\n",
       "      <td>0022201147</td>\n",
       "      <td>DEN</td>\n",
       "      <td>88.0</td>\n",
       "      <td>NOP</td>\n",
       "      <td>107.0</td>\n",
       "      <td>22022</td>\n",
       "      <td>2023-03-30 00:00:00</td>\n",
       "    </tr>\n",
       "    <tr>\n",
       "      <th>6</th>\n",
       "      <td>0022201135</td>\n",
       "      <td>GSW</td>\n",
       "      <td>120.0</td>\n",
       "      <td>NOP</td>\n",
       "      <td>109.0</td>\n",
       "      <td>22022</td>\n",
       "      <td>2023-03-28 00:00:00</td>\n",
       "    </tr>\n",
       "    <tr>\n",
       "      <th>7</th>\n",
       "      <td>0022201127</td>\n",
       "      <td>POR</td>\n",
       "      <td>90.0</td>\n",
       "      <td>NOP</td>\n",
       "      <td>124.0</td>\n",
       "      <td>22022</td>\n",
       "      <td>2023-03-27 00:00:00</td>\n",
       "    </tr>\n",
       "    <tr>\n",
       "      <th>8</th>\n",
       "      <td>0022201112</td>\n",
       "      <td>LAC</td>\n",
       "      <td>110.0</td>\n",
       "      <td>NOP</td>\n",
       "      <td>131.0</td>\n",
       "      <td>22022</td>\n",
       "      <td>2023-03-25 00:00:00</td>\n",
       "    </tr>\n",
       "    <tr>\n",
       "      <th>9</th>\n",
       "      <td>0022201095</td>\n",
       "      <td>NOP</td>\n",
       "      <td>115.0</td>\n",
       "      <td>CHA</td>\n",
       "      <td>96.0</td>\n",
       "      <td>22022</td>\n",
       "      <td>2023-03-23 00:00:00</td>\n",
       "    </tr>\n",
       "  </tbody>\n",
       "</table>\n",
       "</div>"
      ],
      "text/plain": [
       "      game_id team_abbreviation_home  pts_home team_abbreviation_away  \\\n",
       "0  0022201225                    MIN     113.0                    NOP   \n",
       "1  0022201209                    NOP     113.0                    NYK   \n",
       "2  0022201194                    NOP     138.0                    MEM   \n",
       "3  0022201185                    NOP     103.0                    SAC   \n",
       "4  0022201162                    NOP     122.0                    LAC   \n",
       "5  0022201147                    DEN      88.0                    NOP   \n",
       "6  0022201135                    GSW     120.0                    NOP   \n",
       "7  0022201127                    POR      90.0                    NOP   \n",
       "8  0022201112                    LAC     110.0                    NOP   \n",
       "9  0022201095                    NOP     115.0                    CHA   \n",
       "\n",
       "   pts_away season_id            game_date  \n",
       "0     108.0     22022  2023-04-09 00:00:00  \n",
       "1     105.0     22022  2023-04-07 00:00:00  \n",
       "2     131.0     22022  2023-04-05 00:00:00  \n",
       "3     121.0     22022  2023-04-04 00:00:00  \n",
       "4     114.0     22022  2023-04-01 00:00:00  \n",
       "5     107.0     22022  2023-03-30 00:00:00  \n",
       "6     109.0     22022  2023-03-28 00:00:00  \n",
       "7     124.0     22022  2023-03-27 00:00:00  \n",
       "8     131.0     22022  2023-03-25 00:00:00  \n",
       "9      96.0     22022  2023-03-23 00:00:00  "
      ]
     },
     "execution_count": 5,
     "metadata": {},
     "output_type": "execute_result"
    }
   ],
   "source": [
    "new_orleans_games = pd.read_sql_query(\"SELECT game_id, team_abbreviation_home, pts_home, team_abbreviation_away, pts_away, season_id, game_date FROM game WHERE team_abbreviation_home='NOP' OR team_abbreviation_away='NOP' ORDER BY game_date DESC LIMIT 10\", con)\n",
    "new_orleans_games"
   ]
  },
  {
   "cell_type": "code",
   "execution_count": 29,
   "metadata": {},
   "outputs": [
    {
     "data": {
      "text/html": [
       "<div>\n",
       "<style scoped>\n",
       "    .dataframe tbody tr th:only-of-type {\n",
       "        vertical-align: middle;\n",
       "    }\n",
       "\n",
       "    .dataframe tbody tr th {\n",
       "        vertical-align: top;\n",
       "    }\n",
       "\n",
       "    .dataframe thead th {\n",
       "        text-align: right;\n",
       "    }\n",
       "</style>\n",
       "<table border=\"1\" class=\"dataframe\">\n",
       "  <thead>\n",
       "    <tr style=\"text-align: right;\">\n",
       "      <th></th>\n",
       "      <th>team_name_home</th>\n",
       "      <th>avg_home_pts</th>\n",
       "    </tr>\n",
       "  </thead>\n",
       "  <tbody>\n",
       "    <tr>\n",
       "      <th>0</th>\n",
       "      <td>New Orleans Pelicans</td>\n",
       "      <td>114.93</td>\n",
       "    </tr>\n",
       "  </tbody>\n",
       "</table>\n",
       "</div>"
      ],
      "text/plain": [
       "         team_name_home  avg_home_pts\n",
       "0  New Orleans Pelicans        114.93"
      ]
     },
     "execution_count": 29,
     "metadata": {},
     "output_type": "execute_result"
    }
   ],
   "source": [
    "nop_home_avg = pd.read_sql_query(\"SELECT team_name_home, ROUND(AVG(pts_home), 2) AS avg_home_pts FROM game WHERE team_name_home='New Orleans Pelicans' AND season_id=22022\", con)\n",
    "nop_home_avg"
   ]
  },
  {
   "cell_type": "code",
   "execution_count": 30,
   "metadata": {},
   "outputs": [
    {
     "data": {
      "text/html": [
       "<div>\n",
       "<style scoped>\n",
       "    .dataframe tbody tr th:only-of-type {\n",
       "        vertical-align: middle;\n",
       "    }\n",
       "\n",
       "    .dataframe tbody tr th {\n",
       "        vertical-align: top;\n",
       "    }\n",
       "\n",
       "    .dataframe thead th {\n",
       "        text-align: right;\n",
       "    }\n",
       "</style>\n",
       "<table border=\"1\" class=\"dataframe\">\n",
       "  <thead>\n",
       "    <tr style=\"text-align: right;\">\n",
       "      <th></th>\n",
       "      <th>team_name_away</th>\n",
       "      <th>avg_away_pts</th>\n",
       "    </tr>\n",
       "  </thead>\n",
       "  <tbody>\n",
       "    <tr>\n",
       "      <th>0</th>\n",
       "      <td>New Orleans Pelicans</td>\n",
       "      <td>113.8</td>\n",
       "    </tr>\n",
       "  </tbody>\n",
       "</table>\n",
       "</div>"
      ],
      "text/plain": [
       "         team_name_away  avg_away_pts\n",
       "0  New Orleans Pelicans         113.8"
      ]
     },
     "execution_count": 30,
     "metadata": {},
     "output_type": "execute_result"
    }
   ],
   "source": [
    "nop_away_avg = pd.read_sql_query(\"SELECT team_name_away, ROUND(AVG(pts_away), 2) AS avg_away_pts FROM game WHERE team_name_away='New Orleans Pelicans' AND season_id=22022\", con)\n",
    "nop_away_avg"
   ]
  },
  {
   "cell_type": "code",
   "execution_count": 37,
   "metadata": {},
   "outputs": [
    {
     "name": "stdout",
     "output_type": "stream",
     "text": [
      "Overall Average Score: 114.36\n"
     ]
    }
   ],
   "source": [
    "from statistics import mean \n",
    "print(\"Overall Average Score: \" + str(round(mean([nop_home_avg[\"avg_home_pts\"][0], nop_away_avg[\"avg_away_pts\"][0]]), 2)))"
   ]
  },
  {
   "cell_type": "code",
   "execution_count": 10,
   "metadata": {},
   "outputs": [
    {
     "data": {
      "text/html": [
       "<div>\n",
       "<style scoped>\n",
       "    .dataframe tbody tr th:only-of-type {\n",
       "        vertical-align: middle;\n",
       "    }\n",
       "\n",
       "    .dataframe tbody tr th {\n",
       "        vertical-align: top;\n",
       "    }\n",
       "\n",
       "    .dataframe thead th {\n",
       "        text-align: right;\n",
       "    }\n",
       "</style>\n",
       "<table border=\"1\" class=\"dataframe\">\n",
       "  <thead>\n",
       "    <tr style=\"text-align: right;\">\n",
       "      <th></th>\n",
       "      <th>game_id</th>\n",
       "      <th>first_name</th>\n",
       "      <th>last_name</th>\n",
       "      <th>jersey_num</th>\n",
       "    </tr>\n",
       "  </thead>\n",
       "  <tbody>\n",
       "    <tr>\n",
       "      <th>0</th>\n",
       "      <td>0022201194</td>\n",
       "      <td>Scott</td>\n",
       "      <td>Foster</td>\n",
       "      <td>48</td>\n",
       "    </tr>\n",
       "    <tr>\n",
       "      <th>1</th>\n",
       "      <td>0022201194</td>\n",
       "      <td>Dedric</td>\n",
       "      <td>Taylor</td>\n",
       "      <td>21</td>\n",
       "    </tr>\n",
       "    <tr>\n",
       "      <th>2</th>\n",
       "      <td>0022201194</td>\n",
       "      <td>Brandon</td>\n",
       "      <td>Schwab</td>\n",
       "      <td>86</td>\n",
       "    </tr>\n",
       "  </tbody>\n",
       "</table>\n",
       "</div>"
      ],
      "text/plain": [
       "      game_id first_name last_name jersey_num\n",
       "0  0022201194      Scott    Foster       48  \n",
       "1  0022201194     Dedric    Taylor       21  \n",
       "2  0022201194    Brandon    Schwab       86  "
      ]
     },
     "execution_count": 10,
     "metadata": {},
     "output_type": "execute_result"
    }
   ],
   "source": [
    "officials_game = pd.read_sql_query(\"SELECT game_id, first_name, last_name, jersey_num FROM officials WHERE game_id='0022201194'\", con)\n",
    "officials_game"
   ]
  }
 ],
 "metadata": {
  "kernelspec": {
   "display_name": "Python 3",
   "language": "python",
   "name": "python3"
  },
  "language_info": {
   "codemirror_mode": {
    "name": "ipython",
    "version": 3
   },
   "file_extension": ".py",
   "mimetype": "text/x-python",
   "name": "python",
   "nbconvert_exporter": "python",
   "pygments_lexer": "ipython3",
   "version": "3.12.4"
  }
 },
 "nbformat": 4,
 "nbformat_minor": 2
}
