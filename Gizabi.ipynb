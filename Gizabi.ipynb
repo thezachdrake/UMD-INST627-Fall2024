{
 "cells": [
  {
   "cell_type": "markdown",
   "id": "a2b6a78d-71f4-4a5a-a469-65dde09332ee",
   "metadata": {},
   "source": [
    "# Issue 5 - descriptive statistics"
   ]
  },
  {
   "cell_type": "markdown",
   "id": "8b2cdf14-b82d-442d-8b24-bed9e2d2438f",
   "metadata": {},
   "source": [
    "## Question 1: Which teams have most consistently had the highest scores?"
   ]
  },
  {
   "cell_type": "code",
   "execution_count": 2,
   "id": "3922d351-6b13-4101-858a-da7376d166a0",
   "metadata": {},
   "outputs": [
    {
     "name": "stdout",
     "output_type": "stream",
     "text": [
      "Teams with highest average scores:\n",
      "                                                   mean        std  count  \\\n",
      "team_id    team_name              game_year                                 \n",
      "1610612758 Sacramento Kings       2023       121.351190  14.097170   27.5   \n",
      "1610612737 Atlanta Hawks          2023       120.935556  10.581633   26.0   \n",
      "1610612749 Milwaukee Bucks        2023       119.807692  14.019533   26.0   \n",
      "1610612760 Oklahoma City Thunder  2023       119.475379  11.428609   23.0   \n",
      "1610612744 Golden State Warriors  2023       119.241379  12.043391   29.0   \n",
      "1610612749 Milwaukee Bucks        2019       118.377764  11.766527   48.5   \n",
      "1610612750 Minnesota Timberwolves 2022       117.711762  12.590458   47.5   \n",
      "1610612740 New Orleans Pelicans   2020       117.321429  11.167296   22.5   \n",
      "1610612742 Dallas Mavericks       2020       117.234127  10.458553   27.5   \n",
      "1610612754 Indiana Pacers         2023       117.063241  12.116996   22.5   \n",
      "\n",
      "                                             total_games  \n",
      "team_id    team_name              game_year               \n",
      "1610612758 Sacramento Kings       2023               373  \n",
      "1610612737 Atlanta Hawks          2023               390  \n",
      "1610612749 Milwaukee Bucks        2023               434  \n",
      "1610612760 Oklahoma City Thunder  2023               379  \n",
      "1610612744 Golden State Warriors  2023               415  \n",
      "1610612749 Milwaukee Bucks        2019               434  \n",
      "1610612750 Minnesota Timberwolves 2022               368  \n",
      "1610612740 New Orleans Pelicans   2020               369  \n",
      "1610612742 Dallas Mavericks       2020               398  \n",
      "1610612754 Indiana Pacers         2023               373  \n"
     ]
    }
   ],
   "source": [
    "import pandas as pd\n",
    "import sqlite3\n",
    "\n",
    "con = sqlite3.connect(\"./data/nba.sqlite\")\n",
    "games = pd.read_sql_query(\"SELECT * FROM game\", con)\n",
    "\n",
    "games_recent_5yrs = pd.read_sql_query(\"\"\"\n",
    "    SELECT * FROM game \n",
    "    WHERE season_type NOT IN ('All Star', 'All-Star') \n",
    "    AND game_date BETWEEN '2019-01-01 00:00:00' AND '2023-12-31 23:59:59'\n",
    "    ORDER BY game_date DESC\n",
    "\"\"\", con)\n",
    "\n",
    "games_recent_5yrs['game_year'] = pd.to_datetime(games_recent_5yrs['game_date']).dt.year\n",
    "\n",
    "score_stats_home = games_recent_5yrs.groupby(['team_id_home','team_name_home', 'game_year'])['pts_home'].agg(['mean', 'std', 'count'])\n",
    "score_stats_away = games_recent_5yrs.groupby(['team_id_away','team_name_away', 'game_year'])['pts_away'].agg(['mean', 'std', 'count'])\n",
    "\n",
    "score_stats_home.index.names = ['team_id', 'team_name', 'game_year']\n",
    "score_stats_away.index.names = ['team_id', 'team_name', 'game_year']\n",
    "\n",
    "combined_stats = pd.concat([score_stats_home, score_stats_away])\n",
    "score_stats_all = combined_stats.groupby(['team_id', 'team_name','game_year']).mean()\n",
    "score_stats_all['total_games'] = combined_stats.groupby(['team_id', 'team_name'])['count'].sum()\n",
    "score_stats_all = score_stats_all[score_stats_all['total_games'] >= 100]\n",
    "\n",
    "# teams with highest average\n",
    "print(\"Teams with highest average scores:\")\n",
    "print(score_stats_all.sort_values(by='mean', ascending=False).head(10)) "
   ]
  },
  {
   "cell_type": "code",
   "execution_count": null,
   "id": "21d03ca9-a2d1-4e0a-a1f2-2bd5208fe94c",
   "metadata": {},
   "outputs": [],
   "source": []
  },
  {
   "cell_type": "markdown",
   "id": "d6bde4ce-dbc8-49cd-9500-0066cb5e6911",
   "metadata": {},
   "source": [
    "## Question 2 - Which team has had below average for the most consecutive seasons?\n"
   ]
  },
  {
   "cell_type": "code",
   "execution_count": 3,
   "id": "dcb12256-567b-4f60-94c9-4e2f1bec3e06",
   "metadata": {},
   "outputs": [
    {
     "name": "stdout",
     "output_type": "stream",
     "text": [
      "                        Team_Name     Team_ID  Seasons_Below_Average\n",
      "0                 New York Knicks  1610612752                     74\n",
      "1                  Boston Celtics  1610612738                     70\n",
      "2                   Chicago Bulls  1610612741                     61\n",
      "3                 Detroit Pistons  1610612765                     59\n",
      "4                   Atlanta Hawks  1610612737                     58\n",
      "..                            ...         ...                    ...\n",
      "78        Roma Virtus Lottomatica       12307                      1\n",
      "79                Toronto Huskies  1610610035                      1\n",
      "80  Unicaja Malaga Unicaja Malaga       12311                      1\n",
      "81                 Waterloo Hawks  1610610037                      1\n",
      "82        West NBA All Stars West  1610616834                      1\n",
      "\n",
      "[83 rows x 3 columns]\n"
     ]
    }
   ],
   "source": [
    "# Calculate the overall average points\n",
    "total_avg_points = pd.read_sql_query(\n",
    "    \"SELECT AVG(pts_home + pts_away) AS Average_Points FROM game\", con\n",
    ").iloc[0, 0]  # Retrieves the calculated average\n",
    "\n",
    "# Query teams with below-average points for consecutive seasons\n",
    "query = f\"\"\"\n",
    "SELECT \n",
    "    team_name_home AS Team_Name,\n",
    "    team_id_home AS Team_ID,\n",
    "    COUNT(season_id) AS Seasons_Below_Average\n",
    "FROM (\n",
    "    SELECT \n",
    "        season_id,\n",
    "        team_id_home,\n",
    "        team_name_home,\n",
    "        AVG(pts_home + pts_away) AS Season_Avg_Points\n",
    "    FROM game\n",
    "    GROUP BY season_id, team_id_home\n",
    "    HAVING AVG(pts_home + pts_away) < {total_avg_points}\n",
    ")\n",
    "GROUP BY team_name_home, team_id_home\n",
    "ORDER BY Seasons_Below_Average DESC\n",
    "\"\"\"\n",
    "\n",
    "# Execute and display results\n",
    "below_average = pd.read_sql_query(query, con)\n",
    "print(below_average)"
   ]
  },
  {
   "cell_type": "markdown",
   "id": "6193f0bd-e072-416c-a5c8-83edcb5a2e09",
   "metadata": {},
   "source": [
    "## Question 3 - Which team has consistently made it to the playoffs?\n"
   ]
  },
  {
   "cell_type": "code",
   "execution_count": 4,
   "id": "e938594c-4ffc-4d93-b5ec-4290bb6b41a1",
   "metadata": {},
   "outputs": [
    {
     "name": "stdout",
     "output_type": "stream",
     "text": [
      "                    Team_Name     Team_ID  Seasons_In_Playoff\n",
      "0              Boston Celtics  1610612738                  54\n",
      "1          Los Angeles Lakers  1610612747                  45\n",
      "2             New York Knicks  1610612752                  38\n",
      "3          Philadelphia 76ers  1610612755                  35\n",
      "4           San Antonio Spurs  1610612759                  34\n",
      "5               Atlanta Hawks  1610612737                  33\n",
      "6               Chicago Bulls  1610612741                  33\n",
      "7             Milwaukee Bucks  1610612749                  33\n",
      "8      Portland Trail Blazers  1610612757                  33\n",
      "9             Houston Rockets  1610612745                  31\n",
      "10               Phoenix Suns  1610612756                  28\n",
      "11             Denver Nuggets  1610612743                  27\n",
      "12            Detroit Pistons  1610612765                  27\n",
      "13                  Utah Jazz  1610612762                  27\n",
      "14           Dallas Mavericks  1610612742                  22\n",
      "15             Indiana Pacers  1610612754                  22\n",
      "16        Cleveland Cavaliers  1610612739                  20\n",
      "17                 Miami Heat  1610612748                  20\n",
      "18      Golden State Warriors  1610612744                  19\n",
      "19        Seattle SuperSonics  1610612760                  18\n",
      "20            New Jersey Nets  1610612751                  13\n",
      "21              Orlando Magic  1610612753                  13\n",
      "22         Washington Bullets  1610612764                  13\n",
      "23          Memphis Grizzlies  1610612763                  12\n",
      "24         Syracuse Nationals  1610612755                  11\n",
      "25            Toronto Raptors  1610612761                  11\n",
      "26         Minneapolis Lakers  1610612747                  10\n",
      "27      Oklahoma City Thunder  1610612760                  10\n",
      "28      Philadelphia Warriors  1610612744                  10\n",
      "29     Minnesota Timberwolves  1610612750                   9\n",
      "30              Brooklyn Nets  1610612751                   8\n",
      "31  Ft. Wayne Zollner Pistons  1610612765                   8\n",
      "32            St. Louis Hawks  1610612737                   8\n",
      "33         Washington Wizards  1610612764                   8\n",
      "34       Los Angeles Clippers  1610612746                   7\n",
      "35           Rochester Royals  1610612758                   7\n",
      "36           Sacramento Kings  1610612758                   7\n",
      "37          Charlotte Hornets  1610612766                   6\n",
      "38                LA Clippers  1610612746                   6\n",
      "39          Baltimore Bullets  1610612764                   5\n",
      "40          Cincinnati Royals  1610612758                   5\n",
      "41        New Orleans Hornets  1610612740                   5\n",
      "42              Chicago Stags  1610610025                   4\n",
      "43     Indianapolis Olympians  1610610030                   4\n",
      "44          Kansas City Kings  1610612758                   4\n",
      "45     San Francisco Warriors  1610612744                   4\n",
      "46          Baltimore Bullets  1610610024                   3\n",
      "47             Buffalo Braves  1610612746                   3\n",
      "48       New Orleans Pelicans  1610612740                   3\n",
      "49          St. Louis Bombers  1610610034                   3\n",
      "50        Washington Capitols  1610610036                   3\n",
      "51          Charlotte Bobcats  1610612766                   2\n",
      "52           Anderson Packers  1610610023                   1\n",
      "53            Capital Bullets  1610612764                   1\n",
      "54           Cleveland Rebels  1610610026                   1\n",
      "55    Kansas City-Omaha Kings  1610612758                   1\n",
      "56         Sheboygan Redskins  1610610033                   1\n",
      "57      Tri-Cities Blackhawks  1610612737                   1\n"
     ]
    }
   ],
   "source": [
    "# Calculate the overall average points\n",
    "total_avg_points = pd.read_sql_query(\n",
    "    \"SELECT AVG(pts_home + pts_away) AS Average_Points FROM game\", con\n",
    ").iloc[0, 0]  # Retrieves the calculated average\n",
    "\n",
    "# Query teams with below-average points for consecutive seasons\n",
    "query = f\"\"\"\n",
    "SELECT \n",
    "    team_name_home AS Team_Name,\n",
    "    team_id_home AS Team_ID,\n",
    "    COUNT(season_id) AS Seasons_In_Playoff\n",
    "FROM (\n",
    "    SELECT \n",
    "        season_id,\n",
    "        team_id_home,\n",
    "        team_name_home\n",
    "    FROM game WHERE season_type = 'Playoffs'\n",
    "    GROUP BY season_id, team_id_home\n",
    ")\n",
    "GROUP BY team_name_home, team_id_home\n",
    "ORDER BY Seasons_In_Playoff DESC\n",
    "\"\"\"\n",
    "\n",
    "# Execute and display results\n",
    "below_average = pd.read_sql_query(query, con)\n",
    "print(below_average)"
   ]
  },
  {
   "cell_type": "markdown",
   "id": "170d259e-4e0c-4e66-917a-823a5536a690",
   "metadata": {},
   "source": [
    "## Question 4 - Which teams have shown the greatest improvement over the past five years?\n"
   ]
  },
  {
   "cell_type": "code",
   "execution_count": 8,
   "id": "1cb20efd-e434-473d-860c-a37f522107a4",
   "metadata": {},
   "outputs": [
    {
     "name": "stdout",
     "output_type": "stream",
     "text": [
      "Teams highest year over year improvement over past 5 years: \n",
      "                                                   mean        std  count  \\\n",
      "team_id    team_name              game_year                                 \n",
      "1610612760 Oklahoma City Thunder  2023       119.475379  11.428609   23.0   \n",
      "                                  2022       110.795960  13.150085   44.5   \n",
      "1610612763 Memphis Grizzlies      2020       114.344545  10.651583   23.5   \n",
      "1610612766 Charlotte Hornets      2021       110.602733  12.377413   54.0   \n",
      "1610612758 Sacramento Kings       2023       121.351190  14.097170   27.5   \n",
      "1610612737 Atlanta Hawks          2023       120.935556  10.581633   26.0   \n",
      "1610612750 Minnesota Timberwolves 2022       117.711762  12.590458   47.5   \n",
      "1610612746 LA Clippers            2023       116.750000  15.681210   24.5   \n",
      "1610612744 Golden State Warriors  2023       119.241379  12.043391   29.0   \n",
      "1610612742 Dallas Mavericks       2020       117.234127  10.458553   27.5   \n",
      "\n",
      "                                             Difference  \n",
      "team_id    team_name              game_year              \n",
      "1610612760 Oklahoma City Thunder  2023         8.679419  \n",
      "                                  2022         7.220488  \n",
      "1610612763 Memphis Grizzlies      2020         6.963339  \n",
      "1610612766 Charlotte Hornets      2021         6.914497  \n",
      "1610612758 Sacramento Kings       2023         6.885493  \n",
      "1610612737 Atlanta Hawks          2023         6.457295  \n",
      "1610612750 Minnesota Timberwolves 2022         6.379654  \n",
      "1610612746 LA Clippers            2023         6.184094  \n",
      "1610612744 Golden State Warriors  2023         6.169951  \n",
      "1610612742 Dallas Mavericks       2020         6.050794  \n"
     ]
    }
   ],
   "source": [
    "import pandas as pd\n",
    "import sqlite3\n",
    "\n",
    "con = sqlite3.connect(\"./data/nba.sqlite\")\n",
    "games = pd.read_sql_query(\"SELECT * FROM game\", con)\n",
    "\n",
    "games_recent_5yrs = pd.read_sql_query(\"\"\"\n",
    "    SELECT * FROM game \n",
    "    WHERE season_type NOT IN ('All Star', 'All-Star') \n",
    "    AND game_date BETWEEN '2019-01-01 00:00:00' AND '2023-12-31 23:59:59'\n",
    "    ORDER BY game_date DESC\n",
    "\"\"\", con)\n",
    "\n",
    "games_recent_5yrs['game_year'] = pd.to_datetime(games_recent_5yrs['game_date']).dt.year\n",
    "\n",
    "score_stats_home = games_recent_5yrs.groupby(['team_id_home','team_name_home', 'game_year'])['pts_home'].agg(['mean', 'std', 'count'])\n",
    "score_stats_away = games_recent_5yrs.groupby(['team_id_away','team_name_away', 'game_year'])['pts_away'].agg(['mean', 'std', 'count'])\n",
    "\n",
    "score_stats_home.index.names = ['team_id', 'team_name', 'game_year']\n",
    "score_stats_away.index.names = ['team_id', 'team_name', 'game_year']\n",
    "\n",
    "\n",
    "combined_stats = pd.concat([score_stats_home, score_stats_away])\n",
    "score_stats_all = combined_stats.groupby(['team_id', 'team_name','game_year']).mean()\n",
    "\n",
    "score_stats_all = score_stats_all.sort_values(by=['team_name', 'game_year'], ascending=[True, True])\n",
    "\n",
    "score_stats_all['Difference'] = score_stats_all.groupby('team_name')['mean'].diff()\n",
    "\n",
    "\n",
    "# teams with highest average\n",
    "print(\"Teams highest year over year improvement over past 5 years: \")\n",
    "print(score_stats_all.sort_values(by='Difference', ascending=False).head(10)) \n",
    "\n",
    "season_avg = pd.concat([games_recent_5yrs['pts_home'], games_recent_5yrs['pts_away']]).mean()\n"
   ]
  },
  {
   "cell_type": "markdown",
   "id": "67bf9253-6a68-4ade-8c0d-5deba4bc9570",
   "metadata": {},
   "source": [
    "## Question 5 - Which teams have demonstrated the best defensive metrics (e.g., blocks and steals), and how has this impacted their winning consistency?\n"
   ]
  },
  {
   "cell_type": "code",
   "execution_count": 19,
   "id": "aa0fbe20-877e-4dfa-8b4e-f05e4b3dbb74",
   "metadata": {},
   "outputs": [
    {
     "name": "stdout",
     "output_type": "stream",
     "text": [
      "Teams defensive metrics: \n",
      "                                            total_blocks  total_steals  \\\n",
      "team_id    team_name             game_year                               \n",
      "1610612756 Phoenix Suns          2021              538.0         973.0   \n",
      "1610612749 Milwaukee Bucks       2021              594.0        1041.0   \n",
      "1610612762 Utah Jazz             2021              609.0         794.0   \n",
      "1610612751 Brooklyn Nets         2021              611.0         787.0   \n",
      "1610612738 Boston Celtics        2022              628.0         731.0   \n",
      "1610612749 Milwaukee Bucks       2019              589.0         744.0   \n",
      "1610612755 Philadelphia 76ers    2021              718.0        1044.0   \n",
      "1610612746 LA Clippers           2021              540.0         906.0   \n",
      "1610612761 Toronto Raptors       2019              518.0         853.0   \n",
      "1610612744 Golden State Warriors 2021              513.0         934.0   \n",
      "\n",
      "                                            total_wins  \n",
      "team_id    team_name             game_year              \n",
      "1610612756 Phoenix Suns          2021               91  \n",
      "1610612749 Milwaukee Bucks       2021               85  \n",
      "1610612762 Utah Jazz             2021               84  \n",
      "1610612751 Brooklyn Nets         2021               78  \n",
      "1610612738 Boston Celtics        2022               76  \n",
      "1610612749 Milwaukee Bucks       2019               75  \n",
      "1610612755 Philadelphia 76ers    2021               73  \n",
      "1610612746 LA Clippers           2021               72  \n",
      "1610612761 Toronto Raptors       2019               70  \n",
      "1610612744 Golden State Warriors 2021               69  \n"
     ]
    }
   ],
   "source": [
    "import pandas as pd\n",
    "import sqlite3\n",
    "\n",
    "con = sqlite3.connect(\"./data/nba.sqlite\")\n",
    "games = pd.read_sql_query(\"SELECT * FROM game\", con)\n",
    "\n",
    "games_recent_5yrs = pd.read_sql_query(\"\"\"\n",
    "    SELECT * FROM game \n",
    "    WHERE season_type NOT IN ('All Star', 'All-Star') \n",
    "    AND game_date BETWEEN '2019-01-01 00:00:00' AND '2023-12-31 23:59:59'\n",
    "    ORDER BY game_date DESC\n",
    "\"\"\", con)\n",
    "\n",
    "games_recent_5yrs['game_year'] = pd.to_datetime(games_recent_5yrs['game_date']).dt.year\n",
    "\n",
    "games_recent_5yrs['win_home'] = games_recent_5yrs['wl_home'].map({'W': 1, 'L': 0})\n",
    "games_recent_5yrs['win_away'] = games_recent_5yrs['wl_away'].map({'W': 1, 'L': 0})\n",
    "\n",
    "# Prepare home stats\n",
    "home_stats = games_recent_5yrs.groupby(['team_id_home', 'team_name_home', 'game_year'])[['blk_home', 'stl_home', 'win_home']].sum().reset_index()\n",
    "home_stats.columns = ['team_id', 'team_name', 'game_year', 'total_blocks', 'total_steals', 'total_wins']\n",
    "\n",
    "# Prepare away stats\n",
    "away_stats = games_recent_5yrs.groupby(['team_id_away', 'team_name_away', 'game_year'])[['blk_away', 'stl_away', 'win_away']].sum().reset_index()\n",
    "away_stats.columns = ['team_id', 'team_name', 'game_year', 'total_blocks', 'total_steals', 'total_wins']\n",
    "\n",
    "# Combine home and away stats\n",
    "all_stats = pd.concat([home_stats, away_stats])\n",
    "\n",
    "# Group by team and year to sum up home and away stats\n",
    "final_stats = all_stats.groupby(['team_id', 'team_name', 'game_year']).sum().reset_index()\n",
    "final_stats.set_index(['team_id', 'team_name', 'game_year'], inplace=True)\n",
    "\n",
    "print(\"Teams defensive metrics: \")\n",
    "print(final_stats.sort_values(by='total_wins', ascending=False).head(10)) \n"
   ]
  },
  {
   "cell_type": "code",
   "execution_count": null,
   "id": "cde97a1b-17f4-441d-a371-a64166d46e78",
   "metadata": {},
   "outputs": [],
   "source": []
  },
  {
   "cell_type": "markdown",
   "id": "0fb4cd10-744f-496d-a949-c484000b5f59",
   "metadata": {},
   "source": [
    "# Issue 6 - Storyboard "
   ]
  },
  {
   "cell_type": "markdown",
   "id": "b7b6a12a-2809-49da-9f60-93d549f1eadb",
   "metadata": {},
   "source": [
    "## Question 1: Which teams have most consistently had the highest scores?"
   ]
  },
  {
   "cell_type": "markdown",
   "id": "3d9752a4-acf4-47bb-af22-b48abb47c1eb",
   "metadata": {},
   "source": [
    "### Intro - For our first question, we will be trying to find which team scores the most in their games\n"
   ]
  },
  {
   "cell_type": "code",
   "execution_count": 25,
   "id": "71358bef-6713-46e0-aa2d-76bd6c567c7c",
   "metadata": {},
   "outputs": [
    {
     "name": "stdout",
     "output_type": "stream",
     "text": [
      "Teams with highest total scores:\n",
      "                                      sum        std  count\n",
      "team_id    team_name                                       \n",
      "1610612749 Milwaukee Bucks        25377.0  12.399917    216\n",
      "1610612738 Boston Celtics         25220.0  13.193480    221\n",
      "1610612743 Denver Nuggets         25175.0  12.521091    219\n",
      "1610612749 Milwaukee Bucks        25154.0  13.052470    218\n",
      "1610612738 Boston Celtics         24315.0  11.821290    218\n",
      "1610612743 Denver Nuggets         24313.0  11.027889    219\n",
      "1610612744 Golden State Warriors  24155.0  12.170417    210\n",
      "1610612756 Phoenix Suns           23936.0  11.046690    209\n",
      "1610612748 Miami Heat             23768.0  11.756334    215\n",
      "1610612746 LA Clippers            23703.0  14.457101    208\n"
     ]
    }
   ],
   "source": [
    "import pandas as pd\n",
    "import sqlite3\n",
    "\n",
    "con = sqlite3.connect(\"./data/nba.sqlite\")\n",
    "games = pd.read_sql_query(\"SELECT * FROM game\", con)\n",
    "\n",
    "games_recent_5yrs = pd.read_sql_query(\"\"\"\n",
    "    SELECT * FROM game \n",
    "    WHERE season_type NOT IN ('All Star', 'All-Star') \n",
    "    AND game_date BETWEEN '2019-01-01 00:00:00' AND '2023-12-31 23:59:59'\n",
    "    ORDER BY game_date DESC\n",
    "\"\"\", con)\n",
    "\n",
    "games_recent_5yrs['game_year'] = pd.to_datetime(games_recent_5yrs['game_date']).dt.year\n",
    "\n",
    "score_stats_home = games_recent_5yrs.groupby(['team_id_home','team_name_home'])['pts_home'].agg(['sum', 'std', 'count'])\n",
    "score_stats_away = games_recent_5yrs.groupby(['team_id_away','team_name_away'])['pts_away'].agg(['sum', 'std', 'count'])\n",
    "\n",
    "score_stats_home.index.names = ['team_id', 'team_name']\n",
    "score_stats_away.index.names = ['team_id', 'team_name']\n",
    "\n",
    "combined_stats = pd.concat([score_stats_home, score_stats_away])\n",
    "\n",
    "# teams with highest average\n",
    "print(\"Teams with highest total scores:\")\n",
    "print(combined_stats.sort_values(by='sum', ascending=False).head(10)) "
   ]
  },
  {
   "cell_type": "markdown",
   "id": "e44640a9-5102-4beb-8d22-593bd4afc4ac",
   "metadata": {},
   "source": [
    "### Rising action: We want to see how consistent teams are by season"
   ]
  },
  {
   "cell_type": "code",
   "execution_count": 32,
   "id": "decc0658-a042-4cf8-9a0d-977e11b7a4f1",
   "metadata": {},
   "outputs": [
    {
     "name": "stdout",
     "output_type": "stream",
     "text": [
      "Teams with highest average total scores per game:\n",
      "Milwaukee Bucks           116.435716\n",
      "Adelaide 36ers            116.000000\n",
      "Utah Jazz                 114.124126\n",
      "Atlanta Hawks             114.082051\n",
      "Minnesota Timberwolves    114.046378\n",
      "Sacramento Kings          113.760321\n",
      "Golden State Warriors     113.553368\n",
      "Brooklyn Nets             113.466575\n",
      "New Orleans Pelicans      113.429579\n",
      "Memphis Grizzlies         113.219401\n",
      "dtype: float64\n"
     ]
    }
   ],
   "source": [
    "import pandas as pd\n",
    "import sqlite3\n",
    "\n",
    "con = sqlite3.connect(\"./data/nba.sqlite\")\n",
    "games = pd.read_sql_query(\"SELECT * FROM game\", con)\n",
    "\n",
    "games_recent_5yrs = pd.read_sql_query(\"\"\"\n",
    "    SELECT * FROM game \n",
    "    WHERE season_type NOT IN ('All Star', 'All-Star') \n",
    "    AND game_date BETWEEN '2019-01-01 00:00:00' AND '2023-12-31 23:59:59'\n",
    "    ORDER BY game_date DESC\n",
    "\"\"\", con)\n",
    "\n",
    "games_recent_5yrs['game_year'] = pd.to_datetime(games_recent_5yrs['game_date']).dt.year\n",
    "\n",
    "score_stats_home = games_recent_5yrs.groupby('team_name_home')['pts_home'].mean()\n",
    "score_stats_away = games_recent_5yrs.groupby('team_name_away')['pts_away'].mean()\n",
    "\n",
    "combined_stats = pd.concat([score_stats_home, score_stats_away]).groupby(level=0).mean()\n",
    "\n",
    "print(\"Teams with highest average total scores per game:\")\n",
    "print(combined_stats.sort_values(ascending=False).head(10))"
   ]
  },
  {
   "cell_type": "markdown",
   "id": "35a36300-4b3b-49a1-b6c4-710a98894fd9",
   "metadata": {},
   "source": [
    "### Climax: we want to see how consistent they are by game"
   ]
  },
  {
   "cell_type": "code",
   "execution_count": null,
   "id": "591db2f2-831f-4a09-845c-a05ecebf332c",
   "metadata": {},
   "outputs": [],
   "source": []
  },
  {
   "cell_type": "markdown",
   "id": "25b1a701-57ad-49ca-8a51-32daa4533944",
   "metadata": {},
   "source": [
    "### Falling action:  we want to see the standard deviation per season to see how consistent they are. Lower standard deviation will show consistency"
   ]
  },
  {
   "cell_type": "code",
   "execution_count": null,
   "id": "ca8c6a61-f858-4f09-9682-e4d46289fbdb",
   "metadata": {},
   "outputs": [],
   "source": []
  },
  {
   "cell_type": "markdown",
   "id": "d0dfa923-19ec-4d03-8612-1d517d25d11a",
   "metadata": {},
   "source": [
    "### Conclusion: Once we look at the falling action data, we can properly discern the standard deviation that we see fit.\n"
   ]
  },
  {
   "cell_type": "code",
   "execution_count": null,
   "id": "85a40330-d4b9-4573-818d-d0949b4b4b0d",
   "metadata": {},
   "outputs": [],
   "source": []
  },
  {
   "cell_type": "markdown",
   "id": "e9fa7db1-db3f-4b20-8f4e-bdf354e7eff3",
   "metadata": {},
   "source": [
    "## Question 2 - Which team has had below average for the most consecutive seasons?\n"
   ]
  },
  {
   "cell_type": "markdown",
   "id": "35228f85-27c0-4e3b-8850-0359d896f318",
   "metadata": {},
   "source": [
    "### Intro: What is considered average? "
   ]
  },
  {
   "cell_type": "code",
   "execution_count": null,
   "id": "0b34ad03-5562-4ab0-b6d1-88701e603798",
   "metadata": {},
   "outputs": [],
   "source": []
  },
  {
   "cell_type": "markdown",
   "id": "575c51d6-9c03-4377-b01a-f443f73857ce",
   "metadata": {},
   "source": [
    "### Rising action: Each season has its own average"
   ]
  },
  {
   "cell_type": "code",
   "execution_count": null,
   "id": "bd167399-75ea-40c0-a9f2-41b482e50906",
   "metadata": {},
   "outputs": [],
   "source": []
  },
  {
   "cell_type": "markdown",
   "id": "73bf19a5-2f01-42ea-aee5-362b7b1ba2c5",
   "metadata": {},
   "source": [
    "### Climax: Teams number of seasons below season average"
   ]
  },
  {
   "cell_type": "code",
   "execution_count": 33,
   "id": "cac504a1-b9d1-4c39-a7b2-d449c7f160de",
   "metadata": {},
   "outputs": [
    {
     "name": "stdout",
     "output_type": "stream",
     "text": [
      "Teams with below average scores per game:\n",
      "Charlotte Hornets            109.504817\n",
      "Chicago Bulls                110.506483\n",
      "Cleveland Cavaliers          107.244895\n",
      "Detroit Pistons              106.855801\n",
      "Miami Heat                   108.997146\n",
      "New York Knicks              107.797772\n",
      "Oklahoma City Thunder        110.057584\n",
      "Orlando Magic                107.049138\n",
      "Ra'anana Maccabi Ra'anana     87.666667\n",
      "dtype: float64\n"
     ]
    }
   ],
   "source": [
    "import pandas as pd\n",
    "import sqlite3\n",
    "\n",
    "con = sqlite3.connect(\"./data/nba.sqlite\")\n",
    "games = pd.read_sql_query(\"SELECT * FROM game\", con)\n",
    "\n",
    "games_recent_5yrs = pd.read_sql_query(\"\"\"\n",
    "    SELECT * FROM game \n",
    "    WHERE season_type NOT IN ('All Star', 'All-Star') \n",
    "    AND game_date BETWEEN '2019-01-01 00:00:00' AND '2023-12-31 23:59:59'\n",
    "    ORDER BY game_date DESC\n",
    "\"\"\", con)\n",
    "\n",
    "games_recent_5yrs['game_year'] = pd.to_datetime(games_recent_5yrs['game_date']).dt.year\n",
    "\n",
    "score_stats_home = games_recent_5yrs.groupby('team_name_home')['pts_home'].mean()\n",
    "score_stats_away = games_recent_5yrs.groupby('team_name_away')['pts_away'].mean()\n",
    "\n",
    "combined_stats = pd.concat([score_stats_home, score_stats_away]).groupby(level=0).mean()\n",
    "\n",
    "# Calculate league average score per game\n",
    "league_avg_score = combined_stats.mean()\n",
    "\n",
    "# Filter teams with below average scores\n",
    "below_avg_teams = combined_stats[combined_stats < league_avg_score]\n",
    "\n",
    "print(\"Teams with below average scores per game:\")\n",
    "print(below_avg_teams)\n"
   ]
  },
  {
   "cell_type": "markdown",
   "id": "bd17bfa4-646e-43b8-8d62-851ff0b62224",
   "metadata": {},
   "source": [
    "### Falling action: the team with the longest streak of being above average"
   ]
  },
  {
   "cell_type": "code",
   "execution_count": null,
   "id": "05e0b1d6-5ab4-407b-8c6f-c7f2f8c617af",
   "metadata": {},
   "outputs": [],
   "source": []
  },
  {
   "cell_type": "markdown",
   "id": "c5207a40-6ba6-4d53-9e5b-30030f3d307a",
   "metadata": {},
   "source": [
    "### Conclusion: The team that has the longest streak of being below average"
   ]
  },
  {
   "cell_type": "code",
   "execution_count": null,
   "id": "72e9578b-2054-4d9e-b6b9-32eb6f4f53c0",
   "metadata": {},
   "outputs": [],
   "source": []
  },
  {
   "cell_type": "markdown",
   "id": "75fc3659-5031-4c3e-a376-684a2e56602f",
   "metadata": {},
   "source": [
    "## Question 3 - Which team has consistently made it to the playoffs?\n"
   ]
  },
  {
   "cell_type": "markdown",
   "id": "b7d181b2-e44e-4217-a409-2cc7723b4583",
   "metadata": {},
   "source": [
    "### Introduction: Number of playoff appearances by team"
   ]
  },
  {
   "cell_type": "code",
   "execution_count": null,
   "id": "63614b0e-0b4b-4ab0-abe5-c86bec68a7c2",
   "metadata": {},
   "outputs": [],
   "source": []
  },
  {
   "cell_type": "markdown",
   "id": "5450c681-acc7-4148-b8ad-446acb3aa0db",
   "metadata": {},
   "source": [
    "### Rising action: Number of playoff appearances each season by team"
   ]
  },
  {
   "cell_type": "code",
   "execution_count": null,
   "id": "6c15d140-a1e0-4d07-a60a-b4659c93c0c7",
   "metadata": {},
   "outputs": [],
   "source": []
  },
  {
   "cell_type": "markdown",
   "id": "127dd351-babe-44a8-a916-0398f9c1a519",
   "metadata": {},
   "source": [
    "### Climax: Teams with the longest streak of making playoffs"
   ]
  },
  {
   "cell_type": "code",
   "execution_count": null,
   "id": "309cef9c-c2e9-49ed-8201-f103375bf450",
   "metadata": {},
   "outputs": [],
   "source": []
  },
  {
   "cell_type": "markdown",
   "id": "c4f9983c-c6e3-4adc-8db6-9a22b017980d",
   "metadata": {},
   "source": [
    "### Falling action: Teams that has the longest streak of not making it to playoffs"
   ]
  },
  {
   "cell_type": "code",
   "execution_count": null,
   "id": "fafd0791-e2e0-4551-afe9-15dba2aa4bc8",
   "metadata": {},
   "outputs": [],
   "source": []
  },
  {
   "cell_type": "markdown",
   "id": "2e8751bc-bd61-4707-bfb8-7a05bc0ff128",
   "metadata": {},
   "source": [
    "### Climax: The team that consistently makes it to playoffs (average of seasons played and season playoff)"
   ]
  },
  {
   "cell_type": "code",
   "execution_count": null,
   "id": "d3360adc-7e8e-493d-87bd-41123ec8dcff",
   "metadata": {},
   "outputs": [],
   "source": []
  },
  {
   "cell_type": "code",
   "execution_count": null,
   "id": "1a41e3cf-0587-4f53-b711-b6cf133c867a",
   "metadata": {},
   "outputs": [],
   "source": []
  },
  {
   "cell_type": "markdown",
   "id": "16915766-7ff5-40f5-b46a-f24dd51f0aaa",
   "metadata": {},
   "source": [
    "## Question 4 - Which teams have shown the greatest improvement over the past five years?\n"
   ]
  },
  {
   "cell_type": "markdown",
   "id": "c2505063-efa0-4bdf-93f4-1cac59550a68",
   "metadata": {},
   "source": [
    "### Introduction: Average win percentage by season league total (for now)"
   ]
  },
  {
   "cell_type": "code",
   "execution_count": null,
   "id": "f49d4a10-ac98-45aa-a8a8-4e07927bcded",
   "metadata": {},
   "outputs": [],
   "source": []
  },
  {
   "cell_type": "markdown",
   "id": "feea9b6d-be3b-47bf-95c7-4d7fdf84250c",
   "metadata": {},
   "source": [
    "### Rising action: average win percentage of team by season "
   ]
  },
  {
   "cell_type": "markdown",
   "id": "ae6d7f7a-42e6-442d-ae18-4c6878a52dbf",
   "metadata": {},
   "source": [
    "### Climax: Greatest positive change of win percentage per season by team"
   ]
  },
  {
   "cell_type": "code",
   "execution_count": null,
   "id": "f1849676-d186-4fe1-a414-57b530012377",
   "metadata": {},
   "outputs": [],
   "source": []
  },
  {
   "cell_type": "markdown",
   "id": "7fd1d193-795f-44dd-bd39-7ac8276b9353",
   "metadata": {},
   "source": [
    "### Falling action: Greatest negative change of win percentage per season by team"
   ]
  },
  {
   "cell_type": "code",
   "execution_count": null,
   "id": "05468e40-538f-460a-b929-dc3a32e2fc7a",
   "metadata": {},
   "outputs": [],
   "source": []
  },
  {
   "cell_type": "markdown",
   "id": "69e26b79-31b1-490f-a415-0da8f516ec41",
   "metadata": {},
   "source": [
    "### Conclusion: Average win percentage change over past 5 years per team "
   ]
  },
  {
   "cell_type": "code",
   "execution_count": null,
   "id": "43e1e204-4e55-4d37-85d1-d585db04e3e8",
   "metadata": {},
   "outputs": [],
   "source": []
  },
  {
   "cell_type": "markdown",
   "id": "c9eb61a6-e509-44a7-bd24-74a150c0be84",
   "metadata": {},
   "source": [
    "## Question 5 - Which teams have demonstrated the best defensive metrics (e.g., blocks and steals), and how has this impacted their winning consistency?\n"
   ]
  },
  {
   "cell_type": "markdown",
   "id": "9bbd87db-3726-4bea-bc04-d69de1a0c93a",
   "metadata": {},
   "source": [
    "# Introduction:  Average blocks and steals per game by season"
   ]
  },
  {
   "cell_type": "code",
   "execution_count": null,
   "id": "beddc22f-abce-4536-9551-0016375e218b",
   "metadata": {},
   "outputs": [],
   "source": []
  },
  {
   "cell_type": "markdown",
   "id": "f1984309-cf86-4403-93c9-3795c90e1250",
   "metadata": {},
   "source": [
    "### rising action: average blocks and steals per game by team "
   ]
  },
  {
   "cell_type": "code",
   "execution_count": null,
   "id": "8935db21-53c2-4a33-b1ef-0794520def25",
   "metadata": {},
   "outputs": [],
   "source": []
  },
  {
   "cell_type": "markdown",
   "id": "bac2a344-52eb-4460-97e6-93ecfb0acc5c",
   "metadata": {},
   "source": [
    "### Climax:  Teams with best blocks and steals (show win percentage)"
   ]
  },
  {
   "cell_type": "code",
   "execution_count": null,
   "id": "cf280d53-1d93-4828-a12f-04e75a004d40",
   "metadata": {},
   "outputs": [],
   "source": []
  },
  {
   "cell_type": "markdown",
   "id": "b0e97479-805c-4ed2-a173-de111aaf8f6c",
   "metadata": {},
   "source": [
    "### Falling action: Worst teams when it comes to blocks and steals (show win percentage)"
   ]
  },
  {
   "cell_type": "code",
   "execution_count": null,
   "id": "e656b7ed-bad0-49f6-be46-a6462cc13f3e",
   "metadata": {},
   "outputs": [],
   "source": []
  },
  {
   "cell_type": "markdown",
   "id": "eb1a52ef-c347-40c0-8bd2-bbbba37a04b6",
   "metadata": {},
   "source": [
    "### Conclusion: Teams with highest win percentage has these blocks and steals "
   ]
  },
  {
   "cell_type": "code",
   "execution_count": null,
   "id": "871b908c-9bcc-41d2-87ec-e7c232a5aa1f",
   "metadata": {},
   "outputs": [],
   "source": []
  }
 ],
 "metadata": {
  "kernelspec": {
   "display_name": "Python 3 (ipykernel)",
   "language": "python",
   "name": "python3"
  },
  "language_info": {
   "codemirror_mode": {
    "name": "ipython",
    "version": 3
   },
   "file_extension": ".py",
   "mimetype": "text/x-python",
   "name": "python",
   "nbconvert_exporter": "python",
   "pygments_lexer": "ipython3",
   "version": "3.12.5"
  }
 },
 "nbformat": 4,
 "nbformat_minor": 5
}
