 {
   "cell_type": "markdown",
   "id": "86118a9b-2a0a-456b-891b-d311a30bac7e",
   "metadata": {},
   "source": [
    "### Issue 4 - Analytical Questions <br>\n",
    "\n",
    "#### Business Objective\n",
    "Which team would be the best to invest in for the upcoming season?\n",
    "\n",
    "#### Analytical Questions\n",
    "1. (Finalized) Which teams have most consistently had the highest scores? \n",
    "2. (Finalized) Which team has had below average for the most consecutive seasons? \n",
    "3. Which team has consistently made it to the playoffs? \n",
    "4. Does a higher proportion of three-point field goals increase the likelihood of winning?\n",
    "5. How does the frequency of turnovers in a game affect the likelihood of winning? Simply put, do more turnovers help or hinder?"
   ]
  }
 ],
 "metadata": {
  "kernelspec": {
   "display_name": "Python 3 (ipykernel)",
   "language": "python",
   "name": "python3"
  },
  "language_info": {
   "codemirror_mode": {
    "name": "ipython",
    "version": 3
   },
   "file_extension": ".py",
   "mimetype": "text/x-python",
   "name": "python",
   "nbconvert_exporter": "python",
   "pygments_lexer": "ipython3",
   "version": "3.12.4"
  }
 },
 "nbformat": 4,
 "nbformat_minor": 5
}
