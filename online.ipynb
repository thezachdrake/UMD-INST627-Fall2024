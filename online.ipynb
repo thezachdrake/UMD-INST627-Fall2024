{
 "cells": [
  {
   "cell_type": "markdown",
   "metadata": {},
   "source": [
    "IM02 Online Section Group Notebook"
   ]
  },
  {
   "cell_type": "markdown",
   "metadata": {},
   "source": [
    "#### Business Objective: Which team would be the best to invest in for the upcoming season?"
   ]
  },
  {
   "cell_type": "markdown",
   "metadata": {},
   "source": [
    "#### Question 1\n",
    "#### Which teams have most consistently had the highest scores?"
   ]
  },
  {
   "cell_type": "code",
   "execution_count": 7,
   "metadata": {
    "tags": []
   },
   "outputs": [
    {
     "name": "stdout",
     "output_type": "stream",
     "text": [
      "  season_id team_id_home team_abbreviation_home  team_name_home     game_id  \\\n",
      "0     42022   1610612743                    DEN  Denver Nuggets  0042200405   \n",
      "1     42022   1610612748                    MIA      Miami Heat  0042200404   \n",
      "2     42022   1610612748                    MIA      Miami Heat  0042200403   \n",
      "3     42022   1610612743                    DEN  Denver Nuggets  0042200402   \n",
      "4     42022   1610612743                    DEN  Denver Nuggets  0042200401   \n",
      "\n",
      "             game_date matchup_home wl_home  min  fgm_home  ...  reb_away  \\\n",
      "0  2023-06-12 00:00:00  DEN vs. MIA       W  240      38.0  ...      44.0   \n",
      "1  2023-06-09 00:00:00  MIA vs. DEN       L  240      35.0  ...      34.0   \n",
      "2  2023-06-07 00:00:00  MIA vs. DEN       L  240      34.0  ...      58.0   \n",
      "3  2023-06-04 00:00:00  DEN vs. MIA       L  240      39.0  ...      31.0   \n",
      "4  2023-06-01 00:00:00  DEN vs. MIA       W  240      40.0  ...      43.0   \n",
      "\n",
      "   ast_away  stl_away  blk_away  tov_away  pf_away  pts_away  plus_minus_away  \\\n",
      "0      18.0       9.0       7.0       8.0     21.0      89.0               -5   \n",
      "1      26.0      11.0       7.0       8.0     18.0     108.0               13   \n",
      "2      28.0       3.0       5.0      14.0     18.0     109.0               15   \n",
      "3      28.0       5.0       4.0      11.0     22.0     111.0                3   \n",
      "4      26.0       5.0       4.0       8.0     15.0      93.0              -11   \n",
      "\n",
      "   video_available_away  season_type  \n",
      "0                     1     Playoffs  \n",
      "1                     1     Playoffs  \n",
      "2                     1     Playoffs  \n",
      "3                     1     Playoffs  \n",
      "4                     1     Playoffs  \n",
      "\n",
      "[5 rows x 55 columns]\n"
     ]
    }
   ],
   "source": [
    "import pandas as pd\n",
    "import sqlite3\n",
    "\n",
    "\n",
    "#using entire database\n",
    "con = sqlite3.connect(\"data/nba.sqlite\")\n",
    "games = pd.read_sql_query(\"SELECT * FROM game\", con)\n",
    "active_players = pd.read_sql_query(\"SELECT full_name FROM player WHERE is_active=TRUE\", con)\n",
    "\n",
    "\n",
    "# games data excluding all-star games (2019-2023)\n",
    "\n",
    "games_recent_5yrs = pd.read_sql_query(\"\"\"\n",
    "\tSELECT * FROM game \n",
    "\tWHERE season_type NOT IN ('All Star', 'All-Star') \n",
    "\tAND game_date BETWEEN '2019-01-01 00:00:00' AND '2023-12-31 23:59:59'\n",
    "    ORDER BY game_date DESC\n",
    "\"\"\", con)\n",
    "\n",
    "print(games_recent_5yrs.head(5))\n",
    "\n"
   ]
  },
  {
   "cell_type": "code",
   "execution_count": 8,
   "metadata": {
    "scrolled": true
   },
   "outputs": [
    {
     "name": "stdout",
     "output_type": "stream",
     "text": [
      "Teams with highest average scores:\n",
      "                                         mean        std  count  total_games\n",
      "team_id    team_name                                                        \n",
      "1610612749 Milwaukee Bucks         116.435716  12.726194  217.0          434\n",
      "1610612762 Utah Jazz               114.124126  11.353901  196.5          393\n",
      "1610612737 Atlanta Hawks           114.082051  12.425118  195.0          390\n",
      "1610612750 Minnesota Timberwolves  114.046378  11.995903  184.0          368\n",
      "1610612758 Sacramento Kings        113.760321  12.404773  186.5          373\n",
      "1610612744 Golden State Warriors   113.553368  12.502250  207.5          415\n",
      "1610612751 Brooklyn Nets           113.466575  12.269783  195.5          391\n",
      "1610612740 New Orleans Pelicans    113.429579  11.357125  184.5          369\n",
      "1610612763 Memphis Grizzlies       113.219401  12.564816  196.5          393\n",
      "1610612756 Phoenix Suns            113.174049  11.591735  205.5          411\n",
      "1610612743 Denver Nuggets          112.986301  11.774490  219.0          438\n",
      "1610612764 Washington Wizards      112.950441  12.736753  184.5          369\n",
      "1610612746 LA Clippers             112.948365  13.477699  204.0          408\n",
      "1610612738 Boston Celtics          112.827172  12.507385  219.5          439\n",
      "1610612757 Portland Trail Blazers  112.676168  12.730539  197.5          395\n",
      "1610612759 San Antonio Spurs       112.309702  12.284833  185.5          371\n",
      "1610612747 Los Angeles Lakers      112.260372  12.087893  205.5          411\n",
      "1610612755 Philadelphia 76ers      112.221338  12.349645  207.5          415\n",
      "1610612745 Houston Rockets         112.141951  12.746809  194.5          389\n",
      "1610612754 Indiana Pacers          112.094221  12.227816  186.5          373\n",
      "1610612742 Dallas Mavericks        111.955982  12.399883  199.0          398\n",
      "1610612761 Toronto Raptors         111.561036  11.654833  203.0          406\n",
      "1610612741 Chicago Bulls           110.506483  12.244804  181.5          363\n",
      "1610612760 Oklahoma City Thunder   110.057584  12.906594  189.5          379\n",
      "1610612766 Charlotte Hornets       109.504817  12.853108  180.0          360\n",
      "Most consistent scoring teams (lowest standard deviation):\n",
      "                                         mean        std  count  total_games\n",
      "team_id    team_name                                                        \n",
      "1610612762 Utah Jazz               114.124126  11.353901  196.5          393\n",
      "1610612739 Cleveland Cavaliers     107.244895  11.354891  182.0          364\n",
      "1610612740 New Orleans Pelicans    113.429579  11.357125  184.5          369\n",
      "1610612756 Phoenix Suns            113.174049  11.591735  205.5          411\n",
      "1610612748 Miami Heat              108.997146  11.596273  217.5          435\n",
      "1610612761 Toronto Raptors         111.561036  11.654833  203.0          406\n",
      "1610612743 Denver Nuggets          112.986301  11.774490  219.0          438\n",
      "1610612753 Orlando Magic           107.049138  11.822853  189.0          378\n",
      "1610612750 Minnesota Timberwolves  114.046378  11.995903  184.0          368\n",
      "1610612765 Detroit Pistons         106.855801  11.997323  183.0          366\n",
      "1610612747 Los Angeles Lakers      112.260372  12.087893  205.5          411\n",
      "1610612754 Indiana Pacers          112.094221  12.227816  186.5          373\n",
      "1610612741 Chicago Bulls           110.506483  12.244804  181.5          363\n",
      "1610612751 Brooklyn Nets           113.466575  12.269783  195.5          391\n",
      "1610612759 San Antonio Spurs       112.309702  12.284833  185.5          371\n",
      "1610612755 Philadelphia 76ers      112.221338  12.349645  207.5          415\n",
      "1610612742 Dallas Mavericks        111.955982  12.399883  199.0          398\n",
      "1610612758 Sacramento Kings        113.760321  12.404773  186.5          373\n",
      "1610612737 Atlanta Hawks           114.082051  12.425118  195.0          390\n",
      "1610612744 Golden State Warriors   113.553368  12.502250  207.5          415\n",
      "1610612738 Boston Celtics          112.827172  12.507385  219.5          439\n",
      "1610612763 Memphis Grizzlies       113.219401  12.564816  196.5          393\n",
      "1610612752 New York Knicks         107.797772  12.572913  187.5          375\n",
      "1610612749 Milwaukee Bucks         116.435716  12.726194  217.0          434\n",
      "1610612757 Portland Trail Blazers  112.676168  12.730539  197.5          395\n"
     ]
    }
   ],
   "source": [
    "# mean, standard deviation of scores for each team\n",
    "score_stats_home = games_recent_5yrs.groupby(['team_id_home','team_name_home'])['pts_home'].agg(['mean', 'std', 'count'])\n",
    "score_stats_away = games_recent_5yrs.groupby(['team_id_away','team_name_away'])['pts_away'].agg(['mean', 'std', 'count'])\n",
    "\n",
    "score_stats_home.index.names = ['team_id', 'team_name']\n",
    "score_stats_away.index.names = ['team_id', 'team_name']\n",
    "\n",
    "combined_stats = pd.concat([score_stats_home, score_stats_away])\n",
    "score_stats_all = combined_stats.groupby(['team_id', 'team_name']).mean()\n",
    "score_stats_all['total_games'] = combined_stats.groupby(['team_id', 'team_name'])['count'].sum()\n",
    "score_stats_all = score_stats_all[score_stats_all['total_games'] >= 100]\n",
    "\n",
    "\n",
    "# teams with highest average\n",
    "print(\"Teams with highest average scores:\")\n",
    "print(score_stats_all.sort_values(by='mean', ascending=False).head(25))\n"
   ]
  },
  {
   "cell_type": "code",
   "execution_count": 9,
   "metadata": {},
   "outputs": [
    {
     "name": "stdout",
     "output_type": "stream",
     "text": [
      "Most consistent scoring teams (lowest standard deviation):\n",
      "                                         mean        std  count  total_games\n",
      "team_id    team_name                                                        \n",
      "1610612762 Utah Jazz               114.124126  11.353901  196.5          393\n",
      "1610612739 Cleveland Cavaliers     107.244895  11.354891  182.0          364\n",
      "1610612740 New Orleans Pelicans    113.429579  11.357125  184.5          369\n",
      "1610612756 Phoenix Suns            113.174049  11.591735  205.5          411\n",
      "1610612748 Miami Heat              108.997146  11.596273  217.5          435\n",
      "1610612761 Toronto Raptors         111.561036  11.654833  203.0          406\n",
      "1610612743 Denver Nuggets          112.986301  11.774490  219.0          438\n",
      "1610612753 Orlando Magic           107.049138  11.822853  189.0          378\n",
      "1610612750 Minnesota Timberwolves  114.046378  11.995903  184.0          368\n",
      "1610612765 Detroit Pistons         106.855801  11.997323  183.0          366\n",
      "1610612747 Los Angeles Lakers      112.260372  12.087893  205.5          411\n",
      "1610612754 Indiana Pacers          112.094221  12.227816  186.5          373\n",
      "1610612741 Chicago Bulls           110.506483  12.244804  181.5          363\n",
      "1610612751 Brooklyn Nets           113.466575  12.269783  195.5          391\n",
      "1610612759 San Antonio Spurs       112.309702  12.284833  185.5          371\n",
      "1610612755 Philadelphia 76ers      112.221338  12.349645  207.5          415\n",
      "1610612742 Dallas Mavericks        111.955982  12.399883  199.0          398\n",
      "1610612758 Sacramento Kings        113.760321  12.404773  186.5          373\n",
      "1610612737 Atlanta Hawks           114.082051  12.425118  195.0          390\n",
      "1610612744 Golden State Warriors   113.553368  12.502250  207.5          415\n",
      "1610612738 Boston Celtics          112.827172  12.507385  219.5          439\n",
      "1610612763 Memphis Grizzlies       113.219401  12.564816  196.5          393\n",
      "1610612752 New York Knicks         107.797772  12.572913  187.5          375\n",
      "1610612749 Milwaukee Bucks         116.435716  12.726194  217.0          434\n",
      "1610612757 Portland Trail Blazers  112.676168  12.730539  197.5          395\n"
     ]
    }
   ],
   "source": [
    "# teams with consistent scoring\n",
    "print(\"Most consistent scoring teams (lowest standard deviation):\")\n",
    "print(score_stats_all.sort_values(by='std').head(25))"
   ]
  },
  {
   "cell_type": "markdown",
   "metadata": {},
   "source": [
    "#### Question 2\n",
    "#### Which team has had below average for the most consecutive seasons?"
   ]
  },
  {
   "cell_type": "code",
   "execution_count": 10,
   "metadata": {},
   "outputs": [
    {
     "name": "stdout",
     "output_type": "stream",
     "text": [
      "    season_id     team_id       team_name      points  league_avg  \\\n",
      "60      12022       15019  Adelaide 36ers  116.000000  111.924325   \n",
      "0       12020  1610612737   Atlanta Hawks  112.750000  111.924325   \n",
      "30      12021  1610612737   Atlanta Hawks  103.250000  111.924325   \n",
      "61      12022  1610612737   Atlanta Hawks  112.750000  111.924325   \n",
      "92      22018  1610612737   Atlanta Hawks  116.391304  111.924325   \n",
      "122     22019  1610612737   Atlanta Hawks  111.761194  111.924325   \n",
      "152     22020  1610612737   Atlanta Hawks  113.694444  111.924325   \n",
      "182     22021  1610612737   Atlanta Hawks  113.939024  111.924325   \n",
      "212     22022  1610612737   Atlanta Hawks  118.426829  111.924325   \n",
      "274     42020  1610612737   Atlanta Hawks  106.277778  111.924325   \n",
      "\n",
      "     below_average  \n",
      "60           False  \n",
      "0            False  \n",
      "30            True  \n",
      "61           False  \n",
      "92           False  \n",
      "122           True  \n",
      "152          False  \n",
      "182          False  \n",
      "212          False  \n",
      "274           True  \n",
      "Teams with most consecutive below-average seasons:\n",
      "team_name\n",
      "Orlando Magic          9\n",
      "Detroit Pistons        9\n",
      "Miami Heat             7\n",
      "Cleveland Cavaliers    7\n",
      "Charlotte Hornets      5\n",
      "Houston Rockets        5\n",
      "San Antonio Spurs      4\n",
      "Chicago Bulls          4\n",
      "New York Knicks        4\n",
      "Los Angeles Lakers     4\n",
      "Name: below_average, dtype: int64\n",
      "Teams with least consecutive below-average seasons:\n",
      "team_name\n",
      "Adelaide 36ers               0\n",
      "Ra'anana Maccabi Ra'anana    1\n",
      "Golden State Warriors        1\n",
      "New Orleans Pelicans         1\n",
      "Sacramento Kings             1\n",
      "Utah Jazz                    2\n",
      "Boston Celtics               2\n",
      "Brooklyn Nets                2\n",
      "Dallas Mavericks             2\n",
      "Phoenix Suns                 2\n",
      "Name: below_average, dtype: int64\n"
     ]
    }
   ],
   "source": [
    "# average points per season\n",
    "season_avg = pd.concat([games_recent_5yrs['pts_home'], games_recent_5yrs['pts_away']]).mean()\n",
    "\n",
    "home_games = games_recent_5yrs[['season_id', 'team_id_home', 'team_name_home', 'pts_home']].rename(columns={\n",
    "    'team_id_home': 'team_id',\n",
    "    'team_name_home': 'team_name',\n",
    "    'pts_home': 'points'\n",
    "})\n",
    "away_games = games_recent_5yrs[['season_id', 'team_id_away', 'team_name_away', 'pts_away']].rename(columns={\n",
    "    'team_id_away': 'team_id',\n",
    "    'team_name_away': 'team_name',\n",
    "    'pts_away': 'points'\n",
    "})\n",
    "all_games = pd.concat([home_games, away_games])\n",
    "\n"
   ]
  },
  {
   "cell_type": "code",
   "execution_count": 13,
   "metadata": {},
   "outputs": [
    {
     "name": "stdout",
     "output_type": "stream",
     "text": [
      "    season_id     team_id       team_name      points  league_avg  \\\n",
      "60      12022       15019  Adelaide 36ers  116.000000  111.924325   \n",
      "0       12020  1610612737   Atlanta Hawks  112.750000  111.924325   \n",
      "30      12021  1610612737   Atlanta Hawks  103.250000  111.924325   \n",
      "61      12022  1610612737   Atlanta Hawks  112.750000  111.924325   \n",
      "92      22018  1610612737   Atlanta Hawks  116.391304  111.924325   \n",
      "122     22019  1610612737   Atlanta Hawks  111.761194  111.924325   \n",
      "152     22020  1610612737   Atlanta Hawks  113.694444  111.924325   \n",
      "182     22021  1610612737   Atlanta Hawks  113.939024  111.924325   \n",
      "212     22022  1610612737   Atlanta Hawks  118.426829  111.924325   \n",
      "274     42020  1610612737   Atlanta Hawks  106.277778  111.924325   \n",
      "\n",
      "     below_average  \n",
      "60           False  \n",
      "0            False  \n",
      "30            True  \n",
      "61           False  \n",
      "92           False  \n",
      "122           True  \n",
      "152          False  \n",
      "182          False  \n",
      "212          False  \n",
      "274           True  \n"
     ]
    }
   ],
   "source": [
    "# average points per team per season\n",
    "team_season_avg = all_games.groupby(['season_id', 'team_id', 'team_name'])['points'].mean().reset_index()\n",
    "\n",
    "# below average seasons\n",
    "team_season_avg['league_avg'] = season_avg\n",
    "team_season_avg['below_average'] = team_season_avg['points'] < team_season_avg['league_avg']\n",
    "team_season_avg = team_season_avg.sort_values(['team_id', 'season_id'])\n",
    "print(team_season_avg.head(10))"
   ]
  },
  {
   "cell_type": "markdown",
   "metadata": {},
   "source": [
    "#### Question 3 \n",
    "#### Which team has consistently made it to the playoffs?"
   ]
  },
  {
   "cell_type": "code",
   "execution_count": 14,
   "metadata": {},
   "outputs": [
    {
     "name": "stdout",
     "output_type": "stream",
     "text": [
      "Teams with most consecutive below-average seasons:\n",
      "team_name\n",
      "Orlando Magic          9\n",
      "Detroit Pistons        9\n",
      "Miami Heat             7\n",
      "Cleveland Cavaliers    7\n",
      "Charlotte Hornets      5\n",
      "Houston Rockets        5\n",
      "San Antonio Spurs      4\n",
      "Chicago Bulls          4\n",
      "New York Knicks        4\n",
      "Los Angeles Lakers     4\n",
      "Name: below_average, dtype: int64\n",
      "Teams with least consecutive below-average seasons:\n",
      "team_name\n",
      "Adelaide 36ers               0\n",
      "Ra'anana Maccabi Ra'anana    1\n",
      "Golden State Warriors        1\n",
      "New Orleans Pelicans         1\n",
      "Sacramento Kings             1\n",
      "Utah Jazz                    2\n",
      "Boston Celtics               2\n",
      "Brooklyn Nets                2\n",
      "Dallas Mavericks             2\n",
      "Phoenix Suns                 2\n",
      "Name: below_average, dtype: int64\n"
     ]
    }
   ],
   "source": [
    "\n",
    "# consecutive streaks\n",
    "def consecutive_streak(group):\n",
    "   current_streak = 0\n",
    "   max_streak = 0\n",
    "   \n",
    "   for below_avg in group:\n",
    "       if below_avg:\n",
    "           current_streak += 1\n",
    "           max_streak = max(max_streak, current_streak)\n",
    "       else:\n",
    "           current_streak = 0\n",
    "           \n",
    "   return max_streak\n",
    "\n",
    "team_streaks = team_season_avg.groupby('team_name')['below_average'].apply(consecutive_streak)\n",
    "team_streaks = team_streaks.sort_values(ascending=False)\n",
    "\n",
    "print(\"Teams with most consecutive below-average seasons:\")\n",
    "print(team_streaks.head(10))\n",
    "\n",
    "\n",
    "team_streaks = team_streaks.sort_values(ascending=True)\n",
    "\n",
    "print(\"Teams with least consecutive below-average seasons:\")\n",
    "print(team_streaks.head(10))\n"
   ]
  },
  {
   "cell_type": "code",
   "execution_count": 31,
   "metadata": {},
   "outputs": [
    {
     "name": "stdout",
     "output_type": "stream",
     "text": [
      "\n",
      "Playoff appearances and games (2019-2023):\n",
      "                 team_name  seasons  total_games  success_rate\n",
      "0            Brooklyn Nets        5           29     38.461538\n",
      "1           Denver Nuggets        5           75     38.461538\n",
      "2       Philadelphia 76ers        5           29     38.461538\n",
      "3          Milwaukee Bucks        5            5     38.461538\n",
      "4           Boston Celtics        5            5     38.461538\n",
      "5               Miami Heat        4           31     30.769231\n",
      "6                Utah Jazz        4           68     30.769231\n",
      "7              LA Clippers        4            4     30.769231\n",
      "8        Memphis Grizzlies        3           57     23.076923\n",
      "9          Toronto Raptors        3           23     23.076923\n",
      "10  Portland Trail Blazers        3            8     23.076923\n",
      "11            Phoenix Suns        3           43     23.076923\n",
      "12           Atlanta Hawks        3           43     23.076923\n",
      "13      Los Angeles Lakers        3           23     23.076923\n",
      "14   Golden State Warriors        3           66     23.076923\n",
      "15        Dallas Mavericks        3           65     23.076923\n",
      "16          Indiana Pacers        2           11     15.384615\n",
      "17         Houston Rockets        2            6     15.384615\n",
      "18  Minnesota Timberwolves        2           16     15.384615\n",
      "19         New York Knicks        2           12     15.384615\n",
      "20   Oklahoma City Thunder        2           10     15.384615\n",
      "21           Orlando Magic        2           51     15.384615\n",
      "22    New Orleans Pelicans        1           46      7.692308\n",
      "23         Detroit Pistons        1           27      7.692308\n",
      "24        Sacramento Kings        1            7      7.692308\n",
      "25       San Antonio Spurs        1            7      7.692308\n",
      "26     Cleveland Cavaliers        1           41      7.692308\n",
      "27           Chicago Bulls        1           29      7.692308\n",
      "28      Washington Wizards        1            5      7.692308\n"
     ]
    }
   ],
   "source": [
    "\n",
    "# playoff games\n",
    "playoff_games = games_recent_5yrs[games_recent_5yrs['season_type']=='Playoffs']\n",
    "\n",
    "# playoff appearances (seasons)\n",
    "playoff_home_seasons = playoff_games[['season_id', 'team_name_home']].rename(\n",
    "   columns={'team_name_home': 'team_name'}).drop_duplicates()\n",
    "playoff_away_seasons = playoff_games[['season_id', 'team_name_away']].rename(\n",
    "   columns={'team_name_away': 'team_name'}).drop_duplicates()\n",
    "all_playoff_seasons = pd.concat([playoff_home_seasons, playoff_away_seasons]).drop_duplicates()\n",
    "playoff_appearances = all_playoff_seasons.groupby('team_name').size().sort_values(ascending=False)\n",
    "\n",
    "# total playoff games (rounds)\n",
    "playoff_home_games = playoff_games[['team_name_home', 'game_id']].rename(\n",
    "   columns={'team_name_home': 'team_name'})\n",
    "playoff_away_games = playoff_games[['team_name_away', 'game_id']].rename(\n",
    "   columns={'team_name_away': 'team_name'})\n",
    "all_playoff_games = pd.concat([playoff_home_games, playoff_away_games])\n",
    "playoff_games_count = all_playoff_games.groupby('team_name').size()\n",
    "\n",
    "# playoff appearances, for both seasons & games\n",
    "playoff_all = pd.DataFrame({\n",
    "    'team_name': playoff_appearances.index,\n",
    "    'seasons': playoff_appearances.values,\n",
    "    'total_games': playoff_games_count.values\n",
    "})\n",
    "    \n",
    "# success rate\n",
    "total_seasons = games_recent_5yrs['season_id'].nunique()\n",
    "playoff_all['success_rate'] = (playoff_all['seasons'] / total_seasons * 100)\n",
    "\n",
    "print(\"\\nPlayoff appearances and games (2019-2023):\")\n",
    "print(playoff_all[['team_name', 'seasons', 'total_games', 'success_rate']])\n",
    "\n"
   ]
  },
  {
   "cell_type": "markdown",
   "metadata": {},
   "source": [
    "#### Question 4\n",
    "#### Which teams have shown the greatest improvement over the past five years?"
   ]
  },
  {
   "cell_type": "code",
   "execution_count": 26,
   "metadata": {},
   "outputs": [
    {
     "name": "stdout",
     "output_type": "stream",
     "text": [
      "Teams with the greatest improvement over the past five years:\n",
      "            team_name_home  total_improvement\n",
      "19         New York Knicks          14.695726\n",
      "25        Sacramento Kings          12.650000\n",
      "14       Memphis Grizzlies          10.526330\n",
      "0            Atlanta Hawks           9.028261\n",
      "11          Indiana Pacers           8.326020\n",
      "9    Golden State Warriors           7.655134\n",
      "5      Cleveland Cavaliers           7.627350\n",
      "13      Los Angeles Lakers           6.813824\n",
      "20   Oklahoma City Thunder           6.298844\n",
      "21           Orlando Magic           5.524613\n",
      "7           Denver Nuggets           5.377463\n",
      "4            Chicago Bulls           5.149422\n",
      "1           Boston Celtics           4.875494\n",
      "28               Utah Jazz           4.740310\n",
      "22      Philadelphia 76ers           4.458629\n",
      "6         Dallas Mavericks           4.343460\n",
      "3        Charlotte Hornets           4.276423\n",
      "17  Minnesota Timberwolves           4.053968\n",
      "12             LA Clippers           2.143659\n",
      "15              Miami Heat           1.816667\n"
     ]
    }
   ],
   "source": [
    "#Question 4: Which teams have shown the greatest improvement over the past five years?\n",
    "# extract year from game_date\n",
    "games_recent_5yrs['game_year'] = pd.to_datetime(games_recent_5yrs['game_date']).dt.year\n",
    "\n",
    "# limit to regular season\n",
    "regular_games = games_recent_5yrs[games_recent_5yrs['season_type']=='Regular Season']\n",
    "\n",
    "# home and away game data \n",
    "reg_home_games = regular_games[['team_name_home', 'game_year', 'pts_home']].rename(\n",
    "    columns={'team_name_home': 'team_name', 'pts_home': 'points'})\n",
    "reg_away_games = regular_games[['team_name_away', 'game_year', 'pts_away']].rename(\n",
    "    columns={'team_name_away': 'team_name', 'pts_away': 'points'})\n",
    "reg_all_games = pd.concat([reg_home_games, reg_away_games])\n",
    "\n",
    "# average points for each team by year\n",
    "team_year_avg = reg_all_games.groupby(['team_name', 'game_year'])['points'].mean().reset_index()\n",
    "\n",
    "# improvement\n",
    "improvement_list = []\n",
    "\n",
    "for team in team_year_avg['team_name'].unique():\n",
    "    team_data = team_year_avg[team_year_avg['team_name'] == team].sort_values('game_year')\n",
    "    \n",
    "    total_improvement = team_data['points'].diff().sum() \n",
    "    \n",
    "    improvement_list.append({\n",
    "        'team_name_home': team, \n",
    "        'total_improvement': total_improvement\n",
    "    })\n",
    "\n",
    "team_improvement = pd.DataFrame(improvement_list)\n",
    "team_improvement = team_improvement.sort_values(by='total_improvement', ascending=False)\n",
    "\n",
    "print(\"Teams with the greatest improvement over the past five years:\")\n",
    "print(team_improvement.head(20))\n"
   ]
  },
  {
   "cell_type": "markdown",
   "metadata": {},
   "source": [
    "#### Question 5\n",
    "#### Which teams have demonstrated the best defensive metrics (e.g., blocks and steals), and how has this impacted their winning consistency?"
   ]
  },
  {
   "cell_type": "markdown",
   "metadata": {},
   "source": [
    "#### Rising Action\n",
    "\n",
    "Our analysis uncovered compelling defensive patterns across NBA teams. The Memphis Grizzlies demonstrated exceptional defensive metrics, leading with 5.62 blocks and 8.65 steals per game, while the Toronto Raptors excelled specifically in steals with 8.91 per game. These metrics stand out historically, but they raise critical investment questions.\n",
    "\n",
    "To truly understand the investment potential, we needed to look beyond raw defensive statistics. How well do these defensive metrics translate to actual team success? Are teams with elite defensive numbers consistently outperforming the market? By examining the correlation between defensive prowess and winning percentage, we aim to identify teams that combine defensive excellence with proven success - a potential indicator of sustainable long-term value."
   ]
  },
  {
   "cell_type": "code",
   "execution_count": 1,
   "metadata": {},
   "outputs": [
    {
     "name": "stdout",
     "output_type": "stream",
     "text": [
      "Teams with the best defensive metrics:\n",
      "                 team_name  avg_blocks  avg_steals  win_rate  defense_rating\n",
      "14       Memphis Grizzlies    5.619718    8.653521  0.546479       14.273239\n",
      "27         Toronto Raptors    5.036932    8.914773  0.568182       13.951705\n",
      "17  Minnesota Timberwolves    5.397101    8.423188  0.431884       13.820290\n",
      "22      Philadelphia 76ers    5.336158    8.050847  0.635593       13.387006\n",
      "11          Indiana Pacers    5.576271    7.731638  0.457627       13.307910\n",
      "1           Boston Celtics    5.485876    7.502825  0.621469       12.988701\n",
      "13      Los Angeles Lakers    5.355114    7.508523  0.528409       12.863636\n",
      "9    Golden State Warriors    4.713043    8.043478  0.530435       12.756522\n",
      "10         Houston Rockets    4.810734    7.892655  0.381356       12.703390\n",
      "23            Phoenix Suns    4.628895    7.824363  0.577904       12.453258\n"
     ]
    }
   ],
   "source": [
    "import pandas as pd\n",
    "import sqlite3 \n",
    "con = sqlite3.connect(\"data/nba.sqlite\")\n",
    "games_recent_5yrs = pd.read_sql_query(\"\"\"\n",
    "\tSELECT * FROM game \n",
    "\tWHERE season_type NOT IN ('All Star', 'All-Star') \n",
    "\tAND game_date BETWEEN '2019-01-01 00:00:00' AND '2023-12-31 23:59:59'\n",
    "    ORDER BY game_date DESC\n",
    "\"\"\", con)\n",
    "\n",
    "regular_games = games_recent_5yrs[games_recent_5yrs['season_type']=='Regular Season']\n",
    "\n",
    "# home games stats\n",
    "home_defense = regular_games[['team_name_home', 'blk_home', 'stl_home', 'wl_home']].rename(\n",
    "   columns={'team_name_home': 'team_name', \n",
    "           'blk_home': 'blocks',\n",
    "           'stl_home': 'steals',\n",
    "           'wl_home': 'win_loss'})\n",
    "\n",
    "# away games stats\n",
    "away_defense = regular_games[['team_name_away', 'blk_away', 'stl_away', 'wl_away']].rename(\n",
    "   columns={'team_name_away': 'team_name',\n",
    "           'blk_away': 'blocks', \n",
    "           'stl_away': 'steals',\n",
    "           'wl_away': 'win_loss'})\n",
    "\n",
    "# defense metrics\n",
    "all_defense = pd.concat([home_defense, away_defense])\n",
    "defense_stats = all_defense.groupby('team_name').agg(\n",
    "    avg_blocks=('blocks', 'mean'),\n",
    "    avg_steals=('steals', 'mean')\n",
    ").reset_index()\n",
    "\n",
    "# win rate \n",
    "wins = all_defense[all_defense['win_loss'] == 'W'].groupby('team_name').size()\n",
    "total_games = all_defense.groupby('team_name').size()\n",
    "win_rates = (wins / total_games).reset_index(name='win_rate')\n",
    "\n",
    "# defense rating\n",
    "defense_analysis = pd.merge(defense_stats, win_rates, on='team_name')\n",
    "defense_analysis['defense_rating'] = defense_analysis['avg_blocks'] + defense_analysis['avg_steals']\n",
    "defense_sorted = defense_analysis.sort_values(\n",
    "   by=['defense_rating', 'win_rate'], \n",
    "   ascending=[False, False]\n",
    ")\n",
    "\n",
    "print(\"Teams with the best defensive metrics:\")\n",
    "print(defense_sorted.head(10))"
   ]
  },
  {
   "cell_type": "markdown",
   "metadata": {},
   "source": [
    "#### Climax\n",
    "\n",
    "The data reveals a compelling investment story through defensive metrics and winning consistency. The Milwaukee Bucks emerge as the top performer with a league-leading 69.1% win rate while maintaining solid defensive numbers (5.0 blocks, 7.4 steals). Following closely, the Philadelphia 76ers demonstrate exceptional defensive capabilities with 5.3 blocks and 8.1 steals, translating to a 63.6% win rate. The Denver Nuggets and Boston Celtics round out the top tier, each converting strong defensive metrics into win rates above 62%.\n",
    "Particularly noteworthy is that while teams like the Toronto Raptors show superior defensive statistics (ranking highest in total defense rating at 13.95), their lower win rate (56.8%) suggests challenges in converting defensive excellence into consistent victories.\n",
    "\n",
    "This pattern indicates that for investment purposes, teams successfully balancing defensive capabilities with winning consistency, like the Bucks and 76ers, represent more stable investment opportunities.\n"
   ]
  },
  {
   "cell_type": "code",
   "execution_count": 3,
   "metadata": {},
   "outputs": [
    {
     "name": "stdout",
     "output_type": "stream",
     "text": [
      "Teams with the best defensive metrics and their winning consistency:\n",
      "             team_name  avg_blocks  avg_steals  win_rate  defense_rating\n",
      "16     Milwaukee Bucks    4.957865    7.359551  0.691011       12.317416\n",
      "22  Philadelphia 76ers    5.336158    8.050847  0.635593       13.387006\n",
      "7       Denver Nuggets    4.296919    7.627451  0.630252       11.924370\n",
      "1       Boston Celtics    5.485876    7.502825  0.621469       12.988701\n",
      "28           Utah Jazz    5.056657    6.603399  0.606232       11.660057\n",
      "12         LA Clippers    4.564972    7.211864  0.590395       11.776836\n",
      "23        Phoenix Suns    4.628895    7.824363  0.577904       12.453258\n",
      "15          Miami Heat    3.823034    7.676966  0.570225       11.500000\n",
      "27     Toronto Raptors    5.036932    8.914773  0.568182       13.951705\n",
      "2        Brooklyn Nets    5.235795    6.821023  0.559659       12.056818\n"
     ]
    }
   ],
   "source": [
    "defense_sorted = defense_analysis.sort_values(\n",
    "   by=['win_rate', 'defense_rating'], \n",
    "   ascending=[False, False]\n",
    ")\n",
    "\n",
    "print(\"Teams with the best defensive metrics and their winning consistency:\")\n",
    "print(defense_sorted.head(10))"
   ]
  },
  {
   "cell_type": "code",
   "execution_count": 6,
   "metadata": {},
   "outputs": [
    {
     "data": {
      "text/plain": [
       "Text(0.5, 1.0, 'Relationship Between Defensive Performance and Win Rate')"
      ]
     },
     "execution_count": 6,
     "metadata": {},
     "output_type": "execute_result"
    },
    {
     "data": {
      "image/png": "[encoded data removed]",
      "text/plain": [
       "<Figure size 1000x600 with 1 Axes>"
      ]
     },
     "metadata": {},
     "output_type": "display_data"
    }
   ],
   "source": [
    "import matplotlib.pyplot as plt\n",
    "\n",
    "plt.figure(figsize=(10, 6))\n",
    "plt.scatter(defense_sorted['defense_rating'], \n",
    "           defense_sorted['win_rate'], \n",
    "           alpha=0.6)\n",
    "\n",
    "for idx, row in defense_sorted.head(6).iterrows():\n",
    "    plt.annotate(row['team_name'], \n",
    "                (row['defense_rating'], row['win_rate']))\n",
    "\n",
    "plt.xlabel('Defense Rating (Blocks + Steals)')\n",
    "plt.ylabel('Win Rate')\n",
    "plt.title('Relationship Between Defensive Performance and Win Rate')\n",
    "\n"
   ]
  },
  {
   "cell_type": "markdown",
   "metadata": {},
   "source": [
    "#### Climax\n",
    "\n",
    "Analysis reveals surprisingly weak correlations between defensive metrics and winning performance, with blocks (0.223), steals (0.061), and overall defense rating (0.167) showing minimal correlation with win rates. The scatter plots visualize this disconnect clearly - teams with high defensive ratings frequently fail to achieve corresponding win rates.\n",
    "These findings challenge conventional wisdom about defensive metrics as team performance indicators. For instance, while the Toronto Raptors excel in defensive statistics, their lower win rate demonstrates that defensive prowess alone doesn't guarantee success. The scattered distribution across all metrics suggests investors need a more comprehensive evaluation framework beyond defensive capabilities to assess team potential.\n"
   ]
  },
  {
   "cell_type": "code",
   "execution_count": 7,
   "metadata": {},
   "outputs": [
    {
     "name": "stdout",
     "output_type": "stream",
     "text": [
      "\n",
      "Correlation with win rate:\n",
      "Blocks: 0.223\n",
      "Steals: 0.061\n",
      "Defense Rating: 0.167\n"
     ]
    },
    {
     "data": {
      "image/png": "[encoded data removed]",
      "text/plain": [
       "<Figure size 1500x500 with 3 Axes>"
      ]
     },
     "metadata": {},
     "output_type": "display_data"
    }
   ],
   "source": [
    "# Calculate correlations\n",
    "correlations = defense_analysis[['avg_blocks', 'avg_steals', 'defense_rating', 'win_rate']].corr()\n",
    "\n",
    "print(\"\\nCorrelation with win rate:\")\n",
    "print(\"Blocks:\", correlations.loc['avg_blocks', 'win_rate'].round(3))\n",
    "print(\"Steals:\", correlations.loc['avg_steals', 'win_rate'].round(3))\n",
    "print(\"Defense Rating:\", correlations.loc['defense_rating', 'win_rate'].round(3))\n",
    "\n",
    "# Create scatter plots to visualize relationships\n",
    "import matplotlib.pyplot as plt\n",
    "\n",
    "fig, axes = plt.subplots(1, 3, figsize=(15, 5))\n",
    "\n",
    "axes[0].scatter(defense_analysis['avg_blocks'], defense_analysis['win_rate'])\n",
    "axes[0].set_title('Blocks vs Win Rate')\n",
    "axes[0].set_xlabel('Average Blocks')\n",
    "axes[0].set_ylabel('Win Rate')\n",
    "\n",
    "axes[1].scatter(defense_analysis['avg_steals'], defense_analysis['win_rate'])\n",
    "axes[1].set_title('Steals vs Win Rate')\n",
    "axes[1].set_xlabel('Average Steals')\n",
    "axes[1].set_ylabel('Win Rate')\n",
    "\n",
    "axes[2].scatter(defense_analysis['defense_rating'], defense_analysis['win_rate'])\n",
    "axes[2].set_title('Defense Rating vs Win Rate')\n",
    "axes[2].set_xlabel('Defense Rating')\n",
    "axes[2].set_ylabel('Win Rate')\n",
    "\n",
    "plt.tight_layout()\n",
    "plt.show()\n"
   ]
  },
  {
   "cell_type": "markdown",
   "metadata": {},
   "source": [
    "#### Falling action\n",
    "\n",
    "The disconnect between defensive metrics and win rates has significant market implications. \bValuation heavily weighing defensive statistics may be overvaluing certain teams while missing other investment opportunities. This misalignment creates potential market inefficiencies, particularly in teams like the Milwaukee Bucks and Philadelphia 76ers, who demonstrate success beyond pure defensive excellence. Moreover, teams focusing solely on defensive improvement might be misallocating resources, suggesting a need for a more balanced approach to team development and valuation.\n"
   ]
  },
  {
   "cell_type": "markdown",
   "metadata": {},
   "source": [
    "#### Resolution\n",
    "\n",
    "Based on our analysis, we identify three distinct investment categories:\n",
    "\n",
    "1. Premium Investments (Milwaukee Bucks, Philadelphia 76ers):\n",
    " - Balance of defensive capability and winning consistency\n",
    " - Proven ability to convert defensive skills into victories\n",
    " - Most stable investment prospects\n",
    "2. Value Opportunities (Denver Nuggets, Boston Celtics):\n",
    " - Strong overall performance metrics\n",
    " - Effective translation of defensive capabilities into wins\n",
    "3. Cautionary Investments (Toronto Raptors, Memphis Grizzlies):\n",
    " - Superior defensive statistics but lower win rates\n",
    " - Need for additional performance factors beyond defense\n",
    " - Higher risk profile despite strong defensive metrics\n",
    "\n",
    "The Milwaukee Bucks and Philadelphia 76ers stand out as particularly attractive investments, demonstrating the crucial balance between defensive capabilities and consistent winning performance.\n"
   ]
  },
  {
   "cell_type": "code",
   "execution_count": null,
   "metadata": {},
   "outputs": [],
   "source": []
  }
 ],
 "metadata": {
  "kernelspec": {
   "display_name": "Python 3 (ipykernel)",
   "language": "python",
   "name": "python3"
  },
  "language_info": {
   "codemirror_mode": {
    "name": "ipython",
    "version": 3
   },
   "file_extension": ".py",
   "mimetype": "text/x-python",
   "name": "python",
   "nbconvert_exporter": "python",
   "pygments_lexer": "ipython3",
   "version": "3.12.4"
  }
 },
 "nbformat": 4,
 "nbformat_minor": 4
}
