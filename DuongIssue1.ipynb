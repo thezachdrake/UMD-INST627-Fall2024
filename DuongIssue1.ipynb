{
 "cells": [
  {
   "cell_type": "code",
   "execution_count": 5,
   "id": "94ba7584-1c70-4155-9b60-f9c54bd7509e",
   "metadata": {},
   "outputs": [
    {
     "name": "stdout",
     "output_type": "stream",
     "text": [
      "Index(['DR_NO', 'Date_Reported', 'Date_occured', 'Time_occured', 'Area',\n",
      "       'Crime_Code', 'Victim_age', 'Victim_sex', 'Victim_descent', 'Premis',\n",
      "       'Weapon', 'Status', 'LOCATION', 'LAT', 'LON'],\n",
      "      dtype='object')\n",
      "            DR_NO           Date_Reported            Date_occured  \\\n",
      "180630  200404007           01/01/20 0:00           01/01/20 0:00   \n",
      "672     220506283           03/01/22 0:00           01/01/20 0:00   \n",
      "158952  202104036           01/02/20 0:00           01/01/20 0:00   \n",
      "157099  201804063           01/02/20 0:00           01/01/20 0:00   \n",
      "39376   201104064           01/02/20 0:00           01/01/20 0:00   \n",
      "...           ...                     ...                     ...   \n",
      "679356  242104034           01/01/24 0:00  12/31/2023 12:00:00 AM   \n",
      "737205  240204276           01/05/24 0:00  12/31/2023 12:00:00 AM   \n",
      "810649  241904043           01/02/24 0:00  12/31/2023 12:00:00 AM   \n",
      "721704  230719099  12/31/2023 12:00:00 AM  12/31/2023 12:00:00 AM   \n",
      "832216  241904013           01/01/24 0:00  12/31/2023 12:00:00 AM   \n",
      "\n",
      "        Time_occured        Area        Crime_Code  Victim_age Victim_sex  \\\n",
      "180630           652  Hollenbeck  VEHICLE - STOLEN           0        NaN   \n",
      "672             1200      Harbor  VEHICLE - STOLEN           0        NaN   \n",
      "158952          2100     Topanga  VEHICLE - STOLEN           0        NaN   \n",
      "157099          1700   Southeast  VEHICLE - STOLEN           0        NaN   \n",
      "39376            800   Northeast  VEHICLE - STOLEN           0        NaN   \n",
      "...              ...         ...               ...         ...        ...   \n",
      "679356             1     Topanga  VEHICLE - STOLEN           0        NaN   \n",
      "737205          2300     Rampart  VEHICLE - STOLEN           0        NaN   \n",
      "810649          1700     Mission  VEHICLE - STOLEN           0        NaN   \n",
      "721704          1930    Wilshire  VEHICLE - STOLEN           0        NaN   \n",
      "832216          1500     Mission  VEHICLE - STOLEN           0        NaN   \n",
      "\n",
      "       Victim_descent       Premis Weapon        Status  \\\n",
      "180630            NaN     DRIVEWAY    NaN   Invest Cont   \n",
      "672               NaN       STREET    NaN   Invest Cont   \n",
      "158952            NaN       STREET    NaN   Invest Cont   \n",
      "157099            NaN       STREET    NaN   Invest Cont   \n",
      "39376             NaN       STREET    NaN  Adult Arrest   \n",
      "...               ...          ...    ...           ...   \n",
      "679356            NaN  PARKING LOT    NaN   Invest Cont   \n",
      "737205            NaN       STREET    NaN   Invest Cont   \n",
      "810649            NaN       STREET    NaN   Invest Cont   \n",
      "721704            NaN       STREET    NaN   Invest Cont   \n",
      "832216            NaN       STREET    NaN   Invest Cont   \n",
      "\n",
      "                                        LOCATION      LAT       LON  \n",
      "180630   5000    TEMPLETON                    ST  34.0852 -118.1739  \n",
      "672      1500 W  220TH                        ST  33.8280 -118.3038  \n",
      "158952   8400    REMMET                       AV  34.2232 -118.6013  \n",
      "157099   1100 E  103RD                        ST  33.9433 -118.2565  \n",
      "39376                           100 S  AVENUE 64  34.1137 -118.1819  \n",
      "...                                          ...      ...       ...  \n",
      "679356           ROSCOE                       BL  34.2202 -118.5710  \n",
      "737205           BELLEVUE                     AV  34.0706 -118.2615  \n",
      "810649                                     NOBLE  34.2318 -118.4611  \n",
      "721704    400 N  LA BREA                      AV  34.0782 -118.3463  \n",
      "832216  13100    AZTEC                        ST  34.3201 -118.4182  \n",
      "\n",
      "[109088 rows x 15 columns]\n"
     ]
    }
   ],
   "source": [
    "import pandas as pd\n",
    "\n",
    "# Load the dataset\n",
    "file_path = 'Crime_Data_from_2020_to_Present.csv'\n",
    "crime_data = pd.read_csv(file_path)\n",
    "\n",
    "# Inspect the columns to identify relevant fields (optional)\n",
    "print(crime_data.columns)\n",
    "\n",
    "# Filter the dataset by the crime \"VEHICLE - STOLEN\"\n",
    "filtered_crime_data = crime_data[crime_data['Crime_Code'] == 'VEHICLE - STOLEN']\n",
    "\n",
    "# Sort the filtered dataset by the \"Date_occured\" field\n",
    "sorted_crime_data = filtered_crime_data.sort_values(by='Date_occured')\n",
    "\n",
    "# Display the sorted data\n",
    "print(sorted_crime_data)\n",
    "\n",
    "# Save the sorted dataset to a new CSV file\n",
    "sorted_crime_data.to_csv('Sorted_Vehicle_Stolen_Crimes.csv', index=False)"
   ]
  },
  {
   "cell_type": "code",
   "execution_count": null,
   "id": "87d3adba-da2d-4a4c-9333-1be3c6897268",
   "metadata": {},
   "outputs": [],
   "source": []
  }
 ],
 "metadata": {
  "kernelspec": {
   "display_name": "Python 3 (ipykernel)",
   "language": "python",
   "name": "python3"
  },
  "language_info": {
   "codemirror_mode": {
    "name": "ipython",
    "version": 3
   },
   "file_extension": ".py",
   "mimetype": "text/x-python",
   "name": "python",
   "nbconvert_exporter": "python",
   "pygments_lexer": "ipython3",
   "version": "3.12.5"
  }
 },
 "nbformat": 4,
 "nbformat_minor": 5
}
