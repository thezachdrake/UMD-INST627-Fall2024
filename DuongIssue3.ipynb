{
 "cells": [
  {
   "cell_type": "code",
   "execution_count": null,
   "id": "780cd7b6-d2b0-481e-9eb6-0c05b2687384",
   "metadata": {},
   "outputs": [],
   "source": [
    "import pandas as pd\n",
    "import sqlite3\n",
    "\n",
    "# Create a connection to the SQLite database\n",
    "con = sqlite3.connect(\"data/nba.sqlite\")\n",
    "games = pd.read_sql_query(\"SELECT * FROM game LIMIT 100\", con)\n",
    "active_players = pd.read_sql_query(\"SELECT full_name FROM player WHERE is_active=TRUE\", con)\n",
    "\n",
    "# Query to get distinct seasons from the game table\n",
    "seasons = pd.read_sql_query(\"SELECT DISTINCT season FROM game ORDER BY season DESC\", con)\n",
    "most_recent_season = seasons.iloc[0]['season']\n",
    "print(\"Most Recent Season:\", most_recent_season)\n",
    "\n",
    "# Replace 'Los Angeles Lakers' with the team's abbreviation\n",
    "team_abbreviation = 'LAL'\n",
    "\n",
    "# Query to get the scores for the selected team in the most recent season\n",
    "team_games = pd.read_sql_query(f\"\"\"\n",
    "    SELECT \n",
    "        home_team, \n",
    "        away_team, \n",
    "        home_score, \n",
    "        away_score \n",
    "    FROM \n",
    "        game \n",
    "    WHERE \n",
    "        (home_team = '{team_abbreviation}' OR away_team = '{team_abbreviation}') \n",
    "        AND season = '{most_recent_season}'\n",
    "\"\"\", con)\n",
    "\n",
    "# Calculate average scores\n",
    "home_games = team_games[team_games['home_team'] == team_abbreviation]\n",
    "away_games = team_games[team_games['away_team'] == team_abbreviation]\n",
    "\n",
    "average_home_score = home_games['home_score'].mean()\n",
    "average_away_score = away_games['away_score'].mean()\n",
    "\n",
    "print(f\"Average Home Score for {team_abbreviation} in {most_recent_season}: {average_home_score}\")\n",
    "print(f\"Average Away Score for {team_abbreviation} in {most_recent_season}: {average_away_score}\")\n",
    "\n",
    "# Close the connection\n",
    "con.close()"
   ]
  }
 ],
 "metadata": {
  "kernelspec": {
   "display_name": "Python 3 (ipykernel)",
   "language": "python",
   "name": "python3"
  },
  "language_info": {
   "codemirror_mode": {
    "name": "ipython",
    "version": 3
   },
   "file_extension": ".py",
   "mimetype": "text/x-python",
   "name": "python",
   "nbconvert_exporter": "python",
   "pygments_lexer": "ipython3",
   "version": "3.12.5"
  }
 },
 "nbformat": 4,
 "nbformat_minor": 5
}
