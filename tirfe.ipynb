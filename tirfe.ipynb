{
 "cells": [
  {
   "cell_type": "markdown",
   "metadata": {},
   "source": [
    "## Business Objective: What was the impact of the COVID-19 pandemic on the level of home court advantage?\n",
    "- Question 1: How has the difference in win-loss ratio between home and away teams changed from the 2019-20 season to the 2022-23 season? (wl_home and wl_away columns in game table)\n",
    "- Question 2: How has the difference in average points scored between home and away teams changed from the 2019-20 season to the 2022-23 season? (pts_home and pts_away columns in game table)\n",
    "- Question 3: How has the difference in offensive and defensive rebounds between home and away teams changed from 2019-20 to 2022-23?(oreb_home, oreb_away, dreb_home, dreb_away in the game table)\n",
    "- Question 4: How does the average number of three-point field goals made by home teams compare to that of away teams from the 2019-20 season to the 2022-23 season? (fg3_pct_home and fg3_pct_away columns in game table)\n",
    "- Question 5: How does the free throw percentage of home teams compare to that of away teams from the 2019-20 season to the 2022-23 season? (ft_pct_home and ft_pct_away in the game table)"
   ]
  },
  {
   "cell_type": "code",
   "execution_count": 355,
   "metadata": {},
   "outputs": [],
   "source": [
    "import pandas as pd\n",
    "import sqlite3\n",
    "import seaborn as sns\n",
    "import matplotlib.pyplot as plt\n",
    "\n",
    "con = sqlite3.connect(\"data/nba.sqlite\")\n",
    "con_reading = pd.read_sql_query('SELECT * FROM game', con)"
   ]
  },
  {
   "cell_type": "markdown",
   "metadata": {},
   "source": [
    "#### Question 1: How has the difference in win-loss percentage between home and away teams changed from the 2019-20 season to the 2022-23 season? (wl_home and wl_away columns in game table)"
   ]
  },
  {
   "cell_type": "code",
   "execution_count": 348,
   "metadata": {},
   "outputs": [
    {
     "name": "stderr",
     "output_type": "stream",
     "text": [
      "/var/folders/6w/z6p8sp3s2mbf3s362f6y845c0000gn/T/ipykernel_1272/157678092.py:3: FutureWarning: Downcasting behavior in `replace` is deprecated and will be removed in a future version. To retain the old behavior, explicitly call `result.infer_objects(copy=False)`. To opt-in to the future behavior, set `pd.set_option('future.no_silent_downcasting', True)`\n",
      "  covid_wl = covid_wl.replace('L', 0)\n"
     ]
    },
    {
     "data": {
      "text/html": [
       "<div>\n",
       "<style scoped>\n",
       "    .dataframe tbody tr th:only-of-type {\n",
       "        vertical-align: middle;\n",
       "    }\n",
       "\n",
       "    .dataframe tbody tr th {\n",
       "        vertical-align: top;\n",
       "    }\n",
       "\n",
       "    .dataframe thead th {\n",
       "        text-align: right;\n",
       "    }\n",
       "</style>\n",
       "<table border=\"1\" class=\"dataframe\">\n",
       "  <thead>\n",
       "    <tr style=\"text-align: right;\">\n",
       "      <th></th>\n",
       "      <th>Home Winning Percentage</th>\n",
       "      <th>Away Winning Percentage</th>\n",
       "    </tr>\n",
       "  </thead>\n",
       "  <tbody>\n",
       "    <tr>\n",
       "      <th>0</th>\n",
       "      <td>0.618725</td>\n",
       "      <td>0.381244</td>\n",
       "    </tr>\n",
       "  </tbody>\n",
       "</table>\n",
       "</div>"
      ],
      "text/plain": [
       "   Home Winning Percentage  Away Winning Percentage\n",
       "0                 0.618725                 0.381244"
      ]
     },
     "execution_count": 348,
     "metadata": {},
     "output_type": "execute_result"
    }
   ],
   "source": [
    "covid_wl = pd.read_sql_query(\"SELECT wl_home, wl_away, season_id FROM game WHERE season_id\", con)\n",
    "covid_wl = covid_wl.replace('W', 1)\n",
    "covid_wl = covid_wl.replace('L', 0)\n",
    "\n",
    "count_win = 1\n",
    "\n",
    "# calculating the winning percentage of home and away game\n",
    "def winning_percentage(game_column):\n",
    "    game_list = covid_wl[game_column].to_list()\n",
    "    total = len(game_list)\n",
    "    win = game_list.count(count_win)\n",
    "    return win / total\n",
    "\n",
    "# home winning percentage\n",
    "home_game = winning_percentage('wl_home')\n",
    "# away winning percentage\n",
    "away_game = winning_percentage('wl_away')\n",
    "\n",
    "home_away_winning_percentage = {'Home Winning Percentage': [home_game],\n",
    "                            'Away Winning Percentage': [away_game]}\n",
    "home_away_winning_percentage = pd.DataFrame(home_away_winning_percentage)\n",
    "home_away_winning_percentage"
   ]
  },
  {
   "cell_type": "markdown",
   "metadata": {},
   "source": [
    "#### Question 2: How has the difference in average points scored between home and away teams changed from the 2019-20 season to the 2022-23 season? (pts_home and pts_away columns in game table)"
   ]
  },
  {
   "cell_type": "code",
   "execution_count": 349,
   "metadata": {},
   "outputs": [
    {
     "data": {
      "text/html": [
       "<div>\n",
       "<style scoped>\n",
       "    .dataframe tbody tr th:only-of-type {\n",
       "        vertical-align: middle;\n",
       "    }\n",
       "\n",
       "    .dataframe tbody tr th {\n",
       "        vertical-align: top;\n",
       "    }\n",
       "\n",
       "    .dataframe thead th {\n",
       "        text-align: right;\n",
       "    }\n",
       "</style>\n",
       "<table border=\"1\" class=\"dataframe\">\n",
       "  <thead>\n",
       "    <tr style=\"text-align: right;\">\n",
       "      <th></th>\n",
       "      <th>pts_home</th>\n",
       "    </tr>\n",
       "    <tr>\n",
       "      <th>season_id</th>\n",
       "      <th></th>\n",
       "    </tr>\n",
       "  </thead>\n",
       "  <tbody>\n",
       "    <tr>\n",
       "      <th>22019</th>\n",
       "      <td>112.863078</td>\n",
       "    </tr>\n",
       "    <tr>\n",
       "      <th>22020</th>\n",
       "      <td>112.562963</td>\n",
       "    </tr>\n",
       "    <tr>\n",
       "      <th>22021</th>\n",
       "      <td>111.477236</td>\n",
       "    </tr>\n",
       "    <tr>\n",
       "      <th>22022</th>\n",
       "      <td>115.935772</td>\n",
       "    </tr>\n",
       "  </tbody>\n",
       "</table>\n",
       "</div>"
      ],
      "text/plain": [
       "             pts_home\n",
       "season_id            \n",
       "22019      112.863078\n",
       "22020      112.562963\n",
       "22021      111.477236\n",
       "22022      115.935772"
      ]
     },
     "execution_count": 349,
     "metadata": {},
     "output_type": "execute_result"
    }
   ],
   "source": [
    "covid_wl = pd.read_sql_query(\"SELECT pts_home, pts_away, season_id FROM game WHERE season_id IN ('22019', '22020','22021', '22022')\", con)\n",
    "covid_wl = covid_wl.replace('W', 1)\n",
    "covid_wl = covid_wl.replace('L', 0)\n",
    "\n",
    "\n",
    "mean_pts_home = covid_wl.groupby('season_id').agg({\n",
    "    'pts_home': 'mean'\n",
    "})\n",
    "mean_pts_home"
   ]
  },
  {
   "cell_type": "code",
   "execution_count": 350,
   "metadata": {},
   "outputs": [
    {
     "data": {
      "text/html": [
       "<div>\n",
       "<style scoped>\n",
       "    .dataframe tbody tr th:only-of-type {\n",
       "        vertical-align: middle;\n",
       "    }\n",
       "\n",
       "    .dataframe tbody tr th {\n",
       "        vertical-align: top;\n",
       "    }\n",
       "\n",
       "    .dataframe thead th {\n",
       "        text-align: right;\n",
       "    }\n",
       "</style>\n",
       "<table border=\"1\" class=\"dataframe\">\n",
       "  <thead>\n",
       "    <tr style=\"text-align: right;\">\n",
       "      <th></th>\n",
       "      <th>pts_away</th>\n",
       "    </tr>\n",
       "    <tr>\n",
       "      <th>season_id</th>\n",
       "      <th></th>\n",
       "    </tr>\n",
       "  </thead>\n",
       "  <tbody>\n",
       "    <tr>\n",
       "      <th>22019</th>\n",
       "      <td>110.732767</td>\n",
       "    </tr>\n",
       "    <tr>\n",
       "      <th>22020</th>\n",
       "      <td>111.619444</td>\n",
       "    </tr>\n",
       "    <tr>\n",
       "      <th>22021</th>\n",
       "      <td>109.754472</td>\n",
       "    </tr>\n",
       "    <tr>\n",
       "      <th>22022</th>\n",
       "      <td>113.435772</td>\n",
       "    </tr>\n",
       "  </tbody>\n",
       "</table>\n",
       "</div>"
      ],
      "text/plain": [
       "             pts_away\n",
       "season_id            \n",
       "22019      110.732767\n",
       "22020      111.619444\n",
       "22021      109.754472\n",
       "22022      113.435772"
      ]
     },
     "execution_count": 350,
     "metadata": {},
     "output_type": "execute_result"
    }
   ],
   "source": [
    "covid_wl = pd.read_sql_query(\"SELECT pts_home, pts_away, season_id FROM game WHERE season_id IN ('22019', '22020','22021', '22022')\", con)\n",
    "covid_wl = covid_wl.replace('W', 1)\n",
    "covid_wl = covid_wl.replace('L', 0)\n",
    "\n",
    "\n",
    "mean_pts_away = covid_wl.groupby('season_id').agg({\n",
    "    'pts_away': 'mean'\n",
    "})\n",
    "mean_pts_away"
   ]
  },
  {
   "cell_type": "markdown",
   "metadata": {},
   "source": [
    "#### Question 3: How has the difference in offensive and defensive rebounds between home and away teams changed from 2019-20 to 2022-23?(oreb_home, oreb_away, dreb_home, dreb_away in the game table)"
   ]
  },
  {
   "cell_type": "code",
   "execution_count": 351,
   "metadata": {},
   "outputs": [
    {
     "data": {
      "text/html": [
       "<div>\n",
       "<style scoped>\n",
       "    .dataframe tbody tr th:only-of-type {\n",
       "        vertical-align: middle;\n",
       "    }\n",
       "\n",
       "    .dataframe tbody tr th {\n",
       "        vertical-align: top;\n",
       "    }\n",
       "\n",
       "    .dataframe thead th {\n",
       "        text-align: right;\n",
       "    }\n",
       "</style>\n",
       "<table border=\"1\" class=\"dataframe\">\n",
       "  <thead>\n",
       "    <tr style=\"text-align: right;\">\n",
       "      <th></th>\n",
       "      <th>oreb_home</th>\n",
       "      <th>dreb_home</th>\n",
       "      <th>oreb_away</th>\n",
       "      <th>dreb_away</th>\n",
       "    </tr>\n",
       "    <tr>\n",
       "      <th>season_id</th>\n",
       "      <th></th>\n",
       "      <th></th>\n",
       "      <th></th>\n",
       "      <th></th>\n",
       "    </tr>\n",
       "  </thead>\n",
       "  <tbody>\n",
       "    <tr>\n",
       "      <th>22019</th>\n",
       "      <td>10.253069</td>\n",
       "      <td>35.281398</td>\n",
       "      <td>NaN</td>\n",
       "      <td>NaN</td>\n",
       "    </tr>\n",
       "    <tr>\n",
       "      <th>22020</th>\n",
       "      <td>9.888889</td>\n",
       "      <td>34.830556</td>\n",
       "      <td>NaN</td>\n",
       "      <td>NaN</td>\n",
       "    </tr>\n",
       "    <tr>\n",
       "      <th>22021</th>\n",
       "      <td>10.378049</td>\n",
       "      <td>34.377236</td>\n",
       "      <td>NaN</td>\n",
       "      <td>NaN</td>\n",
       "    </tr>\n",
       "    <tr>\n",
       "      <th>22022</th>\n",
       "      <td>10.469106</td>\n",
       "      <td>33.421951</td>\n",
       "      <td>NaN</td>\n",
       "      <td>NaN</td>\n",
       "    </tr>\n",
       "    <tr>\n",
       "      <th>22019</th>\n",
       "      <td>NaN</td>\n",
       "      <td>NaN</td>\n",
       "      <td>9.898017</td>\n",
       "      <td>34.234183</td>\n",
       "    </tr>\n",
       "    <tr>\n",
       "      <th>22020</th>\n",
       "      <td>NaN</td>\n",
       "      <td>NaN</td>\n",
       "      <td>9.770370</td>\n",
       "      <td>34.108333</td>\n",
       "    </tr>\n",
       "    <tr>\n",
       "      <th>22021</th>\n",
       "      <td>NaN</td>\n",
       "      <td>NaN</td>\n",
       "      <td>10.290244</td>\n",
       "      <td>33.854472</td>\n",
       "    </tr>\n",
       "    <tr>\n",
       "      <th>22022</th>\n",
       "      <td>NaN</td>\n",
       "      <td>NaN</td>\n",
       "      <td>10.400000</td>\n",
       "      <td>32.585366</td>\n",
       "    </tr>\n",
       "  </tbody>\n",
       "</table>\n",
       "</div>"
      ],
      "text/plain": [
       "           oreb_home  dreb_home  oreb_away  dreb_away\n",
       "season_id                                            \n",
       "22019      10.253069  35.281398        NaN        NaN\n",
       "22020       9.888889  34.830556        NaN        NaN\n",
       "22021      10.378049  34.377236        NaN        NaN\n",
       "22022      10.469106  33.421951        NaN        NaN\n",
       "22019            NaN        NaN   9.898017  34.234183\n",
       "22020            NaN        NaN   9.770370  34.108333\n",
       "22021            NaN        NaN  10.290244  33.854472\n",
       "22022            NaN        NaN  10.400000  32.585366"
      ]
     },
     "execution_count": 351,
     "metadata": {},
     "output_type": "execute_result"
    }
   ],
   "source": [
    "covid_wl = pd.read_sql_query(\"SELECT oreb_home, oreb_away, dreb_home, dreb_away, season_id FROM game WHERE season_id IN ('22019', '22020','22021', '22022')\", con)\n",
    "covid_wl = covid_wl.replace('W', 1)\n",
    "covid_wl = covid_wl.replace('L', 0)\n",
    "\n",
    "home_od = covid_wl.groupby('season_id').agg({\n",
    "    'oreb_home': 'mean',\n",
    "    'dreb_home': 'mean'\n",
    "})\n",
    "away_od = covid_wl.groupby('season_id').agg({\n",
    "    'oreb_away': 'mean',\n",
    "    'dreb_away': 'mean'\n",
    "})\n",
    "\n",
    "\n",
    "\n",
    "# Combine both DataFrames into one\n",
    "df = pd.concat([home_od, away_od], axis=0)\n",
    "df"
   ]
  },
  {
   "cell_type": "markdown",
   "metadata": {},
   "source": [
    "#### Question 4: How does the average number of three-point field goals made by home teams compare to that of away teams from the 2019-20 season to the 2022-23 season? (fg3_pct_home and fg3_pct_away columns in game table)"
   ]
  },
  {
   "cell_type": "code",
   "execution_count": 352,
   "metadata": {},
   "outputs": [
    {
     "name": "stdout",
     "output_type": "stream",
     "text": [
      "0       0.361\n",
      "1       0.361\n",
      "2       0.361\n",
      "3       0.361\n",
      "4       0.361\n",
      "        ...  \n",
      "4594    0.364\n",
      "4595    0.364\n",
      "4596    0.364\n",
      "4597    0.364\n",
      "4598    0.364\n",
      "Name: season_fg3_home_med, Length: 4599, dtype: float64\n"
     ]
    }
   ],
   "source": [
    "covid_wl = pd.read_sql_query(\"SELECT fg3_pct_home, fg3_pct_away, season_id FROM game WHERE season_id IN ('22019', '22020','22021', '22022')\", con)\n",
    "covid_wl = covid_wl.replace('W', 1)\n",
    "covid_wl = covid_wl.replace('L', 0)\n",
    "\n",
    "covid_wl[\"season_fg3_home_med\"] = covid_wl.groupby(\"season_id\")[\"fg3_pct_home\"].transform(lambda x: x.median())\n",
    "print(covid_wl[\"season_fg3_home_med\"])"
   ]
  },
  {
   "cell_type": "code",
   "execution_count": 353,
   "metadata": {},
   "outputs": [
    {
     "name": "stdout",
     "output_type": "stream",
     "text": [
      "0       0.3540\n",
      "1       0.3540\n",
      "2       0.3540\n",
      "3       0.3540\n",
      "4       0.3540\n",
      "         ...  \n",
      "4594    0.3505\n",
      "4595    0.3505\n",
      "4596    0.3505\n",
      "4597    0.3505\n",
      "4598    0.3505\n",
      "Name: season_fg3_away_med, Length: 4599, dtype: float64\n"
     ]
    }
   ],
   "source": [
    "covid_wl = pd.read_sql_query(\"SELECT fg3_pct_home, fg3_pct_away, season_id FROM game WHERE season_id IN ('22019', '22020','22021', '22022')\", con)\n",
    "covid_wl = covid_wl.replace('W', 1)\n",
    "covid_wl = covid_wl.replace('L', 0)\n",
    "\n",
    "covid_wl[\"season_fg3_away_med\"] = covid_wl.groupby(\"season_id\")[\"fg3_pct_away\"].transform(lambda x: x.median())\n",
    "print(covid_wl[\"season_fg3_away_med\"])"
   ]
  },
  {
   "cell_type": "markdown",
   "metadata": {},
   "source": [
    "#### Question 5: How does the free throw percentage of home teams compare to that of away teams from the 2019-20 season to the 2022-23 season? (ft_pct_home and ft_pct_away in the game table)"
   ]
  },
  {
   "cell_type": "code",
   "execution_count": 354,
   "metadata": {},
   "outputs": [
    {
     "data": {
      "text/html": [
       "<div>\n",
       "<style scoped>\n",
       "    .dataframe tbody tr th:only-of-type {\n",
       "        vertical-align: middle;\n",
       "    }\n",
       "\n",
       "    .dataframe tbody tr th {\n",
       "        vertical-align: top;\n",
       "    }\n",
       "\n",
       "    .dataframe thead th {\n",
       "        text-align: right;\n",
       "    }\n",
       "</style>\n",
       "<table border=\"1\" class=\"dataframe\">\n",
       "  <thead>\n",
       "    <tr style=\"text-align: right;\">\n",
       "      <th></th>\n",
       "      <th>fg3_pct_home</th>\n",
       "      <th>fg3_pct_away</th>\n",
       "    </tr>\n",
       "    <tr>\n",
       "      <th>season_id</th>\n",
       "      <th></th>\n",
       "      <th></th>\n",
       "    </tr>\n",
       "  </thead>\n",
       "  <tbody>\n",
       "    <tr>\n",
       "      <th>22019</th>\n",
       "      <td>0.361288</td>\n",
       "      <td>NaN</td>\n",
       "    </tr>\n",
       "    <tr>\n",
       "      <th>22020</th>\n",
       "      <td>0.368503</td>\n",
       "      <td>NaN</td>\n",
       "    </tr>\n",
       "    <tr>\n",
       "      <th>22021</th>\n",
       "      <td>0.354627</td>\n",
       "      <td>NaN</td>\n",
       "    </tr>\n",
       "    <tr>\n",
       "      <th>22022</th>\n",
       "      <td>0.365037</td>\n",
       "      <td>NaN</td>\n",
       "    </tr>\n",
       "    <tr>\n",
       "      <th>22019</th>\n",
       "      <td>NaN</td>\n",
       "      <td>0.353899</td>\n",
       "    </tr>\n",
       "    <tr>\n",
       "      <th>22020</th>\n",
       "      <td>NaN</td>\n",
       "      <td>0.362280</td>\n",
       "    </tr>\n",
       "    <tr>\n",
       "      <th>22021</th>\n",
       "      <td>NaN</td>\n",
       "      <td>0.351595</td>\n",
       "    </tr>\n",
       "    <tr>\n",
       "      <th>22022</th>\n",
       "      <td>NaN</td>\n",
       "      <td>0.353528</td>\n",
       "    </tr>\n",
       "  </tbody>\n",
       "</table>\n",
       "</div>"
      ],
      "text/plain": [
       "           fg3_pct_home  fg3_pct_away\n",
       "season_id                            \n",
       "22019          0.361288           NaN\n",
       "22020          0.368503           NaN\n",
       "22021          0.354627           NaN\n",
       "22022          0.365037           NaN\n",
       "22019               NaN      0.353899\n",
       "22020               NaN      0.362280\n",
       "22021               NaN      0.351595\n",
       "22022               NaN      0.353528"
      ]
     },
     "execution_count": 354,
     "metadata": {},
     "output_type": "execute_result"
    }
   ],
   "source": [
    "covid_wl = pd.read_sql_query(\"SELECT fg3_pct_home, fg3_pct_away, season_id FROM game WHERE season_id IN ('22019', '22020','22021', '22022')\", con)\n",
    "covid_wl = covid_wl.replace('W', 1)\n",
    "covid_wl = covid_wl.replace('L', 0)\n",
    "\n",
    "home_fg3 = covid_wl.groupby('season_id').agg({\n",
    "    'fg3_pct_home': 'mean'\n",
    "})\n",
    "away_fg3 = covid_wl.groupby('season_id').agg({\n",
    "    'fg3_pct_away': 'mean'\n",
    "})\n",
    "\n",
    "# Combine both DataFrames into one\n",
    "df = pd.concat([home_fg3, away_fg3], axis=0)\n",
    "df"
   ]
  }
 ],
 "metadata": {
  "kernelspec": {
   "display_name": "Python 3.12.3 64-bit ('base': conda)",
   "language": "python",
   "name": "python312364bitbasecondabfb0e468ea9e40a897e54a0a459eceab"
  },
  "language_info": {
   "codemirror_mode": {
    "name": "ipython",
    "version": 3
   },
   "file_extension": ".py",
   "mimetype": "text/x-python",
   "name": "python",
   "nbconvert_exporter": "python",
   "pygments_lexer": "ipython3",
   "version": "3.12.3"
  }
 },
 "nbformat": 4,
 "nbformat_minor": 2
}
