{
 "cells": [
  {
   "cell_type": "code",
   "execution_count": 6,
   "id": "b36cfa9e-d6a5-4b5e-a615-a38ea69beaab",
   "metadata": {},
   "outputs": [],
   "source": [
    "#Importing Data \n",
    "\n",
    "import pandas as pd\n",
    "import sqlite3\n",
    "\n",
    "con = sqlite3.connect(\"data/nba.sqlite\")"
   ]
  },
  {
   "cell_type": "code",
   "execution_count": 15,
   "id": "126db425-2c32-4e2a-af9d-ad683c8a7408",
   "metadata": {},
   "outputs": [
    {
     "name": "stdout",
     "output_type": "stream",
     "text": [
      "  team_id_home  team_name_home team_abbreviation_home     most_recent_game\n",
      "0   1610612743  Denver Nuggets                    DEN  2023-06-12 00:00:00\n"
     ]
    }
   ],
   "source": [
    "#Finding an Active Team\n",
    "\n",
    "active_games = pd.read_sql_query(\"SELECT team_id_home, team_name_home, team_abbreviation_home, MAX(game_date) AS most_recent_game FROM game\", con)\n",
    "# active_players = pd.read_sql_query(\"SELECT full_name FROM player WHERE is_active=TRUE\", con)\n",
    "\n",
    "print(active_games)"
   ]
  },
  {
   "cell_type": "code",
   "execution_count": 38,
   "id": "9e8c62cd-7358-44f8-a25d-cf192c51886f",
   "metadata": {},
   "outputs": [
    {
     "name": "stdout",
     "output_type": "stream",
     "text": [
      "            team_name_home            game_date  fgm_home\n",
      "0           Denver Nuggets  2023-01-01 00:00:00      45.0\n",
      "1   Minnesota Timberwolves  2023-01-02 00:00:00      45.0\n",
      "2           Denver Nuggets  2023-01-05 00:00:00      45.0\n",
      "3           Denver Nuggets  2023-01-06 00:00:00      43.0\n",
      "4           Denver Nuggets  2023-01-09 00:00:00      46.0\n",
      "..                     ...                  ...       ...\n",
      "62          Denver Nuggets  2023-06-01 00:00:00      40.0\n",
      "63          Denver Nuggets  2023-06-04 00:00:00      39.0\n",
      "64              Miami Heat  2023-06-07 00:00:00      34.0\n",
      "65              Miami Heat  2023-06-09 00:00:00      35.0\n",
      "66          Denver Nuggets  2023-06-12 00:00:00      38.0\n",
      "\n",
      "[67 rows x 3 columns]\n"
     ]
    }
   ],
   "source": [
    "#Calculating the games Denver Nuggets has played in the recent year of 2023\n",
    "\n",
    "denver_games = pd.read_sql_query(\"SELECT team_name_home, game_date, fgm_home FROM game WHERE (team_id_home=1610612743 OR matchup_home LIKE '%DEN%') AND game_date >= '2023-01-01 00:00:00'\", con)\n",
    "print(denver_games)"
   ]
  },
  {
   "cell_type": "code",
   "execution_count": 47,
   "id": "704595b4-45ea-40a6-b69f-f2f953c4293c",
   "metadata": {},
   "outputs": [
    {
     "name": "stdout",
     "output_type": "stream",
     "text": [
      "    team_name_home  pts_home\n",
      "0   Denver Nuggets     123.0\n",
      "1   Denver Nuggets     122.0\n",
      "2   Denver Nuggets     121.0\n",
      "3   Denver Nuggets     122.0\n",
      "4   Denver Nuggets     126.0\n",
      "5   Denver Nuggets     119.0\n",
      "6   Denver Nuggets     122.0\n",
      "7   Denver Nuggets     122.0\n",
      "8   Denver Nuggets     134.0\n",
      "9   Denver Nuggets      99.0\n",
      "10  Denver Nuggets     122.0\n",
      "11  Denver Nuggets     134.0\n",
      "12  Denver Nuggets     128.0\n",
      "13  Denver Nuggets     146.0\n",
      "14  Denver Nuggets     118.0\n",
      "15  Denver Nuggets     134.0\n",
      "16  Denver Nuggets     113.0\n",
      "17  Denver Nuggets     118.0\n",
      "18  Denver Nuggets      96.0\n",
      "19  Denver Nuggets     120.0\n",
      "20  Denver Nuggets     129.0\n",
      "21  Denver Nuggets     116.0\n",
      "22  Denver Nuggets      88.0\n",
      "23  Denver Nuggets     112.0\n",
      "24  Denver Nuggets     109.0\n",
      "25  Denver Nuggets     109.0\n",
      "26  Denver Nuggets     122.0\n",
      "27  Denver Nuggets     112.0\n",
      "28  Denver Nuggets     125.0\n",
      "29  Denver Nuggets      97.0\n",
      "30  Denver Nuggets     118.0\n",
      "31  Denver Nuggets     132.0\n",
      "32  Denver Nuggets     108.0\n",
      "33  Denver Nuggets     104.0\n",
      "34  Denver Nuggets     108.0\n",
      "35  Denver Nuggets      94.0\n",
      "    team_name_away  pts_away\n",
      "0   Denver Nuggets     111.0\n",
      "1   Denver Nuggets     115.0\n",
      "2   Denver Nuggets      99.0\n",
      "3   Denver Nuggets      99.0\n",
      "4   Denver Nuggets     119.0\n",
      "5   Denver Nuggets      98.0\n",
      "6   Denver Nuggets     104.0\n",
      "7   Denver Nuggets     119.0\n",
      "8   Denver Nuggets     112.0\n",
      "9   Denver Nuggets     115.0\n",
      "10  Denver Nuggets      94.0\n",
      "11  Denver Nuggets     133.0\n",
      "12  Denver Nuggets     120.0\n",
      "13  Denver Nuggets     110.0\n",
      "14  Denver Nuggets     119.0\n",
      "15  Denver Nuggets     110.0\n",
      "16  Denver Nuggets     108.0\n",
      "17  Denver Nuggets     118.0\n",
      "18  Denver Nuggets      93.0\n",
      "19  Denver Nuggets     103.0\n",
      "20  Denver Nuggets     115.0\n",
      "21  Denver Nuggets     114.0\n",
      "22  Denver Nuggets     120.0\n",
      "23  Denver Nuggets     108.0\n",
      "24  Denver Nuggets     114.0\n",
      "25  Denver Nuggets     124.0\n",
      "26  Denver Nuggets     125.0\n",
      "27  Denver Nuggets     119.0\n",
      "28  Denver Nuggets     113.0\n",
      "29  Denver Nuggets     109.0\n",
      "30  Denver Nuggets     108.0\n"
     ]
    }
   ],
   "source": [
    "#Calculating the home and away points for the Denver Nuggets\n",
    "\n",
    "denver_games_home_points = pd.read_sql_query(\"SELECT team_name_home, pts_home FROM game WHERE team_id_home=1610612743 AND game_date >= '2023-01-01 00:00:00'\", con)\n",
    "denver_games_away_points = pd.read_sql_query(\"SELECT team_name_away, pts_away FROM game WHERE matchup_home LIKE '%vs. DEN%' AND game_date >= '2023-01-01 00:00:00'\", con)\n",
    "print(denver_games_home_points)\n",
    "print(denver_games_away_points)"
   ]
  },
  {
   "cell_type": "code",
   "execution_count": 55,
   "id": "a764cd0f-d630-4fdb-b077-47171d048e77",
   "metadata": {},
   "outputs": [
    {
     "name": "stdout",
     "output_type": "stream",
     "text": [
      "Average of Home Points for Denver Nuggets: 117.28\n",
      "Average of Away Points for Denver Nuggets: 111.87\n"
     ]
    }
   ],
   "source": [
    "#Finding average of both of home and away points\n",
    "\n",
    "#Home Point Average\n",
    "print(\"Average of Home Points for Denver Nuggets:\", round((denver_games_home_points['pts_home'].mean()), 2))\n",
    "\n",
    "#Away Point Average\n",
    "print(\"Average of Away Points for Denver Nuggets:\", round((denver_games_away_points['pts_away'].mean()), 2))\n"
   ]
  }
 ],
 "metadata": {
  "kernelspec": {
   "display_name": "Python 3 (ipykernel)",
   "language": "python",
   "name": "python3"
  },
  "language_info": {
   "codemirror_mode": {
    "name": "ipython",
    "version": 3
   },
   "file_extension": ".py",
   "mimetype": "text/x-python",
   "name": "python",
   "nbconvert_exporter": "python",
   "pygments_lexer": "ipython3",
   "version": "3.10.6"
  }
 },
 "nbformat": 4,
 "nbformat_minor": 5
}
