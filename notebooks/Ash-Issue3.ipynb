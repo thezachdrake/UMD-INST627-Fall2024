{
 "cells": [
  {
   "cell_type": "code",
   "execution_count": 26,
   "id": "d6b21059-3f8f-44da-847f-a907afd2d5c1",
   "metadata": {
    "scrolled": true
   },
   "outputs": [
    {
     "name": "stdout",
     "output_type": "stream",
     "text": [
      "42022\n",
      "   team_score\n",
      "0       121.0\n",
      "1       119.0\n",
      "2       105.0\n",
      "3       109.0\n",
      "4        96.0\n",
      "5       128.0\n",
      "6        99.0\n",
      "7       103.0\n",
      "8        94.0\n",
      "9        95.0\n",
      "Miami Heat - Average Home Score: 106.9\n",
      "Miami Heat - Average Away Score: 109.46153846153847\n"
     ]
    }
   ],
   "source": [
    "import pandas as pd\n",
    "import sqlite3\n",
    "\n",
    "con = sqlite3.connect(r\"C:\\Users\\samar\\OneDrive\\Documents\\GitHub\\UMD-INST627-Fall2024\\data\\nba.sqlite\")\n",
    "\n",
    "team_name = \"Miami Heat\"\n",
    "\n",
    "recent_season_query = \"SELECT MAX(season_id) AS recent_season FROM game\"\n",
    "recent_season = pd.read_sql_query(recent_season_query, con).iloc[0, 0]\n",
    "\n",
    "print(recent_season)\n",
    "\n",
    "home_games_query = f\"\"\"\n",
    "SELECT pts_home AS team_score\n",
    "FROM game\n",
    "WHERE team_name_home = '{team_name}' AND season_id = {recent_season}\n",
    "\"\"\"\n",
    "home_games = pd.read_sql_query(home_games_query, con)\n",
    "\n",
    "away_games_query = f\"\"\"\n",
    "SELECT pts_away AS team_score\n",
    "FROM game\n",
    "WHERE team_name_away = '{team_name}' AND season_id = {recent_season}\n",
    "\"\"\"\n",
    "away_games = pd.read_sql_query(away_games_query, con)\n",
    "\n",
    "home_avg = home_games['team_score'].dropna().mean()\n",
    "away_avg = away_games['team_score'].dropna().mean()\n",
    "\n",
    "print(f\"{team_name} - Average Home Score: {home_avg}\")\n",
    "print(f\"{team_name} - Average Away Score: {away_avg}\")\n",
    "\n",
    "con.close()\n",
    "\n"
   ]
  },
  {
   "cell_type": "code",
   "execution_count": null,
   "id": "47fc8549-1f79-471b-8cb8-0747a1d49be3",
   "metadata": {},
   "outputs": [],
   "source": []
  }
 ],
 "metadata": {
  "kernelspec": {
   "display_name": "Python 3 (ipykernel)",
   "language": "python",
   "name": "python3"
  },
  "language_info": {
   "codemirror_mode": {
    "name": "ipython",
    "version": 3
   },
   "file_extension": ".py",
   "mimetype": "text/x-python",
   "name": "python",
   "nbconvert_exporter": "python",
   "pygments_lexer": "ipython3",
   "version": "3.12.5"
  }
 },
 "nbformat": 4,
 "nbformat_minor": 5
}
