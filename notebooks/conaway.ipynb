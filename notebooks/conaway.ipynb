{
 "cells": [
  {
   "cell_type": "code",
   "execution_count": 13,
   "id": "ff3b4076-bdc0-4851-9f75-9267b90adfd8",
   "metadata": {},
   "outputs": [
    {
     "name": "stdout",
     "output_type": "stream",
     "text": [
      "   avg_away_diff\n",
      "0           -1.0\n"
     ]
    }
   ],
   "source": [
    "import pandas as pd\n",
    "import sqlite3\n",
    "\n",
    "con = sqlite3.connect(\"/Users/kailynconaway/Documents/GitHub/UMD-INST627-Fall2024/data/nba.sqlite\")\n",
    "games = pd.read_sql_query(\"SELECT * FROM game\", con)\n",
    "avg_away_diff = pd.read_sql_query(\"SELECT ROUND(AVG(plus_minus_away)) AS avg_away_diff FROM game WHERE team_name_home = 'Miami Heat' AND season_type = 'Regular Season' AND season_id = 22022\", con)\n",
    "print(avg_away_diff)"
   ]
  },
  {
   "cell_type": "code",
   "execution_count": null,
   "id": "1c6c2756-9719-4792-9f65-c71bf92f5587",
   "metadata": {},
   "outputs": [],
   "source": []
  }
 ],
 "metadata": {
  "kernelspec": {
   "display_name": "Python 3 (ipykernel)",
   "language": "python",
   "name": "python3"
  },
  "language_info": {
   "codemirror_mode": {
    "name": "ipython",
    "version": 3
   },
   "file_extension": ".py",
   "mimetype": "text/x-python",
   "name": "python",
   "nbconvert_exporter": "python",
   "pygments_lexer": "ipython3",
   "version": "3.12.5"
  }
 },
 "nbformat": 4,
 "nbformat_minor": 5
}
