{
 "cells": [
  {
   "cell_type": "code",
   "execution_count": 19,
   "id": "28c493f4-f739-499e-8216-b7171a4dad40",
   "metadata": {},
   "outputs": [
    {
     "name": "stdout",
     "output_type": "stream",
     "text": [
      "Requirement already satisfied: seaborn in /Users/twinkle/Library/jupyterlab-desktop/jlab_server/lib/python3.12/site-packages (0.13.2)\n",
      "Requirement already satisfied: numpy!=1.24.0,>=1.20 in /Users/twinkle/Library/jupyterlab-desktop/jlab_server/lib/python3.12/site-packages (from seaborn) (2.1.0)\n",
      "Requirement already satisfied: pandas>=1.2 in /Users/twinkle/Library/jupyterlab-desktop/jlab_server/lib/python3.12/site-packages (from seaborn) (2.2.2)\n",
      "Requirement already satisfied: matplotlib!=3.6.1,>=3.4 in /Users/twinkle/Library/jupyterlab-desktop/jlab_server/lib/python3.12/site-packages (from seaborn) (3.9.2)\n",
      "Requirement already satisfied: contourpy>=1.0.1 in /Users/twinkle/Library/jupyterlab-desktop/jlab_server/lib/python3.12/site-packages (from matplotlib!=3.6.1,>=3.4->seaborn) (1.2.1)\n",
      "Requirement already satisfied: cycler>=0.10 in /Users/twinkle/Library/jupyterlab-desktop/jlab_server/lib/python3.12/site-packages (from matplotlib!=3.6.1,>=3.4->seaborn) (0.12.1)\n",
      "Requirement already satisfied: fonttools>=4.22.0 in /Users/twinkle/Library/jupyterlab-desktop/jlab_server/lib/python3.12/site-packages (from matplotlib!=3.6.1,>=3.4->seaborn) (4.53.1)\n",
      "Requirement already satisfied: kiwisolver>=1.3.1 in /Users/twinkle/Library/jupyterlab-desktop/jlab_server/lib/python3.12/site-packages (from matplotlib!=3.6.1,>=3.4->seaborn) (1.4.5)\n",
      "Requirement already satisfied: packaging>=20.0 in /Users/twinkle/Library/jupyterlab-desktop/jlab_server/lib/python3.12/site-packages (from matplotlib!=3.6.1,>=3.4->seaborn) (24.1)\n",
      "Requirement already satisfied: pillow>=8 in /Users/twinkle/Library/jupyterlab-desktop/jlab_server/lib/python3.12/site-packages (from matplotlib!=3.6.1,>=3.4->seaborn) (10.4.0)\n",
      "Requirement already satisfied: pyparsing>=2.3.1 in /Users/twinkle/Library/jupyterlab-desktop/jlab_server/lib/python3.12/site-packages (from matplotlib!=3.6.1,>=3.4->seaborn) (3.1.4)\n",
      "Requirement already satisfied: python-dateutil>=2.7 in /Users/twinkle/Library/jupyterlab-desktop/jlab_server/lib/python3.12/site-packages (from matplotlib!=3.6.1,>=3.4->seaborn) (2.9.0)\n",
      "Requirement already satisfied: pytz>=2020.1 in /Users/twinkle/Library/jupyterlab-desktop/jlab_server/lib/python3.12/site-packages (from pandas>=1.2->seaborn) (2024.1)\n",
      "Requirement already satisfied: tzdata>=2022.7 in /Users/twinkle/Library/jupyterlab-desktop/jlab_server/lib/python3.12/site-packages (from pandas>=1.2->seaborn) (2024.1)\n",
      "Requirement already satisfied: six>=1.5 in /Users/twinkle/Library/jupyterlab-desktop/jlab_server/lib/python3.12/site-packages (from python-dateutil>=2.7->matplotlib!=3.6.1,>=3.4->seaborn) (1.16.0)\n",
      "Note: you may need to restart the kernel to use updated packages.\n"
     ]
    }
   ],
   "source": [
    "%pip install seaborn\n"
   ]
  },
  {
   "cell_type": "code",
   "execution_count": null,
   "id": "309ba97a-28ba-4879-bbf4-d74f57a8a0c4",
   "metadata": {},
   "outputs": [],
   "source": [
    "import sqlite3\n",
    "import pandas as pd\n",
    "import seaborn as sns\n",
    "import matplotlib.pyplot as plt\n",
    "\n",
    "con = sqlite3.connect(r\" /Users/twinkle/Documents/GitHub/UMD-INST627-Fall2024/data/nba.sqlite\")"
   ]
  },
  {
   "cell_type": "code",
   "execution_count": 31,
   "id": "35a31025-9b58-48d7-abf4-e16fc6626453",
   "metadata": {},
   "outputs": [],
   "source": [
    "#Question 1: How has the difference in win-loss ratio between home and away teams changed from the 2019-20 season to the 2022-23 season? (wl_home and wl_away columns in game table)\n",
    "##Introduction: \n",
    "###Home court advantage is a major deciding factor in the result of an NBA game. Since the pandemic prevented fans from actually attending the games in person, this question explores how this situation affected the win-loss ratios from the 2019 season to the 2022 season.\n",
    "\n"
   ]
  },
  {
   "cell_type": "code",
   "execution_count": null,
   "id": "7aaf4b1d-2eac-41e4-8ada-ebaceee9ad11",
   "metadata": {},
   "outputs": [],
   "source": [
    "import matplotlib.pyplot as plt\n",
    "import pandas as pd\n",
    "import seaborn as sns\n",
    "\n",
    "dataframe = pd.DataFrame(data)\n",
    "plt.figure(figsize=(10, 6))\n",
    "bar_width = 0.4\n",
    "x = range(len(df['Season']))\n",
    "\n",
    "#bar chart for introduction\n",
    "plt.bar(x, dataframe['Home Win-Loss Ratio'], width=bar_width, label='Home', color='steelblue')\n",
    "plt.bar([i + bar_width for i in x], dataframe['Away Win-Loss Ratio'], width=bar_width, label='Away', color='orange')\n",
    "plt.xlabel('Season', fontsize=12)\n",
    "plt.ylabel('Win-Loss Ratio', fontsize=12)\n",
    "plt.title('Home vs Away Win-Loss Ratios (2019-20 to 2022-23)', fontsize=14)\n",
    "plt.xticks([i + bar_width / 2 for i in x], dataframe['Season'])\n",
    "plt.legend()\n",
    "plt.tight_layout()\n",
    "plt.show()\n"
   ]
  },
  {
   "cell_type": "code",
   "execution_count": null,
   "id": "59e5858a-bb06-4c6b-b8d7-696282e81a55",
   "metadata": {},
   "outputs": [],
   "source": [
    "##Rising Action: \n",
    "###First we extract the data on win-loss ratios for home and away teams for 2019-20 to 2022-23 seasons to compare the difference during the pandemic, then aggregate the win-loss ratios for the relevant seasons. \n"
   ]
  },
  {
   "cell_type": "code",
   "execution_count": null,
   "id": "7cd179ba-6c9e-4cb4-badb-d4f192308b3e",
   "metadata": {},
   "outputs": [],
   "source": [
    "win_loss_query= \"\"\" SELECT season_id, team_name_home AS team, wl_home, team_name_away AS away_team, wl_away FROM game WHERE season_id IN (22019, 22020, 22021, 22022) GROUP BY team, season_id \"\"\"\n",
    "win_loss_data=pd.read_sql_query(win_loss_query, con)\n",
    "\n",
    "win_loss_data['wl_home']= win_loss_data['wl_home'].map({'W': 1, 'L':0})\n",
    "win_loss_data['wl_away']= win_loss_data['wl_away'].map({'W': 1, 'L':0})\n",
    "win_loss_stats= win_loss_data.groupby('season_id').agg(home_win_ratio=('wl_home','mean'), away_win_ratio=('wl_home','mean')). reset_index()\n",
    "\n",
    "win_loss_stats['win_loss_diff']= win_loss_stats['home_win_ratio'] - win_loss_stats['away_win_ratio']"
   ]
  },
  {
   "cell_type": "code",
   "execution_count": null,
   "id": "acd95233-f35f-463f-87cb-effc1bcb3547",
   "metadata": {},
   "outputs": [],
   "source": [
    "##Climax: \n",
    "###By subtracting the win-loss ratios we see how the difference has changed between home and away games."
   ]
  },
  {
   "cell_type": "code",
   "execution_count": null,
   "id": "415fe72a-9fcd-48c7-a805-aef98b381e9a",
   "metadata": {},
   "outputs": [],
   "source": [
    "#line chart for climax\n",
    "plt.figure(figsize=(10, 6))\n",
    "sns.lineplot(data=dataframe, x='Season', y='Difference', marker='o', color='green')\n",
    "\n",
    "# Add labels, title, and grid\n",
    "plt.xlabel('Season', fontsize=12)\n",
    "plt.ylabel('Difference (Home - Away)', fontsize=12)\n",
    "plt.title('Difference in Win-Loss Ratios (Home vs Away)', fontsize=14)\n",
    "plt.grid(visible=True, linestyle='--', alpha=0.7)\n",
    "plt.axvspan(0.5, 1.5, color='red', alpha=0.2, label='Pandemic (2020-21)')\n",
    "\n",
    "for i, diff in enumerate(df['Difference']):\n",
    "    plt.text(i, diff + 0.01, f\"{diff:.2f}\", ha='center', fontsize=10)\n",
    "\n",
    "plt.legend()\n",
    "plt.tight_layout()\n",
    "plt.show()\n"
   ]
  },
  {
   "cell_type": "code",
   "execution_count": null,
   "id": "0663f32e-2208-4c39-8443-d7dbdf7e7525",
   "metadata": {},
   "outputs": [],
   "source": [
    "##Falling Action:\n",
    "###The analysis shows a clear decline in the 2020-21 season win-loss ratio difference, which aligns with the pandemic when no fans were around for the games. This suggests that fan presence affects the home court advantage.\n",
    "\n",
    "##Conclusion:\n",
    "###The reduced difference in win-loss ratios during the seasons we analysed shows that the pandemic had a significant impact on the results of the NBA games. "
   ]
  },
  {
   "cell_type": "code",
   "execution_count": null,
   "id": "5585ca3c-a586-4f50-b00b-a8e69f79151f",
   "metadata": {},
   "outputs": [],
   "source": [
    "#Question 2:How has the difference in average points scored between home and away teams changed from the 2019-20 season to the 2022-23 season? (pts_home and pts_away columns in game table)\n",
    "\n",
    "##Introduction:\n",
    "###The most critical metric for evaluating team performance is scoring. Due to factors like fan support, familiarity with court, and lack of travel fatigue, home teams tend to score more. By examining the difference in avaerag epoints we can see how the pandemix affected the results.\n"
   ]
  },
  {
   "cell_type": "code",
   "execution_count": null,
   "id": "956cd4b9-2743-4b8a-9138-38c9f3876e17",
   "metadata": {},
   "outputs": [],
   "source": [
    "#stacked bar chart for introduction\n",
    "plt.figure(figsize=(10, 6))\n",
    "plt.bar(dataframe['Season'], dataframe['Home Avg Points'], label='Home', color='blue')\n",
    "plt.bar(dataframe['Season'], dataframe['Away Avg Points'], bottom=dataframe['Home Avg Points'], label='Away', color='red')\n",
    "\n",
    "plt.xlabel('Season', fontsize=12)\n",
    "plt.ylabel('Total Points', fontsize=12)\n",
    "plt.title('Stacked Average Points Scored (Home + Away)', fontsize=14)\n",
    "plt.legend()\n",
    "plt.tight_layout()\n",
    "plt.show()"
   ]
  },
  {
   "cell_type": "code",
   "execution_count": null,
   "id": "130598a1-52a9-4504-8f20-7b35473ba9b8",
   "metadata": {},
   "outputs": [],
   "source": [
    "##Rising Action: \n",
    "###First we extract the data on win-loss ratios for home and away teams for 2019-20 to 2022-23 seasons to compare the difference during the pandemic, then aggregate the win-loss ratios for the relevant seasons. "
   ]
  },
  {
   "cell_type": "code",
   "execution_count": null,
   "id": "b7189ed5-40a2-4440-a034-e89abb708b8a",
   "metadata": {},
   "outputs": [],
   "source": [
    "avg_home_away_query= \"\"\"SELECT season_id, team_name_home AS team, AVG(pts_home) AS avg_home, AVG(pts_away) AS avg_away FROM game WHERE season_id ='22019' OR season_id ='22020' OR season_id='22022' OR season_id='22023' GROUP BY team, season_id\"\"\"\n",
    "avg_home_away_data=pd.read_sql_query(avg_home_away_query,con)\n",
    "\n",
    "avg_home_away_data"
   ]
  },
  {
   "cell_type": "code",
   "execution_count": null,
   "id": "4f5ea4cd-aff3-4ea3-815e-ba8d679cb858",
   "metadata": {},
   "outputs": [],
   "source": [
    "##Climax:\n",
    "###The visualization would show a noticeable decline in the 2020-21 season, which was when there was a significant absence of fans at the beginning of the pandemic.\n"
   ]
  },
  {
   "cell_type": "code",
   "execution_count": null,
   "id": "bf17ceb2-7b84-4a83-be65-5ba17f1b5178",
   "metadata": {},
   "outputs": [],
   "source": [
    "#heatmap for climax\n",
    "heatmap_data = pd.DataFrame({\n",
    "    'Home': dataframe['Home Avg Points'],\n",
    "    'Away': dataframe['Away Avg Points']\n",
    "}, index=df['Season'])\n",
    "\n",
    "plt.figure(figsize=(8, 6))\n",
    "sns.heatmap(heatmap_data.T, annot=True, cmap='coolwarm', cbar=True, fmt=\".1f\")\n",
    "plt.title('Heatmap of Average Points Scored (Home vs Away)', fontsize=14)\n",
    "plt.ylabel('Team Location', fontsize=12)\n",
    "plt.xlabel('Season', fontsize=12)\n",
    "plt.tight_layout()\n",
    "plt.show()\n"
   ]
  },
  {
   "cell_type": "code",
   "execution_count": null,
   "id": "b3c1ca20-a589-4071-8709-78885ce02825",
   "metadata": {},
   "outputs": [],
   "source": [
    "##Falling Action:\n",
    "###The significant decline in the average points implies that fan presence has a major psychological and strategic impact on players with the home court advantage.\n",
    "\n",
    "##Conclusion:\n",
    "###While some recovery is seen in the later seasons in average points, the reduced scoring difference suggests that home court advantage may have permanently shifted."
   ]
  },
  {
   "cell_type": "code",
   "execution_count": null,
   "id": "0f7104af-9e6d-493e-9b44-6df208afa483",
   "metadata": {},
   "outputs": [],
   "source": [
    "#Question 3:How has the difference in offensive and defensive rebounds between home and away teams changed from 2019-20 to 2022-23?(oreb_home, oreb_away, dreb_home, dreb_away in the game table)\n",
    "\n",
    "##Introduction:\n",
    "###Rebounding is an important aspect that dictates possession control and scoring opportunities. The analysis of the difference in offensive and defensive rebounds examines how the pandemic affected possible trends.\n"
   ]
  },
  {
   "cell_type": "code",
   "execution_count": null,
   "id": "865d1278-b149-4a33-b8ae-7ae6bbe429f6",
   "metadata": {},
   "outputs": [],
   "source": [
    "##Rising Action:\n",
    "###We extracted and computed the average offensive and defensive rebounds for 2019, 2020, 2021, 2022 seasons. We aimed to quantify the home court advantage over time by calculating the difference between home and away rebounds.\n"
   ]
  },
  {
   "cell_type": "code",
   "execution_count": null,
   "id": "c73e81b6-bddd-4aea-9f7c-741edf7b3b57",
   "metadata": {},
   "outputs": [],
   "source": [
    "rebound_query= \"\"\"SELECT season_id, team_name_home AS team, AVG(oreb_home) AS avg_oreb_home, AVG(oreb_away) AS avg_oreb_away, AVG(dreb_away) AS avg_dreb_away, AVG(dreb_home) AS avg_dreb_home FROM game WHERE season_id ='22019' OR season_id ='22020' OR season_id='22022' OR season_id='22023' GROUP BY team, season_id\"\"\"\n",
    "rebound_data=pd.read_sql_query(rebound_query,con)\n",
    "\n",
    "rebound_data['oreb_diff'] = rebound_data['avg_oreb_home'] - rebound_data['avg_oreb_away']\n",
    "rebound_data['dreb_diff'] = rebound_data['avg_dreb_home'] - rebound_data['avg_dreb_away']\n",
    "\n",
    "rebound_data"
   ]
  },
  {
   "cell_type": "code",
   "execution_count": null,
   "id": "b5c04792-b51a-475e-a1ea-4fc8ee8231ac",
   "metadata": {},
   "outputs": [],
   "source": [
    "##Climax:\n",
    "###Home teams had an advantage but the difference decreased in the 2020-21 season, when games were played without fans. A similar trend is observed in the defensive rebounds for home and away games. "
   ]
  },
  {
   "cell_type": "code",
   "execution_count": null,
   "id": "daa3d736-c8bc-40de-8d9e-e93475981a8c",
   "metadata": {},
   "outputs": [],
   "source": [
    "##Falling Action:\n",
    "###The above trends are likely due to factors like crowd influence, fatigue levels, and referee decisions.\n"
   ]
  },
  {
   "cell_type": "code",
   "execution_count": null,
   "id": "ac56550c-f75a-48df-85c9-cb05fe52fdfa",
   "metadata": {},
   "outputs": [],
   "source": [
    "#line chart for falling action\n",
    "plt.figure(figsize=(10, 6))\n",
    "sns.lineplot(data=df, x='Season', y='Offensive Rebounds Difference', marker='o', label='Offensive Rebounds', color='blue')\n",
    "sns.lineplot(data=df, x='Season', y='Defensive Rebounds Difference', marker='o', label='Defensive Rebounds', color='green')\n",
    "\n",
    "plt.xlabel('Season', fontsize=12)\n",
    "plt.ylabel('Difference (Home - Away)', fontsize=12)\n",
    "plt.title('Trends in Rebound Differences (Home vs Away)', fontsize=14)\n",
    "plt.grid(visible=True, linestyle='--', alpha=0.7)\n",
    "plt.axvspan(0.5, 1.5, color='red', alpha=0.2, label='Pandemic (2020-21)')\n",
    "\n",
    "for i, row in df.iterrows():\n",
    "    plt.text(i, row['Offensive Rebounds Difference'] + 0.1, f\"{row['Offensive Rebounds Difference']:.1f}\", ha='center', fontsize=10, color='blue')\n",
    "    plt.text(i, row['Defensive Rebounds Difference'] + 0.1, f\"{row['Defensive Rebounds Difference']:.1f}\", ha='center', fontsize=10, color='green')\n",
    "\n",
    "plt.legend()\n",
    "plt.tight_layout()\n",
    "plt.show()"
   ]
  },
  {
   "cell_type": "code",
   "execution_count": null,
   "id": "18535beb-8f84-44cc-bad1-ac727e5ba37a",
   "metadata": {},
   "outputs": [],
   "source": [
    "##Conclusion:\n",
    "###From 2019-20 to 2022-23, there are fluctuations in the differences in the offensive and defensive rebounds between home and away teams. The most significant decline in home court advantage occurred in the  2020-21 season, however the levels did not return back to pre-pandemic levels."
   ]
  },
  {
   "cell_type": "code",
   "execution_count": null,
   "id": "468e83f0-de00-4e21-9608-ab84d93cc267",
   "metadata": {},
   "outputs": [],
   "source": [
    "#pre-pandemic and post-pandemic comparison\n",
    "comparison_data = {\n",
    "    'Rebound Type': ['Offensive Rebounds', 'Defensive Rebounds'],\n",
    "    'Pre-Pandemic (2019-20)': [2.1, 3.2],\n",
    "    'Post-Pandemic (2022-23)': [1.9, 2.9]\n",
    "}\n",
    "comparison_df = pd.DataFrame(comparison_data)\n",
    "\n",
    "#grouped bar chart for conclusion\n",
    "bar_width = 0.4\n",
    "x = range(len(comparison_df['Rebound Type']))\n",
    "\n",
    "plt.figure(figsize=(8, 6))\n",
    "plt.bar(x, comparison_df['Pre-Pandemic (2019-20)'], width=bar_width, label='Pre-Pandemic (2019-20)', color='blue')\n",
    "plt.bar([i + bar_width for i in x], comparison_df['Post-Pandemic (2022-23)'], width=bar_width, label='Post-Pandemic (2022-23)', color='orange')\n",
    "\n",
    "plt.xticks([i + bar_width / 2 for i in x], comparison_df['Rebound Type'])\n",
    "plt.xlabel('Rebound Type', fontsize=12)\n",
    "plt.ylabel('Difference (Home - Away)', fontsize=12)\n",
    "plt.title('Comparison of Rebound Differences (Pre vs Post-Pandemic)', fontsize=14)\n",
    "plt.legend()\n",
    "plt.tight_layout()\n",
    "plt.show()\n"
   ]
  },
  {
   "cell_type": "code",
   "execution_count": null,
   "id": "49b1437e-7a2a-4e92-9c33-c4987bf998c8",
   "metadata": {},
   "outputs": [],
   "source": [
    "#Question 4:How does the average number of three-point field goals made by home teams compare to that of away teams from the 2019-20 season to the 2022-23 season? (fg3_pct_home and fg3_pct_away columns in game table)\n",
    "\n",
    "##Introduction:\n",
    "###Three-point shots are an important part of modern basketball, which could be heavily influenced by home court advantage. We explore how the average three-point goals changed over the 2019-20 through 2022-23 NBA seasons.\n"
   ]
  },
  {
   "cell_type": "code",
   "execution_count": null,
   "id": "f51d70a7-33e2-48a4-b9b0-00e521bca36c",
   "metadata": {},
   "outputs": [],
   "source": [
    "##Rising Action:\n",
    "###We extract and compute the difference in average three-point field goals between home and away teams for seasons 2019-20 and 2022-23, which provide insights int the shooting efficiency trends over time.\n"
   ]
  },
  {
   "cell_type": "code",
   "execution_count": null,
   "id": "3a4acd10-0733-4e3d-95d6-51665414731d",
   "metadata": {},
   "outputs": [],
   "source": [
    "fg3_diff_19= \"\"\" SELECT season_id, AVG(fg3_pct_home)- AVG(fg3_pct_away) AS fg3_diff FROM game WHERE season_id='22019' \"\"\"\n",
    "fg3_diff_19_data=pd.read_sql_query(fg3_diff_19, con)\n",
    "\n",
    "fg3_diff_22= \"\"\" SELECT season_id, AVG(fg3_pct_home)- AVG(fg3_pct_away) AS fg3_diff FROM game WHERE season_id='22022' \"\"\"\n",
    "fg3_diff_22_data=pd.read_sql_query(fg3_diff_22, con)\n",
    "\n",
    "\n",
    "fg3_diff_19_data\n",
    "fg3_diff_22_data"
   ]
  },
  {
   "cell_type": "code",
   "execution_count": null,
   "id": "5743ddbd-03b7-4d95-b41f-cfc6c62cadf8",
   "metadata": {},
   "outputs": [],
   "source": [
    "#bar chart for rising action\n",
    "bar_width = 0.4\n",
    "x = range(len(dataframe['Season']))\n",
    "\n",
    "plt.figure(figsize=(10, 6))\n",
    "plt.bar(x, df['Home FG3%'], width=bar_width, label='Home', color='blue')\n",
    "plt.bar([i + bar_width for i in x], dataframe['Away FG3%'], width=bar_width, label='Away', color='orange')\n",
    "\n",
    "plt.xlabel('Season', fontsize=12)\n",
    "plt.ylabel('Average FG3%', fontsize=12)\n",
    "plt.title('Three-Point Field Goal Percentage by Season (Home vs Away)', fontsize=14)\n",
    "plt.xticks([i + bar_width / 2 for i in x], dataframe['Season'])\n",
    "plt.legend()\n",
    "plt.tight_layout()\n",
    "plt.show()"
   ]
  },
  {
   "cell_type": "code",
   "execution_count": null,
   "id": "1298362e-b6a2-40ab-9104-c4f41a5cb0a2",
   "metadata": {},
   "outputs": [],
   "source": [
    "##Climax:\n",
    "###In the 2019-20 season, home teams had a slight advantage in three-point shooting with an average FG3% difference of 0.0074. In 2022-23, the home advantage slightly increased to 0.0115.\n"
   ]
  },
  {
   "cell_type": "code",
   "execution_count": null,
   "id": "22e13819-fba9-4214-be9c-79dbb0ae9634",
   "metadata": {},
   "outputs": [],
   "source": [
    "#line chart for climax\n",
    "dataframe['Difference'] = dataframe['Home FG3%'] - dataframe['Away FG3%']\n",
    "plt.figure(figsize=(10, 6))\n",
    "sns.lineplot(data=dataframe, x='Season', y='Difference', marker='o', color='green', label='Difference (Home - Away)')\n",
    "plt.xlabel('Season', fontsize=12)\n",
    "plt.ylabel('Difference in FG3%', fontsize=12)\n",
    "plt.title('Difference in Three-Point FG% (Home vs Away)', fontsize=14)\n",
    "\n",
    "plt.axvspan(0.5, 1.5, color='red', alpha=0.2, label='Pandemic (2020-21)')\n",
    "\n",
    "for i, diff in enumerate(df['Difference']):\n",
    "    plt.text(i, diff + 0.0005, f\"{diff:.4f}\", ha='center', fontsize=10)\n",
    "\n",
    "plt.legend()\n",
    "plt.tight_layout()\n",
    "plt.show()"
   ]
  },
  {
   "cell_type": "code",
   "execution_count": null,
   "id": "b19d5d99-2f4d-4d20-adf4-5e42d6558f98",
   "metadata": {},
   "outputs": [],
   "source": [
    "##Falling Action:\n",
    "###The results suggest that home teams consistently mainatain a slight edge in three-point shooting, which could be due to familiarity with the court, crowd support, pandemic effects. However, the difference is very miniscule and not that significant, whcih suggests that three-point shooting may be less affected by location than other factors. \n",
    "\n",
    "##Conclusion:\n",
    "###From 2019-20 to 2022-23, home teams mainatained slight but consistent advantage in three-point shooting percentage over away teams. This advantage increases marginally post-pandemic.\n"
   ]
  },
  {
   "cell_type": "code",
   "execution_count": null,
   "id": "4ab91fc2-1a22-4d73-86e1-5bcc0f330b5c",
   "metadata": {},
   "outputs": [],
   "source": [
    "#Question 5:How does the free throw percentage of home teams compare to that of away teams from the 2019-20 season to the 2022-23 season? (ft_pct_home and ft_pct_away in the game table)\n",
    "\n",
    "##Introduction:\n",
    "###Free throws give teams the opportunity to score uncontested points. Home court advantage could influence free throw percentage due to crwod noise or comfortable environment. We can compare the percentages to uncover any significant trends.\n"
   ]
  },
  {
   "cell_type": "code",
   "execution_count": null,
   "id": "48413101-c860-4894-a3a2-dd70a2d2da42",
   "metadata": {},
   "outputs": [],
   "source": [
    "#box plot for introduction\n",
    "plt.figure(figsize=(10, 6))\n",
    "sns.boxplot(x='Location', y='Free Throw Percentage', data=df, hue='Season', palette='pastel')\n",
    "plt.xlabel('Location', fontsize=12)\n",
    "plt.ylabel('Free Throw Percentage', fontsize=12)\n",
    "plt.title('Free Throw Percentage Distribution (Home vs Away)', fontsize=14)\n",
    "plt.legend(title='Season', bbox_to_anchor=(1.05, 1), loc='upper left')\n",
    "plt.tight_layout()\n",
    "plt.show()"
   ]
  },
  {
   "cell_type": "code",
   "execution_count": null,
   "id": "dca57b9c-bfd0-4ccb-9a67-76f40f8d12af",
   "metadata": {},
   "outputs": [],
   "source": [
    "##Rising Action:\n",
    "###We retrieve minimum, maximum and total free throw percentages for home and away teams for 2019-20 and 2022-23 which gives comprehensive view of FT percentages across different locations and seasons.\n"
   ]
  },
  {
   "cell_type": "code",
   "execution_count": null,
   "id": "d6f91849-f24b-4f1f-9f94-eaff3aece92a",
   "metadata": {},
   "outputs": [],
   "source": [
    "ft_pct_query= \"\"\" SELECT season_id, MIN(ft_pct_home) AS min_ft_pct_home, MIN(ft_pct_away) AS min_ft_pct_away, MAX(ft_pct_home) AS max_ft_pct_home, MAX(ft_pct_away) AS max_ft_pct_away, COUNT(*) AS games_played FROM game WHERE season_id= '22019'\"\"\" \n",
    "ft_pct_data_19= pd.read_sql_query(ft_pct_query, con)\n",
    "\n",
    "ft_pct_data_19"
   ]
  },
  {
   "cell_type": "code",
   "execution_count": null,
   "id": "2132a4cb-0d3e-4439-834a-34bcb26dcc74",
   "metadata": {},
   "outputs": [],
   "source": [
    "ft_pct_query= \"\"\" SELECT season_id, MIN(ft_pct_home) AS min_ft_pct_home, MIN(ft_pct_away) AS min_ft_pct_away, MAX(ft_pct_home) AS max_ft_pct_home, MAX(ft_pct_away) AS max_ft_pct_away, COUNT(*) AS games_played FROM game WHERE season_id= '22022'\"\"\" \n",
    "ft_pct_data_22= pd.read_sql_query(ft_pct_query, con)\n",
    "\n",
    "ft_pct_data_22"
   ]
  },
  {
   "cell_type": "code",
   "execution_count": null,
   "id": "43836569-0942-4375-b127-c59aebc1e6d4",
   "metadata": {},
   "outputs": [],
   "source": [
    "##Climax:\n",
    "###For 2019-20, maximum free throw percentages were identical for home and away teams=1.0. For 2022-23, maximum free throw percentages remained equal=1.0.\n",
    "\n",
    "##Falling Action:\n",
    "###Data indicates that while maximum free throw percentages remain consistent, home teams tend to have slightly higher minimum free throw percentage.\n"
   ]
  },
  {
   "cell_type": "code",
   "execution_count": null,
   "id": "054f0663-e564-46cb-9f70-ecf9057cc86e",
   "metadata": {},
   "outputs": [],
   "source": [
    "##Conclusion:\n",
    "###We can conclude that upper end is comparable between hoem and away teams, but home teams show a higher minimum free throw percentage which emphasizes the home court advantage."
   ]
  },
  {
   "cell_type": "code",
   "execution_count": null,
   "id": "faba1fcb-9b42-4b1d-a14c-0421a94aad94",
   "metadata": {},
   "outputs": [],
   "source": [
    "#bar chart for conclusion\n",
    "bar_width = 0.4\n",
    "x = range(len(min_df['Season']))\n",
    "\n",
    "plt.figure(figsize=(10, 6))\n",
    "plt.bar(x, min_df['Home Minimum FT%'], width=bar_width, label='Home', color='blue')\n",
    "plt.bar([i + bar_width for i in x], min_df['Away Minimum FT%'], width=bar_width, label='Away', color='orange')\n",
    "plt.xlabel('Season', fontsize=12)\n",
    "plt.ylabel('Minimum Free Throw Percentage', fontsize=12)\n",
    "plt.title('Minimum Free Throw Percentage (Home vs Away)', fontsize=14)\n",
    "plt.xticks([i + bar_width / 2 for i in x], min_df['Season'])\n",
    "plt.legend()\n",
    "plt.tight_layout()\n",
    "plt.show()"
   ]
  }
 ],
 "metadata": {
  "kernelspec": {
   "display_name": "Python 3 (ipykernel)",
   "language": "python",
   "name": "python3"
  },
  "language_info": {
   "codemirror_mode": {
    "name": "ipython",
    "version": 3
   },
   "file_extension": ".py",
   "mimetype": "text/x-python",
   "name": "python",
   "nbconvert_exporter": "python",
   "pygments_lexer": "ipython3",
   "version": "3.12.5"
  }
 },
 "nbformat": 4,
 "nbformat_minor": 5
}
