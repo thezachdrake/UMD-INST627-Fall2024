{
 "cells": [
  {
   "cell_type": "code",
   "execution_count": 85,
   "id": "29f201c0-edee-4ac8-a261-88786ef89efa",
   "metadata": {},
   "outputs": [],
   "source": [
    "Analytical Questions:"
   ]
  },
  {
   "cell_type": "code",
   "execution_count": null,
   "id": "00186c77-ac37-471a-b3ef-c67d7e0ddd2d",
   "metadata": {},
   "outputs": [],
   "source": [
    "#1. How has the difference in plus-minus statistics between home and away teams changed from 2019-20 season to the 2022-23 season? (plus_minus_home and plus_minus_away columns in game table)?\n",
    "#2. How was the scoring efficiency i.e fiel goal percentage of home and away games impacted by the presence or absence of fans during 2019-20 to 2022-23? (fg_pct_home, fg_pct_away)\n",
    "#3. How has the free throw rate changed for home teams and away teams changed from 2019-20 to the 2022-23 season? (fta_away, fta_home, fga_home, fga_away)\n",
    "#4. From 2019-20 to 2022-23, how did bench scoring differ between home teams and away teams? \n",
    "#5. How has the difference in offensive and defensive rebounds for home and away teams changed from 2019-20 to the 2022-23 season? (oreb_home, oreb_away, dreb_home, dreb_away)\n",
    "                                                                        "
   ]
  },
  {
   "cell_type": "code",
   "execution_count": null,
   "id": "2bc91364-ce78-4213-8972-72923e920e50",
   "metadata": {},
   "outputs": [],
   "source": []
  },
  {
   "cell_type": "code",
   "execution_count": null,
   "id": "39923abd-7f96-4f8a-b2f6-104969151e83",
   "metadata": {},
   "outputs": [],
   "source": []
  }
 ],
 "metadata": {
  "kernelspec": {
   "display_name": "Python 3 (ipykernel)",
   "language": "python",
   "name": "python3"
  },
  "language_info": {
   "codemirror_mode": {
    "name": "ipython",
    "version": 3
   },
   "file_extension": ".py",
   "mimetype": "text/x-python",
   "name": "python",
   "nbconvert_exporter": "python",
   "pygments_lexer": "ipython3",
   "version": "3.12.5"
  }
 },
 "nbformat": 4,
 "nbformat_minor": 5
}
