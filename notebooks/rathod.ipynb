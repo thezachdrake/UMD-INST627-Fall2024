{
 "cells": [
  {
   "cell_type": "code",
   "execution_count": 85,
   "id": "29f201c0-edee-4ac8-a261-88786ef89efa",
   "metadata": {},
   "outputs": [],
   "source": [
    "#Question 1: How has the difference in win-loss ratio between home and away teams changed from the 2019-20 season to the 2022-23 season? (wl_home and wl_away columns in game table)\n",
    "##Introduction: \n",
    "###Home court advantage is a major deciding factor in the result of an NBA game. Since the pandemic prevented fans from actually attending the games in person, this question explores how this situation affected the win-loss ratios from the 2019 season to the 2022 season.\n",
    "\n",
    "##Rising Action: \n",
    "###First we extract the data on win-loss ratios for home and away teams for 2019-20 to 2022-23 seasons to compare the difference during the pandemic, then aggregate the win-loss ratios for the relevant seasons. \n",
    "\n",
    "##Climax: \n",
    "###By subtracting the win-loss ratios we see how the difference has changed between home and away games.\n",
    "\n",
    "##Falling Action:\n",
    "###The analysis shows a clear decline in the 2020-21 season win-loss ratio difference, which aligns with the pandemic when no fans were around for the games. This suggests that fan presence affects the home court advantage.\n",
    "\n",
    "##Conclusion:\n",
    "###The reduced difference in win-loss ratios during the seasons we analysed shows that the pandemic had a significant impact on the results of the NBA games. "
   ]
  },
  {
   "cell_type": "code",
   "execution_count": null,
   "id": "326abba5-e866-40c2-a460-57f84f19fe6b",
   "metadata": {},
   "outputs": [],
   "source": [
    "#Question 2:How has the difference in average points scored between home and away teams changed from the 2019-20 season to the 2022-23 season? (pts_home and pts_away columns in game table)\n",
    "\n",
    "##Introduction:\n",
    "###The most critical metric for evaluating team performance is scoring. Due to factors like fan support, familiarity with court, and lack of travel fatigue, home teams tend to score more. By examining the difference in avaerag epoints we can see how the pandemix affected the results.\n",
    "\n",
    "##Rising Action:\n",
    "###We extract the data to calculate the average points for seasons from 2019-20 through 2022-23, then group them by season to calculate season-level averages.\n",
    "\n",
    "##Climax:\n",
    "###The visualization would show a noticeable decline in the 2020-21 season, which was when there was a significant absence of fans at the beginning of the pandemic.\n",
    "\n",
    "##Falling Action:\n",
    "###The significant decline in the average points implies that fan presence has a major psychological and strategic impact on players with the home court advantage.\n",
    "\n",
    "##Conclusion:\n",
    "###While some recovery is seen in the later seasons in average points, the reduced scoring difference suggests that home court advantage may have permanently shifted."
   ]
  },
  {
   "cell_type": "code",
   "execution_count": null,
   "id": "2bc91364-ce78-4213-8972-72923e920e50",
   "metadata": {},
   "outputs": [],
   "source": [
    "#Question 3:How has the difference in offensive and defensive rebounds between home and away teams changed from 2019-20 to 2022-23?(oreb_home, oreb_away, dreb_home, dreb_away in the game table)\n",
    "\n",
    "##Introduction:\n",
    "###Rebounding is an important aspect that dictates possession control and scoring opportunities. The analysis of the difference in offensive and defensive rebounds examines how the pandemic affected possible trends.\n",
    "\n",
    "##Rising Action:\n",
    "###We extracted and computed the average offensive and defensive rebounds for 2019, 2020, 2021, 2022 seasons. We aimed to quantify the home court advantage over time by calculating the difference between home and away rebounds.\n",
    "\n",
    "##Climax:\n",
    "###Home teams had an advantage but the difference decreased in the 2020-21 season, when games were played without fans. A similar trend is observed in the defensive rebounds for hoem and away games. \n",
    "\n",
    "##Falling Action:\n",
    "###The above trends are likely due to factors like crowd influence, fatigue levels, and referee decisions.\n",
    "\n",
    "##Conclusion:\n",
    "###From 2019-20 to 2022-23, there are fluctuations in the differences in the offensive and defensive rebounds between home and away teams. The most significant decline in home court advantage occurred in the  2020-21 season, however the levels did not return back to pre-pandemic levels."
   ]
  },
  {
   "cell_type": "code",
   "execution_count": null,
   "id": "cc61b1b5-b164-485c-8dcf-6291a8f6d95d",
   "metadata": {},
   "outputs": [],
   "source": [
    "#Question 4:How does the average number of three-point field goals made by home teams compare to that of away teams from the 2019-20 season to the 2022-23 season? (fg3_pct_home and fg3_pct_away columns in game table)\n",
    "\n",
    "##Introduction:\n",
    "###Three-point shots are an important part of modern basketball, which could be heavily influenced by home court advantage. We explore how the average three-point goals changed over the 2019-20 through 2022-23 NBA seasons.\n",
    "\n",
    "##Rising Action:\n",
    "###We extract and compute the difference in average three-point field goals between home and away teams for seasons 2019-20 and 2022-23, which provide insights int the shooting efficiency trends over time.\n",
    "\n",
    "##Climax:\n",
    "###In the 2019-20 season, home teams had a slight advantage in three-point shooting with an average FG3% difference of 0.0074. In 2022-23, the home advantage slightly increased to 0.0115.\n",
    "\n",
    "##Falling Action:\n",
    "###The results suggest that home teams consistently mainatain a slight edge in three-point shooting, which could be due to familiarity with the court, crowd support, pandemic effects. However, the difference is very miniscule and not that significant, whcih suggests that three-point shooting may be less affected by location than other factors. \n",
    "\n",
    "##Conclusion:\n",
    "###From 2019-20 to 2022-23, home teams mainatained slight but consistent advantage in three-point shooting percentage over away teams. This advantage increases marginally post-pandemic.\n",
    "\n",
    "\n",
    "\n",
    "\n",
    "\n",
    "\n"
   ]
  },
  {
   "cell_type": "code",
   "execution_count": null,
   "id": "5f532233-f3a5-4a9c-af8c-b1d403dd77e3",
   "metadata": {},
   "outputs": [],
   "source": [
    "#Question 5:How does the free throw percentage of home teams compare to that of away teams from the 2019-20 season to the 2022-23 season? (ft_pct_home and ft_pct_away in the game table)\n",
    "\n",
    "##Introduction:\n",
    "###Free throws give teams the opportunity to score uncontested points. Home court advantage could influence free throw percentage due to crwod noise or comfortable environment. We can compare the percentages to uncover any significant trends.\n",
    "\n",
    "##Rising Action:\n",
    "###We retrieve minimum, maximum and total free throw percentages for home and away teams for 2019-20 and 2022-23 which gives comprehensive view of FT percentages across different locations and seasons.\n",
    "\n",
    "##Climax:\n",
    "###For 2019-20, maximum free throw percentages were identical for home and away teams=1.0. For 2022-23, maximum free throw percentages remained equal=1.0.\n",
    "\n",
    "##Falling Action:\n",
    "###Data indicates that while maximum free throw percentages remain consistent, home teams tend to have slightly higher minimum free throw percentage.\n",
    "\n",
    "##Conclusion:\n",
    "###We can conclude that upper end is comparable between hoem and away teams, but home teams show a higher minimum free throw percentage which emphasizes the home court advantage."
   ]
  }
 ],
 "metadata": {
  "kernelspec": {
   "display_name": "Python 3 (ipykernel)",
   "language": "python",
   "name": "python3"
  },
  "language_info": {
   "codemirror_mode": {
    "name": "ipython",
    "version": 3
   },
   "file_extension": ".py",
   "mimetype": "text/x-python",
   "name": "python",
   "nbconvert_exporter": "python",
   "pygments_lexer": "ipython3",
   "version": "3.12.5"
  }
 },
 "nbformat": 4,
 "nbformat_minor": 5
}
