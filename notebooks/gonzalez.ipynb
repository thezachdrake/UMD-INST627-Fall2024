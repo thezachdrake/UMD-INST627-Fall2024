{
 "cells": [
  {
   "cell_type": "code",
   "execution_count": 6,
   "id": "8b2bc7c6-ef48-417f-9346-639a76a59abc",
   "metadata": {},
   "outputs": [
    {
     "ename": "OperationalError",
     "evalue": "unable to open database file",
     "output_type": "error",
     "traceback": [
      "\u001b[1;31m---------------------------------------------------------------------------\u001b[0m",
      "\u001b[1;31mOperationalError\u001b[0m                          Traceback (most recent call last)",
      "Cell \u001b[1;32mIn[6], line 5\u001b[0m\n\u001b[0;32m      3\u001b[0m \u001b[38;5;28;01mimport\u001b[39;00m \u001b[38;5;21;01msqlite3\u001b[39;00m\n\u001b[0;32m      4\u001b[0m \u001b[38;5;66;03m# Question 1: Which teams have most consistently had the highest score?\u001b[39;00m\n\u001b[1;32m----> 5\u001b[0m con \u001b[38;5;241m=\u001b[39m \u001b[43msqlite3\u001b[49m\u001b[38;5;241;43m.\u001b[39;49m\u001b[43mconnect\u001b[49m\u001b[43m(\u001b[49m\u001b[38;5;124;43m\"\u001b[39;49m\u001b[38;5;124;43mdata/nba.sqlite\u001b[39;49m\u001b[38;5;124;43m\"\u001b[39;49m\u001b[43m)\u001b[49m\n\u001b[0;32m      6\u001b[0m overall \u001b[38;5;241m=\u001b[39m pd\u001b[38;5;241m.\u001b[39mread_sql_query(\u001b[38;5;124m\"\u001b[39m\u001b[38;5;124mSELECT * FROM game LIMIT 100\u001b[39m\u001b[38;5;124m\"\u001b[39m, con)\n\u001b[0;32m      7\u001b[0m highest_score \u001b[38;5;241m=\u001b[39m pd\u001b[38;5;241m.\u001b[39mread_sql_query(\u001b[38;5;124m\"\u001b[39m\u001b[38;5;124mSELECT team_name_home AS Team_Name, AVG(pts_home) AS Average_Points FROM game GROUP BY team_id_home ORDER BY AVG(pts_home) DESC\u001b[39m\u001b[38;5;124m\"\u001b[39m, con)\n",
      "\u001b[1;31mOperationalError\u001b[0m: unable to open database file"
     ]
    }
   ],
   "source": [
    "#Perry Gonzalez Issue 5\n",
    "import pandas as pd\n",
    "import sqlite3\n",
    "# Question 1: Which teams have most consistently had the highest score?\n",
    "con = sqlite3.connect(\"data/nba.sqlite\")\n",
    "overall = pd.read_sql_query(\"SELECT * FROM game LIMIT 100\", con)\n",
    "highest_score = pd.read_sql_query(\"SELECT team_name_home AS Team_Name, AVG(pts_home) AS Average_Points FROM game GROUP BY team_id_home ORDER BY AVG(pts_home) DESC\", con)\n",
    "highest_score"
   ]
  },
  {
   "cell_type": "code",
   "execution_count": 3,
   "id": "c78365fe-1c3c-45d9-b283-554bf1b67741",
   "metadata": {},
   "outputs": [
    {
     "ename": "NameError",
     "evalue": "name 'con' is not defined",
     "output_type": "error",
     "traceback": [
      "\u001b[1;31m---------------------------------------------------------------------------\u001b[0m",
      "\u001b[1;31mNameError\u001b[0m                                 Traceback (most recent call last)",
      "Cell \u001b[1;32mIn[3], line 4\u001b[0m\n\u001b[0;32m      1\u001b[0m \u001b[38;5;66;03m# Question 2: Which team has had below average for the most \u001b[39;00m\n\u001b[0;32m      2\u001b[0m \u001b[38;5;66;03m# consecutive seasons?\u001b[39;00m\n\u001b[1;32m----> 4\u001b[0m total_average_pts \u001b[38;5;241m=\u001b[39m pd\u001b[38;5;241m.\u001b[39mread_sql_query(\u001b[38;5;124m\"\u001b[39m\u001b[38;5;124mSELECT AVG(pts_home + pts_away) AS Average_Points FROM game\u001b[39m\u001b[38;5;124m\"\u001b[39m, \u001b[43mcon\u001b[49m)\n\u001b[0;32m      5\u001b[0m \u001b[38;5;66;03m#Total Avearage is 205.610704\u001b[39;00m\n\u001b[0;32m      6\u001b[0m below_average \u001b[38;5;241m=\u001b[39m pd\u001b[38;5;241m.\u001b[39mread_sql_query(\u001b[38;5;124m\"\"\"\u001b[39m\n\u001b[0;32m      7\u001b[0m \u001b[38;5;124m    SELECT \u001b[39m\n\u001b[0;32m      8\u001b[0m \u001b[38;5;124m        team_name_home AS Team_Name, \u001b[39m\n\u001b[1;32m   (...)\u001b[0m\n\u001b[0;32m     22\u001b[0m \u001b[38;5;124m    ORDER BY Seasons_Below_Average DESC\u001b[39m\n\u001b[0;32m     23\u001b[0m \u001b[38;5;124m\"\"\"\u001b[39m, con)\n",
      "\u001b[1;31mNameError\u001b[0m: name 'con' is not defined"
     ]
    }
   ],
   "source": [
    "# Question 2: Which team has had below average for the most \n",
    "# consecutive seasons?\n",
    "\n",
    "total_average_pts = pd.read_sql_query(\"SELECT AVG(pts_home + pts_away) AS Average_Points FROM game\", con)\n",
    "#Total Avearage is 205.610704\n",
    "below_average = pd.read_sql_query(\"\"\"\n",
    "    SELECT \n",
    "        team_name_home AS Team_Name, \n",
    "        team_id_home AS Team_ID,\n",
    "        COUNT(season_id) AS Seasons_Below_Average\n",
    "    FROM (\n",
    "        SELECT \n",
    "            season_id, \n",
    "            team_id_home, \n",
    "            team_name_home,\n",
    "            AVG(pts_home + pts_away) AS Season_Avg_Points\n",
    "        FROM game\n",
    "        GROUP BY season_id, team_id_home\n",
    "        HAVING Season_Avg_Points < 205.610704\n",
    "    ) AS Season_Below_Average\n",
    "    GROUP BY team_id_home\n",
    "    ORDER BY Seasons_Below_Average DESC\n",
    "\"\"\", con)\n",
    "\n",
    "below_average"
   ]
  },
  {
   "cell_type": "code",
   "execution_count": 4,
   "id": "e62e4391-958a-4bce-8c2d-9faa5c122505",
   "metadata": {},
   "outputs": [
    {
     "ename": "NameError",
     "evalue": "name 'con' is not defined",
     "output_type": "error",
     "traceback": [
      "\u001b[1;31m---------------------------------------------------------------------------\u001b[0m",
      "\u001b[1;31mNameError\u001b[0m                                 Traceback (most recent call last)",
      "Cell \u001b[1;32mIn[4], line 9\u001b[0m\n\u001b[0;32m      1\u001b[0m \u001b[38;5;66;03m# Question 3: Which team has consistently made it to the playoffs?\u001b[39;00m\n\u001b[0;32m      3\u001b[0m consistent_playoffs \u001b[38;5;241m=\u001b[39m  pd\u001b[38;5;241m.\u001b[39mread_sql_query(\u001b[38;5;124m\"\"\"\u001b[39m\n\u001b[0;32m      4\u001b[0m \u001b[38;5;124mSELECT team_name_home AS team, COUNT(DISTINCT season_id) AS playoff_seasons\u001b[39m\n\u001b[0;32m      5\u001b[0m \u001b[38;5;124mFROM game\u001b[39m\n\u001b[0;32m      6\u001b[0m \u001b[38;5;124mWHERE season_type = \u001b[39m\u001b[38;5;124m'\u001b[39m\u001b[38;5;124mPlayoffs\u001b[39m\u001b[38;5;124m'\u001b[39m\n\u001b[0;32m      7\u001b[0m \u001b[38;5;124mGROUP BY team\u001b[39m\n\u001b[0;32m      8\u001b[0m \u001b[38;5;124mORDER BY playoff_seasons DESC;\u001b[39m\n\u001b[1;32m----> 9\u001b[0m \u001b[38;5;124m\"\"\"\u001b[39m, \u001b[43mcon\u001b[49m)\n\u001b[0;32m     10\u001b[0m consistent_playoffs\n",
      "\u001b[1;31mNameError\u001b[0m: name 'con' is not defined"
     ]
    }
   ],
   "source": [
    "# Question 3: Which team has consistently made it to the playoffs?\n",
    "\n",
    "consistent_playoffs =  pd.read_sql_query(\"\"\"\n",
    "SELECT team_name_home AS team, COUNT(DISTINCT season_id) AS playoff_seasons\n",
    "FROM game\n",
    "WHERE season_type = 'Playoffs'\n",
    "GROUP BY team\n",
    "ORDER BY playoff_seasons DESC;\n",
    "\"\"\", con)\n",
    "consistent_playoffs"
   ]
  },
  {
   "cell_type": "code",
   "execution_count": 5,
   "id": "67233b18-b3ee-435d-9a93-f1b67d07ec75",
   "metadata": {},
   "outputs": [
    {
     "ename": "NameError",
     "evalue": "name 'con' is not defined",
     "output_type": "error",
     "traceback": [
      "\u001b[1;31m---------------------------------------------------------------------------\u001b[0m",
      "\u001b[1;31mNameError\u001b[0m                                 Traceback (most recent call last)",
      "Cell \u001b[1;32mIn[5], line 28\u001b[0m\n\u001b[0;32m      1\u001b[0m \u001b[38;5;66;03m# Question 4: Does a higher proportion of successful three-point throws\u001b[39;00m\n\u001b[0;32m      2\u001b[0m \u001b[38;5;66;03m# increase the likelihood of winning?\u001b[39;00m\n\u001b[0;32m      4\u001b[0m three_point_ratio_win_rate \u001b[38;5;241m=\u001b[39m pd\u001b[38;5;241m.\u001b[39mread_sql_query(\u001b[38;5;124m\"\"\"\u001b[39m\n\u001b[0;32m      5\u001b[0m \u001b[38;5;124mWITH GameStats AS (\u001b[39m\n\u001b[0;32m      6\u001b[0m \u001b[38;5;124m    SELECT \u001b[39m\n\u001b[0;32m      7\u001b[0m \u001b[38;5;124m        game_id,\u001b[39m\n\u001b[0;32m      8\u001b[0m \u001b[38;5;124m        team_name_home AS team,\u001b[39m\n\u001b[0;32m      9\u001b[0m \u001b[38;5;124m        fga_home, \u001b[39m\n\u001b[0;32m     10\u001b[0m \u001b[38;5;124m        fg3a_home,\u001b[39m\n\u001b[0;32m     11\u001b[0m \u001b[38;5;124m        CAST(fg3a_home AS FLOAT) / NULLIF(fga_home, 0) AS three_pt_ratio,\u001b[39m\n\u001b[0;32m     12\u001b[0m \u001b[38;5;124m        CASE WHEN wl_home = \u001b[39m\u001b[38;5;124m'\u001b[39m\u001b[38;5;124mW\u001b[39m\u001b[38;5;124m'\u001b[39m\u001b[38;5;124m THEN 1 ELSE 0 END AS win\u001b[39m\n\u001b[0;32m     13\u001b[0m \u001b[38;5;124m    FROM game\u001b[39m\n\u001b[0;32m     14\u001b[0m \u001b[38;5;124m    WHERE fga_home IS NOT NULL AND fg3a_home IS NOT NULL\u001b[39m\n\u001b[0;32m     15\u001b[0m \u001b[38;5;124m)\u001b[39m\n\u001b[0;32m     16\u001b[0m \u001b[38;5;124mSELECT \u001b[39m\n\u001b[0;32m     17\u001b[0m \u001b[38;5;124m    CASE \u001b[39m\n\u001b[0;32m     18\u001b[0m \u001b[38;5;124m        WHEN three_pt_ratio < 0.2 THEN \u001b[39m\u001b[38;5;124m'\u001b[39m\u001b[38;5;124mLow (<20\u001b[39m\u001b[38;5;124m%\u001b[39m\u001b[38;5;124m)\u001b[39m\u001b[38;5;124m'\u001b[39m\n\u001b[0;32m     19\u001b[0m \u001b[38;5;124m        WHEN three_pt_ratio BETWEEN 0.2 AND 0.4 THEN \u001b[39m\u001b[38;5;124m'\u001b[39m\u001b[38;5;124mMedium (20-40\u001b[39m\u001b[38;5;124m%\u001b[39m\u001b[38;5;124m)\u001b[39m\u001b[38;5;124m'\u001b[39m\n\u001b[0;32m     20\u001b[0m \u001b[38;5;124m        WHEN three_pt_ratio BETWEEN 0.4 AND 0.6 THEN \u001b[39m\u001b[38;5;124m'\u001b[39m\u001b[38;5;124mHigh (40-60\u001b[39m\u001b[38;5;124m%\u001b[39m\u001b[38;5;124m)\u001b[39m\u001b[38;5;124m'\u001b[39m\n\u001b[0;32m     21\u001b[0m \u001b[38;5;124m        ELSE \u001b[39m\u001b[38;5;124m'\u001b[39m\u001b[38;5;124mVery High (>60\u001b[39m\u001b[38;5;124m%\u001b[39m\u001b[38;5;124m)\u001b[39m\u001b[38;5;124m'\u001b[39m\n\u001b[0;32m     22\u001b[0m \u001b[38;5;124m    END AS three_point_ratio_range,\u001b[39m\n\u001b[0;32m     23\u001b[0m \u001b[38;5;124m    AVG(win) AS win_rate,\u001b[39m\n\u001b[0;32m     24\u001b[0m \u001b[38;5;124m    AVG(three_pt_ratio) AS avg_three_pt_ratio\u001b[39m\n\u001b[0;32m     25\u001b[0m \u001b[38;5;124mFROM GameStats\u001b[39m\n\u001b[0;32m     26\u001b[0m \u001b[38;5;124mGROUP BY three_point_ratio_range\u001b[39m\n\u001b[0;32m     27\u001b[0m \u001b[38;5;124mORDER BY avg_three_pt_ratio DESC;\u001b[39m\n\u001b[1;32m---> 28\u001b[0m \u001b[38;5;124m\"\"\"\u001b[39m, \u001b[43mcon\u001b[49m)\n\u001b[0;32m     30\u001b[0m three_point_ratio_win_rate\n",
      "\u001b[1;31mNameError\u001b[0m: name 'con' is not defined"
     ]
    }
   ],
   "source": [
    "# Question 4: Does a higher proportion of successful three-point throws\n",
    "# increase the likelihood of winning?\n",
    "\n",
    "three_point_ratio_win_rate = pd.read_sql_query(\"\"\"\n",
    "WITH GameStats AS (\n",
    "    SELECT \n",
    "        game_id,\n",
    "        team_name_home AS team,\n",
    "        fga_home, \n",
    "        fg3a_home,\n",
    "        CAST(fg3a_home AS FLOAT) / NULLIF(fga_home, 0) AS three_pt_ratio,\n",
    "        CASE WHEN wl_home = 'W' THEN 1 ELSE 0 END AS win\n",
    "    FROM game\n",
    "    WHERE fga_home IS NOT NULL AND fg3a_home IS NOT NULL\n",
    ")\n",
    "SELECT \n",
    "    CASE \n",
    "        WHEN three_pt_ratio < 0.2 THEN 'Low (<20%)'\n",
    "        WHEN three_pt_ratio BETWEEN 0.2 AND 0.4 THEN 'Medium (20-40%)'\n",
    "        WHEN three_pt_ratio BETWEEN 0.4 AND 0.6 THEN 'High (40-60%)'\n",
    "        ELSE 'Very High (>60%)'\n",
    "    END AS three_point_ratio_range,\n",
    "    AVG(win) AS win_rate,\n",
    "    AVG(three_pt_ratio) AS avg_three_pt_ratio\n",
    "FROM GameStats\n",
    "GROUP BY three_point_ratio_range\n",
    "ORDER BY avg_three_pt_ratio DESC;\n",
    "\"\"\", con)\n",
    "\n",
    "three_point_ratio_win_rate"
   ]
  },
  {
   "cell_type": "code",
   "execution_count": null,
   "id": "a2c51236-6a2f-4eba-84cd-b06b8a38881f",
   "metadata": {},
   "outputs": [],
   "source": [
    "# Question 5: How does the frequency of turnovers in a game affect\n",
    "# the likelihood of winning? Simply put, do more turnovers help or hinder?\n",
    "\n",
    "turnover_impact = pd.read_sql_query(\"\"\"\n",
    "WITH TurnoverStats AS (\n",
    "    SELECT \n",
    "        game_id,\n",
    "        team_name_home AS team,\n",
    "        tov_home AS turnovers,\n",
    "        CASE WHEN wl_home = 'W' THEN 1 ELSE 0 END AS win\n",
    "    FROM game\n",
    "    WHERE tov_home IS NOT NULL\n",
    ")\n",
    "SELECT \n",
    "    CASE \n",
    "        WHEN turnovers < 10 THEN 'Low (<10)'\n",
    "        WHEN turnovers BETWEEN 10 AND 15 THEN 'Medium (10-15)'\n",
    "        WHEN turnovers BETWEEN 16 AND 20 THEN 'High (16-20)'\n",
    "        ELSE 'Very High (>20)'\n",
    "    END AS turnover_range,\n",
    "    AVG(win) AS win_rate,\n",
    "    AVG(turnovers) AS avg_turnover_frequency\n",
    "FROM TurnoverStats\n",
    "GROUP BY turnover_range\n",
    "ORDER BY avg_turnover_frequency DESC;\n",
    "\"\"\", con)\n",
    "\n",
    "turnover_impact"
   ]
  }
 ],
 "metadata": {
  "kernelspec": {
   "display_name": "Python 3 (ipykernel)",
   "language": "python",
   "name": "python3"
  },
  "language_info": {
   "codemirror_mode": {
    "name": "ipython",
    "version": 3
   },
   "file_extension": ".py",
   "mimetype": "text/x-python",
   "name": "python",
   "nbconvert_exporter": "python",
   "pygments_lexer": "ipython3",
   "version": "3.12.5"
  }
 },
 "nbformat": 4,
 "nbformat_minor": 5
}
