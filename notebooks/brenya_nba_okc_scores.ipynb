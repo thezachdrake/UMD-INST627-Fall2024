{
 "cells": [
  {
   "cell_type": "code",
   "execution_count": 6,
   "metadata": {},
   "outputs": [
    {
     "name": "stdout",
     "output_type": "stream",
     "text": [
      "Most Recent Season: 2023\n",
      "Average Home Score for OKC in 2023: 124.4090909090909\n",
      "Average Away Score for OKC in 2023: 114.54166666666667\n"
     ]
    }
   ],
   "source": [
    "import pandas as pd\n",
    "import sqlite3\n",
    "\n",
    "con = sqlite3.connect(\"data/nba.sqlite\")\n",
    "\n",
    "# Extract the most recent season by querying distinct years from the 'game_date' column\n",
    "seasons = pd.read_sql_query(\"SELECT DISTINCT strftime('%Y', game_date) as season_year FROM game ORDER BY season_year DESC\", con)\n",
    "\n",
    "# Identify the most recent season\n",
    "most_recent_season = seasons.iloc[0]['season_year']\n",
    "print(\"Most Recent Season:\", most_recent_season)\n",
    "\n",
    "# Abbreviation for Oklahoma City Thunder\n",
    "team_abbreviation = 'OKC'\n",
    "\n",
    "# Query to get all the games involving the Oklahoma City Thunder in the most recent season\n",
    "team_games = pd.read_sql_query(f\"\"\"\n",
    "    SELECT \n",
    "        team_abbreviation_home AS home_team, \n",
    "        team_abbreviation_away AS away_team, \n",
    "        pts_home AS home_score, \n",
    "        pts_away AS away_score \n",
    "    FROM \n",
    "        game \n",
    "    WHERE \n",
    "        (team_abbreviation_home = '{team_abbreviation}' OR team_abbreviation_away = '{team_abbreviation}') \n",
    "        AND strftime('%Y', game_date) = '{most_recent_season}'\n",
    "\"\"\", con)\n",
    "\n",
    "# Separate home games and away games for Oklahoma City Thunder\n",
    "home_games = team_games[team_games['home_team'] == team_abbreviation]\n",
    "away_games = team_games[team_games['away_team'] == team_abbreviation]\n",
    "\n",
    "# Calculate the average score for home and away games\n",
    "average_home_score = home_games['home_score'].mean()\n",
    "average_away_score = away_games['away_score'].mean()\n",
    "\n",
    "\n",
    "print(f\"Average Home Score for {team_abbreviation} in {most_recent_season}: {average_home_score}\")\n",
    "print(f\"Average Away Score for {team_abbreviation} in {most_recent_season}: {average_away_score}\")\n",
    "\n",
    "\n",
    "con.close()\n"
   ]
  }
 ],
 "metadata": {
  "kernelspec": {
   "display_name": "Python 3",
   "language": "python",
   "name": "python3"
  },
  "language_info": {
   "codemirror_mode": {
    "name": "ipython",
    "version": 3
   },
   "file_extension": ".py",
   "mimetype": "text/x-python",
   "name": "python",
   "nbconvert_exporter": "python",
   "pygments_lexer": "ipython3",
   "version": "3.11.9"
  }
 },
 "nbformat": 4,
 "nbformat_minor": 2
}
