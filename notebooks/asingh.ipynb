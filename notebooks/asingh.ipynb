{
 "cells": [
  {
   "cell_type": "code",
   "execution_count": 1,
   "metadata": {},
   "outputs": [],
   "source": [
    "import pandas as pd"
   ]
  },
  {
   "cell_type": "code",
   "execution_count": 3,
   "metadata": {},
   "outputs": [
    {
     "name": "stdout",
     "output_type": "stream",
     "text": [
      "c:\\Users\\aarus\\OneDrive\\Documents\\UMD-INST627-Fall2024\\notebooks\n"
     ]
    }
   ],
   "source": [
    "import os\n",
    "print(os.getcwd())\n"
   ]
  },
  {
   "cell_type": "code",
   "execution_count": 7,
   "metadata": {},
   "outputs": [],
   "source": [
    "con = sqlite3.connect(r'c:\\Users\\aarus\\OneDrive\\Documents\\UMD-INST627-Fall2024\\data\\nba.sqlite')"
   ]
  },
  {
   "cell_type": "code",
   "execution_count": 8,
   "metadata": {},
   "outputs": [
    {
     "name": "stdout",
     "output_type": "stream",
     "text": [
      "Tables in the database:\n",
      "                   name\n",
      "0                  game\n",
      "1          game_summary\n",
      "2           other_stats\n",
      "3             officials\n",
      "4      inactive_players\n",
      "5             game_info\n",
      "6            line_score\n",
      "7          play_by_play\n",
      "8                player\n",
      "9                  team\n",
      "10   common_player_info\n",
      "11         team_details\n",
      "12         team_history\n",
      "13  draft_combine_stats\n",
      "14        draft_history\n",
      "15     team_info_common\n"
     ]
    }
   ],
   "source": [
    "import sqlite3\n",
    "import pandas as pd\n",
    "\n",
    "# Connect to the SQLite database\n",
    "con = sqlite3.connect(r'c:\\Users\\aarus\\OneDrive\\Documents\\UMD-INST627-Fall2024\\data\\nba.sqlite')\n",
    "\n",
    "# Query to get all table names\n",
    "query = \"SELECT name FROM sqlite_master WHERE type='table';\"\n",
    "tables = pd.read_sql_query(query, con)\n",
    "\n",
    "print(\"Tables in the database:\")\n",
    "print(tables)\n",
    "\n",
    "# Close the connection\n",
    "con.close()"
   ]
  },
  {
   "cell_type": "code",
   "execution_count": 9,
   "metadata": {},
   "outputs": [
    {
     "name": "stdout",
     "output_type": "stream",
     "text": [
      "Average score for BOS at home: 106.28\n",
      "Average score for BOS away: 102.25\n"
     ]
    }
   ],
   "source": [
    "#Issue 3\n",
    "# Connect to the SQLite database\n",
    "con = sqlite3.connect(r'c:\\Users\\aarus\\OneDrive\\Documents\\UMD-INST627-Fall2024\\data\\nba.sqlite')\n",
    "\n",
    "# Query to compute average scores for BOS\n",
    "query = \"\"\"\n",
    "SELECT \n",
    "    AVG(CASE WHEN team_abbreviation_home = 'BOS' THEN pts_home END) AS avg_home_score,\n",
    "    AVG(CASE WHEN team_abbreviation_away = 'BOS' THEN pts_away END) AS avg_away_score\n",
    "FROM game;\n",
    "\"\"\"\n",
    "\n",
    "# Execute the query\n",
    "result = pd.read_sql_query(query, con)\n",
    "\n",
    "# Print the results\n",
    "print(f\"Average score for BOS at home: {result['avg_home_score'][0]:.2f}\")\n",
    "print(f\"Average score for BOS away: {result['avg_away_score'][0]:.2f}\")\n",
    "\n",
    "# Close the connection\n",
    "con.close()"
   ]
  },
  {
   "cell_type": "code",
   "execution_count": 10,
   "metadata": {},
   "outputs": [
    {
     "name": "stdout",
     "output_type": "stream",
     "text": [
      "Collecting matplotlib\n",
      "  Downloading matplotlib-3.10.0-cp313-cp313-win_amd64.whl.metadata (11 kB)\n",
      "Collecting contourpy>=1.0.1 (from matplotlib)\n",
      "  Downloading contourpy-1.3.1-cp313-cp313-win_amd64.whl.metadata (5.4 kB)\n",
      "Collecting cycler>=0.10 (from matplotlib)\n",
      "  Downloading cycler-0.12.1-py3-none-any.whl.metadata (3.8 kB)\n",
      "Collecting fonttools>=4.22.0 (from matplotlib)\n",
      "  Downloading fonttools-4.55.3-cp313-cp313-win_amd64.whl.metadata (168 kB)\n",
      "Collecting kiwisolver>=1.3.1 (from matplotlib)\n",
      "  Downloading kiwisolver-1.4.7-cp313-cp313-win_amd64.whl.metadata (6.4 kB)\n",
      "Requirement already satisfied: numpy>=1.23 in c:\\users\\aarus\\appdata\\local\\programs\\python\\python313\\lib\\site-packages (from matplotlib) (2.2.0)\n",
      "Requirement already satisfied: packaging>=20.0 in c:\\users\\aarus\\appdata\\roaming\\python\\python313\\site-packages (from matplotlib) (24.2)\n",
      "Collecting pillow>=8 (from matplotlib)\n",
      "  Downloading pillow-11.0.0-cp313-cp313-win_amd64.whl.metadata (9.3 kB)\n",
      "Collecting pyparsing>=2.3.1 (from matplotlib)\n",
      "  Downloading pyparsing-3.2.0-py3-none-any.whl.metadata (5.0 kB)\n",
      "Requirement already satisfied: python-dateutil>=2.7 in c:\\users\\aarus\\appdata\\roaming\\python\\python313\\site-packages (from matplotlib) (2.9.0.post0)\n",
      "Requirement already satisfied: six>=1.5 in c:\\users\\aarus\\appdata\\roaming\\python\\python313\\site-packages (from python-dateutil>=2.7->matplotlib) (1.17.0)\n",
      "Downloading matplotlib-3.10.0-cp313-cp313-win_amd64.whl (8.0 MB)\n",
      "   ---------------------------------------- 0.0/8.0 MB ? eta -:--:--\n",
      "   ------ --------------------------------- 1.3/8.0 MB 6.9 MB/s eta 0:00:01\n",
      "   ---------------- ----------------------- 3.4/8.0 MB 9.0 MB/s eta 0:00:01\n",
      "   -------------------------- ------------- 5.2/8.0 MB 8.8 MB/s eta 0:00:01\n",
      "   --------------------------------- ------ 6.8/8.0 MB 8.4 MB/s eta 0:00:01\n",
      "   ---------------------------------------  7.9/8.0 MB 7.8 MB/s eta 0:00:01\n",
      "   ---------------------------------------- 8.0/8.0 MB 7.6 MB/s eta 0:00:00\n",
      "Downloading contourpy-1.3.1-cp313-cp313-win_amd64.whl (220 kB)\n",
      "Downloading cycler-0.12.1-py3-none-any.whl (8.3 kB)\n",
      "Downloading fonttools-4.55.3-cp313-cp313-win_amd64.whl (2.2 MB)\n",
      "   ---------------------------------------- 0.0/2.2 MB ? eta -:--:--\n",
      "   -------------- ------------------------- 0.8/2.2 MB 3.8 MB/s eta 0:00:01\n",
      "   ---------------------------- ----------- 1.6/2.2 MB 3.7 MB/s eta 0:00:01\n",
      "   ---------------------------------------- 2.2/2.2 MB 4.0 MB/s eta 0:00:00\n",
      "Downloading kiwisolver-1.4.7-cp313-cp313-win_amd64.whl (55 kB)\n",
      "Downloading pillow-11.0.0-cp313-cp313-win_amd64.whl (2.6 MB)\n",
      "   ---------------------------------------- 0.0/2.6 MB ? eta -:--:--\n",
      "   ---------------- ----------------------- 1.0/2.6 MB 5.9 MB/s eta 0:00:01\n",
      "   ---------------------------- ----------- 1.8/2.6 MB 5.6 MB/s eta 0:00:01\n",
      "   ---------------------------------------- 2.6/2.6 MB 4.2 MB/s eta 0:00:00\n",
      "Downloading pyparsing-3.2.0-py3-none-any.whl (106 kB)\n",
      "Installing collected packages: pyparsing, pillow, kiwisolver, fonttools, cycler, contourpy, matplotlib\n",
      "Successfully installed contourpy-1.3.1 cycler-0.12.1 fonttools-4.55.3 kiwisolver-1.4.7 matplotlib-3.10.0 pillow-11.0.0 pyparsing-3.2.0\n",
      "Note: you may need to restart the kernel to use updated packages.\n"
     ]
    }
   ],
   "source": [
    "pip install matplotlib"
   ]
  },
  {
   "cell_type": "code",
   "execution_count": 11,
   "metadata": {},
   "outputs": [],
   "source": [
    "import matplotlib.pyplot as plt"
   ]
  },
  {
   "cell_type": "markdown",
   "metadata": {},
   "source": [
    "Issue 4\n",
    "Each group needs to agree on a business objective to solve and 5 analytical questions they want to answer. Try to make these questions as deep as possible. For example \"\"Does a substitution in the third quarter increase or decrease the odds of a victory?\"\" is far superior to \"\"how many substations happen in the third quarter on average?\"\". Try to outline a useful business objective to a team or league and 5 deep analytical questions that could help solve it.\n",
    "\n",
    "1. Which draft pick rounds (or positions) have historically produced the most successful players based on career stats such as average points per game, assists, or minutes played?\n",
    "2. What are the most significant factors contributing to a team's win margin: player efficiency, bench scoring, turnovers, or defensive stats?\n",
    "3. Which teams demonstrate the highest player rotation efficiency by analyzing the relationship between bench points and total team points?\n",
    "4. What player roles or positions (e.g., guard, forward, center) contribute the most to team success based on key performance metrics in wins vs. losses?\n",
    "5. Is there a statistical relationship between three-point shot attempts and team success? Do teams relying heavily on three-pointers win more consistently?"
   ]
  }
 ],
 "metadata": {
  "kernelspec": {
   "display_name": "Python 3",
   "language": "python",
   "name": "python3"
  },
  "language_info": {
   "codemirror_mode": {
    "name": "ipython",
    "version": 3
   },
   "file_extension": ".py",
   "mimetype": "text/x-python",
   "name": "python",
   "nbconvert_exporter": "python",
   "pygments_lexer": "ipython3",
   "version": "3.13.1"
  }
 },
 "nbformat": 4,
 "nbformat_minor": 2
}
