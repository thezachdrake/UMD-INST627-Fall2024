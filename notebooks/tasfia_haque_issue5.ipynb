{
 "cells": [
  {
   "cell_type": "markdown",
   "id": "93a19c4e-c173-4e59-9f19-6ed3d4f197c7",
   "metadata": {},
   "source": [
    "### Five Descriptive/Summary Statistical Questions"
   ]
  },
  {
   "cell_type": "markdown",
   "id": "f476bc0e-aa7d-407c-94c5-00ab64adf7da",
   "metadata": {},
   "source": [
    "1. How does each team’s win-loss record vary over the last few seasons (is it consistent or is there a large amount of variation)? \n",
    "2. Which teams have been consistently playing (have they gone on/off from playing in the games)?\n",
    "3. Which teams have the highest percentage of wins in games decided by five points or fewer?\n",
    "4. How does each team’s performance vary when playing home vs. away games\n",
    "5.\n",
    "\n",
    "Note: To be honest, I'm not super knowledgable on sports...so I had to do a bit of outside research for this. Apologies in advance if this isn't very accurate."
   ]
  }
 ],
 "metadata": {
  "kernelspec": {
   "display_name": "Python 3 (ipykernel)",
   "language": "python",
   "name": "python3"
  },
  "language_info": {
   "codemirror_mode": {
    "name": "ipython",
    "version": 3
   },
   "file_extension": ".py",
   "mimetype": "text/x-python",
   "name": "python",
   "nbconvert_exporter": "python",
   "pygments_lexer": "ipython3",
   "version": "3.10.6"
  }
 },
 "nbformat": 4,
 "nbformat_minor": 5
}
