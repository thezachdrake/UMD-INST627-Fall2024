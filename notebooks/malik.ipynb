{
 "cells": [
  {
   "cell_type": "code",
   "execution_count": 6,
   "id": "cd4048e6-d576-47bf-8fc4-305ac95d3024",
   "metadata": {},
   "outputs": [
    {
     "data": {
      "text/html": [
       "<div>\n",
       "<style scoped>\n",
       "    .dataframe tbody tr th:only-of-type {\n",
       "        vertical-align: middle;\n",
       "    }\n",
       "\n",
       "    .dataframe tbody tr th {\n",
       "        vertical-align: top;\n",
       "    }\n",
       "\n",
       "    .dataframe thead th {\n",
       "        text-align: right;\n",
       "    }\n",
       "</style>\n",
       "<table border=\"1\" class=\"dataframe\">\n",
       "  <thead>\n",
       "    <tr style=\"text-align: right;\">\n",
       "      <th></th>\n",
       "      <th>AVG(pts_home)</th>\n",
       "    </tr>\n",
       "  </thead>\n",
       "  <tbody>\n",
       "    <tr>\n",
       "      <th>0</th>\n",
       "      <td>123.666667</td>\n",
       "    </tr>\n",
       "  </tbody>\n",
       "</table>\n",
       "</div>"
      ],
      "text/plain": [
       "   AVG(pts_home)\n",
       "0     123.666667"
      ]
     },
     "execution_count": 6,
     "metadata": {},
     "output_type": "execute_result"
    }
   ],
   "source": [
    "import pandas as pd\n",
    "import sqlite3\n",
    "\n",
    "#opens database connection to file. Pulls 100 games and runs the SQL query and returned as pandas dataframe.\n",
    "con = sqlite3.connect(\"data/nba.sqlite\")\n",
    "games = pd.read_sql_query(\"SELECT * FROM game LIMIT 100\", con)\n",
    "active_players = pd.read_sql_query(\"SELECT full_name FROM player WHERE is_active=TRUE\", con)\n",
    "\n",
    "#using sql functions to get outcome instead of pandas\n",
    "query1 = \"\"\"\n",
    "    SELECT id \n",
    "    FROM team \n",
    "    WHERE full_name='Atlanta Hawks'\n",
    "    \"\"\"\n",
    "df = pd.read_sql_query(query1, con)\n",
    "hawks_id = '1610612737' #this was returned from sql for query1 above. Will search for this later below\n",
    "get_recent_season = \"SELECT * FROM game ORDER BY game_date DESC\" #query to sort most recent season, 2023, descending\n",
    "df = pd.read_sql_query(get_recent_season, con)\n",
    "df #returns df descending\n",
    "\n",
    "most_recent_season = df.iloc[0][\"season_id\"] #variable - id of the most recent season. extracted both Hawks ID above, & season ID here\n",
    "most_recent_season\n",
    "\n",
    "pd.read_sql_query(\"SELECT * FROM game\", con) #get home games from last year\n",
    "\n",
    "#need to get all home games but just points for them\n",
    "home_pts_avg_query = pd.read_sql_query(\"SELECT AVG(pts_home) FROM game WHERE team_id_home='1610612737' AND season_id = '42022'\", con)\n",
    "\n",
    "#now need to get all away games, just points\n",
    "away_pts_avg_query = pd.read_sql_query(\"SELECT AVG(pts_away) FROM game WHERE team_id_away='1610612737' AND season_id = '42022'\", con)\n",
    "\n",
    "#trick for ease - make an f string to replace strings with wizards id and season id\n",
    "f_home_pts_avg_query = pd.read_sql_query(f\"SELECT AVG(pts_home) FROM game WHERE team_id_home='{hawks_id}' AND season_id = '{most_recent_season}'\", con)\n",
    "f_home_pts_avg_query\n",
    "\n",
    "home_pts_avg_query\n",
    "away_pts_avg_query\n"
   ]
  },
  {
   "cell_type": "code",
   "execution_count": 6,
   "id": "d22ce0e3-540b-4cb0-afdd-d3307ce1fb30",
   "metadata": {},
   "outputs": [
    {
     "ename": "OperationalError",
     "evalue": "unable to open database file",
     "output_type": "error",
     "traceback": [
      "\u001b[0;31m---------------------------------------------------------------------------\u001b[0m",
      "\u001b[0;31mOperationalError\u001b[0m                          Traceback (most recent call last)",
      "Cell \u001b[0;32mIn[6], line 6\u001b[0m\n\u001b[1;32m      3\u001b[0m \u001b[38;5;28;01mimport\u001b[39;00m \u001b[38;5;21;01msqlite3\u001b[39;00m\n\u001b[1;32m      5\u001b[0m \u001b[38;5;66;03m#1: Which teams have most consistently had the highest score?\u001b[39;00m\n\u001b[0;32m----> 6\u001b[0m con \u001b[38;5;241m=\u001b[39m \u001b[43msqlite3\u001b[49m\u001b[38;5;241;43m.\u001b[39;49m\u001b[43mconnect\u001b[49m\u001b[43m(\u001b[49m\u001b[38;5;124;43m\"\u001b[39;49m\u001b[38;5;124;43mdata/nba.sqlite\u001b[39;49m\u001b[38;5;124;43m\"\u001b[39;49m\u001b[43m)\u001b[49m\n\u001b[1;32m      7\u001b[0m overall \u001b[38;5;241m=\u001b[39m pd\u001b[38;5;241m.\u001b[39mread_sql_query(\u001b[38;5;124m\"\u001b[39m\u001b[38;5;124mSELECT * FROM game LIMIT 100\u001b[39m\u001b[38;5;124m\"\u001b[39m, con)\n\u001b[1;32m      8\u001b[0m highest_score \u001b[38;5;241m=\u001b[39m pd\u001b[38;5;241m.\u001b[39mread_sql_query(\u001b[38;5;124m\"\u001b[39m\u001b[38;5;124mSELECT team_name_home AS Team_Name, AVG(pts_home) AS Average_Points FROM game GROUP BY team_id_home ORDER BY AVG(pts_home) DESC\u001b[39m\u001b[38;5;124m\"\u001b[39m, con)\n",
      "\u001b[0;31mOperationalError\u001b[0m: unable to open database file"
     ]
    }
   ],
   "source": [
    "#analytical questions and descriptive statistics\n",
    "import pandas as pd\n",
    "import sqlite3\n",
    "\n",
    "#1: Which teams have most consistently had the highest score?\n",
    "con = sqlite3.connect(\"data/nba.sqlite\")\n",
    "overall = pd.read_sql_query(\"SELECT * FROM game LIMIT 100\", con)\n",
    "highest_score = pd.read_sql_query(\"SELECT team_name_home AS Team_Name, AVG(pts_home) AS Average_Points FROM game GROUP BY team_id_home ORDER BY AVG(pts_home) DESC\", con)\n",
    "highest_score\n",
    "\n",
    "#5. Which teams have demonstrated the best defensive metrics (e.g., blocks and steals), and how has this impacted their winning consistency?"
   ]
  },
  {
   "cell_type": "code",
   "execution_count": 3,
   "id": "5b04ef45-caa2-4280-942e-0e20aa7b1f1a",
   "metadata": {},
   "outputs": [
    {
     "ename": "NameError",
     "evalue": "name 'con' is not defined",
     "output_type": "error",
     "traceback": [
      "\u001b[0;31m---------------------------------------------------------------------------\u001b[0m",
      "\u001b[0;31mNameError\u001b[0m                                 Traceback (most recent call last)",
      "Cell \u001b[0;32mIn[3], line 3\u001b[0m\n\u001b[1;32m      1\u001b[0m \u001b[38;5;66;03m#2. Which team has had below average for the most consecutive seasons?\u001b[39;00m\n\u001b[0;32m----> 3\u001b[0m total_average_pts \u001b[38;5;241m=\u001b[39m pd\u001b[38;5;241m.\u001b[39mread_sql_query(\u001b[38;5;124m\"\u001b[39m\u001b[38;5;124mSELECT AVG(pts_home + pts_away) AS Average_Points FROM game\u001b[39m\u001b[38;5;124m\"\u001b[39m, \u001b[43mcon\u001b[49m)\n\u001b[1;32m      4\u001b[0m \u001b[38;5;66;03m#Total Avearage is 205.610704\u001b[39;00m\n\u001b[1;32m      5\u001b[0m below_average \u001b[38;5;241m=\u001b[39m pd\u001b[38;5;241m.\u001b[39mread_sql_query(\u001b[38;5;124m\"\"\"\u001b[39m\n\u001b[1;32m      6\u001b[0m \u001b[38;5;124m    SELECT \u001b[39m\n\u001b[1;32m      7\u001b[0m \u001b[38;5;124m        team_name_home AS Team_Name, \u001b[39m\n\u001b[0;32m   (...)\u001b[0m\n\u001b[1;32m     21\u001b[0m \u001b[38;5;124m    ORDER BY Seasons_Below_Average DESC\u001b[39m\n\u001b[1;32m     22\u001b[0m \u001b[38;5;124m\"\"\"\u001b[39m, con)\n",
      "\u001b[0;31mNameError\u001b[0m: name 'con' is not defined"
     ]
    }
   ],
   "source": [
    "#2. Which team has had below average for the most consecutive seasons?\n",
    "\n",
    "total_average_pts = pd.read_sql_query(\"SELECT AVG(pts_home + pts_away) AS Average_Points FROM game\", con)\n",
    "#Total Avearage is 205.610704\n",
    "below_average = pd.read_sql_query(\"\"\"\n",
    "    SELECT \n",
    "        team_name_home AS Team_Name, \n",
    "        team_id_home AS Team_ID,\n",
    "        COUNT(season_id) AS Seasons_Below_Average\n",
    "    FROM (\n",
    "        SELECT \n",
    "            season_id, \n",
    "            team_id_home, \n",
    "            team_name_home,\n",
    "            AVG(pts_home + pts_away) AS Season_Avg_Points\n",
    "        FROM game\n",
    "        GROUP BY season_id, team_id_home\n",
    "        HAVING Season_Avg_Points < 205.610704\n",
    "    ) AS Season_Below_Average\n",
    "    GROUP BY team_id_home\n",
    "    ORDER BY Seasons_Below_Average DESC\n",
    "\"\"\", con)\n",
    "\n",
    "below_average"
   ]
  },
  {
   "cell_type": "code",
   "execution_count": null,
   "id": "61b1bf5e-5020-45d7-8769-be9b423fc52e",
   "metadata": {},
   "outputs": [],
   "source": [
    "#3. Which team has consistently made it to the playoffs?\n",
    "\n",
    "playoffs = pd.read_sql_query(\"\"\"\n",
    "SELECT g.team_name_home, g.season_id, COUNT(DISTINCT season_id) AS playoff_seasons\n",
    "FROM game g\n",
    "WHERE season_type = 'Playoffs'\n",
    "GROUP BY g.team_name_home\n",
    "ORDER BY playoff_seasons DESC;\n",
    "\"\"\", con)\n",
    "playoffs.head()"
   ]
  },
  {
   "cell_type": "code",
   "execution_count": null,
   "id": "e7a7bcf1-4ffd-476d-97e6-52306281a730",
   "metadata": {},
   "outputs": [],
   "source": [
    "#4. Does a higher proportion of successful three-point throws increase the likelihood of winning?\n",
    "three_point_ratio_win_rate = pd.read_sql_query(\"\"\"\n",
    "WITH GameStats AS (\n",
    "    SELECT \n",
    "        game_id,\n",
    "        team_name_home AS team,\n",
    "        fga_home, \n",
    "        fg3a_home,\n",
    "        CAST(fg3a_home AS FLOAT) / NULLIF(fga_home, 0) AS three_pt_ratio,\n",
    "        CASE WHEN wl_home = 'W' THEN 1 ELSE 0 END AS win\n",
    "    FROM game\n",
    "    WHERE fga_home IS NOT NULL AND fg3a_home IS NOT NULL\n",
    ")\n",
    "SELECT \n",
    "    CASE \n",
    "        WHEN three_pt_ratio < 0.2 THEN 'Low (<20%)'\n",
    "        WHEN three_pt_ratio BETWEEN 0.2 AND 0.4 THEN 'Medium (20-40%)'\n",
    "        WHEN three_pt_ratio BETWEEN 0.4 AND 0.6 THEN 'High (40-60%)'\n",
    "        ELSE 'Very High (>60%)'\n",
    "    END AS three_point_ratio_range,\n",
    "    AVG(win) AS win_rate,\n",
    "    AVG(three_pt_ratio) AS avg_three_pt_ratio\n",
    "FROM GameStats\n",
    "GROUP BY three_point_ratio_range\n",
    "ORDER BY avg_three_pt_ratio DESC;\n",
    "\"\"\", con)\n",
    "\n",
    "three_point_ratio_win_rate"
   ]
  },
  {
   "cell_type": "code",
   "execution_count": null,
   "id": "f40b822b-9f39-4f53-8499-268cebf22b21",
   "metadata": {},
   "outputs": [],
   "source": [
    "#5. How does the frequency of turnovers in a game affect the likelihood of winning? Simply put, do more turnovers help or hinder?\n",
    "turnover_impact = pd.read_sql_query(\"\"\"\n",
    "WITH TurnoverStats AS (\n",
    "    SELECT \n",
    "        game_id,\n",
    "        team_name_home AS team,\n",
    "        tov_home AS turnovers,\n",
    "        CASE WHEN wl_home = 'W' THEN 1 ELSE 0 END AS win\n",
    "    FROM game\n",
    "    WHERE tov_home IS NOT NULL\n",
    ")\n",
    "SELECT \n",
    "    CASE \n",
    "        WHEN turnovers < 10 THEN 'Low (<10)'\n",
    "        WHEN turnovers BETWEEN 10 AND 15 THEN 'Medium (10-15)'\n",
    "        WHEN turnovers BETWEEN 16 AND 20 THEN 'High (16-20)'\n",
    "        ELSE 'Very High (>20)'\n",
    "    END AS turnover_range,\n",
    "    AVG(win) AS win_rate,\n",
    "    AVG(turnovers) AS avg_turnover_frequency\n",
    "FROM TurnoverStats\n",
    "GROUP BY turnover_range\n",
    "ORDER BY avg_turnover_frequency DESC;\n",
    "\"\"\", con)\n",
    "\n",
    "turnover_impact"
   ]
  },
  {
   "cell_type": "code",
   "execution_count": null,
   "id": "f86b2cb0-10c7-495c-b8ae-f8a39ada26ab",
   "metadata": {},
   "outputs": [],
   "source": []
  }
 ],
 "metadata": {
  "kernelspec": {
   "display_name": "Python 3 (ipykernel)",
   "language": "python",
   "name": "python3"
  },
  "language_info": {
   "codemirror_mode": {
    "name": "ipython",
    "version": 3
   },
   "file_extension": ".py",
   "mimetype": "text/x-python",
   "name": "python",
   "nbconvert_exporter": "python",
   "pygments_lexer": "ipython3",
   "version": "3.12.5"
  }
 },
 "nbformat": 4,
 "nbformat_minor": 5
}
