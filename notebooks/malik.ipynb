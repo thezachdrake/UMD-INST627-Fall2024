{
 "cells": [
  {
   "cell_type": "code",
   "execution_count": 6,
   "id": "cd4048e6-d576-47bf-8fc4-305ac95d3024",
   "metadata": {},
   "outputs": [
    {
     "data": {
      "text/html": [
       "<div>\n",
       "<style scoped>\n",
       "    .dataframe tbody tr th:only-of-type {\n",
       "        vertical-align: middle;\n",
       "    }\n",
       "\n",
       "    .dataframe tbody tr th {\n",
       "        vertical-align: top;\n",
       "    }\n",
       "\n",
       "    .dataframe thead th {\n",
       "        text-align: right;\n",
       "    }\n",
       "</style>\n",
       "<table border=\"1\" class=\"dataframe\">\n",
       "  <thead>\n",
       "    <tr style=\"text-align: right;\">\n",
       "      <th></th>\n",
       "      <th>AVG(pts_home)</th>\n",
       "    </tr>\n",
       "  </thead>\n",
       "  <tbody>\n",
       "    <tr>\n",
       "      <th>0</th>\n",
       "      <td>123.666667</td>\n",
       "    </tr>\n",
       "  </tbody>\n",
       "</table>\n",
       "</div>"
      ],
      "text/plain": [
       "   AVG(pts_home)\n",
       "0     123.666667"
      ]
     },
     "execution_count": 6,
     "metadata": {},
     "output_type": "execute_result"
    }
   ],
   "source": [
    "import pandas as pd\n",
    "import sqlite3\n",
    "\n",
    "#opens database connection to file. Pulls 100 games and runs the SQL query and returned as pandas dataframe.\n",
    "con = sqlite3.connect(\"data/nba.sqlite\")\n",
    "games = pd.read_sql_query(\"SELECT * FROM game LIMIT 100\", con)\n",
    "active_players = pd.read_sql_query(\"SELECT full_name FROM player WHERE is_active=TRUE\", con)\n",
    "\n",
    "#using sql functions to get outcome instead of pandas\n",
    "query1 = \"\"\"\n",
    "    SELECT id \n",
    "    FROM team \n",
    "    WHERE full_name='Atlanta Hawks'\n",
    "    \"\"\"\n",
    "df = pd.read_sql_query(query1, con)\n",
    "hawks_id = '1610612737' #this was returned from sql for query1 above. Will search for this later below\n",
    "get_recent_season = \"SELECT * FROM game ORDER BY game_date DESC\" #query to sort most recent season, 2023, descending\n",
    "df = pd.read_sql_query(get_recent_season, con)\n",
    "df #returns df descending\n",
    "\n",
    "most_recent_season = df.iloc[0][\"season_id\"] #variable - id of the most recent season. extracted both Hawks ID above, & season ID here\n",
    "most_recent_season\n",
    "\n",
    "pd.read_sql_query(\"SELECT * FROM game\", con) #get home games from last year\n",
    "\n",
    "#need to get all home games but just points for them\n",
    "home_pts_avg_query = pd.read_sql_query(\"SELECT AVG(pts_home) FROM game WHERE team_id_home='1610612737' AND season_id = '42022'\", con)\n",
    "\n",
    "#now need to get all away games, just points\n",
    "away_pts_avg_query = pd.read_sql_query(\"SELECT AVG(pts_away) FROM game WHERE team_id_away='1610612737' AND season_id = '42022'\", con)\n",
    "\n",
    "#trick for ease - make an f string to replace strings with wizards id and season id\n",
    "f_home_pts_avg_query = pd.read_sql_query(f\"SELECT AVG(pts_home) FROM game WHERE team_id_home='{hawks_id}' AND season_id = '{most_recent_season}'\", con)\n",
    "f_home_pts_avg_query\n",
    "\n",
    "home_pts_avg_query\n",
    "away_pts_avg_query\n"
   ]
  },
  {
   "cell_type": "code",
   "execution_count": null,
   "id": "d22ce0e3-540b-4cb0-afdd-d3307ce1fb30",
   "metadata": {},
   "outputs": [],
   "source": []
  }
 ],
 "metadata": {
  "kernelspec": {
   "display_name": "Python 3 (ipykernel)",
   "language": "python",
   "name": "python3"
  },
  "language_info": {
   "codemirror_mode": {
    "name": "ipython",
    "version": 3
   },
   "file_extension": ".py",
   "mimetype": "text/x-python",
   "name": "python",
   "nbconvert_exporter": "python",
   "pygments_lexer": "ipython3",
   "version": "3.12.5"
  }
 },
 "nbformat": 4,
 "nbformat_minor": 5
}
