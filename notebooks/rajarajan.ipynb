{
 "cells": [
  {
   "cell_type": "code",
   "execution_count": 21,
   "id": "8b51e298-0004-4d70-b6ce-e3c889aadb05",
   "metadata": {},
   "outputs": [],
   "source": []
  },
  {
   "cell_type": "markdown",
   "id": "97529da8-c454-474c-8f47-4f6c5ea42603",
   "metadata": {},
   "source": [
    "#Issue4\n",
    "\n",
    "1.What impact does a team’s three-point shooting percentage have on their overall game success, and is this effect more pronounced in home vs. away games?\n",
    "\n",
    "2.How does a team’s defensive rating correlate with their ability to limit the opposing team’s effective field goal percentage in high-pressure moments (e.g., last 5 minutes of a close game)?\n",
    "\n",
    "3. How does load management (resting key players) affect playoff performance?\n",
    "   \n",
    "4. How does the absence of key players impact team performance (scoring, defense, win-loss ratios)?\n",
    "  \n",
    "5. How do later-round draft picks perform relative to their draft value, and which metrics best predict their success?\n"
   ]
  },
  {
   "cell_type": "code",
   "execution_count": null,
   "id": "a50e0207-13f7-4040-8c5a-4a325d5f81a7",
   "metadata": {},
   "outputs": [],
   "source": []
  }
 ],
 "metadata": {
  "kernelspec": {
   "display_name": "Python 3 (ipykernel)",
   "language": "python",
   "name": "python3"
  },
  "language_info": {
   "codemirror_mode": {
    "name": "ipython",
    "version": 3
   },
   "file_extension": ".py",
   "mimetype": "text/x-python",
   "name": "python",
   "nbconvert_exporter": "python",
   "pygments_lexer": "ipython3",
   "version": "3.12.5"
  }
 },
 "nbformat": 4,
 "nbformat_minor": 5
}
