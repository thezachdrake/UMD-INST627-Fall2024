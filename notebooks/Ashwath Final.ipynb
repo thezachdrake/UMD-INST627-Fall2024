{
 "cells": [
  {
   "cell_type": "markdown",
   "id": "ae8da0e6-9c35-4639-a277-001efc79677e",
   "metadata": {},
   "source": [
    "Business Objective: What was the impact of the COVID-19 pandemic on the level of home court advantage?"
   ]
  },
  {
   "cell_type": "markdown",
   "id": "0d70d39c-08e1-46de-9772-eaf8e6346c91",
   "metadata": {},
   "source": [
    "Issue 5"
   ]
  },
  {
   "cell_type": "code",
   "execution_count": 49,
   "id": "eda4900e-bced-4a10-825c-6c24a7f632b8",
   "metadata": {},
   "outputs": [],
   "source": [
    "import pandas as pd\n",
    "import sqlite3\n",
    "import seaborn as sns\n",
    "import matplotlib.pyplot as plt\n",
    "\n",
    "con = sqlite3.connect(r\"C:\\Users\\samar\\OneDrive\\Documents\\GitHub\\UMD-INST627-Fall2024\\data\\nba\")\n",
    "\n",
    "#table_structure = pd.read_sql_query(\"PRAGMA table_info(game);\", con)"
   ]
  },
  {
   "cell_type": "markdown",
   "id": "a3594639-f389-4cc6-b9df-ab33d5838bb5",
   "metadata": {},
   "source": [
    "Question 1: How has the difference in win-loss ratio between home and away teams changed from the 2019-20 season to the 2022-23 season? (wl_home and wl_away columns in game table)"
   ]
  },
  {
   "cell_type": "code",
   "execution_count": 45,
   "id": "4fc2001b-07ea-4a26-9b1a-0f5847e5d88d",
   "metadata": {},
   "outputs": [
    {
     "name": "stdout",
     "output_type": "stream",
     "text": [
      "Win-Loss ratio in home games during the 2019-2020 season:  1.1906693711967546\n",
      "Win-Loss ratio in away games during the 2019-2020 season:  0.8398637137989778\n",
      "Difference in win-loss ratio between home and away games:  0.3508056573977768\n"
     ]
    }
   ],
   "source": [
    "home_wins_2019_2020 = pd.read_sql_query(\"SELECT COUNT(*) AS wins FROM game WHERE season_id='22020' AND wl_home = 'W'\", con)\n",
    "home_loss_2019_2020 = pd.read_sql_query(\"SELECT COUNT(*) AS loss FROM game WHERE season_id='22020' AND wl_home = 'L'\", con)\n",
    "\n",
    "away_wins_2019_2020 = pd.read_sql_query(\"SELECT COUNT(*) AS wins FROM game WHERE season_id='22020' AND wl_away = 'W'\", con)\n",
    "away_loss_2019_2020 = pd.read_sql_query(\"SELECT COUNT(*) AS loss FROM game WHERE season_id='22020' AND wl_away = 'L'\", con)\n",
    "\n",
    "total_2019_2020_home_wins = home_wins_2019_2020['wins'].iloc[0]\n",
    "total_2019_2020_home_loss = home_loss_2019_2020['loss'].iloc[0]\n",
    "\n",
    "total_2019_2020_away_wins = away_wins_2019_2020['wins'].iloc[0]\n",
    "total_2019_2020_away_loss = away_loss_2019_2020['loss'].iloc[0]\n",
    "\n",
    "win_loss_ration_home_2019_20 = total_2019_2020_home_wins/total_2019_2020_home_loss\n",
    "win_loss_ration_away_2019_20 = total_2019_2020_away_wins/total_2019_2020_away_loss\n",
    "\n",
    "diff_2019_20 = win_loss_ration_home_2019_20-win_loss_ration_away_2019_20\n",
    "\n",
    "print(\"Win-Loss ratio in home games during the 2019-2020 season: \", win_loss_ration_home_2019_20)\n",
    "print(\"Win-Loss ratio in away games during the 2019-2020 season: \", win_loss_ration_away_2019_20)\n",
    "print(\"Difference in win-loss ratio between home and away games: \", diff_2019_20)"
   ]
  },
  {
   "cell_type": "code",
   "execution_count": 47,
   "id": "fc2a9b1e-ca3e-4168-8fe1-459528a756f8",
   "metadata": {},
   "outputs": [
    {
     "name": "stdout",
     "output_type": "stream",
     "text": [
      "Win-Loss ratio in home games during the 2019-2020 season:  1.3837209302325582\n",
      "Win-Loss ratio in away games during the 2019-2020 season:  0.7226890756302521\n",
      "Difference in win-loss ratio between home and away games:  0.6610318546023061\n"
     ]
    }
   ],
   "source": [
    "home_wins_2022_2023 = pd.read_sql_query(\"SELECT COUNT(*) AS wins FROM game WHERE season_id='22022' AND wl_home = 'W'\", con)\n",
    "home_loss_2022_2023 = pd.read_sql_query(\"SELECT COUNT(*) AS loss FROM game WHERE season_id='22022' AND wl_home = 'L'\", con)\n",
    "\n",
    "away_wins_2022_2023 = pd.read_sql_query(\"SELECT COUNT(*) AS wins FROM game WHERE season_id='22022' AND wl_away = 'W'\", con)\n",
    "away_loss_2022_2023 = pd.read_sql_query(\"SELECT COUNT(*) AS loss FROM game WHERE season_id='22022' AND wl_away = 'L'\", con)\n",
    "\n",
    "total_2022_2023_home_wins = home_wins_2022_2023['wins'].iloc[0]\n",
    "total_2022_2023_home_loss = home_loss_2022_2023['loss'].iloc[0]\n",
    "\n",
    "total_2022_2023_away_wins = away_wins_2022_2023['wins'].iloc[0]\n",
    "total_2022_2023_away_loss = away_loss_2022_2023['loss'].iloc[0]\n",
    "\n",
    "win_loss_ration_home_2022_23 = total_2022_2023_home_wins/total_2022_2023_home_loss\n",
    "win_loss_ration_away_2022_23 = total_2022_2023_away_wins/total_2022_2023_away_loss\n",
    "\n",
    "diff_2022_23 = win_loss_ration_home_2022_23-win_loss_ration_away_2022_23\n",
    "\n",
    "print(\"Win-Loss ratio in home games during the 2022-2023 season: \", win_loss_ration_home_2022_23)\n",
    "print(\"Win-Loss ratio in away games during the 2022-2023 season: \", win_loss_ration_away_2022_23)\n",
    "print(\"Difference in win-loss ratio between home and away games: \", diff_2022_23)"
   ]
  },
  {
   "cell_type": "code",
   "execution_count": 58,
   "id": "7a0f3f7d-5b05-4c51-922f-a85f37550ad7",
   "metadata": {},
   "outputs": [
    {
     "name": "stdout",
     "output_type": "stream",
     "text": [
      "The difference in win-loss ratio between home and away games increased by  88.43249550356177 % since the 2019-20 season.\n"
     ]
    }
   ],
   "source": [
    "print(\"The difference in win-loss ratio between home and away games increased by \", (((diff_2022_23 - diff_2019_20)/diff_2019_20) * 100), \"% since the 2019-20 season.\")"
   ]
  },
  {
   "cell_type": "markdown",
   "id": "f9b9465e-4c7a-43d1-892c-05c7e0181d20",
   "metadata": {},
   "source": [
    "\n",
    "\n",
    "Question 2: How has the difference in average points scored between home and away teams changed from the 2019-20 season to the 2022-23 season? (pts_home and pts_away columns in game table)"
   ]
  },
  {
   "cell_type": "code",
   "execution_count": 54,
   "id": "9e31bb27-7c1b-4526-bea7-c6a230409b2b",
   "metadata": {},
   "outputs": [
    {
     "name": "stdout",
     "output_type": "stream",
     "text": [
      "Average Points scored home during the 2019 season:  112.56296296296296\n",
      "Average Points scored away during the 2019 season:  111.61944444444444\n"
     ]
    }
   ],
   "source": [
    "avg_home_2019 = pd.read_sql_query(\"SELECT AVG(pts_home) AS avg_pts FROM game WHERE season_id = '22020'\", con)\n",
    "avg_away_2019 = pd.read_sql_query(\"SELECT AVG(pts_away) AS avg_pts FROM game WHERE season_id = '22020'\", con)\n",
    "\n",
    "print(\"Average Points scored home during the 2019 season: \", avg_home_2019['avg_pts'].iloc[0])\n",
    "print(\"Average Points scored away during the 2019 season: \", avg_away_2019['avg_pts'].iloc[0])"
   ]
  },
  {
   "cell_type": "code",
   "execution_count": 55,
   "id": "2044639c-75a8-428a-9ac3-99b9c72da602",
   "metadata": {},
   "outputs": [
    {
     "name": "stdout",
     "output_type": "stream",
     "text": [
      "Average Points scored home during the 2023 season:  115.93577235772358\n",
      "Average Points scored away during the 2023 season:  113.43577235772358\n"
     ]
    }
   ],
   "source": [
    "avg_home_2022 = pd.read_sql_query(\"SELECT AVG(pts_home) AS avg_pts FROM game WHERE season_id = '22022'\", con)\n",
    "avg_away_2022 = pd.read_sql_query(\"SELECT AVG(pts_away) AS avg_pts FROM game WHERE season_id = '22022'\", con)\n",
    "\n",
    "print(\"Average Points scored home during the 2023 season: \", avg_home_2022['avg_pts'].iloc[0])\n",
    "print(\"Average Points scored away during the 2023 season: \", avg_away_2022['avg_pts'].iloc[0])"
   ]
  },
  {
   "cell_type": "code",
   "execution_count": 59,
   "id": "c7c03819-ce21-4cf0-8b54-e21cf4745c95",
   "metadata": {},
   "outputs": [
    {
     "name": "stdout",
     "output_type": "stream",
     "text": [
      "Difference in home and away points averages increased by  1.5564814814814838 points since the 2019-20 season.\n"
     ]
    }
   ],
   "source": [
    "print(\"Difference in home and away points averages increased by \", (avg_home_2022['avg_pts'].iloc[0]-avg_away_2022['avg_pts'].iloc[0]) - (avg_home_2019['avg_pts'].iloc[0] - avg_away_2019['avg_pts'].iloc[0]), \"points since the 2019-20 season.\")"
   ]
  },
  {
   "cell_type": "code",
   "execution_count": null,
   "id": "525dc9dd-4220-4155-ab7a-880f0a0c9e1b",
   "metadata": {},
   "outputs": [],
   "source": []
  },
  {
   "cell_type": "markdown",
   "id": "ce3629b6-377c-4374-9e08-2677411860eb",
   "metadata": {},
   "source": [
    "Question 3: How has the difference in offensive and defensive rebounds between home and away teams changed from 2019-20 to 2022-23?(oreb_home, oreb_away, dreb_home, dreb_away in the game table)"
   ]
  },
  {
   "cell_type": "code",
   "execution_count": 76,
   "id": "7cd6a47c-dbc3-49eb-8e09-14f9f00b0ad8",
   "metadata": {},
   "outputs": [
    {
     "name": "stdout",
     "output_type": "stream",
     "text": [
      "           home_diff  away_diff\n",
      "season_id                      \n",
      "22020      24.941667  24.337963\n",
      "22022      22.952846  22.185366\n"
     ]
    }
   ],
   "source": [
    "rebounds = pd.read_sql_query(\"SELECT season_id, oreb_home, oreb_away, dreb_home, dreb_away FROM game WHERE season_id = '22020' OR season_id = '22022';\", con)\n",
    "\n",
    "rebounds['home_diff'] = rebounds['dreb_home'] - rebounds['oreb_home']\n",
    "rebounds['away_diff'] = rebounds['dreb_away'] - rebounds['oreb_away']\n",
    "\n",
    "season_stats_diff = rebounds.groupby('season_id').agg({\n",
    "    'home_diff': 'mean',\n",
    "    'away_diff': 'mean'\n",
    "})\n",
    "\n",
    "print(season_stats_diff)"
   ]
  },
  {
   "cell_type": "markdown",
   "id": "0c5542a2-6bc7-4549-9553-22b57b720500",
   "metadata": {},
   "source": [
    "The number of defensive rebounds fell by about 2 points on average since the 2019-20 season, but the home and away differences between offensive and defensive rebounds did not vary by much."
   ]
  },
  {
   "cell_type": "markdown",
   "id": "934d80f6-596a-4257-9293-8aba4b45b060",
   "metadata": {},
   "source": [
    "Question 4: How does the average number of three-point field goals made by home teams compare to that of away teams from the 2019-20 season to the 2022-23 season? (fg3_pct_home and fg3_pct_away columns in game table)"
   ]
  },
  {
   "cell_type": "code",
   "execution_count": 98,
   "id": "d15b7a3c-063b-436c-b528-fa68aa7f3a90",
   "metadata": {},
   "outputs": [
    {
     "name": "stdout",
     "output_type": "stream",
     "text": [
      "average 3 pointer percentage at home: 0.3666575757575758\n",
      "average 3 pointer percentage away: 0.3576194805194805\n",
      "IQR for p3_home:  0.11674999999999996\n",
      "IQR for p3_away:  0.11474999999999996\n"
     ]
    }
   ],
   "source": [
    "av3 = pd.read_sql_query(\"SELECT fg3_pct_home AS 'p3_home', fg3_pct_away AS 'p3_away' FROM game WHERE season_id = '22020' OR season_id = '22022';\", con)\n",
    "\n",
    "\n",
    "\n",
    "Q1_home = av3['p3_home'].quantile(0.25)\n",
    "Q3_home = av3['p3_home'].quantile(0.75)\n",
    "IQR_home = Q3_home - Q1_home\n",
    "\n",
    "Q1_away = av3['p3_away'].quantile(0.25)\n",
    "Q3_away = av3['p3_away'].quantile(0.75)\n",
    "IQR_away = Q3_away - Q1_away\n",
    "\n",
    "print(\"average 3 pointer percentage at home:\", av3['p3_home'].mean())\n",
    "print(\"average 3 pointer percentage away:\", av3['p3_away'].mean())\n",
    "print(\"IQR for p3_home: \", IQR_home)\n",
    "print(\"IQR for p3_away: \", IQR_away)"
   ]
  },
  {
   "cell_type": "markdown",
   "id": "3bf6c54e-57df-4045-b15f-fda9be05635a",
   "metadata": {},
   "source": [
    "Since the IQRs are "
   ]
  },
  {
   "cell_type": "markdown",
   "id": "ea5d812c-ffd6-450f-827c-32f7c15572ad",
   "metadata": {},
   "source": [
    "Question 5: How does the free throw percentage of home teams compare to that of away teams from the 2019-20 season to the 2022-23 season? (ft_pct_home and ft_pct_away in the game table)"
   ]
  },
  {
   "cell_type": "code",
   "execution_count": 103,
   "id": "32da7adf-8229-4cfc-ba4d-c05794690163",
   "metadata": {},
   "outputs": [
    {
     "name": "stdout",
     "output_type": "stream",
     "text": [
      "               mean  median       std    min    max\n",
      "season_id                                          \n",
      "22020      0.002143 -0.0055  0.144944 -0.417  0.542\n",
      "22022      0.001827  0.0000  0.136905 -0.480  0.575\n"
     ]
    }
   ],
   "source": [
    "free_throw = pd.read_sql_query(\"SELECT season_id, ft_pct_home AS 'ft_home', ft_pct_away AS 'ft_away' FROM game WHERE season_id = '22020' OR season_id = '22022';\", con)\n",
    "\n",
    "\n",
    "free_throw['ft_diff'] = free_throw['ft_home'] - free_throw['ft_away']\n",
    "\n",
    "diff_stats = free_throw.groupby('season_id')['ft_diff'].agg(['mean', 'median', 'std', 'min', 'max'])\n",
    "\n",
    "print(diff_stats)\n"
   ]
  },
  {
   "cell_type": "markdown",
   "id": "f642a844-093b-41cc-8cdb-cd69700c3a3d",
   "metadata": {},
   "source": [
    "There was a 3% decrease in the percent of freethrows in the 2022-23 season when compared to the 2019-20 season."
   ]
  },
  {
   "cell_type": "code",
   "execution_count": null,
   "id": "3b717bd7-5249-4157-9496-97bf5e34ccc7",
   "metadata": {},
   "outputs": [],
   "source": []
  }
 ],
 "metadata": {
  "kernelspec": {
   "display_name": "Python 3 (ipykernel)",
   "language": "python",
   "name": "python3"
  },
  "language_info": {
   "codemirror_mode": {
    "name": "ipython",
    "version": 3
   },
   "file_extension": ".py",
   "mimetype": "text/x-python",
   "name": "python",
   "nbconvert_exporter": "python",
   "pygments_lexer": "ipython3",
   "version": "3.12.5"
  }
 },
 "nbformat": 4,
 "nbformat_minor": 5
}
