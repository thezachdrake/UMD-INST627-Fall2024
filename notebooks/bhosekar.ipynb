{
 "cells": [
  {
   "metadata": {
    "ExecuteTime": {
     "end_time": "2024-10-22T19:11:17.363436Z",
     "start_time": "2024-10-22T19:11:17.345993Z"
    }
   },
   "cell_type": "code",
   "source": "import pandas as pd",
   "id": "3b14f9bdbf3e0daf",
   "outputs": [],
   "execution_count": 11
  },
  {
   "metadata": {
    "ExecuteTime": {
     "end_time": "2024-10-22T19:11:22.482264Z",
     "start_time": "2024-10-22T19:11:19.263241Z"
    }
   },
   "cell_type": "code",
   "source": [
    "df1=pd.read_csv(r\"C:\\Users\\Ishaan\\Documents\\GitHub\\UMD-INST627-Fall2024\\data\\crimes.csv\")\n",
    "df2=pd.read_csv(r\"C:\\Users\\Ishaan\\Documents\\GitHub\\UMD-INST627-Fall2024\\data\\arrests.csv\")"
   ],
   "id": "909d32118381b8d6",
   "outputs": [],
   "execution_count": 12
  },
  {
   "metadata": {
    "ExecuteTime": {
     "end_time": "2024-10-22T19:11:23.304089Z",
     "start_time": "2024-10-22T19:11:23.295256Z"
    }
   },
   "cell_type": "code",
   "source": [
    "# Preview the columns of each dataset \n",
    "print(df2.columns)  # Columns in the arrest dataset\n",
    "print(df1.columns)  # Columns in the crime dataset"
   ],
   "id": "ead34a3879193c07",
   "outputs": [
    {
     "name": "stdout",
     "output_type": "stream",
     "text": [
      "Index(['ARREST_KEY', 'ARREST_DATE', 'PD_CD', 'PD_DESC', 'KY_CD', 'OFNS_DESC',\n",
      "       'LAW_CODE', 'LAW_CAT_CD', 'ARREST_BORO', 'ARREST_PRECINCT',\n",
      "       'JURISDICTION_CODE', 'AGE_GROUP', 'PERP_SEX', 'PERP_RACE', 'X_COORD_CD',\n",
      "       'Y_COORD_CD', 'Latitude', 'Longitude', 'New Georeferenced Column'],\n",
      "      dtype='object')\n",
      "Index(['Unnamed: 0.1', 'Unnamed: 0', 'CMPLNT_NUM', 'ADDR_PCT_CD', 'BORO_NM',\n",
      "       'CMPLNT_FR_DT', 'CMPLNT_FR_TM', 'CMPLNT_TO_DT', 'CMPLNT_TO_TM',\n",
      "       'CRM_ATPT_CPTD_CD', 'HADEVELOPT', 'HOUSING_PSA', 'JURISDICTION_CODE',\n",
      "       'JURIS_DESC', 'KY_CD', 'LAW_CAT_CD', 'LOC_OF_OCCUR_DESC', 'OFNS_DESC',\n",
      "       'PARKS_NM', 'PATROL_BORO', 'PD_CD', 'PD_DESC', 'PREM_TYP_DESC',\n",
      "       'RPT_DT', 'STATION_NAME', 'SUSP_AGE_GROUP', 'SUSP_RACE', 'SUSP_SEX',\n",
      "       'TRANSIT_DISTRICT', 'VIC_AGE_GROUP', 'VIC_RACE', 'VIC_SEX',\n",
      "       'X_COORD_CD', 'Y_COORD_CD', 'Latitude', 'Longitude', 'Lat_Lon',\n",
      "       'New Georeferenced Column'],\n",
      "      dtype='object')\n"
     ]
    }
   ],
   "execution_count": 13
  },
  {
   "metadata": {
    "ExecuteTime": {
     "end_time": "2024-10-22T19:08:43.687275Z",
     "start_time": "2024-10-22T19:08:43.225151Z"
    }
   },
   "cell_type": "code",
   "source": [
    "merged_data = pd.merge(df2,\n",
    "                       df1[['PD_CD', 'KY_CD', 'LAW_CAT_CD', 'OFNS_DESC', 'CMPLNT_FR_DT', 'CMPLNT_FR_TM', 'BORO_NM', 'PREM_TYP_DESC']],\n",
    "                       how='left',  # Left join to keep all arrest records and enrich with available crime data\n",
    "                       on=['PD_CD', 'KY_CD', 'LAW_CAT_CD', 'OFNS_DESC'])"
   ],
   "id": "360f0e8e0128866",
   "outputs": [],
   "execution_count": 7
  },
  {
   "metadata": {
    "ExecuteTime": {
     "end_time": "2024-10-22T19:11:26.173129Z",
     "start_time": "2024-10-22T19:11:26.135135Z"
    }
   },
   "cell_type": "code",
   "source": [
    "# Preview the merged data \n",
    "print(merged_data.head())"
   ],
   "id": "5d68b0e80e896f78",
   "outputs": [
    {
     "name": "stdout",
     "output_type": "stream",
     "text": [
      "   ARREST_KEY ARREST_DATE  PD_CD                   PD_DESC  KY_CD  \\\n",
      "0   279884335  01/03/2024  153.0                    RAPE 3  104.0   \n",
      "1   279876234  01/03/2024  105.0         STRANGULATION 1ST  106.0   \n",
      "2   279939192  01/04/2024  109.0  ASSAULT 2,1,UNCLASSIFIED  106.0   \n",
      "3   280561026  01/15/2024  203.0      TRESPASS 3, CRIMINAL  352.0   \n",
      "4   280084387  01/07/2024  223.0  BURGLARY,RESIDENCE,NIGHT  107.0   \n",
      "\n",
      "           OFNS_DESC    LAW_CODE LAW_CAT_CD ARREST_BORO  ARREST_PRECINCT  ...  \\\n",
      "0               RAPE  PL 1302503          F           K               77  ...   \n",
      "1     FELONY ASSAULT  PL 1211200          F           Q              101  ...   \n",
      "2     FELONY ASSAULT  PL 1201001          F           K               83  ...   \n",
      "3  CRIMINAL TRESPASS  PL 140100A          M           S              121  ...   \n",
      "4           BURGLARY  PL 1403002          F           Q              107  ...   \n",
      "\n",
      "   PERP_RACE X_COORD_CD Y_COORD_CD   Latitude  Longitude  \\\n",
      "0      BLACK    1003509     185018  40.674496 -73.930571   \n",
      "1      BLACK    1053648     158969  40.602740 -73.750081   \n",
      "2      BLACK    1007127     193705  40.698323 -73.917495   \n",
      "3      BLACK     942827     166373  40.623238 -74.149217   \n",
      "4      BLACK    1036732     206997  40.734681 -73.810626   \n",
      "\n",
      "                     New Georeferenced Column  CMPLNT_FR_DT  CMPLNT_FR_TM  \\\n",
      "0  POINT (-73.9305713255961 40.6744956865259)           NaN           NaN   \n",
      "1                 POINT (-73.750081 40.60274)           NaN           NaN   \n",
      "2                POINT (-73.917495 40.698323)           NaN           NaN   \n",
      "3                POINT (-74.149217 40.623238)           NaN           NaN   \n",
      "4                POINT (-73.810626 40.734681)           NaN           NaN   \n",
      "\n",
      "  BORO_NM PREM_TYP_DESC  \n",
      "0     NaN           NaN  \n",
      "1     NaN           NaN  \n",
      "2     NaN           NaN  \n",
      "3     NaN           NaN  \n",
      "4     NaN           NaN  \n",
      "\n",
      "[5 rows x 23 columns]\n"
     ]
    }
   ],
   "execution_count": 14
  },
  {
   "metadata": {
    "ExecuteTime": {
     "end_time": "2024-10-22T19:11:28.585754Z",
     "start_time": "2024-10-22T19:11:28.429095Z"
    }
   },
   "cell_type": "code",
   "source": "print(merged_data)",
   "id": "7f22176952385be2",
   "outputs": [
    {
     "name": "stdout",
     "output_type": "stream",
     "text": [
      "        ARREST_KEY ARREST_DATE  PD_CD                         PD_DESC  KY_CD  \\\n",
      "0        279884335  01/03/2024  153.0                          RAPE 3  104.0   \n",
      "1        279876234  01/03/2024  105.0               STRANGULATION 1ST  106.0   \n",
      "2        279939192  01/04/2024  109.0        ASSAULT 2,1,UNCLASSIFIED  106.0   \n",
      "3        280561026  01/15/2024  203.0            TRESPASS 3, CRIMINAL  352.0   \n",
      "4        280084387  01/07/2024  223.0        BURGLARY,RESIDENCE,NIGHT  107.0   \n",
      "...            ...         ...    ...                             ...    ...   \n",
      "128773   288539851  06/14/2024  511.0  CONTROLLED SUBSTANCE, POSSESSI  235.0   \n",
      "128774   288770364  06/19/2024  779.0  PUBLIC ADMINISTRATION,UNCLASSI  126.0   \n",
      "128775   288845960  06/20/2024  511.0  CONTROLLED SUBSTANCE, POSSESSI  235.0   \n",
      "128776   288345759  06/11/2024  510.0  CONTROLLED SUBSTANCE, INTENT T  117.0   \n",
      "128777   288578223  06/15/2024  792.0      CRIMINAL POSSESSION WEAPON  118.0   \n",
      "\n",
      "                      OFNS_DESC    LAW_CODE LAW_CAT_CD ARREST_BORO  \\\n",
      "0                          RAPE  PL 1302503          F           K   \n",
      "1                FELONY ASSAULT  PL 1211200          F           Q   \n",
      "2                FELONY ASSAULT  PL 1201001          F           K   \n",
      "3             CRIMINAL TRESPASS  PL 140100A          M           S   \n",
      "4                      BURGLARY  PL 1403002          F           Q   \n",
      "...                         ...         ...        ...         ...   \n",
      "128773          DANGEROUS DRUGS  PL 2200300          M           S   \n",
      "128774  MISCELLANEOUS PENAL LAW  PL 215510D          F           S   \n",
      "128775          DANGEROUS DRUGS  PL 2200300          M           M   \n",
      "128776          DANGEROUS DRUGS  PL 2200601          F           Q   \n",
      "128777        DANGEROUS WEAPONS  PL 265031B          F           B   \n",
      "\n",
      "        ARREST_PRECINCT  ...                 PERP_RACE X_COORD_CD Y_COORD_CD  \\\n",
      "0                    77  ...                     BLACK    1003509     185018   \n",
      "1                   101  ...                     BLACK    1053648     158969   \n",
      "2                    83  ...                     BLACK    1007127     193705   \n",
      "3                   121  ...                     BLACK     942827     166373   \n",
      "4                   107  ...                     BLACK    1036732     206997   \n",
      "...                 ...  ...                       ...        ...        ...   \n",
      "128773              120  ...            WHITE HISPANIC     961273     166477   \n",
      "128774              122  ...            WHITE HISPANIC     960514     151754   \n",
      "128775                9  ...            BLACK HISPANIC     990284     201838   \n",
      "128776              103  ...  ASIAN / PACIFIC ISLANDER    1038891     192114   \n",
      "128777               47  ...                     BLACK    1024133     262519   \n",
      "\n",
      "         Latitude  Longitude                      New Georeferenced Column  \\\n",
      "0       40.674496 -73.930571    POINT (-73.9305713255961 40.6744956865259)   \n",
      "1       40.602740 -73.750081                   POINT (-73.750081 40.60274)   \n",
      "2       40.698323 -73.917495                  POINT (-73.917495 40.698323)   \n",
      "3       40.623238 -74.149217                  POINT (-74.149217 40.623238)   \n",
      "4       40.734681 -73.810626                  POINT (-73.810626 40.734681)   \n",
      "...           ...        ...                                           ...   \n",
      "128773  40.623588 -74.082771  POINT (-74.08277059164357 40.62358756462782)   \n",
      "128774  40.583176 -74.085450                   POINT (-74.08545 40.583176)   \n",
      "128775  40.720673 -73.978232  POINT (-73.97823191814932 40.72067330872773)   \n",
      "128776  40.693817 -73.802958  POINT (-73.80295796488015 40.69381660456438)   \n",
      "128777  40.887139 -73.855758                  POINT (-73.855758 40.887139)   \n",
      "\n",
      "        CMPLNT_FR_DT  CMPLNT_FR_TM BORO_NM PREM_TYP_DESC  \n",
      "0                NaN           NaN     NaN           NaN  \n",
      "1                NaN           NaN     NaN           NaN  \n",
      "2                NaN           NaN     NaN           NaN  \n",
      "3                NaN           NaN     NaN           NaN  \n",
      "4                NaN           NaN     NaN           NaN  \n",
      "...              ...           ...     ...           ...  \n",
      "128773           NaN           NaN     NaN           NaN  \n",
      "128774           NaN           NaN     NaN           NaN  \n",
      "128775           NaN           NaN     NaN           NaN  \n",
      "128776           NaN           NaN     NaN           NaN  \n",
      "128777           NaN           NaN     NaN           NaN  \n",
      "\n",
      "[128778 rows x 23 columns]\n"
     ]
    }
   ],
   "execution_count": 15
  }
 ],
 "metadata": {
  "kernelspec": {
   "display_name": "Python 3",
   "language": "python",
   "name": "python3"
  },
  "language_info": {
   "codemirror_mode": {
    "name": "ipython",
    "version": 2
   },
   "file_extension": ".py",
   "mimetype": "text/x-python",
   "name": "python",
   "nbconvert_exporter": "python",
   "pygments_lexer": "ipython2",
   "version": "2.7.6"
  }
 },
 "nbformat": 4,
 "nbformat_minor": 5
}
