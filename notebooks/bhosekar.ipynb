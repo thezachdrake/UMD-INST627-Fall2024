{
 "cells": [
  {
   "metadata": {},
   "cell_type": "markdown",
   "source": "Business Objective: To evaluate the impact of player fatigue and scheduling density on **team performance in the NBA from the 2019-20 season to the 2022-23 season, focusing on back-to-back games, road trips, and team performance** during condensed schedules.  \n",
   "id": "19720c1aa2106cc4"
  },
  {
   "metadata": {},
   "cell_type": "markdown",
   "source": "Question 1",
   "id": "a8b97ceea963f805"
  },
  {
   "metadata": {},
   "cell_type": "markdown",
   "source": "How does team performance (win-loss ratio) change during back-to-back games compared to games with one or more rest days?",
   "id": "86e5952b0b1d251c"
  },
  {
   "metadata": {},
   "cell_type": "markdown",
   "source": "Question 2",
   "id": "effd02eb5d29164c"
  },
  {
   "metadata": {},
   "cell_type": "markdown",
   "source": "How does the average points scored and points allowed change during extended road trips (3+ consecutive away games) compared to games played at home?",
   "id": "f21d9e62ee8c69c5"
  },
  {
   "metadata": {},
   "cell_type": "markdown",
   "source": "Question 3",
   "id": "3b61727678dfe756"
  },
  {
   "metadata": {},
   "cell_type": "markdown",
   "source": "How does player fatigue affect shooting efficiency (FG%, 3PT%, and FT%) during games played as part of a back-to-back schedule?",
   "id": "fdd4f57a049f4a0d"
  },
  {
   "metadata": {},
   "cell_type": "markdown",
   "source": "Question 4",
   "id": "60113f255fdcdf9d"
  },
  {
   "metadata": {},
   "cell_type": "markdown",
   "source": "How do teams’ rebounding performance (offensive and defensive) change during games at the end of road trips or after back-to-back games?",
   "id": "52631e5df1eda5ae"
  },
  {
   "metadata": {},
   "cell_type": "markdown",
   "source": "Question 5",
   "id": "bca37ca2f13aba6c"
  },
  {
   "metadata": {},
   "cell_type": "markdown",
   "source": "Is there a significant difference in turnover rates for teams playing on short rest compared to games with at least one rest day?",
   "id": "5ea100958a0a0448"
  }
 ],
 "metadata": {
  "kernelspec": {
   "display_name": "Python 3",
   "language": "python",
   "name": "python3"
  },
  "language_info": {
   "codemirror_mode": {
    "name": "ipython",
    "version": 2
   },
   "file_extension": ".py",
   "mimetype": "text/x-python",
   "name": "python",
   "nbconvert_exporter": "python",
   "pygments_lexer": "ipython2",
   "version": "2.7.6"
  }
 },
 "nbformat": 4,
 "nbformat_minor": 5
}
