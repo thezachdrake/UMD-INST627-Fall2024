{
 "cells": [
  {
   "metadata": {},
   "cell_type": "markdown",
   "source": "Question 1: ",
   "id": "eda3d84c3f16f18d"
  },
  {
   "metadata": {},
   "cell_type": "markdown",
   "source": [
    "Intro:\n",
    "Home-court advantage has long been recognized as a critical factor in competitive sports. Teams playing at home are familiar with the arena, enjoy the energy and support of local fans, and benefit from not having to travel. But when the COVID-19 pandemic began in 2020, stadiums were emptied of crowds, travel schedules were altered, and players faced unprecedented levels of isolation and stress. Here, we ask: did this historic disruption diminish the traditional home-court advantage, as measured by the win-loss ratio difference between home and away teams?\n",
    "\n",
    "Rising Action:\n",
    "To answer this, we calculate the win-loss ratio for both home and away teams over each season from 2019-20 through 2022-23. The code block below aggregates the number of wins and games played at home versus away each season, allowing us to observe how each team's win rate changes over time. We then calculate the difference between home and away win ratios as a proxy for the strength of home-court advantage.\n",
    "\n",
    "Climax:\n",
    "A visual representation of this win-loss ratio difference over time reveals the potential impact of the pandemic on home-court advantage. In a line graph, we may see fluctuations, particularly from the 2020-21 season (when the pandemic was most disruptive) through to 2022-23, as things returned to normal. This visual narrative serves as the turning point, where we determine whether the pandemic caused a measurable dip in home teams’ win advantages.\n",
    "\n",
    "Falling Action:\n",
    "Examining these results, we can interpret any notable dips or sustained changes in the data. For example, if we observe a significant drop in home teams’ win-loss advantage during the 2020-21 season, this may indicate that the lack of home crowd energy and routine disruptions affected team performance.\n",
    "\n",
    "Conclusion:\n",
    "Summarizing our findings, we reflect on whether home-court advantage has resumed its former levels or if the pandemic's effects have led to a more balanced playing field between home and away teams. This sets the stage for further analysis in the following questions by suggesting that home-court advantage may be influenced by more than just the physical environment."
   ],
   "id": "9f3cf246095eee26"
  },
  {
   "metadata": {},
   "cell_type": "markdown",
   "source": "Question 2: ",
   "id": "18c39435b787e39f"
  },
  {
   "metadata": {},
   "cell_type": "markdown",
   "source": [
    "Intro:\n",
    "Beyond winning, scoring is another way home-court advantage can manifest. Home teams may feel less pressure and perform with greater confidence in familiar settings, often resulting in higher scoring averages. With the pandemic disrupting this comfort, we’re curious if this advantage shifted as well. Did the average points scored by home teams decrease or converge with away teams?\n",
    "\n",
    "Rising Action:\n",
    "To explore this, we calculate the average points scored by both home and away teams for each season. The following code block aggregates points per season for home and away teams, allowing us to calculate the season-by-season difference in scoring averages. These differences give us a clearer view of whether the pandemic altered the scoring dynamic between home and away teams.\n",
    "\n",
    "Climax:\n",
    "A visualization—a line chart or bar chart showing the average points difference—allows us to pinpoint any key shifts. If the difference narrows in the 2020-21 season, for example, it suggests that the absence of fans and familiar surroundings may have reduced home teams’ scoring advantages.\n",
    "\n",
    "Falling Action:\n",
    "Analyzing the trends, we can delve into possible reasons for any shifts. Did the away teams adapt better to the pandemic's unusual conditions, resulting in more balanced scoring? Or did the unique circumstances level the psychological factors that usually give home teams an edge?\n",
    "\n",
    "Conclusion:\n",
    "In concluding, we summarize our observations about scoring trends and whether the pandemic affected home teams’ offensive performance. These insights help to answer the overarching question of whether home-court advantage weakened during this period.Question 2: Change in Average Points Scored Difference"
   ],
   "id": "c913fd6dd4ecc62c"
  },
  {
   "metadata": {},
   "cell_type": "markdown",
   "source": "Question 3: ",
   "id": "1bb7d257b3e16b31"
  },
  {
   "metadata": {},
   "cell_type": "markdown",
   "source": [
    "Intro:\n",
    "Rebounding is a physically demanding and strategic part of basketball that can be influenced by home-court advantage. Home teams often excel in rebounding due to crowd energy and a familiar environment. During the pandemic, however, this physical edge might have been affected. Here, we explore whether offensive and defensive rebounds for home teams saw any change compared to away teams from 2019 to 2023.\n",
    "\n",
    "Rising Action:\n",
    "We calculate the average offensive and defensive rebounds for both home and away teams in each season, focusing on the difference. This analysis captures the physical aspect of the game and whether home-court advantage in rebounding shifted without the energizing effect of fans.\n",
    "\n",
    "Climax:\n",
    "By visualizing the season-by-season differences in offensive and defensive rebounds between home and away teams, we can identify if there were fluctuations in rebounding advantage during the pandemic. For example, a narrower difference in rebounds during the 2020-21 season might suggest that playing without crowds dampened home teams' intensity in rebounding.\n",
    "\n",
    "Falling Action:\n",
    "Interpreting the results, we consider how the lack of fans and unusual game conditions may have impacted players’ physical performance. If the difference in rebounds remains low after the pandemic, it could indicate a lasting change in how home and away teams perform physically.\n",
    "\n",
    "Conclusion:\n",
    "We summarize our findings on rebounding, concluding whether the pandemic had a temporary or lasting impact on this aspect of home-court advantage. This analysis adds depth to our understanding of how different performance metrics contribute to home-court advantage.\n",
    "\n"
   ],
   "id": "956ea87c29ae73bb"
  },
  {
   "metadata": {},
   "cell_type": "markdown",
   "source": "",
   "id": "1f42013b621970c3"
  },
  {
   "metadata": {},
   "cell_type": "markdown",
   "source": "Question 4: ",
   "id": "409544484590f882"
  },
  {
   "metadata": {},
   "cell_type": "markdown",
   "source": [
    "Intro:\n",
    "Three-point shooting is one area where crowd energy can subtly impact performance. The presence of supportive fans might boost a home team’s shooting confidence. As the pandemic limited this support, it raises the question: did the accuracy of home teams’ three-point shooting change compared to away teams?\n",
    "\n",
    "Rising Action:\n",
    "To investigate, we calculate the average three-point field goal percentage for both home and away teams for each season. This data shows whether home teams retained a shooting advantage when fans weren’t present and reveals any shifts in three-point shooting dynamics.\n",
    "\n",
    "Climax:\n",
    "A visual plot of three-point field goal percentages for home versus away teams from 2019 to 2023 provides the moment of realization. If we see a narrower gap in the pandemic seasons, it suggests a diminished shooting advantage for home teams without their usual fan support.\n",
    "\n",
    "Falling Action:\n",
    "Examining these results, we consider the psychological impact of crowd presence. If home teams' shooting percentages became similar to away teams’ during the pandemic, it supports the idea that fans contribute to home shooting success, especially for challenging shots like three-pointers.\n",
    "\n",
    "Conclusion:\n",
    "In summary, this analysis helps to complete our picture of home-court advantage, showing whether fan support impacts not just overall performance but specific skills like three-point shooting."
   ],
   "id": "ff6fe806f471b13c"
  },
  {
   "metadata": {},
   "cell_type": "markdown",
   "source": "",
   "id": "eb7dacecd6bb2eaf"
  },
  {
   "metadata": {},
   "cell_type": "markdown",
   "source": "Question 5: ",
   "id": "ec56833077dee14f"
  },
  {
   "metadata": {},
   "cell_type": "markdown",
   "source": [
    "Intro:\n",
    "Free throws are usually a straightforward, focused aspect of the game, yet even here, crowd presence can subtly affect performance through pressure and support. With crowd levels changing drastically during the pandemic, did free throw accuracy shift for home teams compared to away teams?\n",
    "\n",
    "Rising Action:\n",
    "We calculate the average free throw percentage for both home and away teams for each season. This gives us a clear picture of whether free throws—a more individualized skill—were affected by the lack of fan presence.\n",
    "\n",
    "Climax:\n",
    "A plot of the differences in free throw percentage between home and away teams shows whether there was any significant change in free throw accuracy over time. A convergence in percentages during the pandemic could suggest that home-court advantage affects even isolated skills like free throws.\n",
    "\n",
    "Falling Action:\n",
    "If free throw accuracy levels out between home and away teams, we might conclude that the pandemic altered even minor advantages, suggesting a more complex home-court influence.\n",
    "\n",
    "Conclusion:\n",
    "We conclude with insights into whether the free throw advantage for home teams was affected. This final question completes our analysis by highlighting both the obvious and subtle impacts of home-court advantage and how the pandemic uniquely affected them.\n",
    "\n"
   ],
   "id": "91a03d1b69c6a741"
  },
  {
   "metadata": {},
   "cell_type": "markdown",
   "source": "",
   "id": "c3061bde13c1d374"
  }
 ],
 "metadata": {
  "kernelspec": {
   "display_name": "Python 3",
   "language": "python",
   "name": "python3"
  },
  "language_info": {
   "codemirror_mode": {
    "name": "ipython",
    "version": 2
   },
   "file_extension": ".py",
   "mimetype": "text/x-python",
   "name": "python",
   "nbconvert_exporter": "python",
   "pygments_lexer": "ipython2",
   "version": "2.7.6"
  }
 },
 "nbformat": 4,
 "nbformat_minor": 5
}
