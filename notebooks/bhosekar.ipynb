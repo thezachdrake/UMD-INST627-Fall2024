{
 "cells": [
  {
   "metadata": {
    "ExecuteTime": {
     "end_time": "2024-11-05T19:54:16.293895Z",
     "start_time": "2024-11-05T19:54:16.263975Z"
    }
   },
   "cell_type": "code",
   "source": [
    "import pandas as pd\n",
    "import sqlite3\n",
    "import numpy as np\n",
    "import seaborn as sns\n",
    "import matplotlib.pyplot as plt\n",
    "from Tools.scripts.dutree import display\n",
    "\n",
    "con = sqlite3.connect(r\"C:\\Users\\Ishaan\\Documents\\GitHub\\UMD-INST627-Fall2024\\data\\nba.sqlite\")\n",
    "#games = pd.read_sql_query(\"SELECT * FROM game LIMIT 100\", con)\n",
    "# = pd.read_sql_query(\"SELECT full_name FROM player WHERE is_active=TRUE\", con)"
   ],
   "id": "3b14f9bdbf3e0daf",
   "outputs": [],
   "execution_count": 17
  },
  {
   "metadata": {
    "ExecuteTime": {
     "end_time": "2024-11-05T20:03:07.908438Z",
     "start_time": "2024-11-05T20:03:07.792874Z"
    }
   },
   "cell_type": "code",
   "source": [
    "# List all tables in the database\n",
    "tables = pd.read_sql_query(\"SELECT name FROM sqlite_master WHERE type='table';\", con)\n",
    "print(tables)\n"
   ],
   "id": "71bc59a070e3cb27",
   "outputs": [
    {
     "name": "stdout",
     "output_type": "stream",
     "text": [
      "                   name\n",
      "0                  game\n",
      "1          game_summary\n",
      "2           other_stats\n",
      "3             officials\n",
      "4      inactive_players\n",
      "5             game_info\n",
      "6            line_score\n",
      "7          play_by_play\n",
      "8                player\n",
      "9                  team\n",
      "10   common_player_info\n",
      "11         team_details\n",
      "12         team_history\n",
      "13  draft_combine_stats\n",
      "14        draft_history\n",
      "15     team_info_common\n"
     ]
    }
   ],
   "execution_count": 24
  },
  {
   "metadata": {},
   "cell_type": "markdown",
   "source": "Question 1: How does the scoring differential compare between home and away teams during the COVID-19 seasons?",
   "id": "d0e129afedce651b"
  },
  {
   "metadata": {},
   "cell_type": "code",
   "source": [
    "query_scoring_differential = '''\n",
    "SELECT season_id, \n",
    "       AVG(pts_home - pts_away) AS avg_scoring_differential\n",
    "FROM game\n",
    "WHERE season_id IN ('32021', '22022')\n",
    "GROUP BY season_id;\n",
    "'''\n",
    "\n",
    "df_scoring_differential = pd.read_sql(query_scoring_differential, con)\n",
    "\n",
    "# Calculate additional descriptive statistics\n",
    "print(\"\\nScoring Differential Between Home and Away Teams During COVID-19 Seasons:\")\n",
    "print(df_scoring_differential)\n",
    "\n",
    "# Descriptive statistics for scoring differential\n",
    "print(\"\\nDescriptive Statistics for Scoring Differential:\")\n",
    "print(df_scoring_differential.describe())\n",
    "\n"
   ],
   "id": "91ff26dc25fa11ea",
   "outputs": [],
   "execution_count": null
  },
  {
   "metadata": {},
   "cell_type": "markdown",
   "source": "",
   "id": "342eb5a6c6ed4bac"
  },
  {
   "metadata": {},
   "cell_type": "markdown",
   "source": "Question 2: What is the distribution of points scored by home teams during the COVID-19 seasons?",
   "id": "df6b48269e20cdd8"
  },
  {
   "metadata": {
    "ExecuteTime": {
     "end_time": "2024-11-05T20:18:52.644334Z",
     "start_time": "2024-11-05T20:18:52.192543Z"
    }
   },
   "cell_type": "code",
   "source": [
    "query = \"\"\"\n",
    "SELECT season_id,\n",
    "       AVG(reb_home) AS Avg_Home_Rebounds,\n",
    "       AVG(reb_away) AS Avg_Away_Rebounds\n",
    "FROM game\n",
    "GROUP BY season_id\n",
    "ORDER BY season_id\n",
    "\"\"\"\n",
    "\n",
    "rebounds_comparison = pd.read_sql_query(query, con)\n",
    "print(rebounds_comparison)\n"
   ],
   "id": "1fe51afaecd1b55b",
   "outputs": [
    {
     "name": "stdout",
     "output_type": "stream",
     "text": [
      "    season_id  Avg_Home_Rebounds  Avg_Away_Rebounds\n",
      "0       12005          40.747748          40.909910\n",
      "1       12006          40.125000          40.508333\n",
      "2       12007          43.330189          41.622642\n",
      "3       12008          41.627273          41.536364\n",
      "4       12009          41.542373          40.838983\n",
      "..        ...                ...                ...\n",
      "220     42018          45.853659          44.158537\n",
      "221     42019          43.349398          42.951807\n",
      "222     42020          43.988235          42.870588\n",
      "223     42021          42.218391          41.770115\n",
      "224     42022          43.678571          42.511905\n",
      "\n",
      "[225 rows x 3 columns]\n"
     ]
    }
   ],
   "execution_count": 31
  },
  {
   "metadata": {},
   "cell_type": "markdown",
   "source": "Question 3: What was the change in home wins during the COVID-19 seasons compared to prior seasons?",
   "id": "6de344b34e623a42"
  },
  {
   "metadata": {},
   "cell_type": "code",
   "source": [
    "# Query to calculate home wins and total games for COVID and prior seasons\n",
    "query_home_wins = '''\n",
    "SELECT season_id, \n",
    "       SUM(CASE WHEN wl_home = 'W' THEN 1 ELSE 0 END) AS home_wins,\n",
    "       COUNT(*) AS total_home_games\n",
    "FROM game\n",
    "WHERE season_id IN ('32021', '22022') OR season_id NOT IN ('32021', '22022')\n",
    "GROUP BY season_id;\n",
    "'''\n",
    "\n",
    "df_home_wins = pd.read_sql(query_home_wins, con)\n",
    "\n",
    "# Calculate winning percentage and win-loss ratio\n",
    "df_home_wins['winning_percentage'] = df_home_wins['home_wins'] / df_home_wins['total_home_games']\n",
    "df_home_wins['win_loss_ratio'] = df_home_wins['home_wins'] / (df_home_wins['total_home_games'] - df_home_wins['home_wins'])\n",
    "\n",
    "print(\"\\nHome Wins Statistics:\")\n",
    "print(df_home_wins)\n",
    "\n",
    "# Descriptive statistics for home wins\n",
    "print(\"\\nDescriptive Statistics for Home Wins:\")\n",
    "print(df_home_wins.describe())\n"
   ],
   "id": "9924f7b7989e81f8",
   "outputs": [],
   "execution_count": null
  },
  {
   "metadata": {},
   "cell_type": "markdown",
   "source": "Question 4:Has the home court advantage changed during the pandemic with no fans in the stadium?",
   "id": "9be3e86a3d4c5871"
  },
  {
   "metadata": {},
   "cell_type": "code",
   "source": [
    "# Query to assess home court advantage (point differentials)\n",
    "query_home_court_advantage = '''\n",
    "SELECT season_id, \n",
    "       AVG(pts_home - pts_away) AS avg_point_differential_home\n",
    "FROM game\n",
    "WHERE season_id IN ('32021', '22022')\n",
    "GROUP BY season_id;\n",
    "'''\n",
    "\n",
    "df_home_court_advantage = pd.read_sql(query_home_court_advantage, con)\n",
    "\n",
    "# Display the result\n",
    "print(\"\\nHome Court Advantage Assessment:\")\n",
    "print(df_home_court_advantage)\n",
    "\n",
    "# Descriptive statistics for point differentials\n",
    "print(\"\\nDescriptive Statistics for Point Differentials:\")\n",
    "print(df_home_court_advantage.describe())"
   ],
   "id": "215d1401b87a1416",
   "outputs": [],
   "execution_count": null
  },
  {
   "metadata": {},
   "cell_type": "markdown",
   "source": " Question 5:How did the win-loss records differ between home and away teams during the pandemic?",
   "id": "21c19577e593c9e"
  },
  {
   "metadata": {},
   "cell_type": "code",
   "source": [
    "# Query to get win-loss records\n",
    "query_win_loss_records = '''\n",
    "SELECT season_id, \n",
    "       COUNT(CASE WHEN wl_home = 'W' THEN 1 END) AS home_wins,\n",
    "       COUNT(CASE WHEN wl_away = 'W' THEN 1 END) AS away_wins\n",
    "FROM game\n",
    "WHERE season_id IN ('32021', '22022')\n",
    "GROUP BY season_id;\n",
    "'''\n",
    "\n",
    "df_win_loss_records = pd.read_sql(query_win_loss_records, con)\n",
    "\n",
    "# Display the result\n",
    "print(\"\\nWin-Loss Records Comparison During COVID Seasons:\")\n",
    "print(df_win_loss_records)\n",
    "\n",
    "# Descriptive statistics for win-loss records\n",
    "print(\"\\nDescriptive Statistics for Win-Loss Records:\")\n",
    "print(df_win_loss_records.describe())\n",
    "\n"
   ],
   "id": "828c90c2b181905a",
   "outputs": [],
   "execution_count": null
  }
 ],
 "metadata": {
  "kernelspec": {
   "display_name": "Python 3",
   "language": "python",
   "name": "python3"
  },
  "language_info": {
   "codemirror_mode": {
    "name": "ipython",
    "version": 2
   },
   "file_extension": ".py",
   "mimetype": "text/x-python",
   "name": "python",
   "nbconvert_exporter": "python",
   "pygments_lexer": "ipython2",
   "version": "2.7.6"
  }
 },
 "nbformat": 4,
 "nbformat_minor": 5
}
