{
 "cells": [
  {
   "metadata": {
    "ExecuteTime": {
     "end_time": "2024-10-22T19:35:58.672751Z",
     "start_time": "2024-10-22T19:35:58.617369Z"
    }
   },
   "cell_type": "code",
   "source": [
    "import pandas as pd\n",
    "import sqlite3\n",
    "\n",
    "con = sqlite3.connect(r\"C:\\Users\\Ishaan\\Documents\\GitHub\\UMD-INST627-Fall2024\\data\\nba.sqlite\")\n",
    "games = pd.read_sql_query(\"SELECT * FROM game LIMIT 100\", con)\n",
    "active_players = pd.read_sql_query(\"SELECT full_name FROM player WHERE is_active=TRUE\", con)"
   ],
   "id": "3b14f9bdbf3e0daf",
   "outputs": [],
   "execution_count": 3
  },
  {
   "metadata": {
    "ExecuteTime": {
     "end_time": "2024-10-22T19:42:55.208799Z",
     "start_time": "2024-10-22T19:42:55.038230Z"
    }
   },
   "cell_type": "code",
   "source": [
    "# Query to get distinct seasons from the game table\n",
    "all_seasons=pd.read_sql_query(\"SELECT DISTINCT strftime('%Y', game_date) AS season_year FROM game ORDER BY season_year DESC;\", con)\n",
    "most_recent_season=all_seasons.iloc[0]['season_year']\n",
    "print(\"Most recent season: \", most_recent_season)"
   ],
   "id": "5b71b4c417cb140b",
   "outputs": [
    {
     "name": "stdout",
     "output_type": "stream",
     "text": [
      "Most recent season:  2023\n"
     ]
    }
   ],
   "execution_count": 6
  },
  {
   "metadata": {
    "ExecuteTime": {
     "end_time": "2024-10-22T19:43:26.466405Z",
     "start_time": "2024-10-22T19:43:26.322417Z"
    }
   },
   "cell_type": "code",
   "source": [
    "team_name='Miami Heat'\n",
    "team_games=pd.read_sql_query (f\"\"\"\n",
    "SELECT team_name_home AS team_home, team_name_away AS team_away,pts_home,pts_away\n",
    "FROM game \n",
    "WHERE (team_name_home='{team_name}' OR team_name_away='{team_name}')\n",
    "    AND strftime('%Y', game_date)='{most_recent_season}'\"\"\", con)\n",
    "print(team_games)                           \n",
    "                   "
   ],
   "id": "303796f7ca616eb3",
   "outputs": [
    {
     "name": "stdout",
     "output_type": "stream",
     "text": [
      "             team_home              team_away  pts_home  pts_away\n",
      "0          LA Clippers             Miami Heat     100.0     110.0\n",
      "1   Los Angeles Lakers             Miami Heat     112.0     109.0\n",
      "2         Phoenix Suns             Miami Heat      96.0     104.0\n",
      "3           Miami Heat          Brooklyn Nets     101.0     102.0\n",
      "4           Miami Heat  Oklahoma City Thunder     112.0     111.0\n",
      "..                 ...                    ...       ...       ...\n",
      "63      Denver Nuggets             Miami Heat     104.0      93.0\n",
      "64      Denver Nuggets             Miami Heat     108.0     111.0\n",
      "65          Miami Heat         Denver Nuggets      94.0     109.0\n",
      "66          Miami Heat         Denver Nuggets      95.0     108.0\n",
      "67      Denver Nuggets             Miami Heat      94.0      89.0\n",
      "\n",
      "[68 rows x 4 columns]\n"
     ]
    }
   ],
   "execution_count": 9
  },
  {
   "metadata": {
    "ExecuteTime": {
     "end_time": "2024-10-22T19:47:45.789317Z",
     "start_time": "2024-10-22T19:47:45.766152Z"
    }
   },
   "cell_type": "code",
   "source": [
    "# Separate home games and away games for Oklahoma City Thunder\n",
    "home_games = team_games[team_games['team_home'] == team_name]\n",
    "away_games = team_games[team_games['team_away'] == team_name]\n",
    "\n",
    "# Calculate the average score for home and away games\n",
    "average_home_score = home_games['pts_home'].mean()\n",
    "average_away_score = away_games['pts_away'].mean()\n",
    "\n",
    "\n",
    "print(f\"Average Home Score for {team_name} in {most_recent_season}: {average_home_score}\")\n",
    "print(f\"Average Away Score for {team_name} in {most_recent_season}: {average_away_score}\")\n",
    "\n",
    "\n",
    "con.close()"
   ],
   "id": "ebd70abd62eea90e",
   "outputs": [
    {
     "name": "stdout",
     "output_type": "stream",
     "text": [
      "Average Home Score for Miami Heat in 2023: 110.875\n",
      "Average Away Score for Miami Heat in 2023: 108.0\n"
     ]
    }
   ],
   "execution_count": 12
  }
 ],
 "metadata": {
  "kernelspec": {
   "display_name": "Python 3",
   "language": "python",
   "name": "python3"
  },
  "language_info": {
   "codemirror_mode": {
    "name": "ipython",
    "version": 2
   },
   "file_extension": ".py",
   "mimetype": "text/x-python",
   "name": "python",
   "nbconvert_exporter": "python",
   "pygments_lexer": "ipython2",
   "version": "2.7.6"
  }
 },
 "nbformat": 4,
 "nbformat_minor": 5
}
