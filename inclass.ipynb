{
 "cells": [
  {
   "cell_type": "markdown",
   "metadata": {
    "jp-MarkdownHeadingCollapsed": true
   },
   "source": [
    "# Issue 4: Business and Analytical Questions\n",
    "\n",
    "#### Business Objective: What was the impact of the COVID-19 pandemic on the level of home court advantage?\n",
    "- Question 1: How has the difference in win-loss ratio between home and away teams changed from the 2019-20 season to the 2022-23 season? (wl_home and wl_away columns in game table)\n",
    "- Question 2: How has the difference in average points scored between home and away teams changed from the 2019-20 season to the 2022-23 season? (pts_home and pts_away columns in game table)\n",
    "- Question 3: How has the difference in offensive and defensive rebounds between home and away teams changed from 2019-20 to 2022-23?(oreb_home, oreb_away, dreb_home, dreb_away in the game table)\n",
    "- Question 4: How does the average number of three-point field goals made by home teams compare to that of away teams from the 2019-20 season to the 2022-23 season? (fg3_pct_home and fg3_pct_away columns in game table)\n",
    "- Question 5: How does the free throw percentage of home teams compare to that of away teams from the 2019-20 season to the 2022-23 season? (ft_pct_home and ft_pct_away in the game table)"
   ]
  },
  {
   "cell_type": "markdown",
   "metadata": {},
   "source": [
    "# Issue 5: Descriptive statistics\n",
    "\n",
    "#### Question 1: How has the difference in win-loss ratio between home and away teams changed from the 2019-20 season to the 2022-23 season? (wl_home and wl_away columns in game table)"
   ]
  },
  {
   "cell_type": "code",
   "execution_count": 28,
   "metadata": {},
   "outputs": [
    {
     "name": "stdout",
     "output_type": "stream",
     "text": [
      "2019-2020 season data\n",
      "        home_wins  home_losses   away_wins  away_losses\n",
      "count    3.000000     3.000000    3.000000     3.000000\n",
      "mean   208.000000   173.000000  173.000000   208.000000\n",
      "std    326.239176   262.381402  262.381402   326.239176\n",
      "min      0.000000     1.000000    1.000000     0.000000\n",
      "25%     20.000000    22.000000   22.000000    20.000000\n",
      "50%     40.000000    43.000000   43.000000    40.000000\n",
      "75%    312.000000   259.000000  259.000000   312.000000\n",
      "max    584.000000   475.000000  475.000000   584.000000\n",
      "2022-2023 season data\n",
      "        home_wins  home_losses   away_wins  away_losses\n",
      "count    4.000000     4.000000    4.000000     4.000000\n",
      "mean   199.000000   147.500000  147.500000   199.000000\n",
      "std    343.955423   246.194368  246.194368   343.955423\n",
      "min      0.000000     2.000000    2.000000     0.000000\n",
      "25%     24.000000    26.000000   26.000000    24.000000\n",
      "50%     41.000000    36.000000   36.000000    41.000000\n",
      "75%    216.000000   157.500000  157.500000   216.000000\n",
      "max    714.000000   516.000000  516.000000   714.000000\n"
     ]
    }
   ],
   "source": [
    "#import pandas and sqlite, and produce connection\n",
    "import pandas as pd\n",
    "import sqlite3\n",
    "con = sqlite3.connect('C:/Users/antar/OneDrive/Documents/GitHub/UMD-INST627-Fall2024/data/nba.sqlite')\n",
    "\n",
    "#2019-2020 season data\n",
    "\n",
    "query_q1_2019 = '''\n",
    "SELECT\n",
    "    season_id,\n",
    "    SUM(CASE WHEN wl_home = 'W' THEN 1 ELSE 0 END) AS home_wins,\n",
    "    SUM(CASE WHEN wl_home = 'L' THEN 1 ELSE 0 END) AS home_losses,\n",
    "    SUM(CASE WHEN wl_away = 'W' THEN 1 ELSE 0 END) AS away_wins,\n",
    "    SUM(CASE WHEN wl_away = 'L' THEN 1 ELSE 0 END) AS away_losses\n",
    "FROM game\n",
    "WHERE season_id LIKE '_2019'\n",
    "GROUP BY season_id\n",
    "\n",
    "'''\n",
    "q1_table_2019 = pd.read_sql_query(query_q1_2019, con)\n",
    "print(\"2019-2020 season data\")\n",
    "print(q1_table_2019.describe())\n",
    "\n",
    "\n",
    "#2022-2023 season data\n",
    "\n",
    "query_q1_2022 = '''\n",
    "SELECT\n",
    "    season_id,\n",
    "    SUM(CASE WHEN wl_home = 'W' THEN 1 ELSE 0 END) AS home_wins,\n",
    "    SUM(CASE WHEN wl_home = 'L' THEN 1 ELSE 0 END) AS home_losses,\n",
    "    SUM(CASE WHEN wl_away = 'W' THEN 1 ELSE 0 END) AS away_wins,\n",
    "    SUM(CASE WHEN wl_away = 'L' THEN 1 ELSE 0 END) AS away_losses\n",
    "FROM game\n",
    "WHERE season_id LIKE '_2022'\n",
    "GROUP BY season_id\n",
    "\n",
    "'''\n",
    "q1_table_2022 = pd.read_sql_query(query_q1_2022, con)\n",
    "print(\"2022-2023 season data\")\n",
    "print(q1_table_2022.describe())\n"
   ]
  },
  {
   "cell_type": "markdown",
   "metadata": {},
   "source": [
    "#### Question 2: How has the difference in average points scored between home and away teams changed from the 2019-20 season to the 2022-23 season? (pts_home and pts_away columns in game table)"
   ]
  },
  {
   "cell_type": "code",
   "execution_count": 29,
   "metadata": {},
   "outputs": [
    {
     "name": "stdout",
     "output_type": "stream",
     "text": [
      "2019-2020 season data\n",
      "       AVG(pts_home)  AVG(pts_away)\n",
      "count       3.000000       3.000000\n",
      "mean      125.974440     125.597669\n",
      "std        25.175908      27.208071\n",
      "min       110.060241     109.060241\n",
      "25%       111.461660     109.896504\n",
      "50%       112.863078     110.732767\n",
      "75%       133.931539     133.866383\n",
      "max       155.000000     157.000000\n",
      "2022-2023 season data\n",
      "       AVG(pts_home)  AVG(pts_away)\n",
      "count       4.000000       4.000000\n",
      "mean      128.536919     128.368467\n",
      "std        31.042568      37.177098\n",
      "min       111.583333     107.595238\n",
      "25%       111.617262     108.230952\n",
      "50%       113.782172     110.939315\n",
      "75%       130.701829     131.076829\n",
      "max       175.000000     184.000000\n"
     ]
    }
   ],
   "source": [
    "#2019-2020 season data\n",
    "\n",
    "query_q2_2019 = '''\n",
    "SELECT season_id, AVG(pts_home), AVG(pts_away)\n",
    "FROM game\n",
    "GROUP BY season_id\n",
    "HAVING season_id LIKE '_2019'\n",
    "'''\n",
    "\n",
    "q2_table_2019 = pd.read_sql_query(query_q2_2019, con)\n",
    "print(\"2019-2020 season data\")\n",
    "print(q2_table_2019.describe())\n",
    "\n",
    "#2022-2023 season data\n",
    "\n",
    "query_q2_2022 = '''\n",
    "SELECT season_id, AVG(pts_home), AVG(pts_away)\n",
    "FROM game\n",
    "GROUP BY season_id\n",
    "HAVING season_id LIKE '_2022'\n",
    "'''\n",
    "q2_table_2022 = pd.read_sql_query(query_q2_2022, con)\n",
    "print(\"2022-2023 season data\")\n",
    "print(q2_table_2022.describe())"
   ]
  },
  {
   "cell_type": "markdown",
   "metadata": {},
   "source": [
    "#### Question 3: How has the difference in offensive and defensive rebounds between home and away teams changed from 2019-20 to 2022-23?(oreb_home, oreb_away, dreb_home, dreb_away in the game table)"
   ]
  },
  {
   "cell_type": "code",
   "execution_count": 30,
   "metadata": {},
   "outputs": [
    {
     "name": "stdout",
     "output_type": "stream",
     "text": [
      "2019-2020 season data:\n",
      "       AVG(oreb_home)  AVG(oreb_away)  AVG(dreb_home)  AVG(dreb_away)\n",
      "count       47.000000       47.000000       47.000000       47.000000\n",
      "mean         9.987154        9.453378       35.032945       34.809570\n",
      "std          1.792427        1.696943        2.980981        2.908626\n",
      "min          5.500000        5.333333       28.000000       29.333333\n",
      "25%          8.947253        8.722222       33.464286       33.027778\n",
      "50%         10.138889        9.666667       35.051282       34.388889\n",
      "75%         11.032258       10.319701       36.361111       35.985714\n",
      "max         15.000000       13.333333       46.000000       46.500000\n",
      "2022-2023 season data:\n",
      "       AVG(oreb_home)  AVG(oreb_away)  AVG(dreb_home)  AVG(dreb_away)\n",
      "count       77.000000       77.000000       77.000000       77.000000\n",
      "mean        10.494083       10.618133       34.409153       33.427327\n",
      "std          2.518303        2.380763        3.097153        3.966718\n",
      "min          3.000000        5.000000       28.333333       23.500000\n",
      "25%          9.000000        9.170732       32.292683       31.292683\n",
      "50%         10.500000       10.250000       34.000000       33.000000\n",
      "75%         12.000000       11.634146       36.750000       35.000000\n",
      "max         17.000000       18.000000       43.000000       52.000000\n"
     ]
    }
   ],
   "source": [
    "#2019-2020 season data\n",
    "\n",
    "query_q3_2019 = '''\n",
    "SELECT season_id, team_name_home, AVG(oreb_home), AVG(oreb_away), AVG(dreb_home), AVG(dreb_away)\n",
    "FROM game\n",
    "WHERE season_id LIKE '_2019'\n",
    "GROUP BY season_id, team_name_home\n",
    "ORDER BY team_name_home\n",
    "'''\n",
    "q3_table_2019 = pd.read_sql_query(query_q3_2019, con)\n",
    "print(\"2019-2020 season data:\")\n",
    "print(q3_table_2019.describe())\n",
    "\n",
    "#2022-2023 season data\n",
    "\n",
    "query_q3_2022 = '''\n",
    "SELECT season_id, team_name_home, AVG(oreb_home), AVG(oreb_away), AVG(dreb_home), AVG(dreb_away)\n",
    "FROM game\n",
    "WHERE season_id LIKE '_2022'\n",
    "GROUP BY season_id, team_name_home\n",
    "ORDER BY team_name_home\n",
    "'''\n",
    "\n",
    "q3_table_2022 = pd.read_sql_query(query_q3_2022, con)\n",
    "print(\"2022-2023 season data:\")\n",
    "print(q3_table_2022.describe())"
   ]
  },
  {
   "cell_type": "markdown",
   "metadata": {},
   "source": [
    "#### Question 4: How does the average number of three-point field goals made by home teams compare to that of away teams from the 2019-20 season to the 2022-23 season? (fg3_pct_home and fg3_pct_away columns in game table)"
   ]
  },
  {
   "cell_type": "code",
   "execution_count": 31,
   "metadata": {},
   "outputs": [
    {
     "name": "stdout",
     "output_type": "stream",
     "text": [
      "2019-2020 season data:\n",
      "       fg3_pct_home  fg3_pct_away\n",
      "count   1143.000000   1143.000000\n",
      "mean       0.361411      0.353990\n",
      "std        0.085972      0.083539\n",
      "min        0.118000      0.094000\n",
      "25%        0.303000      0.300000\n",
      "50%        0.360000      0.353000\n",
      "75%        0.419000      0.406000\n",
      "max        0.629000      0.680000\n",
      "2022-2023 season data:\n",
      "       fg3_pct_home  fg3_pct_away\n",
      "count   1386.000000   1386.000000\n",
      "mean       0.362962      0.351737\n",
      "std        0.086659      0.083581\n",
      "min        0.103000      0.105000\n",
      "25%        0.303000      0.296000\n",
      "50%        0.362000      0.349000\n",
      "75%        0.421750      0.411250\n",
      "max        0.636000      0.618000\n"
     ]
    }
   ],
   "source": [
    "#2019-2020 season data\n",
    "\n",
    "query_q4_2019 = '''\n",
    "SELECT season_id, team_name_home, fg3_pct_home, fg3_pct_away\n",
    "FROM game\n",
    "WHERE season_id LIKE '_2019'\n",
    "'''\n",
    "\n",
    "q4_table_2019 = pd.read_sql_query(query_q4_2019, con)\n",
    "print(\"2019-2020 season data:\")\n",
    "print(q4_table_2019.describe())\n",
    "\n",
    "#2022-2023 season data\n",
    "\n",
    "query_q4_2022 = '''\n",
    "SELECT season_id, team_name_home, fg3_pct_home, fg3_pct_away\n",
    "FROM game\n",
    "WHERE season_id LIKE '_2022'\n",
    "'''\n",
    "\n",
    "q4_table_2022 = pd.read_sql_query(query_q4_2022, con)\n",
    "print(\"2022-2023 season data:\")\n",
    "print(q4_table_2022.describe())"
   ]
  },
  {
   "cell_type": "markdown",
   "metadata": {},
   "source": [
    "#### Question 5: How does the free throw percentage of home teams compare to that of away teams from the 2019-20 season to the 2022-23 season? (ft_pct_home and ft_pct_away in the game table)"
   ]
  },
  {
   "cell_type": "code",
   "execution_count": 32,
   "metadata": {},
   "outputs": [
    {
     "name": "stdout",
     "output_type": "stream",
     "text": [
      "2019-2020 season data:\n",
      "       ft_pct_home  ft_pct_away\n",
      "count  1143.000000  1143.000000\n",
      "mean      0.771852     0.772411\n",
      "std       0.098059     0.103027\n",
      "min       0.400000     0.375000\n",
      "25%       0.708000     0.708000\n",
      "50%       0.781000     0.778000\n",
      "75%       0.840000     0.844000\n",
      "max       1.000000     1.000000\n",
      "2022-2023 season data:\n",
      "       ft_pct_home  ft_pct_away\n",
      "count  1384.000000  1386.000000\n",
      "mean      0.782598     0.780615\n",
      "std       0.096220     0.098461\n",
      "min       0.400000     0.300000\n",
      "25%       0.723500     0.714000\n",
      "50%       0.789000     0.785000\n",
      "75%       0.850000     0.846000\n",
      "max       1.000000     1.000000\n"
     ]
    }
   ],
   "source": [
    "#2019-2020 season data\n",
    "\n",
    "query_q5_2019 = '''\n",
    "SELECT season_id, team_name_home, ft_pct_home, ft_pct_away\n",
    "FROM game\n",
    "WHERE season_id LIKE '_2019'\n",
    "'''\n",
    "\n",
    "q5_table_2019 = pd.read_sql_query(query_q5_2019, con)\n",
    "print(\"2019-2020 season data:\")\n",
    "print(q5_table_2019.describe())\n",
    "\n",
    "#2022-2023 season data\n",
    "\n",
    "query_q5_2022 = '''\n",
    "SELECT season_id, team_name_home, ft_pct_home, ft_pct_away\n",
    "FROM game\n",
    "WHERE season_id LIKE '_2022'\n",
    "'''\n",
    "q5_table_2022 = pd.read_sql_query(query_q5_2022, con)\n",
    "print(\"2022-2023 season data:\")\n",
    "print(q5_table_2022.describe())"
   ]
  },
  {
   "cell_type": "code",
   "execution_count": null,
   "metadata": {},
   "outputs": [],
   "source": []
  }
 ],
 "metadata": {
  "kernelspec": {
   "display_name": "Python 3 (ipykernel)",
   "language": "python",
   "name": "python3"
  },
  "language_info": {
   "codemirror_mode": {
    "name": "ipython",
    "version": 3
   },
   "file_extension": ".py",
   "mimetype": "text/x-python",
   "name": "python",
   "nbconvert_exporter": "python",
   "pygments_lexer": "ipython3",
   "version": "3.12.3"
  }
 },
 "nbformat": 4,
 "nbformat_minor": 4
}
