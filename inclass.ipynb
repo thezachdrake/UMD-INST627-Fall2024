{
 "cells": [
  {
   "cell_type": "markdown",
   "metadata": {},
   "source": [
    "#### Business Objective: What was the impact of the COVID-19 pandemic on the level of home court advantage?\n",
    "- Question 1: How has the difference in win-loss ratio between home and away teams changed from the 2019-20 season to the 2022-23 season? (wl_home and wl_away columns in game table)\n",
    "- Question 2: How has the difference in average points scored between home and away teams changed from the 2019-20 season to the 2022-23 season? (pts_home and pts_away columns in game table)\n",
    "- Question 3: How has the difference in offensive and defensive rebounds between home and away teams changed from 2019-20 to 2022-23?(oreb_home, oreb_away, dreb_home, dreb_away in the game table)\n",
    "- Question 4: How does the average number of three-point field goals made by home teams compare to that of away teams from the 2019-20 season to the 2022-23 season? (fg3_pct_home and fg3_pct_away columns in game table)\n",
    "- Question 5: How does the free throw percentage of home teams compare to that of away teams from the 2019-20 season to the 2022-23 season? (ft_pct_home and ft_pct_away in the game table)"
   ]
  },
  {
   "cell_type": "code",
   "execution_count": 38,
   "metadata": {},
   "outputs": [],
   "source": [
    "import pandas as pd\n",
    "import sqlite3\n",
    "\n",
    "con = sqlite3.connect(\"data/nba.sqlite\")\n",
    "\n",
    "seasons = ['2019', '2020', '2021', '2022']\n",
    "result = []"
   ]
  },
  {
   "cell_type": "code",
   "execution_count": 40,
   "metadata": {},
   "outputs": [
    {
     "name": "stdout",
     "output_type": "stream",
     "text": [
      "  season_year  avg_ft_pct_home  avg_ft_pct_away\n",
      "0        2019         0.771852         0.772411\n",
      "1        2020         0.779016         0.775290\n",
      "2        2021         0.775135         0.775920\n",
      "3        2022         0.782598         0.780615\n"
     ]
    }
   ],
   "source": [
    "# Question 1\n",
    "result = []\n",
    "for year in seasons:\n",
    "    ft_query = f\"\"\"\n",
    "    SELECT \n",
    "        AVG(ft_pct_home) AS avg_ft_pct_home,\n",
    "        AVG(ft_pct_away) AS avg_ft_pct_away\n",
    "    FROM game\n",
    "    WHERE SUBSTR(season_id, -4) = '{year}'\n",
    "    \"\"\"\n",
    "    \n",
    "    ft_data = pd.read_sql_query(ft_query, con)\n",
    "    \n",
    "    if not ft_data.empty:\n",
    "        avg_ft_pct_home = ft_data['avg_ft_pct_home'][0]\n",
    "        avg_ft_pct_away = ft_data['avg_ft_pct_away'][0]\n",
    "        \n",
    "        result.append({\n",
    "            'season_year': year,\n",
    "            'avg_ft_pct_home': avg_ft_pct_home,\n",
    "            'avg_ft_pct_away': avg_ft_pct_away\n",
    "        })\n",
    "\n",
    "result_df = pd.DataFrame(result)\n",
    "print(result_df)"
   ]
  },
  {
   "cell_type": "code",
   "execution_count": 42,
   "metadata": {},
   "outputs": [
    {
     "name": "stdout",
     "output_type": "stream",
     "text": [
      "  season_year  avg_pts_home  avg_pts_away  points_diff\n",
      "0        2019    112.696413    110.651794     2.044619\n",
      "1        2020    112.466283    111.369243     1.097039\n",
      "2        2021    111.232659    109.271676     1.960983\n",
      "3        2022    115.539683    112.931457     2.608225\n"
     ]
    }
   ],
   "source": [
    "# Question 2\n",
    "result = []\n",
    "for year in seasons:\n",
    "    points_query = f\"\"\"\n",
    "    SELECT \n",
    "        AVG(pts_home) AS avg_pts_home,\n",
    "        AVG(pts_away) AS avg_pts_away\n",
    "    FROM game\n",
    "    WHERE SUBSTR(season_id, -4) = '{year}'\n",
    "    \"\"\"\n",
    "    \n",
    "    points_data = pd.read_sql_query(points_query, con)\n",
    "    \n",
    "    if not points_data.empty:\n",
    "        avg_pts_home = points_data['avg_pts_home'][0]\n",
    "        avg_pts_away = points_data['avg_pts_away'][0]\n",
    "        \n",
    "        points_diff = avg_pts_home - avg_pts_away\n",
    "        \n",
    "        result.append({\n",
    "            'season_year': year,\n",
    "            'avg_pts_home': avg_pts_home,\n",
    "            'avg_pts_away': avg_pts_away,\n",
    "            'points_diff': points_diff\n",
    "        })\n",
    "\n",
    "result_df = pd.DataFrame(result)\n",
    "print(result_df)"
   ]
  },
  {
   "cell_type": "code",
   "execution_count": 44,
   "metadata": {},
   "outputs": [
    {
     "name": "stdout",
     "output_type": "stream",
     "text": [
      "  season_year  avg_oreb_home  avg_oreb_away  oreb_diff  avg_dreb_home  \\\n",
      "0        2019      10.179353       9.794401   0.384952      35.209974   \n",
      "1        2020       9.896382       9.742599   0.153783      34.866776   \n",
      "2        2021      10.309249      10.236994   0.072254      34.416185   \n",
      "3        2022      10.485570      10.419913   0.065657      33.575758   \n",
      "\n",
      "   avg_dreb_away  dreb_diff  \n",
      "0      34.256343   0.953631  \n",
      "1      34.178454   0.688322  \n",
      "2      33.875000   0.541185  \n",
      "3      32.632756   0.943001  \n"
     ]
    }
   ],
   "source": [
    "# Question 3\n",
    "result = []\n",
    "for year in seasons:\n",
    "    rebounds_query = f\"\"\"\n",
    "    SELECT \n",
    "        AVG(oreb_home) AS avg_oreb_home,\n",
    "        AVG(oreb_away) AS avg_oreb_away,\n",
    "        AVG(dreb_home) AS avg_dreb_home,\n",
    "        AVG(dreb_away) AS avg_dreb_away\n",
    "    FROM game\n",
    "    WHERE SUBSTR(season_id, -4) = '{year}'\n",
    "    \"\"\"\n",
    "    \n",
    "    rebounds_data = pd.read_sql_query(rebounds_query, con)\n",
    "    \n",
    "    if not rebounds_data.empty:\n",
    "        avg_oreb_home = rebounds_data['avg_oreb_home'][0]\n",
    "        avg_oreb_away = rebounds_data['avg_oreb_away'][0]\n",
    "        avg_dreb_home = rebounds_data['avg_dreb_home'][0]\n",
    "        avg_dreb_away = rebounds_data['avg_dreb_away'][0]\n",
    "        \n",
    "        oreb_diff = avg_oreb_home - avg_oreb_away\n",
    "        dreb_diff = avg_dreb_home - avg_dreb_away\n",
    "        \n",
    "        result.append({\n",
    "            'season_year': year,\n",
    "            'avg_oreb_home': avg_oreb_home,\n",
    "            'avg_oreb_away': avg_oreb_away,\n",
    "            'oreb_diff': oreb_diff,\n",
    "            'avg_dreb_home': avg_dreb_home,\n",
    "            'avg_dreb_away': avg_dreb_away,\n",
    "            'dreb_diff': dreb_diff\n",
    "        })\n",
    "\n",
    "result_df = pd.DataFrame(result)\n",
    "print(result_df)"
   ]
  },
  {
   "cell_type": "code",
   "execution_count": 46,
   "metadata": {},
   "outputs": [
    {
     "name": "stdout",
     "output_type": "stream",
     "text": [
      "  season_year  avg_fg3_pct_home  avg_fg3_pct_away\n",
      "0        2019          0.361411          0.353990\n",
      "1        2020          0.367235          0.362348\n",
      "2        2021          0.354915          0.350280\n",
      "3        2022          0.362962          0.351737\n"
     ]
    }
   ],
   "source": [
    "# Question 4\n",
    "result = []\n",
    "for year in seasons:\n",
    "    fg3_query = f\"\"\"\n",
    "    SELECT \n",
    "        AVG(fg3_pct_home) AS avg_fg3_pct_home,\n",
    "        AVG(fg3_pct_away) AS avg_fg3_pct_away\n",
    "    FROM game\n",
    "    WHERE SUBSTR(season_id, -4) = '{year}'\n",
    "    \"\"\"\n",
    "    \n",
    "    fg3_data = pd.read_sql_query(fg3_query, con)\n",
    "    \n",
    "    if not fg3_data.empty:\n",
    "        avg_fg3_pct_home = fg3_data['avg_fg3_pct_home'][0]\n",
    "        avg_fg3_pct_away = fg3_data['avg_fg3_pct_away'][0]\n",
    "        \n",
    "        result.append({\n",
    "            'season_year': year,\n",
    "            'avg_fg3_pct_home': avg_fg3_pct_home,\n",
    "            'avg_fg3_pct_away': avg_fg3_pct_away\n",
    "        })\n",
    "\n",
    "result_df = pd.DataFrame(result)\n",
    "print(result_df)"
   ]
  },
  {
   "cell_type": "code",
   "execution_count": 48,
   "metadata": {},
   "outputs": [
    {
     "name": "stdout",
     "output_type": "stream",
     "text": [
      "  season_year  avg_ft_pct_home  avg_ft_pct_away\n",
      "0        2019         0.771852         0.772411\n",
      "1        2020         0.779016         0.775290\n",
      "2        2021         0.775135         0.775920\n",
      "3        2022         0.782598         0.780615\n"
     ]
    }
   ],
   "source": [
    "# Question 5\n",
    "result = []\n",
    "for year in seasons:\n",
    "    ft_query = f\"\"\"\n",
    "    SELECT \n",
    "        AVG(ft_pct_home) AS avg_ft_pct_home,\n",
    "        AVG(ft_pct_away) AS avg_ft_pct_away\n",
    "    FROM game\n",
    "    WHERE SUBSTR(season_id, -4) = '{year}'\n",
    "    \"\"\"\n",
    "    \n",
    "    ft_data = pd.read_sql_query(ft_query, con)\n",
    "    \n",
    "    if not ft_data.empty:\n",
    "        avg_ft_pct_home = ft_data['avg_ft_pct_home'][0]\n",
    "        avg_ft_pct_away = ft_data['avg_ft_pct_away'][0]\n",
    "        \n",
    "        result.append({\n",
    "            'season_year': year,\n",
    "            'avg_ft_pct_home': avg_ft_pct_home,\n",
    "            'avg_ft_pct_away': avg_ft_pct_away\n",
    "        })\n",
    "\n",
    "result_df = pd.DataFrame(result)\n",
    "print(result_df)"
   ]
  },
  {
   "cell_type": "code",
   "execution_count": 50,
   "metadata": {},
   "outputs": [],
   "source": [
    "con.close()"
   ]
  }
 ],
 "metadata": {
  "kernelspec": {
   "display_name": "Python 3 (ipykernel)",
   "language": "python",
   "name": "python3"
  },
  "language_info": {
   "codemirror_mode": {
    "name": "ipython",
    "version": 3
   },
   "file_extension": ".py",
   "mimetype": "text/x-python",
   "name": "python",
   "nbconvert_exporter": "python",
   "pygments_lexer": "ipython3",
   "version": "3.12.4"
  }
 },
 "nbformat": 4,
 "nbformat_minor": 4
}
