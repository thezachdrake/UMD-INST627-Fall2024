{
 "cells": [
  {
   "cell_type": "markdown",
   "metadata": {},
   "source": [
    "#### Business Objective: What was the impact of the COVID-19 pandemic on the level of home court advantage?\n",
    "- Question 1: How has the difference in win-loss ratio between home and away teams changed from the 2019-20 season to the 2022-23 season? (wl_home and wl_away columns in game table)\n",
    "- Question 2: How has the difference in average points scored between home and away teams changed from the 2019-20 season to the 2022-23 season? (pts_home and pts_away columns in game table)\n",
    "- Question 3: How has the difference in offensive and defensive rebounds between home and away teams changed from 2019-20 to 2022-23?(oreb_home, oreb_away, dreb_home, dreb_away in the game table)\n",
    "- Question 4: How does the average number of three-point field goals made by home teams compare to that of away teams from the 2019-20 season to the 2022-23 season? (fg3_pct_home and fg3_pct_away columns in game table)\n",
    "- Question 5: How does the free throw percentage of home teams compare to that of away teams from the 2019-20 season to the 2022-23 season? (ft_pct_home and ft_pct_away in the game table)"
   ]
  },
  {
   "cell_type": "code",
   "execution_count": 1,
   "metadata": {},
   "outputs": [],
   "source": [
    "import pandas as pd\n",
    "import sqlite3\n",
    "\n",
    "con = sqlite3.connect(\"data/nba.sqlite\")\n",
    "\n",
    "seasons = ['2019', '2020', '2021', '2022']"
   ]
  },
  {
   "cell_type": "markdown",
   "metadata": {},
   "source": [
    "Question 1"
   ]
  },
  {
   "cell_type": "markdown",
   "metadata": {},
   "source": [
    "Intro: As the world embraced the shocks of a global pandemic in 2020, how did the basketball players adapt in a world with no fan presence on the court? Did the teams have no differences as they simply did as they've always done or were there noticable changes? Let's find out the difference between a pre pandemic league and a post pandemic one. "
   ]
  },
  {
   "cell_type": "markdown",
   "metadata": {},
   "source": [
    "Rising Action: First, we want to figure out how the teams actually did at home and away to see maybe what impact the difference of fan presence had on the home court advantage in the 2019-2020 season. The home team won 55.1% of the games while the away team won 44.8%. We can probably infer from this that there is a home court advantage in general but it isn't conclusive. \n"
   ]
  },
  {
   "cell_type": "markdown",
   "metadata": {},
   "source": [
    "Climax: Then, we ran the same analysis in the 2020-2021 and 2021-2022 seasons to see if this difference did exist... did the lack of presence of the fans on the home court have a huge impact? We figured out that the home team win-loss ratio was only at 54.3% for 2020-2021 and 54.4% for 2021-2022, and the away team win-loss ratio was only 45.6% in both season, there were changes in the pre pandemic world and a post pandemic one, the question was merely, was it enough to prove something?"
   ]
  },
  {
   "cell_type": "markdown",
   "metadata": {},
   "source": [
    "Falling Action: Is there really such a huge difference between 55.1% vs 54.3%? Or 44.8% vs 45.6%? What do we even count as a huge difference? "
   ]
  },
  {
   "cell_type": "markdown",
   "metadata": {},
   "source": [
    "Conclusion: We believe that although there is some change, it isn't significant enough to prove that the pandemic had a huge impact on the home & away teams win-loss ratio, the home team was still outperforming despite having no fan presence in their home court."
   ]
  },
  {
   "cell_type": "code",
   "execution_count": 2,
   "metadata": {},
   "outputs": [
    {
     "name": "stderr",
     "output_type": "stream",
     "text": [
      "C:\\Users\\tsidd\\AppData\\Local\\Temp\\ipykernel_36728\\3688947812.py:3: FutureWarning: Downcasting behavior in `replace` is deprecated and will be removed in a future version. To retain the old behavior, explicitly call `result.infer_objects(copy=False)`. To opt-in to the future behavior, set `pd.set_option('future.no_silent_downcasting', True)`\n",
      "  covid_wl_home = covid_wl_home.replace('L', 0)\n"
     ]
    },
    {
     "data": {
      "text/html": [
       "<div>\n",
       "<style scoped>\n",
       "    .dataframe tbody tr th:only-of-type {\n",
       "        vertical-align: middle;\n",
       "    }\n",
       "\n",
       "    .dataframe tbody tr th {\n",
       "        vertical-align: top;\n",
       "    }\n",
       "\n",
       "    .dataframe thead tr th {\n",
       "        text-align: left;\n",
       "    }\n",
       "\n",
       "    .dataframe thead tr:last-of-type th {\n",
       "        text-align: right;\n",
       "    }\n",
       "</style>\n",
       "<table border=\"1\" class=\"dataframe\">\n",
       "  <thead>\n",
       "    <tr>\n",
       "      <th></th>\n",
       "      <th>wl_home</th>\n",
       "    </tr>\n",
       "    <tr>\n",
       "      <th></th>\n",
       "      <th>mean</th>\n",
       "    </tr>\n",
       "    <tr>\n",
       "      <th>season_id</th>\n",
       "      <th></th>\n",
       "    </tr>\n",
       "  </thead>\n",
       "  <tbody>\n",
       "    <tr>\n",
       "      <th>22019</th>\n",
       "      <td>0.551464</td>\n",
       "    </tr>\n",
       "    <tr>\n",
       "      <th>22020</th>\n",
       "      <td>0.543519</td>\n",
       "    </tr>\n",
       "    <tr>\n",
       "      <th>22021</th>\n",
       "      <td>0.543902</td>\n",
       "    </tr>\n",
       "    <tr>\n",
       "      <th>22022</th>\n",
       "      <td>0.580488</td>\n",
       "    </tr>\n",
       "  </tbody>\n",
       "</table>\n",
       "</div>"
      ],
      "text/plain": [
       "            wl_home\n",
       "               mean\n",
       "season_id          \n",
       "22019      0.551464\n",
       "22020      0.543519\n",
       "22021      0.543902\n",
       "22022      0.580488"
      ]
     },
     "execution_count": 2,
     "metadata": {},
     "output_type": "execute_result"
    }
   ],
   "source": [
    "covid_wl_home = pd.read_sql_query(\"SELECT team_name_home, wl_home, season_id FROM game WHERE season_id IN (22022, 22021, 22020, 22019) ORDER BY season_id DESC\", con)\n",
    "covid_wl_home = covid_wl_home.replace('W', 1)\n",
    "covid_wl_home = covid_wl_home.replace('L', 0)\n",
    "\n",
    "covid_wl_home_group = covid_wl_home.groupby(['season_id']).agg({'wl_home': ['mean']})\n",
    "covid_wl_home_group"
   ]
  },
  {
   "cell_type": "code",
   "execution_count": 3,
   "metadata": {},
   "outputs": [
    {
     "name": "stderr",
     "output_type": "stream",
     "text": [
      "C:\\Users\\tsidd\\AppData\\Local\\Temp\\ipykernel_36728\\734295079.py:3: FutureWarning: Downcasting behavior in `replace` is deprecated and will be removed in a future version. To retain the old behavior, explicitly call `result.infer_objects(copy=False)`. To opt-in to the future behavior, set `pd.set_option('future.no_silent_downcasting', True)`\n",
      "  covid_wl_away = covid_wl_away.replace('L', 0)\n"
     ]
    },
    {
     "data": {
      "text/html": [
       "<div>\n",
       "<style scoped>\n",
       "    .dataframe tbody tr th:only-of-type {\n",
       "        vertical-align: middle;\n",
       "    }\n",
       "\n",
       "    .dataframe tbody tr th {\n",
       "        vertical-align: top;\n",
       "    }\n",
       "\n",
       "    .dataframe thead tr th {\n",
       "        text-align: left;\n",
       "    }\n",
       "\n",
       "    .dataframe thead tr:last-of-type th {\n",
       "        text-align: right;\n",
       "    }\n",
       "</style>\n",
       "<table border=\"1\" class=\"dataframe\">\n",
       "  <thead>\n",
       "    <tr>\n",
       "      <th></th>\n",
       "      <th>wl_away</th>\n",
       "    </tr>\n",
       "    <tr>\n",
       "      <th></th>\n",
       "      <th>mean</th>\n",
       "    </tr>\n",
       "    <tr>\n",
       "      <th>season_id</th>\n",
       "      <th></th>\n",
       "    </tr>\n",
       "  </thead>\n",
       "  <tbody>\n",
       "    <tr>\n",
       "      <th>22019</th>\n",
       "      <td>0.448536</td>\n",
       "    </tr>\n",
       "    <tr>\n",
       "      <th>22020</th>\n",
       "      <td>0.456481</td>\n",
       "    </tr>\n",
       "    <tr>\n",
       "      <th>22021</th>\n",
       "      <td>0.456098</td>\n",
       "    </tr>\n",
       "    <tr>\n",
       "      <th>22022</th>\n",
       "      <td>0.419512</td>\n",
       "    </tr>\n",
       "  </tbody>\n",
       "</table>\n",
       "</div>"
      ],
      "text/plain": [
       "            wl_away\n",
       "               mean\n",
       "season_id          \n",
       "22019      0.448536\n",
       "22020      0.456481\n",
       "22021      0.456098\n",
       "22022      0.419512"
      ]
     },
     "execution_count": 3,
     "metadata": {},
     "output_type": "execute_result"
    }
   ],
   "source": [
    "covid_wl_away = pd.read_sql_query(\"SELECT team_name_away, wl_away, season_id FROM game WHERE season_id IN (22022, 22021, 22020, 22019) ORDER BY season_id DESC\", con)\n",
    "covid_wl_away = covid_wl_away.replace('W', 1)\n",
    "covid_wl_away = covid_wl_away.replace('L', 0)\n",
    "\n",
    "covid_wl_away_group = covid_wl_away.groupby(['season_id']).agg({'wl_away': ['mean']})\n",
    "covid_wl_away_group"
   ]
  },
  {
   "cell_type": "code",
   "execution_count": 5,
   "metadata": {},
   "outputs": [
    {
     "name": "stderr",
     "output_type": "stream",
     "text": [
      "C:\\Users\\tsidd\\AppData\\Local\\Temp\\ipykernel_36728\\1817048779.py:3: FutureWarning: Downcasting behavior in `replace` is deprecated and will be removed in a future version. To retain the old behavior, explicitly call `result.infer_objects(copy=False)`. To opt-in to the future behavior, set `pd.set_option('future.no_silent_downcasting', True)`\n",
      "  covid_wl_home = covid_wl_home.replace('L', 0)\n"
     ]
    },
    {
     "data": {
      "text/html": [
       "<div>\n",
       "<style scoped>\n",
       "    .dataframe tbody tr th:only-of-type {\n",
       "        vertical-align: middle;\n",
       "    }\n",
       "\n",
       "    .dataframe tbody tr th {\n",
       "        vertical-align: top;\n",
       "    }\n",
       "\n",
       "    .dataframe thead tr th {\n",
       "        text-align: left;\n",
       "    }\n",
       "\n",
       "    .dataframe thead tr:last-of-type th {\n",
       "        text-align: right;\n",
       "    }\n",
       "</style>\n",
       "<table border=\"1\" class=\"dataframe\">\n",
       "  <thead>\n",
       "    <tr>\n",
       "      <th></th>\n",
       "      <th></th>\n",
       "      <th>wl_home</th>\n",
       "    </tr>\n",
       "    <tr>\n",
       "      <th></th>\n",
       "      <th></th>\n",
       "      <th>mean</th>\n",
       "    </tr>\n",
       "    <tr>\n",
       "      <th>team_name_home</th>\n",
       "      <th>season_id</th>\n",
       "      <th></th>\n",
       "    </tr>\n",
       "  </thead>\n",
       "  <tbody>\n",
       "    <tr>\n",
       "      <th rowspan=\"4\" valign=\"top\">Atlanta Hawks</th>\n",
       "      <th>22019</th>\n",
       "      <td>0.411765</td>\n",
       "    </tr>\n",
       "    <tr>\n",
       "      <th>22020</th>\n",
       "      <td>0.694444</td>\n",
       "    </tr>\n",
       "    <tr>\n",
       "      <th>22021</th>\n",
       "      <td>0.658537</td>\n",
       "    </tr>\n",
       "    <tr>\n",
       "      <th>22022</th>\n",
       "      <td>0.585366</td>\n",
       "    </tr>\n",
       "    <tr>\n",
       "      <th>Boston Celtics</th>\n",
       "      <th>22019</th>\n",
       "      <td>0.722222</td>\n",
       "    </tr>\n",
       "    <tr>\n",
       "      <th>...</th>\n",
       "      <th>...</th>\n",
       "      <td>...</td>\n",
       "    </tr>\n",
       "    <tr>\n",
       "      <th>Utah Jazz</th>\n",
       "      <th>22022</th>\n",
       "      <td>0.560976</td>\n",
       "    </tr>\n",
       "    <tr>\n",
       "      <th rowspan=\"4\" valign=\"top\">Washington Wizards</th>\n",
       "      <th>22019</th>\n",
       "      <td>0.444444</td>\n",
       "    </tr>\n",
       "    <tr>\n",
       "      <th>22020</th>\n",
       "      <td>0.527778</td>\n",
       "    </tr>\n",
       "    <tr>\n",
       "      <th>22021</th>\n",
       "      <td>0.512195</td>\n",
       "    </tr>\n",
       "    <tr>\n",
       "      <th>22022</th>\n",
       "      <td>0.463415</td>\n",
       "    </tr>\n",
       "  </tbody>\n",
       "</table>\n",
       "<p>120 rows × 1 columns</p>\n",
       "</div>"
      ],
      "text/plain": [
       "                               wl_home\n",
       "                                  mean\n",
       "team_name_home     season_id          \n",
       "Atlanta Hawks      22019      0.411765\n",
       "                   22020      0.694444\n",
       "                   22021      0.658537\n",
       "                   22022      0.585366\n",
       "Boston Celtics     22019      0.722222\n",
       "...                                ...\n",
       "Utah Jazz          22022      0.560976\n",
       "Washington Wizards 22019      0.444444\n",
       "                   22020      0.527778\n",
       "                   22021      0.512195\n",
       "                   22022      0.463415\n",
       "\n",
       "[120 rows x 1 columns]"
      ]
     },
     "execution_count": 5,
     "metadata": {},
     "output_type": "execute_result"
    }
   ],
   "source": [
    "covid_wl_home = pd.read_sql_query(\"SELECT team_name_home, wl_home, season_id FROM game WHERE season_id IN (22022, 22021, 22020, 22019) ORDER BY season_id DESC\", con)\n",
    "covid_wl_home = covid_wl_home.replace('W', 1)\n",
    "covid_wl_home = covid_wl_home.replace('L', 0)\n",
    "\n",
    "covid_wl_home_group = covid_wl_home.groupby(['team_name_home', 'season_id']).agg({'wl_home': ['mean']})\n",
    "covid_wl_home_group"
   ]
  },
  {
   "cell_type": "code",
   "execution_count": 6,
   "metadata": {},
   "outputs": [
    {
     "name": "stderr",
     "output_type": "stream",
     "text": [
      "C:\\Users\\tsidd\\AppData\\Local\\Temp\\ipykernel_36728\\2654544824.py:3: FutureWarning: Downcasting behavior in `replace` is deprecated and will be removed in a future version. To retain the old behavior, explicitly call `result.infer_objects(copy=False)`. To opt-in to the future behavior, set `pd.set_option('future.no_silent_downcasting', True)`\n",
      "  covid_wl_away = covid_wl_away.replace('L', 0)\n"
     ]
    },
    {
     "data": {
      "text/html": [
       "<div>\n",
       "<style scoped>\n",
       "    .dataframe tbody tr th:only-of-type {\n",
       "        vertical-align: middle;\n",
       "    }\n",
       "\n",
       "    .dataframe tbody tr th {\n",
       "        vertical-align: top;\n",
       "    }\n",
       "\n",
       "    .dataframe thead tr th {\n",
       "        text-align: left;\n",
       "    }\n",
       "\n",
       "    .dataframe thead tr:last-of-type th {\n",
       "        text-align: right;\n",
       "    }\n",
       "</style>\n",
       "<table border=\"1\" class=\"dataframe\">\n",
       "  <thead>\n",
       "    <tr>\n",
       "      <th></th>\n",
       "      <th></th>\n",
       "      <th>wl_away</th>\n",
       "    </tr>\n",
       "    <tr>\n",
       "      <th></th>\n",
       "      <th></th>\n",
       "      <th>mean</th>\n",
       "    </tr>\n",
       "    <tr>\n",
       "      <th>team_name_away</th>\n",
       "      <th>season_id</th>\n",
       "      <th></th>\n",
       "    </tr>\n",
       "  </thead>\n",
       "  <tbody>\n",
       "    <tr>\n",
       "      <th rowspan=\"4\" valign=\"top\">Atlanta Hawks</th>\n",
       "      <th>22019</th>\n",
       "      <td>0.181818</td>\n",
       "    </tr>\n",
       "    <tr>\n",
       "      <th>22020</th>\n",
       "      <td>0.444444</td>\n",
       "    </tr>\n",
       "    <tr>\n",
       "      <th>22021</th>\n",
       "      <td>0.390244</td>\n",
       "    </tr>\n",
       "    <tr>\n",
       "      <th>22022</th>\n",
       "      <td>0.414634</td>\n",
       "    </tr>\n",
       "    <tr>\n",
       "      <th>Boston Celtics</th>\n",
       "      <th>22019</th>\n",
       "      <td>0.611111</td>\n",
       "    </tr>\n",
       "    <tr>\n",
       "      <th>...</th>\n",
       "      <th>...</th>\n",
       "      <td>...</td>\n",
       "    </tr>\n",
       "    <tr>\n",
       "      <th>Utah Jazz</th>\n",
       "      <th>22022</th>\n",
       "      <td>0.341463</td>\n",
       "    </tr>\n",
       "    <tr>\n",
       "      <th rowspan=\"4\" valign=\"top\">Washington Wizards</th>\n",
       "      <th>22019</th>\n",
       "      <td>0.250000</td>\n",
       "    </tr>\n",
       "    <tr>\n",
       "      <th>22020</th>\n",
       "      <td>0.416667</td>\n",
       "    </tr>\n",
       "    <tr>\n",
       "      <th>22021</th>\n",
       "      <td>0.341463</td>\n",
       "    </tr>\n",
       "    <tr>\n",
       "      <th>22022</th>\n",
       "      <td>0.390244</td>\n",
       "    </tr>\n",
       "  </tbody>\n",
       "</table>\n",
       "<p>120 rows × 1 columns</p>\n",
       "</div>"
      ],
      "text/plain": [
       "                               wl_away\n",
       "                                  mean\n",
       "team_name_away     season_id          \n",
       "Atlanta Hawks      22019      0.181818\n",
       "                   22020      0.444444\n",
       "                   22021      0.390244\n",
       "                   22022      0.414634\n",
       "Boston Celtics     22019      0.611111\n",
       "...                                ...\n",
       "Utah Jazz          22022      0.341463\n",
       "Washington Wizards 22019      0.250000\n",
       "                   22020      0.416667\n",
       "                   22021      0.341463\n",
       "                   22022      0.390244\n",
       "\n",
       "[120 rows x 1 columns]"
      ]
     },
     "execution_count": 6,
     "metadata": {},
     "output_type": "execute_result"
    }
   ],
   "source": [
    "covid_wl_away = pd.read_sql_query(\"SELECT team_name_away, wl_away, season_id FROM game WHERE season_id IN (22022, 22021, 22020, 22019) ORDER BY season_id DESC\", con)\n",
    "covid_wl_away = covid_wl_away.replace('W', 1)\n",
    "covid_wl_away = covid_wl_away.replace('L', 0)\n",
    "\n",
    "covid_wl_away_group = covid_wl_away.groupby(['team_name_away', 'season_id']).agg({'wl_away': ['mean']})\n",
    "covid_wl_away_group"
   ]
  },
  {
   "cell_type": "markdown",
   "metadata": {},
   "source": [
    "Question 2"
   ]
  },
  {
   "cell_type": "markdown",
   "metadata": {},
   "source": [
    "Intro: As the world embraced the shocks of a global pandemic in 2020, how did the basketball players adapt in a world with no fan presence on the court? Did the teams have no differences as they simply did as they've always done or were there noticable changes? Let's find out the difference between a pre pandemic league and a post pandemic one. "
   ]
  },
  {
   "cell_type": "markdown",
   "metadata": {},
   "source": [
    "Rising Action: First, we want to figure out what the average points scored was by the teams at home and away to see the maybe what impact the difference of fan presence had on the home court advantage in the 2019-2020 season. The home team scored an average of 2.04 points more than the away teams, the home teams scored an average of 112.69 while the away teams scored an average of 110.65. We can probably infer from this that there is a home court advantage in general but it isn't conclusive. "
   ]
  },
  {
   "cell_type": "markdown",
   "metadata": {},
   "source": [
    "Climax: Then, we ran the same analysis in the 2020-2021 and 2021-2022 seasons to see how the average points scored changed... did the lack of presence of the fans on the home court have a huge impact? We figured out that the difference between the average points scored by home team vs the away team was 1.09 for the 2020-2021 season and 1.96 for the 2021-2022 season. There were some interesting changees in the pre pandemic world and a post pandemic one, the question was merely, was it enough to prove something?"
   ]
  },
  {
   "cell_type": "markdown",
   "metadata": {},
   "source": [
    "Falling Action: The interesting aspect is the dip in 2020-2021 season which was when the bubble occurred with no fan presence and the rebound in the 2021-2022 season as it came back to 1.96 points! The dip and the rebound might turn out to be able to prove the difference in the home court advantage based on the environment. "
   ]
  },
  {
   "cell_type": "markdown",
   "metadata": {},
   "source": [
    "Conclusion: We believe that there could be some evidence for the impact of home court advantage based on the changes that occurred in 2020-2021 vs 2019-2020 & even 2021-2022, there is a fall off and recovery and this could've had an impact on the home court advantage."
   ]
  },
  {
   "cell_type": "code",
   "execution_count": 7,
   "metadata": {},
   "outputs": [
    {
     "name": "stdout",
     "output_type": "stream",
     "text": [
      "  season_year  avg_pts_home  avg_pts_away  points_diff\n",
      "0        2019    112.696413    110.651794     2.044619\n",
      "1        2020    112.466283    111.369243     1.097039\n",
      "2        2021    111.232659    109.271676     1.960983\n",
      "3        2022    115.539683    112.931457     2.608225\n"
     ]
    }
   ],
   "source": [
    "result = []\n",
    "for year in seasons:\n",
    "    points_query = f\"\"\"\n",
    "    SELECT \n",
    "        AVG(pts_home) AS avg_pts_home,\n",
    "        AVG(pts_away) AS avg_pts_away\n",
    "    FROM game\n",
    "    WHERE SUBSTR(season_id, -4) = '{year}'\n",
    "    \"\"\"\n",
    "    \n",
    "    points_data = pd.read_sql_query(points_query, con)\n",
    "    \n",
    "    if not points_data.empty:\n",
    "        avg_pts_home = points_data['avg_pts_home'][0]\n",
    "        avg_pts_away = points_data['avg_pts_away'][0]\n",
    "        \n",
    "        points_diff = avg_pts_home - avg_pts_away\n",
    "        \n",
    "        result.append({\n",
    "            'season_year': year,\n",
    "            'avg_pts_home': avg_pts_home,\n",
    "            'avg_pts_away': avg_pts_away,\n",
    "            'points_diff': points_diff\n",
    "        })\n",
    "\n",
    "result_df = pd.DataFrame(result)\n",
    "print(result_df)"
   ]
  },
  {
   "cell_type": "code",
   "execution_count": 8,
   "metadata": {},
   "outputs": [
    {
     "data": {
      "text/html": [
       "<div>\n",
       "<style scoped>\n",
       "    .dataframe tbody tr th:only-of-type {\n",
       "        vertical-align: middle;\n",
       "    }\n",
       "\n",
       "    .dataframe tbody tr th {\n",
       "        vertical-align: top;\n",
       "    }\n",
       "\n",
       "    .dataframe thead th {\n",
       "        text-align: right;\n",
       "    }\n",
       "</style>\n",
       "<table border=\"1\" class=\"dataframe\">\n",
       "  <thead>\n",
       "    <tr style=\"text-align: right;\">\n",
       "      <th></th>\n",
       "      <th>team_name_home</th>\n",
       "      <th>AVG(pts_home)</th>\n",
       "      <th>season_id</th>\n",
       "    </tr>\n",
       "  </thead>\n",
       "  <tbody>\n",
       "    <tr>\n",
       "      <th>0</th>\n",
       "      <td>Atlanta Hawks</td>\n",
       "      <td>114.588235</td>\n",
       "      <td>22019</td>\n",
       "    </tr>\n",
       "    <tr>\n",
       "      <th>1</th>\n",
       "      <td>Atlanta Hawks</td>\n",
       "      <td>115.416667</td>\n",
       "      <td>22020</td>\n",
       "    </tr>\n",
       "    <tr>\n",
       "      <th>2</th>\n",
       "      <td>Atlanta Hawks</td>\n",
       "      <td>116.658537</td>\n",
       "      <td>22021</td>\n",
       "    </tr>\n",
       "    <tr>\n",
       "      <th>3</th>\n",
       "      <td>Atlanta Hawks</td>\n",
       "      <td>119.634146</td>\n",
       "      <td>22022</td>\n",
       "    </tr>\n",
       "    <tr>\n",
       "      <th>4</th>\n",
       "      <td>Boston Celtics</td>\n",
       "      <td>116.305556</td>\n",
       "      <td>22019</td>\n",
       "    </tr>\n",
       "    <tr>\n",
       "      <th>...</th>\n",
       "      <td>...</td>\n",
       "      <td>...</td>\n",
       "      <td>...</td>\n",
       "    </tr>\n",
       "    <tr>\n",
       "      <th>115</th>\n",
       "      <td>Utah Jazz</td>\n",
       "      <td>117.951220</td>\n",
       "      <td>22022</td>\n",
       "    </tr>\n",
       "    <tr>\n",
       "      <th>116</th>\n",
       "      <td>Washington Wizards</td>\n",
       "      <td>114.000000</td>\n",
       "      <td>22019</td>\n",
       "    </tr>\n",
       "    <tr>\n",
       "      <th>117</th>\n",
       "      <td>Washington Wizards</td>\n",
       "      <td>119.000000</td>\n",
       "      <td>22020</td>\n",
       "    </tr>\n",
       "    <tr>\n",
       "      <th>118</th>\n",
       "      <td>Washington Wizards</td>\n",
       "      <td>111.902439</td>\n",
       "      <td>22021</td>\n",
       "    </tr>\n",
       "    <tr>\n",
       "      <th>119</th>\n",
       "      <td>Washington Wizards</td>\n",
       "      <td>114.243902</td>\n",
       "      <td>22022</td>\n",
       "    </tr>\n",
       "  </tbody>\n",
       "</table>\n",
       "<p>120 rows × 3 columns</p>\n",
       "</div>"
      ],
      "text/plain": [
       "         team_name_home  AVG(pts_home) season_id\n",
       "0         Atlanta Hawks     114.588235     22019\n",
       "1         Atlanta Hawks     115.416667     22020\n",
       "2         Atlanta Hawks     116.658537     22021\n",
       "3         Atlanta Hawks     119.634146     22022\n",
       "4        Boston Celtics     116.305556     22019\n",
       "..                  ...            ...       ...\n",
       "115           Utah Jazz     117.951220     22022\n",
       "116  Washington Wizards     114.000000     22019\n",
       "117  Washington Wizards     119.000000     22020\n",
       "118  Washington Wizards     111.902439     22021\n",
       "119  Washington Wizards     114.243902     22022\n",
       "\n",
       "[120 rows x 3 columns]"
      ]
     },
     "execution_count": 8,
     "metadata": {},
     "output_type": "execute_result"
    }
   ],
   "source": [
    "covid_pts_home = pd.read_sql_query(\"SELECT team_name_home, AVG(pts_home), season_id FROM game WHERE season_id IN (22022, 22021, 22020, 22019) GROUP BY team_name_home, season_id\", con)\n",
    "covid_pts_home"
   ]
  },
  {
   "cell_type": "code",
   "execution_count": 10,
   "metadata": {},
   "outputs": [
    {
     "data": {
      "text/plain": [
       "count     30.000000\n",
       "mean     111.066667\n",
       "std       14.971083\n",
       "min       84.000000\n",
       "25%      100.500000\n",
       "50%      110.500000\n",
       "75%      120.000000\n",
       "max      158.000000\n",
       "Name: pts_home, dtype: float64"
      ]
     },
     "execution_count": 10,
     "metadata": {},
     "output_type": "execute_result"
    }
   ],
   "source": [
    "covid_pts_home_19 = pd.read_sql_query(\"SELECT team_name_home, pts_home, season_id FROM game WHERE season_id IN (22019) GROUP BY team_name_home, season_id\", con)\n",
    "covid_pts_home_19['pts_home'].describe()"
   ]
  },
  {
   "cell_type": "code",
   "execution_count": 9,
   "metadata": {},
   "outputs": [
    {
     "data": {
      "text/plain": [
       "count     30.000000\n",
       "mean     111.066667\n",
       "std       12.940003\n",
       "min       73.000000\n",
       "25%      104.500000\n",
       "50%      111.000000\n",
       "75%      120.750000\n",
       "max      138.000000\n",
       "Name: pts_home, dtype: float64"
      ]
     },
     "execution_count": 9,
     "metadata": {},
     "output_type": "execute_result"
    }
   ],
   "source": [
    "covid_pts_home_21 = pd.read_sql_query(\"SELECT team_name_home, pts_home, season_id FROM game WHERE season_id IN (22020) GROUP BY team_name_home, season_id\", con)\n",
    "covid_pts_home_21['pts_home'].describe()"
   ]
  },
  {
   "cell_type": "code",
   "execution_count": 10,
   "metadata": {},
   "outputs": [
    {
     "data": {
      "text/html": [
       "<div>\n",
       "<style scoped>\n",
       "    .dataframe tbody tr th:only-of-type {\n",
       "        vertical-align: middle;\n",
       "    }\n",
       "\n",
       "    .dataframe tbody tr th {\n",
       "        vertical-align: top;\n",
       "    }\n",
       "\n",
       "    .dataframe thead th {\n",
       "        text-align: right;\n",
       "    }\n",
       "</style>\n",
       "<table border=\"1\" class=\"dataframe\">\n",
       "  <thead>\n",
       "    <tr style=\"text-align: right;\">\n",
       "      <th></th>\n",
       "      <th>team_name_away</th>\n",
       "      <th>AVG(pts_away)</th>\n",
       "      <th>season_id</th>\n",
       "    </tr>\n",
       "  </thead>\n",
       "  <tbody>\n",
       "    <tr>\n",
       "      <th>0</th>\n",
       "      <td>Atlanta Hawks</td>\n",
       "      <td>108.848485</td>\n",
       "      <td>22019</td>\n",
       "    </tr>\n",
       "    <tr>\n",
       "      <th>1</th>\n",
       "      <td>Atlanta Hawks</td>\n",
       "      <td>111.972222</td>\n",
       "      <td>22020</td>\n",
       "    </tr>\n",
       "    <tr>\n",
       "      <th>2</th>\n",
       "      <td>Atlanta Hawks</td>\n",
       "      <td>111.219512</td>\n",
       "      <td>22021</td>\n",
       "    </tr>\n",
       "    <tr>\n",
       "      <th>3</th>\n",
       "      <td>Atlanta Hawks</td>\n",
       "      <td>117.219512</td>\n",
       "      <td>22022</td>\n",
       "    </tr>\n",
       "    <tr>\n",
       "      <th>4</th>\n",
       "      <td>Boston Celtics</td>\n",
       "      <td>111.000000</td>\n",
       "      <td>22019</td>\n",
       "    </tr>\n",
       "    <tr>\n",
       "      <th>...</th>\n",
       "      <td>...</td>\n",
       "      <td>...</td>\n",
       "      <td>...</td>\n",
       "    </tr>\n",
       "    <tr>\n",
       "      <th>115</th>\n",
       "      <td>Utah Jazz</td>\n",
       "      <td>116.195122</td>\n",
       "      <td>22022</td>\n",
       "    </tr>\n",
       "    <tr>\n",
       "      <th>116</th>\n",
       "      <td>Washington Wizards</td>\n",
       "      <td>114.833333</td>\n",
       "      <td>22019</td>\n",
       "    </tr>\n",
       "    <tr>\n",
       "      <th>117</th>\n",
       "      <td>Washington Wizards</td>\n",
       "      <td>114.277778</td>\n",
       "      <td>22020</td>\n",
       "    </tr>\n",
       "    <tr>\n",
       "      <th>118</th>\n",
       "      <td>Washington Wizards</td>\n",
       "      <td>105.341463</td>\n",
       "      <td>22021</td>\n",
       "    </tr>\n",
       "    <tr>\n",
       "      <th>119</th>\n",
       "      <td>Washington Wizards</td>\n",
       "      <td>112.073171</td>\n",
       "      <td>22022</td>\n",
       "    </tr>\n",
       "  </tbody>\n",
       "</table>\n",
       "<p>120 rows × 3 columns</p>\n",
       "</div>"
      ],
      "text/plain": [
       "         team_name_away  AVG(pts_away) season_id\n",
       "0         Atlanta Hawks     108.848485     22019\n",
       "1         Atlanta Hawks     111.972222     22020\n",
       "2         Atlanta Hawks     111.219512     22021\n",
       "3         Atlanta Hawks     117.219512     22022\n",
       "4        Boston Celtics     111.000000     22019\n",
       "..                  ...            ...       ...\n",
       "115           Utah Jazz     116.195122     22022\n",
       "116  Washington Wizards     114.833333     22019\n",
       "117  Washington Wizards     114.277778     22020\n",
       "118  Washington Wizards     105.341463     22021\n",
       "119  Washington Wizards     112.073171     22022\n",
       "\n",
       "[120 rows x 3 columns]"
      ]
     },
     "execution_count": 10,
     "metadata": {},
     "output_type": "execute_result"
    }
   ],
   "source": [
    "covid_pts_away = pd.read_sql_query(\"SELECT team_name_away, AVG(pts_away), season_id FROM game WHERE season_id IN (22022, 22021, 22020, 22019) GROUP BY team_name_away, season_id\", con)\n",
    "covid_pts_away"
   ]
  },
  {
   "cell_type": "code",
   "execution_count": 11,
   "metadata": {},
   "outputs": [
    {
     "data": {
      "text/plain": [
       "count     30.00000\n",
       "mean     111.00000\n",
       "std       17.15246\n",
       "min       85.00000\n",
       "25%       99.00000\n",
       "50%      107.50000\n",
       "75%      122.00000\n",
       "max      159.00000\n",
       "Name: pts_away, dtype: float64"
      ]
     },
     "execution_count": 11,
     "metadata": {},
     "output_type": "execute_result"
    }
   ],
   "source": [
    "covid_pts_away_19 = pd.read_sql_query(\"SELECT team_name_away, pts_away, season_id FROM game WHERE season_id IN (22019) GROUP BY team_name_away, season_id\", con)\n",
    "covid_pts_away_19['pts_away'].describe()"
   ]
  },
  {
   "cell_type": "code",
   "execution_count": 12,
   "metadata": {},
   "outputs": [
    {
     "data": {
      "text/plain": [
       "count     30.000000\n",
       "mean     115.266667\n",
       "std        8.893753\n",
       "min       99.000000\n",
       "25%      107.500000\n",
       "50%      115.000000\n",
       "75%      122.500000\n",
       "max      131.000000\n",
       "Name: pts_away, dtype: float64"
      ]
     },
     "execution_count": 12,
     "metadata": {},
     "output_type": "execute_result"
    }
   ],
   "source": [
    "covid_pts_away_21 = pd.read_sql_query(\"SELECT team_name_away, pts_away, season_id FROM game WHERE season_id IN (22020) GROUP BY team_name_away, season_id\", con)\n",
    "covid_pts_away_21['pts_away'].describe()"
   ]
  },
  {
   "cell_type": "markdown",
   "metadata": {},
   "source": [
    "Question 3"
   ]
  },
  {
   "cell_type": "markdown",
   "metadata": {},
   "source": [
    "Intro: As the world embraced the shocks of a global pandemic in 2020, how did the basketball players adapt in a world with no fan presence on the court? Did the teams have no differences as they simply did as they've always done or were there noticable changes? Let's find out the difference between a pre pandemic league and a post pandemic one. "
   ]
  },
  {
   "cell_type": "markdown",
   "metadata": {},
   "source": [
    "Rising Action: First, we want to figure out what the teams averaged on their defensive and offensive rebounds at home and away to see maybe what impact the difference of fan presence had on the home court advantage in the 2019-2020 season. In the 2019-2020 season, home teams had an average of .38 more offensive rebounds and .95 defensive rebounds compared to the away team. In both the offensive and defensive rebounds, the home team did outperform the away team."
   ]
  },
  {
   "cell_type": "markdown",
   "metadata": {},
   "source": [
    "Climax: Then, we ran the same analysis in the 2020-2021 and 2021-2022 seasons to see how the offensive and defensive rebounds at home and away changed... did the lack of presence of the fans on the home court have a huge impact? We figured out that in the 2020-2021 season, the home team scored .15 more offensive rebounds and .68 more defensive rebounds, and in 2021-2022 season, the home team had .07 more offensive rebounds and .54 defensive rebounds, it seems to be going down over time. "
   ]
  },
  {
   "cell_type": "markdown",
   "metadata": {},
   "source": [
    "Falling Action: As the fans came bacin the 2021-2022 season, the offensive and defensive rebounds from the team only further decreased and this trend stayed on the downtrend going into 2022-2023 as well..."
   ]
  },
  {
   "cell_type": "markdown",
   "metadata": {},
   "source": [
    "Conclusion: Although we cannot conclude any significance of the impact, we can see that it's a constant downtrend, regardless of fans being back on the court or not and the home court advantage is eroding over time."
   ]
  },
  {
   "cell_type": "code",
   "execution_count": 13,
   "metadata": {},
   "outputs": [
    {
     "name": "stdout",
     "output_type": "stream",
     "text": [
      "  season_year  avg_oreb_home  avg_oreb_away  oreb_diff  avg_dreb_home  \\\n",
      "0        2019      10.179353       9.794401   0.384952      35.209974   \n",
      "1        2020       9.896382       9.742599   0.153783      34.866776   \n",
      "2        2021      10.309249      10.236994   0.072254      34.416185   \n",
      "3        2022      10.485570      10.419913   0.065657      33.575758   \n",
      "\n",
      "   avg_dreb_away  dreb_diff  \n",
      "0      34.256343   0.953631  \n",
      "1      34.178454   0.688322  \n",
      "2      33.875000   0.541185  \n",
      "3      32.632756   0.943001  \n"
     ]
    }
   ],
   "source": [
    "result = []\n",
    "for year in seasons:\n",
    "    rebounds_query = f\"\"\"\n",
    "    SELECT \n",
    "        AVG(oreb_home) AS avg_oreb_home,\n",
    "        AVG(oreb_away) AS avg_oreb_away,\n",
    "        AVG(dreb_home) AS avg_dreb_home,\n",
    "        AVG(dreb_away) AS avg_dreb_away\n",
    "    FROM game\n",
    "    WHERE SUBSTR(season_id, -4) = '{year}'\n",
    "    \"\"\"\n",
    "    \n",
    "    rebounds_data = pd.read_sql_query(rebounds_query, con)\n",
    "    \n",
    "    if not rebounds_data.empty:\n",
    "        avg_oreb_home = rebounds_data['avg_oreb_home'][0]\n",
    "        avg_oreb_away = rebounds_data['avg_oreb_away'][0]\n",
    "        avg_dreb_home = rebounds_data['avg_dreb_home'][0]\n",
    "        avg_dreb_away = rebounds_data['avg_dreb_away'][0]\n",
    "        \n",
    "        oreb_diff = avg_oreb_home - avg_oreb_away\n",
    "        dreb_diff = avg_dreb_home - avg_dreb_away\n",
    "        \n",
    "        result.append({\n",
    "            'season_year': year,\n",
    "            'avg_oreb_home': avg_oreb_home,\n",
    "            'avg_oreb_away': avg_oreb_away,\n",
    "            'oreb_diff': oreb_diff,\n",
    "            'avg_dreb_home': avg_dreb_home,\n",
    "            'avg_dreb_away': avg_dreb_away,\n",
    "            'dreb_diff': dreb_diff\n",
    "        })\n",
    "\n",
    "result_df = pd.DataFrame(result)\n",
    "print(result_df)"
   ]
  },
  {
   "cell_type": "code",
   "execution_count": 14,
   "metadata": {},
   "outputs": [
    {
     "data": {
      "text/html": [
       "<div>\n",
       "<style scoped>\n",
       "    .dataframe tbody tr th:only-of-type {\n",
       "        vertical-align: middle;\n",
       "    }\n",
       "\n",
       "    .dataframe tbody tr th {\n",
       "        vertical-align: top;\n",
       "    }\n",
       "\n",
       "    .dataframe thead th {\n",
       "        text-align: right;\n",
       "    }\n",
       "</style>\n",
       "<table border=\"1\" class=\"dataframe\">\n",
       "  <thead>\n",
       "    <tr style=\"text-align: right;\">\n",
       "      <th></th>\n",
       "      <th>team_name_home</th>\n",
       "      <th>AVG(oreb_home)</th>\n",
       "      <th>AVG(dreb_home)</th>\n",
       "      <th>season_id</th>\n",
       "    </tr>\n",
       "  </thead>\n",
       "  <tbody>\n",
       "    <tr>\n",
       "      <th>0</th>\n",
       "      <td>Atlanta Hawks</td>\n",
       "      <td>10.205882</td>\n",
       "      <td>34.323529</td>\n",
       "      <td>22019</td>\n",
       "    </tr>\n",
       "    <tr>\n",
       "      <th>1</th>\n",
       "      <td>Atlanta Hawks</td>\n",
       "      <td>10.388889</td>\n",
       "      <td>36.527778</td>\n",
       "      <td>22020</td>\n",
       "    </tr>\n",
       "    <tr>\n",
       "      <th>2</th>\n",
       "      <td>Atlanta Hawks</td>\n",
       "      <td>9.341463</td>\n",
       "      <td>34.268293</td>\n",
       "      <td>22021</td>\n",
       "    </tr>\n",
       "    <tr>\n",
       "      <th>3</th>\n",
       "      <td>Atlanta Hawks</td>\n",
       "      <td>11.536585</td>\n",
       "      <td>34.439024</td>\n",
       "      <td>22022</td>\n",
       "    </tr>\n",
       "    <tr>\n",
       "      <th>4</th>\n",
       "      <td>Boston Celtics</td>\n",
       "      <td>10.138889</td>\n",
       "      <td>35.194444</td>\n",
       "      <td>22019</td>\n",
       "    </tr>\n",
       "    <tr>\n",
       "      <th>...</th>\n",
       "      <td>...</td>\n",
       "      <td>...</td>\n",
       "      <td>...</td>\n",
       "      <td>...</td>\n",
       "    </tr>\n",
       "    <tr>\n",
       "      <th>115</th>\n",
       "      <td>Utah Jazz</td>\n",
       "      <td>12.000000</td>\n",
       "      <td>35.121951</td>\n",
       "      <td>22022</td>\n",
       "    </tr>\n",
       "    <tr>\n",
       "      <th>116</th>\n",
       "      <td>Washington Wizards</td>\n",
       "      <td>10.277778</td>\n",
       "      <td>32.861111</td>\n",
       "      <td>22019</td>\n",
       "    </tr>\n",
       "    <tr>\n",
       "      <th>117</th>\n",
       "      <td>Washington Wizards</td>\n",
       "      <td>9.611111</td>\n",
       "      <td>35.944444</td>\n",
       "      <td>22020</td>\n",
       "    </tr>\n",
       "    <tr>\n",
       "      <th>118</th>\n",
       "      <td>Washington Wizards</td>\n",
       "      <td>9.024390</td>\n",
       "      <td>34.512195</td>\n",
       "      <td>22021</td>\n",
       "    </tr>\n",
       "    <tr>\n",
       "      <th>119</th>\n",
       "      <td>Washington Wizards</td>\n",
       "      <td>9.317073</td>\n",
       "      <td>34.829268</td>\n",
       "      <td>22022</td>\n",
       "    </tr>\n",
       "  </tbody>\n",
       "</table>\n",
       "<p>120 rows × 4 columns</p>\n",
       "</div>"
      ],
      "text/plain": [
       "         team_name_home  AVG(oreb_home)  AVG(dreb_home) season_id\n",
       "0         Atlanta Hawks       10.205882       34.323529     22019\n",
       "1         Atlanta Hawks       10.388889       36.527778     22020\n",
       "2         Atlanta Hawks        9.341463       34.268293     22021\n",
       "3         Atlanta Hawks       11.536585       34.439024     22022\n",
       "4        Boston Celtics       10.138889       35.194444     22019\n",
       "..                  ...             ...             ...       ...\n",
       "115           Utah Jazz       12.000000       35.121951     22022\n",
       "116  Washington Wizards       10.277778       32.861111     22019\n",
       "117  Washington Wizards        9.611111       35.944444     22020\n",
       "118  Washington Wizards        9.024390       34.512195     22021\n",
       "119  Washington Wizards        9.317073       34.829268     22022\n",
       "\n",
       "[120 rows x 4 columns]"
      ]
     },
     "execution_count": 14,
     "metadata": {},
     "output_type": "execute_result"
    }
   ],
   "source": [
    "covid_reb_home = pd.read_sql_query(\"SELECT team_name_home, AVG(oreb_home), AVG(dreb_home), season_id FROM game WHERE season_id IN (22022, 22021, 22020, 22019) GROUP BY team_name_home, season_id\", con)\n",
    "covid_reb_home"
   ]
  },
  {
   "cell_type": "code",
   "execution_count": 15,
   "metadata": {},
   "outputs": [
    {
     "data": {
      "text/plain": [
       "count    30.000000\n",
       "mean     11.133333\n",
       "std       3.401149\n",
       "min       5.000000\n",
       "25%       9.000000\n",
       "50%      11.000000\n",
       "75%      12.750000\n",
       "max      21.000000\n",
       "Name: oreb_home, dtype: float64"
      ]
     },
     "execution_count": 15,
     "metadata": {},
     "output_type": "execute_result"
    }
   ],
   "source": [
    "covid_reb_home = pd.read_sql_query(\"SELECT team_name_home, oreb_home, dreb_home, season_id FROM game WHERE season_id IN (22019) GROUP BY team_name_home, season_id\", con)\n",
    "covid_reb_home['oreb_home'].describe()"
   ]
  },
  {
   "cell_type": "code",
   "execution_count": 16,
   "metadata": {},
   "outputs": [
    {
     "data": {
      "text/plain": [
       "count    30.000000\n",
       "mean      9.700000\n",
       "std       3.602202\n",
       "min       3.000000\n",
       "25%       7.000000\n",
       "50%      10.000000\n",
       "75%      12.750000\n",
       "max      19.000000\n",
       "Name: oreb_home, dtype: float64"
      ]
     },
     "execution_count": 16,
     "metadata": {},
     "output_type": "execute_result"
    }
   ],
   "source": [
    "covid_reb_home = pd.read_sql_query(\"SELECT team_name_home, oreb_home, dreb_home, season_id FROM game WHERE season_id IN (22020) GROUP BY team_name_home, season_id\", con)\n",
    "covid_reb_home['oreb_home'].describe()"
   ]
  },
  {
   "cell_type": "code",
   "execution_count": 17,
   "metadata": {},
   "outputs": [
    {
     "data": {
      "text/plain": [
       "count    30.000000\n",
       "mean     36.533333\n",
       "std       5.763939\n",
       "min      26.000000\n",
       "25%      32.000000\n",
       "50%      36.500000\n",
       "75%      41.000000\n",
       "max      50.000000\n",
       "Name: dreb_home, dtype: float64"
      ]
     },
     "execution_count": 17,
     "metadata": {},
     "output_type": "execute_result"
    }
   ],
   "source": [
    "covid_reb_home = pd.read_sql_query(\"SELECT team_name_home, oreb_home, dreb_home, season_id FROM game WHERE season_id IN (22019) GROUP BY team_name_home, season_id\", con)\n",
    "covid_reb_home['dreb_home'].describe()"
   ]
  },
  {
   "cell_type": "code",
   "execution_count": 18,
   "metadata": {},
   "outputs": [
    {
     "data": {
      "text/plain": [
       "count    30.000000\n",
       "mean     36.166667\n",
       "std       5.866817\n",
       "min      26.000000\n",
       "25%      31.000000\n",
       "50%      36.500000\n",
       "75%      40.000000\n",
       "max      49.000000\n",
       "Name: dreb_home, dtype: float64"
      ]
     },
     "execution_count": 18,
     "metadata": {},
     "output_type": "execute_result"
    }
   ],
   "source": [
    "covid_reb_home = pd.read_sql_query(\"SELECT team_name_home, oreb_home, dreb_home, season_id FROM game WHERE season_id IN (22020) GROUP BY team_name_home, season_id\", con)\n",
    "covid_reb_home['dreb_home'].describe()"
   ]
  },
  {
   "cell_type": "code",
   "execution_count": 19,
   "metadata": {},
   "outputs": [
    {
     "data": {
      "text/html": [
       "<div>\n",
       "<style scoped>\n",
       "    .dataframe tbody tr th:only-of-type {\n",
       "        vertical-align: middle;\n",
       "    }\n",
       "\n",
       "    .dataframe tbody tr th {\n",
       "        vertical-align: top;\n",
       "    }\n",
       "\n",
       "    .dataframe thead th {\n",
       "        text-align: right;\n",
       "    }\n",
       "</style>\n",
       "<table border=\"1\" class=\"dataframe\">\n",
       "  <thead>\n",
       "    <tr style=\"text-align: right;\">\n",
       "      <th></th>\n",
       "      <th>team_name_away</th>\n",
       "      <th>AVG(oreb_away)</th>\n",
       "      <th>AVG(dreb_away)</th>\n",
       "      <th>season_id</th>\n",
       "    </tr>\n",
       "  </thead>\n",
       "  <tbody>\n",
       "    <tr>\n",
       "      <th>0</th>\n",
       "      <td>Atlanta Hawks</td>\n",
       "      <td>9.515152</td>\n",
       "      <td>32.424242</td>\n",
       "      <td>22019</td>\n",
       "    </tr>\n",
       "    <tr>\n",
       "      <th>1</th>\n",
       "      <td>Atlanta Hawks</td>\n",
       "      <td>10.722222</td>\n",
       "      <td>33.611111</td>\n",
       "      <td>22020</td>\n",
       "    </tr>\n",
       "    <tr>\n",
       "      <th>2</th>\n",
       "      <td>Atlanta Hawks</td>\n",
       "      <td>10.731707</td>\n",
       "      <td>33.609756</td>\n",
       "      <td>22021</td>\n",
       "    </tr>\n",
       "    <tr>\n",
       "      <th>3</th>\n",
       "      <td>Atlanta Hawks</td>\n",
       "      <td>10.902439</td>\n",
       "      <td>31.878049</td>\n",
       "      <td>22022</td>\n",
       "    </tr>\n",
       "    <tr>\n",
       "      <th>4</th>\n",
       "      <td>Boston Celtics</td>\n",
       "      <td>11.194444</td>\n",
       "      <td>35.611111</td>\n",
       "      <td>22019</td>\n",
       "    </tr>\n",
       "    <tr>\n",
       "      <th>...</th>\n",
       "      <td>...</td>\n",
       "      <td>...</td>\n",
       "      <td>...</td>\n",
       "      <td>...</td>\n",
       "    </tr>\n",
       "    <tr>\n",
       "      <th>115</th>\n",
       "      <td>Utah Jazz</td>\n",
       "      <td>11.609756</td>\n",
       "      <td>33.024390</td>\n",
       "      <td>22022</td>\n",
       "    </tr>\n",
       "    <tr>\n",
       "      <th>116</th>\n",
       "      <td>Washington Wizards</td>\n",
       "      <td>10.055556</td>\n",
       "      <td>30.888889</td>\n",
       "      <td>22019</td>\n",
       "    </tr>\n",
       "    <tr>\n",
       "      <th>117</th>\n",
       "      <td>Washington Wizards</td>\n",
       "      <td>9.750000</td>\n",
       "      <td>35.083333</td>\n",
       "      <td>22020</td>\n",
       "    </tr>\n",
       "    <tr>\n",
       "      <th>118</th>\n",
       "      <td>Washington Wizards</td>\n",
       "      <td>8.951220</td>\n",
       "      <td>33.731707</td>\n",
       "      <td>22021</td>\n",
       "    </tr>\n",
       "    <tr>\n",
       "      <th>119</th>\n",
       "      <td>Washington Wizards</td>\n",
       "      <td>9.560976</td>\n",
       "      <td>33.560976</td>\n",
       "      <td>22022</td>\n",
       "    </tr>\n",
       "  </tbody>\n",
       "</table>\n",
       "<p>120 rows × 4 columns</p>\n",
       "</div>"
      ],
      "text/plain": [
       "         team_name_away  AVG(oreb_away)  AVG(dreb_away) season_id\n",
       "0         Atlanta Hawks        9.515152       32.424242     22019\n",
       "1         Atlanta Hawks       10.722222       33.611111     22020\n",
       "2         Atlanta Hawks       10.731707       33.609756     22021\n",
       "3         Atlanta Hawks       10.902439       31.878049     22022\n",
       "4        Boston Celtics       11.194444       35.611111     22019\n",
       "..                  ...             ...             ...       ...\n",
       "115           Utah Jazz       11.609756       33.024390     22022\n",
       "116  Washington Wizards       10.055556       30.888889     22019\n",
       "117  Washington Wizards        9.750000       35.083333     22020\n",
       "118  Washington Wizards        8.951220       33.731707     22021\n",
       "119  Washington Wizards        9.560976       33.560976     22022\n",
       "\n",
       "[120 rows x 4 columns]"
      ]
     },
     "execution_count": 19,
     "metadata": {},
     "output_type": "execute_result"
    }
   ],
   "source": [
    "covid_reb_away = pd.read_sql_query(\"SELECT team_name_away, AVG(oreb_away), AVG(dreb_away), season_id FROM game WHERE season_id IN (22022, 22021, 22020, 22019) GROUP BY team_name_away, season_id\", con)\n",
    "covid_reb_away"
   ]
  },
  {
   "cell_type": "code",
   "execution_count": 20,
   "metadata": {},
   "outputs": [
    {
     "data": {
      "text/plain": [
       "count    30.000000\n",
       "mean      9.833333\n",
       "std       4.291799\n",
       "min       3.000000\n",
       "25%       6.250000\n",
       "50%      10.000000\n",
       "75%      12.000000\n",
       "max      20.000000\n",
       "Name: oreb_away, dtype: float64"
      ]
     },
     "execution_count": 20,
     "metadata": {},
     "output_type": "execute_result"
    }
   ],
   "source": [
    "covid_reb_away = pd.read_sql_query(\"SELECT team_name_away, oreb_away, dreb_away, season_id FROM game WHERE season_id IN (22019) GROUP BY team_name_away, season_id\", con)\n",
    "covid_reb_away['oreb_away'].describe()"
   ]
  },
  {
   "cell_type": "code",
   "execution_count": 21,
   "metadata": {},
   "outputs": [
    {
     "data": {
      "text/plain": [
       "count    30.000000\n",
       "mean      9.133333\n",
       "std       3.115405\n",
       "min       5.000000\n",
       "25%       7.000000\n",
       "50%       8.500000\n",
       "75%      11.000000\n",
       "max      18.000000\n",
       "Name: oreb_away, dtype: float64"
      ]
     },
     "execution_count": 21,
     "metadata": {},
     "output_type": "execute_result"
    }
   ],
   "source": [
    "covid_reb_away = pd.read_sql_query(\"SELECT team_name_away, oreb_away, dreb_away, season_id FROM game WHERE season_id IN (22020) GROUP BY team_name_away, season_id\", con)\n",
    "covid_reb_away['oreb_away'].describe()"
   ]
  },
  {
   "cell_type": "code",
   "execution_count": 22,
   "metadata": {},
   "outputs": [
    {
     "data": {
      "text/plain": [
       "count    30.000000\n",
       "mean     35.766667\n",
       "std       5.624352\n",
       "min      25.000000\n",
       "25%      32.000000\n",
       "50%      35.000000\n",
       "75%      40.000000\n",
       "max      47.000000\n",
       "Name: dreb_away, dtype: float64"
      ]
     },
     "execution_count": 22,
     "metadata": {},
     "output_type": "execute_result"
    }
   ],
   "source": [
    "covid_reb_away = pd.read_sql_query(\"SELECT team_name_away, oreb_away, dreb_away, season_id FROM game WHERE season_id IN (22019) GROUP BY team_name_away, season_id\", con)\n",
    "covid_reb_away['dreb_away'].describe()"
   ]
  },
  {
   "cell_type": "code",
   "execution_count": 23,
   "metadata": {},
   "outputs": [
    {
     "data": {
      "text/plain": [
       "count    30.000000\n",
       "mean     36.166667\n",
       "std       5.180090\n",
       "min      24.000000\n",
       "25%      33.250000\n",
       "50%      36.000000\n",
       "75%      40.000000\n",
       "max      47.000000\n",
       "Name: dreb_away, dtype: float64"
      ]
     },
     "execution_count": 23,
     "metadata": {},
     "output_type": "execute_result"
    }
   ],
   "source": [
    "covid_reb_away = pd.read_sql_query(\"SELECT team_name_away, oreb_away, dreb_away, season_id FROM game WHERE season_id IN (22020) GROUP BY team_name_away, season_id\", con)\n",
    "covid_reb_away['dreb_away'].describe()"
   ]
  },
  {
   "cell_type": "markdown",
   "metadata": {},
   "source": [
    "Question 4"
   ]
  },
  {
   "cell_type": "markdown",
   "metadata": {},
   "source": [
    "Intro: As the world embraced the shocks of a global pandemic in 2020, how did the basketball players adapt in a world with no fan presence on the court? Did the teams have no differences as they simply did as they've always done or were there noticable changes? Let's find out the difference between a pre pandemic league and a post pandemic one. "
   ]
  },
  {
   "cell_type": "markdown",
   "metadata": {},
   "source": [
    "Rising action: First, we want to figure out what the 3 point field goal percentages were from the teams at home and away to see maybe what impact the difference of fan presence had on the home court advantage in the 2019-2020 season. In the 2019-2020 season, home teams scored 36.14% as opposed to 35.4% from the away teams, with a difference of .74% in their 3 point shooting percentages."
   ]
  },
  {
   "cell_type": "markdown",
   "metadata": {},
   "source": [
    "Climax: Climax: Then, we ran the same analysis in the 2020-2021 and 2021-2022 seasons to see how 3 point percentages at home and away changed... did the lack of presence of the fans on the home court have a huge impact? In the 2020-2021 season, home teams scored 36.7% of their 3 points as opposed to 36.2% by the away team, the difference being .5% and in the 2021-2022 season, home teams scored 35.4% of their 3 pointers as opposed to the 35.0% by the away team, with the difference being only .4%. We are seeing a downtrend."
   ]
  },
  {
   "cell_type": "markdown",
   "metadata": {},
   "source": [
    "Falling action: We notice a downtrend in the post-pandemic world with no fans but in the 2022-2023 season, the 3 point percentages almost return back to the values in 2019-2020, like a reversion. "
   ]
  },
  {
   "cell_type": "markdown",
   "metadata": {},
   "source": [
    "Conclusion: Although, we cannot conclude a significance on the impact of home court advantages due to the 3 point percentages, we can still see some variance that occurs in a pre-pandemic home court with fans vs a post-pandemic court with no fans and then how it reversed in the post-pandemic court with fans again in the 2022-2023 season."
   ]
  },
  {
   "cell_type": "code",
   "execution_count": 24,
   "metadata": {},
   "outputs": [
    {
     "name": "stdout",
     "output_type": "stream",
     "text": [
      "  season_year  avg_fg3_pct_home  avg_fg3_pct_away\n",
      "0        2019          0.361411          0.353990\n",
      "1        2020          0.367235          0.362348\n",
      "2        2021          0.354915          0.350280\n",
      "3        2022          0.362962          0.351737\n"
     ]
    }
   ],
   "source": [
    "result = []\n",
    "for year in seasons:\n",
    "    fg3_query = f\"\"\"\n",
    "    SELECT \n",
    "        AVG(fg3_pct_home) AS avg_fg3_pct_home,\n",
    "        AVG(fg3_pct_away) AS avg_fg3_pct_away\n",
    "    FROM game\n",
    "    WHERE SUBSTR(season_id, -4) = '{year}'\n",
    "    \"\"\"\n",
    "    \n",
    "    fg3_data = pd.read_sql_query(fg3_query, con)\n",
    "    \n",
    "    if not fg3_data.empty:\n",
    "        avg_fg3_pct_home = fg3_data['avg_fg3_pct_home'][0]\n",
    "        avg_fg3_pct_away = fg3_data['avg_fg3_pct_away'][0]\n",
    "        \n",
    "        result.append({\n",
    "            'season_year': year,\n",
    "            'avg_fg3_pct_home': avg_fg3_pct_home,\n",
    "            'avg_fg3_pct_away': avg_fg3_pct_away\n",
    "        })\n",
    "\n",
    "result_df = pd.DataFrame(result)\n",
    "print(result_df)"
   ]
  },
  {
   "cell_type": "code",
   "execution_count": 25,
   "metadata": {},
   "outputs": [
    {
     "data": {
      "text/html": [
       "<div>\n",
       "<style scoped>\n",
       "    .dataframe tbody tr th:only-of-type {\n",
       "        vertical-align: middle;\n",
       "    }\n",
       "\n",
       "    .dataframe tbody tr th {\n",
       "        vertical-align: top;\n",
       "    }\n",
       "\n",
       "    .dataframe thead th {\n",
       "        text-align: right;\n",
       "    }\n",
       "</style>\n",
       "<table border=\"1\" class=\"dataframe\">\n",
       "  <thead>\n",
       "    <tr style=\"text-align: right;\">\n",
       "      <th></th>\n",
       "      <th>team_name_home</th>\n",
       "      <th>AVG(fg3_pct_home)</th>\n",
       "      <th>season_id</th>\n",
       "    </tr>\n",
       "  </thead>\n",
       "  <tbody>\n",
       "    <tr>\n",
       "      <th>0</th>\n",
       "      <td>Atlanta Hawks</td>\n",
       "      <td>0.344735</td>\n",
       "      <td>22019</td>\n",
       "    </tr>\n",
       "    <tr>\n",
       "      <th>1</th>\n",
       "      <td>Atlanta Hawks</td>\n",
       "      <td>0.381444</td>\n",
       "      <td>22020</td>\n",
       "    </tr>\n",
       "    <tr>\n",
       "      <th>2</th>\n",
       "      <td>Atlanta Hawks</td>\n",
       "      <td>0.380049</td>\n",
       "      <td>22021</td>\n",
       "    </tr>\n",
       "    <tr>\n",
       "      <th>3</th>\n",
       "      <td>Atlanta Hawks</td>\n",
       "      <td>0.347439</td>\n",
       "      <td>22022</td>\n",
       "    </tr>\n",
       "    <tr>\n",
       "      <th>4</th>\n",
       "      <td>Boston Celtics</td>\n",
       "      <td>0.378417</td>\n",
       "      <td>22019</td>\n",
       "    </tr>\n",
       "    <tr>\n",
       "      <th>...</th>\n",
       "      <td>...</td>\n",
       "      <td>...</td>\n",
       "      <td>...</td>\n",
       "    </tr>\n",
       "    <tr>\n",
       "      <th>115</th>\n",
       "      <td>Utah Jazz</td>\n",
       "      <td>0.363171</td>\n",
       "      <td>22022</td>\n",
       "    </tr>\n",
       "    <tr>\n",
       "      <th>116</th>\n",
       "      <td>Washington Wizards</td>\n",
       "      <td>0.371778</td>\n",
       "      <td>22019</td>\n",
       "    </tr>\n",
       "    <tr>\n",
       "      <th>117</th>\n",
       "      <td>Washington Wizards</td>\n",
       "      <td>0.346611</td>\n",
       "      <td>22020</td>\n",
       "    </tr>\n",
       "    <tr>\n",
       "      <th>118</th>\n",
       "      <td>Washington Wizards</td>\n",
       "      <td>0.341512</td>\n",
       "      <td>22021</td>\n",
       "    </tr>\n",
       "    <tr>\n",
       "      <th>119</th>\n",
       "      <td>Washington Wizards</td>\n",
       "      <td>0.370707</td>\n",
       "      <td>22022</td>\n",
       "    </tr>\n",
       "  </tbody>\n",
       "</table>\n",
       "<p>120 rows × 3 columns</p>\n",
       "</div>"
      ],
      "text/plain": [
       "         team_name_home  AVG(fg3_pct_home) season_id\n",
       "0         Atlanta Hawks           0.344735     22019\n",
       "1         Atlanta Hawks           0.381444     22020\n",
       "2         Atlanta Hawks           0.380049     22021\n",
       "3         Atlanta Hawks           0.347439     22022\n",
       "4        Boston Celtics           0.378417     22019\n",
       "..                  ...                ...       ...\n",
       "115           Utah Jazz           0.363171     22022\n",
       "116  Washington Wizards           0.371778     22019\n",
       "117  Washington Wizards           0.346611     22020\n",
       "118  Washington Wizards           0.341512     22021\n",
       "119  Washington Wizards           0.370707     22022\n",
       "\n",
       "[120 rows x 3 columns]"
      ]
     },
     "execution_count": 25,
     "metadata": {},
     "output_type": "execute_result"
    }
   ],
   "source": [
    "covid_fg3_home = pd.read_sql_query(\"SELECT team_name_home, AVG(fg3_pct_home), season_id FROM game WHERE season_id IN (22022, 22021, 22020, 22019) GROUP BY team_name_home, season_id\", con)\n",
    "covid_fg3_home"
   ]
  },
  {
   "cell_type": "code",
   "execution_count": 26,
   "metadata": {},
   "outputs": [
    {
     "data": {
      "text/plain": [
       "count    30.000000\n",
       "mean      0.332833\n",
       "std       0.077337\n",
       "min       0.217000\n",
       "25%       0.274750\n",
       "50%       0.333000\n",
       "75%       0.356500\n",
       "max       0.556000\n",
       "Name: fg3_pct_home, dtype: float64"
      ]
     },
     "execution_count": 26,
     "metadata": {},
     "output_type": "execute_result"
    }
   ],
   "source": [
    "covid_fg3_home = pd.read_sql_query(\"SELECT team_name_home, fg3_pct_home, season_id FROM game WHERE season_id IN (22019) GROUP BY team_name_home, season_id\", con)\n",
    "covid_fg3_home['fg3_pct_home'].describe()"
   ]
  },
  {
   "cell_type": "code",
   "execution_count": 27,
   "metadata": {},
   "outputs": [
    {
     "data": {
      "text/plain": [
       "count    30.00000\n",
       "mean      0.33530\n",
       "std       0.09684\n",
       "min       0.12100\n",
       "25%       0.27600\n",
       "50%       0.35350\n",
       "75%       0.40325\n",
       "max       0.55600\n",
       "Name: fg3_pct_home, dtype: float64"
      ]
     },
     "execution_count": 27,
     "metadata": {},
     "output_type": "execute_result"
    }
   ],
   "source": [
    "covid_fg3_home = pd.read_sql_query(\"SELECT team_name_home, fg3_pct_home, season_id FROM game WHERE season_id IN (22020) GROUP BY team_name_home, season_id\", con)\n",
    "covid_fg3_home['fg3_pct_home'].describe()"
   ]
  },
  {
   "cell_type": "code",
   "execution_count": 28,
   "metadata": {},
   "outputs": [
    {
     "data": {
      "text/html": [
       "<div>\n",
       "<style scoped>\n",
       "    .dataframe tbody tr th:only-of-type {\n",
       "        vertical-align: middle;\n",
       "    }\n",
       "\n",
       "    .dataframe tbody tr th {\n",
       "        vertical-align: top;\n",
       "    }\n",
       "\n",
       "    .dataframe thead th {\n",
       "        text-align: right;\n",
       "    }\n",
       "</style>\n",
       "<table border=\"1\" class=\"dataframe\">\n",
       "  <thead>\n",
       "    <tr style=\"text-align: right;\">\n",
       "      <th></th>\n",
       "      <th>team_name_away</th>\n",
       "      <th>AVG(fg3_pct_away)</th>\n",
       "      <th>season_id</th>\n",
       "    </tr>\n",
       "  </thead>\n",
       "  <tbody>\n",
       "    <tr>\n",
       "      <th>0</th>\n",
       "      <td>Atlanta Hawks</td>\n",
       "      <td>0.319788</td>\n",
       "      <td>22019</td>\n",
       "    </tr>\n",
       "    <tr>\n",
       "      <th>1</th>\n",
       "      <td>Atlanta Hawks</td>\n",
       "      <td>0.358944</td>\n",
       "      <td>22020</td>\n",
       "    </tr>\n",
       "    <tr>\n",
       "      <th>2</th>\n",
       "      <td>Atlanta Hawks</td>\n",
       "      <td>0.363439</td>\n",
       "      <td>22021</td>\n",
       "    </tr>\n",
       "    <tr>\n",
       "      <th>3</th>\n",
       "      <td>Atlanta Hawks</td>\n",
       "      <td>0.359341</td>\n",
       "      <td>22022</td>\n",
       "    </tr>\n",
       "    <tr>\n",
       "      <th>4</th>\n",
       "      <td>Boston Celtics</td>\n",
       "      <td>0.353278</td>\n",
       "      <td>22019</td>\n",
       "    </tr>\n",
       "    <tr>\n",
       "      <th>...</th>\n",
       "      <td>...</td>\n",
       "      <td>...</td>\n",
       "      <td>...</td>\n",
       "    </tr>\n",
       "    <tr>\n",
       "      <th>115</th>\n",
       "      <td>Utah Jazz</td>\n",
       "      <td>0.340805</td>\n",
       "      <td>22022</td>\n",
       "    </tr>\n",
       "    <tr>\n",
       "      <th>116</th>\n",
       "      <td>Washington Wizards</td>\n",
       "      <td>0.365111</td>\n",
       "      <td>22019</td>\n",
       "    </tr>\n",
       "    <tr>\n",
       "      <th>117</th>\n",
       "      <td>Washington Wizards</td>\n",
       "      <td>0.359667</td>\n",
       "      <td>22020</td>\n",
       "    </tr>\n",
       "    <tr>\n",
       "      <th>118</th>\n",
       "      <td>Washington Wizards</td>\n",
       "      <td>0.344366</td>\n",
       "      <td>22021</td>\n",
       "    </tr>\n",
       "    <tr>\n",
       "      <th>119</th>\n",
       "      <td>Washington Wizards</td>\n",
       "      <td>0.337756</td>\n",
       "      <td>22022</td>\n",
       "    </tr>\n",
       "  </tbody>\n",
       "</table>\n",
       "<p>120 rows × 3 columns</p>\n",
       "</div>"
      ],
      "text/plain": [
       "         team_name_away  AVG(fg3_pct_away) season_id\n",
       "0         Atlanta Hawks           0.319788     22019\n",
       "1         Atlanta Hawks           0.358944     22020\n",
       "2         Atlanta Hawks           0.363439     22021\n",
       "3         Atlanta Hawks           0.359341     22022\n",
       "4        Boston Celtics           0.353278     22019\n",
       "..                  ...                ...       ...\n",
       "115           Utah Jazz           0.340805     22022\n",
       "116  Washington Wizards           0.365111     22019\n",
       "117  Washington Wizards           0.359667     22020\n",
       "118  Washington Wizards           0.344366     22021\n",
       "119  Washington Wizards           0.337756     22022\n",
       "\n",
       "[120 rows x 3 columns]"
      ]
     },
     "execution_count": 28,
     "metadata": {},
     "output_type": "execute_result"
    }
   ],
   "source": [
    "covid_fg3_away = pd.read_sql_query(\"SELECT team_name_away, AVG(fg3_pct_away), season_id FROM game WHERE season_id IN (22022, 22021, 22020, 22019) GROUP BY team_name_away, season_id\", con)\n",
    "covid_fg3_away"
   ]
  },
  {
   "cell_type": "code",
   "execution_count": 29,
   "metadata": {},
   "outputs": [
    {
     "data": {
      "text/plain": [
       "count    30.000000\n",
       "mean      0.344267\n",
       "std       0.099422\n",
       "min       0.152000\n",
       "25%       0.289500\n",
       "50%       0.346500\n",
       "75%       0.379000\n",
       "max       0.563000\n",
       "Name: fg3_pct_away, dtype: float64"
      ]
     },
     "execution_count": 29,
     "metadata": {},
     "output_type": "execute_result"
    }
   ],
   "source": [
    "covid_fg3_away = pd.read_sql_query(\"SELECT team_name_away, fg3_pct_away, season_id FROM game WHERE season_id IN (22019) GROUP BY team_name_away, season_id\", con)\n",
    "covid_fg3_away['fg3_pct_away'].describe()"
   ]
  },
  {
   "cell_type": "code",
   "execution_count": 30,
   "metadata": {},
   "outputs": [
    {
     "data": {
      "text/plain": [
       "count    30.000000\n",
       "mean      0.373267\n",
       "std       0.074224\n",
       "min       0.229000\n",
       "25%       0.345250\n",
       "50%       0.365000\n",
       "75%       0.412750\n",
       "max       0.538000\n",
       "Name: fg3_pct_away, dtype: float64"
      ]
     },
     "execution_count": 30,
     "metadata": {},
     "output_type": "execute_result"
    }
   ],
   "source": [
    "covid_fg3_away = pd.read_sql_query(\"SELECT team_name_away, fg3_pct_away, season_id FROM game WHERE season_id IN (22020) GROUP BY team_name_away, season_id\", con)\n",
    "covid_fg3_away['fg3_pct_away'].describe()"
   ]
  },
  {
   "cell_type": "markdown",
   "metadata": {},
   "source": [
    "Question 5"
   ]
  },
  {
   "cell_type": "markdown",
   "metadata": {},
   "source": [
    "Intro: As the world embraced the shocks of a global pandemic in 2020, how did the basketball players adapt in a world with no fan presence on the court? Did the teams have no differences as they simply did as they've always done or were there noticable changes? Let's find out the difference between a pre pandemic league and a post pandemic one. "
   ]
  },
  {
   "cell_type": "markdown",
   "metadata": {},
   "source": [
    "Rising Action: First, we want to figure out what the free throw percentages were from the teams at home and away to see maybe what impact the difference of fan presence had on the home court advantage in the 2019-2020 season. In the 2019-2020 season, away teams actually had a higher free throw percentages, with the figures being 77.24% for the away team and 77.18% for the home team. "
   ]
  },
  {
   "cell_type": "markdown",
   "metadata": {},
   "source": [
    "Climax: Then, we ran the same analysis in the 2020-2021 and 2021-2022 seasons to see how the free throw percentages at home and away changed... did the lack of presence of the fans on the home court have a huge impact? In the 2020-2021 season, we can actually see the home team gaining advantage back from the away team with a difference of .4% between the home and away team. In the 2021-2022 season, the edge swung back to the away team with the difference of .08% between away and the home teams. These numbers are far smaller than the number pre-pandemic."
   ]
  },
  {
   "cell_type": "markdown",
   "metadata": {},
   "source": [
    "Falling Action: The trend once again reversed to the home team in the 2022-2023 season, with them leading by an anverage of .02% in the free throw made percentages, there is too much volatility in the form that it's a constant back and forth every year and not by huge amounts of difference."
   ]
  },
  {
   "cell_type": "markdown",
   "metadata": {},
   "source": [
    "Conclusion: There is just not huge differences nor trend to be proven that the free throws made percentages had a huge impact on the home court advantage pre and post pandemic."
   ]
  },
  {
   "cell_type": "code",
   "execution_count": 31,
   "metadata": {},
   "outputs": [
    {
     "name": "stdout",
     "output_type": "stream",
     "text": [
      "  season_year  avg_ft_pct_home  avg_ft_pct_away\n",
      "0        2019         0.771852         0.772411\n",
      "1        2020         0.779016         0.775290\n",
      "2        2021         0.775135         0.775920\n",
      "3        2022         0.782598         0.780615\n"
     ]
    }
   ],
   "source": [
    "result = []\n",
    "for year in seasons:\n",
    "    ft_query = f\"\"\"\n",
    "    SELECT \n",
    "        AVG(ft_pct_home) AS avg_ft_pct_home,\n",
    "        AVG(ft_pct_away) AS avg_ft_pct_away\n",
    "    FROM game\n",
    "    WHERE SUBSTR(season_id, -4) = '{year}'\n",
    "    \"\"\"\n",
    "    \n",
    "    ft_data = pd.read_sql_query(ft_query, con)\n",
    "    \n",
    "    if not ft_data.empty:\n",
    "        avg_ft_pct_home = ft_data['avg_ft_pct_home'][0]\n",
    "        avg_ft_pct_away = ft_data['avg_ft_pct_away'][0]\n",
    "        \n",
    "        result.append({\n",
    "            'season_year': year,\n",
    "            'avg_ft_pct_home': avg_ft_pct_home,\n",
    "            'avg_ft_pct_away': avg_ft_pct_away\n",
    "        })\n",
    "\n",
    "result_df = pd.DataFrame(result)\n",
    "print(result_df)"
   ]
  },
  {
   "cell_type": "code",
   "execution_count": 32,
   "metadata": {},
   "outputs": [
    {
     "data": {
      "text/html": [
       "<div>\n",
       "<style scoped>\n",
       "    .dataframe tbody tr th:only-of-type {\n",
       "        vertical-align: middle;\n",
       "    }\n",
       "\n",
       "    .dataframe tbody tr th {\n",
       "        vertical-align: top;\n",
       "    }\n",
       "\n",
       "    .dataframe thead th {\n",
       "        text-align: right;\n",
       "    }\n",
       "</style>\n",
       "<table border=\"1\" class=\"dataframe\">\n",
       "  <thead>\n",
       "    <tr style=\"text-align: right;\">\n",
       "      <th></th>\n",
       "      <th>team_name_home</th>\n",
       "      <th>AVG(fg_pct_home)</th>\n",
       "      <th>season_id</th>\n",
       "    </tr>\n",
       "  </thead>\n",
       "  <tbody>\n",
       "    <tr>\n",
       "      <th>0</th>\n",
       "      <td>Atlanta Hawks</td>\n",
       "      <td>0.459618</td>\n",
       "      <td>22019</td>\n",
       "    </tr>\n",
       "    <tr>\n",
       "      <th>1</th>\n",
       "      <td>Atlanta Hawks</td>\n",
       "      <td>0.477889</td>\n",
       "      <td>22020</td>\n",
       "    </tr>\n",
       "    <tr>\n",
       "      <th>2</th>\n",
       "      <td>Atlanta Hawks</td>\n",
       "      <td>0.482902</td>\n",
       "      <td>22021</td>\n",
       "    </tr>\n",
       "    <tr>\n",
       "      <th>3</th>\n",
       "      <td>Atlanta Hawks</td>\n",
       "      <td>0.482561</td>\n",
       "      <td>22022</td>\n",
       "    </tr>\n",
       "    <tr>\n",
       "      <th>4</th>\n",
       "      <td>Boston Celtics</td>\n",
       "      <td>0.469833</td>\n",
       "      <td>22019</td>\n",
       "    </tr>\n",
       "    <tr>\n",
       "      <th>...</th>\n",
       "      <td>...</td>\n",
       "      <td>...</td>\n",
       "      <td>...</td>\n",
       "    </tr>\n",
       "    <tr>\n",
       "      <th>115</th>\n",
       "      <td>Utah Jazz</td>\n",
       "      <td>0.471341</td>\n",
       "      <td>22022</td>\n",
       "    </tr>\n",
       "    <tr>\n",
       "      <th>116</th>\n",
       "      <td>Washington Wizards</td>\n",
       "      <td>0.457583</td>\n",
       "      <td>22019</td>\n",
       "    </tr>\n",
       "    <tr>\n",
       "      <th>117</th>\n",
       "      <td>Washington Wizards</td>\n",
       "      <td>0.481972</td>\n",
       "      <td>22020</td>\n",
       "    </tr>\n",
       "    <tr>\n",
       "      <th>118</th>\n",
       "      <td>Washington Wizards</td>\n",
       "      <td>0.479000</td>\n",
       "      <td>22021</td>\n",
       "    </tr>\n",
       "    <tr>\n",
       "      <th>119</th>\n",
       "      <td>Washington Wizards</td>\n",
       "      <td>0.486415</td>\n",
       "      <td>22022</td>\n",
       "    </tr>\n",
       "  </tbody>\n",
       "</table>\n",
       "<p>120 rows × 3 columns</p>\n",
       "</div>"
      ],
      "text/plain": [
       "         team_name_home  AVG(fg_pct_home) season_id\n",
       "0         Atlanta Hawks          0.459618     22019\n",
       "1         Atlanta Hawks          0.477889     22020\n",
       "2         Atlanta Hawks          0.482902     22021\n",
       "3         Atlanta Hawks          0.482561     22022\n",
       "4        Boston Celtics          0.469833     22019\n",
       "..                  ...               ...       ...\n",
       "115           Utah Jazz          0.471341     22022\n",
       "116  Washington Wizards          0.457583     22019\n",
       "117  Washington Wizards          0.481972     22020\n",
       "118  Washington Wizards          0.479000     22021\n",
       "119  Washington Wizards          0.486415     22022\n",
       "\n",
       "[120 rows x 3 columns]"
      ]
     },
     "execution_count": 32,
     "metadata": {},
     "output_type": "execute_result"
    }
   ],
   "source": [
    "covid_fg_home = pd.read_sql_query(\"SELECT team_name_home, AVG(fg_pct_home), season_id FROM game WHERE season_id IN (22022, 22021, 22020, 22019) GROUP BY team_name_home, season_id\", con)\n",
    "covid_fg_home"
   ]
  },
  {
   "cell_type": "code",
   "execution_count": 33,
   "metadata": {},
   "outputs": [
    {
     "data": {
      "text/plain": [
       "count    30.000000\n",
       "mean      0.441867\n",
       "std       0.061571\n",
       "min       0.299000\n",
       "25%       0.400500\n",
       "50%       0.432500\n",
       "75%       0.474000\n",
       "max       0.626000\n",
       "Name: fg_pct_home, dtype: float64"
      ]
     },
     "execution_count": 33,
     "metadata": {},
     "output_type": "execute_result"
    }
   ],
   "source": [
    "covid_fg_home = pd.read_sql_query(\"SELECT team_name_home, fg_pct_home, season_id FROM game WHERE season_id IN (22019) GROUP BY team_name_home, season_id\", con)\n",
    "covid_fg_home['fg_pct_home'].describe()"
   ]
  },
  {
   "cell_type": "code",
   "execution_count": 34,
   "metadata": {},
   "outputs": [
    {
     "data": {
      "text/plain": [
       "count    30.000000\n",
       "mean      0.451600\n",
       "std       0.052411\n",
       "min       0.342000\n",
       "25%       0.403500\n",
       "50%       0.467000\n",
       "75%       0.483250\n",
       "max       0.556000\n",
       "Name: fg_pct_home, dtype: float64"
      ]
     },
     "execution_count": 34,
     "metadata": {},
     "output_type": "execute_result"
    }
   ],
   "source": [
    "covid_fg_home = pd.read_sql_query(\"SELECT team_name_home, fg_pct_home, season_id FROM game WHERE season_id IN (22020) GROUP BY team_name_home, season_id\", con)\n",
    "covid_fg_home['fg_pct_home'].describe()"
   ]
  },
  {
   "cell_type": "code",
   "execution_count": 35,
   "metadata": {},
   "outputs": [
    {
     "data": {
      "text/html": [
       "<div>\n",
       "<style scoped>\n",
       "    .dataframe tbody tr th:only-of-type {\n",
       "        vertical-align: middle;\n",
       "    }\n",
       "\n",
       "    .dataframe tbody tr th {\n",
       "        vertical-align: top;\n",
       "    }\n",
       "\n",
       "    .dataframe thead th {\n",
       "        text-align: right;\n",
       "    }\n",
       "</style>\n",
       "<table border=\"1\" class=\"dataframe\">\n",
       "  <thead>\n",
       "    <tr style=\"text-align: right;\">\n",
       "      <th></th>\n",
       "      <th>team_name_away</th>\n",
       "      <th>AVG(fg_pct_away)</th>\n",
       "      <th>season_id</th>\n",
       "    </tr>\n",
       "  </thead>\n",
       "  <tbody>\n",
       "    <tr>\n",
       "      <th>0</th>\n",
       "      <td>Atlanta Hawks</td>\n",
       "      <td>0.440697</td>\n",
       "      <td>22019</td>\n",
       "    </tr>\n",
       "    <tr>\n",
       "      <th>1</th>\n",
       "      <td>Atlanta Hawks</td>\n",
       "      <td>0.460389</td>\n",
       "      <td>22020</td>\n",
       "    </tr>\n",
       "    <tr>\n",
       "      <th>2</th>\n",
       "      <td>Atlanta Hawks</td>\n",
       "      <td>0.459366</td>\n",
       "      <td>22021</td>\n",
       "    </tr>\n",
       "    <tr>\n",
       "      <th>3</th>\n",
       "      <td>Atlanta Hawks</td>\n",
       "      <td>0.486098</td>\n",
       "      <td>22022</td>\n",
       "    </tr>\n",
       "    <tr>\n",
       "      <th>4</th>\n",
       "      <td>Boston Celtics</td>\n",
       "      <td>0.454000</td>\n",
       "      <td>22019</td>\n",
       "    </tr>\n",
       "    <tr>\n",
       "      <th>...</th>\n",
       "      <td>...</td>\n",
       "      <td>...</td>\n",
       "      <td>...</td>\n",
       "    </tr>\n",
       "    <tr>\n",
       "      <th>115</th>\n",
       "      <td>Utah Jazz</td>\n",
       "      <td>0.476951</td>\n",
       "      <td>22022</td>\n",
       "    </tr>\n",
       "    <tr>\n",
       "      <th>116</th>\n",
       "      <td>Washington Wizards</td>\n",
       "      <td>0.458611</td>\n",
       "      <td>22019</td>\n",
       "    </tr>\n",
       "    <tr>\n",
       "      <th>117</th>\n",
       "      <td>Washington Wizards</td>\n",
       "      <td>0.467056</td>\n",
       "      <td>22020</td>\n",
       "    </tr>\n",
       "    <tr>\n",
       "      <th>118</th>\n",
       "      <td>Washington Wizards</td>\n",
       "      <td>0.465390</td>\n",
       "      <td>22021</td>\n",
       "    </tr>\n",
       "    <tr>\n",
       "      <th>119</th>\n",
       "      <td>Washington Wizards</td>\n",
       "      <td>0.487366</td>\n",
       "      <td>22022</td>\n",
       "    </tr>\n",
       "  </tbody>\n",
       "</table>\n",
       "<p>120 rows × 3 columns</p>\n",
       "</div>"
      ],
      "text/plain": [
       "         team_name_away  AVG(fg_pct_away) season_id\n",
       "0         Atlanta Hawks          0.440697     22019\n",
       "1         Atlanta Hawks          0.460389     22020\n",
       "2         Atlanta Hawks          0.459366     22021\n",
       "3         Atlanta Hawks          0.486098     22022\n",
       "4        Boston Celtics          0.454000     22019\n",
       "..                  ...               ...       ...\n",
       "115           Utah Jazz          0.476951     22022\n",
       "116  Washington Wizards          0.458611     22019\n",
       "117  Washington Wizards          0.467056     22020\n",
       "118  Washington Wizards          0.465390     22021\n",
       "119  Washington Wizards          0.487366     22022\n",
       "\n",
       "[120 rows x 3 columns]"
      ]
     },
     "execution_count": 35,
     "metadata": {},
     "output_type": "execute_result"
    }
   ],
   "source": [
    "covid_fg_away = pd.read_sql_query(\"SELECT team_name_away, AVG(fg_pct_away), season_id FROM game WHERE season_id IN (22022, 22021, 22020, 22019) GROUP BY team_name_away, season_id\", con)\n",
    "covid_fg_away"
   ]
  },
  {
   "cell_type": "code",
   "execution_count": 36,
   "metadata": {},
   "outputs": [
    {
     "data": {
      "text/plain": [
       "count    30.000000\n",
       "mean      0.442967\n",
       "std       0.063498\n",
       "min       0.326000\n",
       "25%       0.395750\n",
       "50%       0.435500\n",
       "75%       0.472500\n",
       "max       0.625000\n",
       "Name: fg_pct_away, dtype: float64"
      ]
     },
     "execution_count": 36,
     "metadata": {},
     "output_type": "execute_result"
    }
   ],
   "source": [
    "covid_fg_away = pd.read_sql_query(\"SELECT team_name_away, fg_pct_away, season_id FROM game WHERE season_id IN (22019) GROUP BY team_name_away, season_id\", con)\n",
    "covid_fg_away['fg_pct_away'].describe()"
   ]
  },
  {
   "cell_type": "code",
   "execution_count": 37,
   "metadata": {},
   "outputs": [
    {
     "data": {
      "text/plain": [
       "count    30.000000\n",
       "mean      0.481567\n",
       "std       0.045188\n",
       "min       0.374000\n",
       "25%       0.455500\n",
       "50%       0.478500\n",
       "75%       0.509750\n",
       "max       0.561000\n",
       "Name: fg_pct_away, dtype: float64"
      ]
     },
     "execution_count": 37,
     "metadata": {},
     "output_type": "execute_result"
    }
   ],
   "source": [
    "covid_fg_away = pd.read_sql_query(\"SELECT team_name_away, fg_pct_away, season_id FROM game WHERE season_id IN (22020) GROUP BY team_name_away, season_id\", con)\n",
    "covid_fg_away['fg_pct_away'].describe()"
   ]
  },
  {
   "cell_type": "code",
   "execution_count": 38,
   "metadata": {},
   "outputs": [],
   "source": [
    "con.close()"
   ]
  }
 ],
 "metadata": {
  "kernelspec": {
   "display_name": "Python 3 (ipykernel)",
   "language": "python",
   "name": "python3"
  },
  "language_info": {
   "codemirror_mode": {
    "name": "ipython",
    "version": 3
   },
   "file_extension": ".py",
   "mimetype": "text/x-python",
   "name": "python",
   "nbconvert_exporter": "python",
   "pygments_lexer": "ipython3",
   "version": "3.12.3"
  }
 },
 "nbformat": 4,
 "nbformat_minor": 4
}
