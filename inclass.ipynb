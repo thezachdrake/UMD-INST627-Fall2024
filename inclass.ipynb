{
 "cells": [
  {
   "cell_type": "markdown",
   "metadata": {},
   "source": [
    "# COVID-19's Impact on NBA Home Court Advantage"
   ]
  },
  {
   "cell_type": "markdown",
   "metadata": {},
   "source": [
    "## Introduction"
   ]
  },
  {
   "cell_type": "markdown",
   "metadata": {},
   "source": [
    "Our team will be analyzing NBA dataset to observe the difference between points for home and away teams during the COVID-19 (2019-2020) and post-COVID (2022-2023) seasons. The goal of this analysis is to explore how the COVID-19 pandemic impacted team performance and to examine how home court advantage may have changed as a result.\n"
   ]
  },
  {
   "cell_type": "markdown",
   "metadata": {},
   "source": [
    "## Why did we focus on COVID-19?"
   ]
  },
  {
   "cell_type": "markdown",
   "metadata": {},
   "source": [
    "#### Historical Contexts of COVID-19\n",
    "COVID-19 is an infectious disease caused by the SARS-CoV-2 virus. It was first identified in December 2019 in Wuhan, China. The Centers for Disease Control and Prevention (CDC) announced the disease's outbreak in the United States in January 2020.\n",
    "\n",
    "COVID-19 is highly contagious and spreads primarily through person-to-person transmission. Infection can occur from respiratory droplets by an infected person when coughing or sneezing, or through contact with contaminated surfaces. The virus's high transmissibility, combined with severe cases requiring hospitalization and a rising fatality rate, led to a global pandemic in March 11, 2020. Governments and health organizations implemented public health measures such as lockdowns, social distancing, and mask mandates to control the virus's spread."
   ]
  },
  {
   "cell_type": "markdown",
   "metadata": {},
   "source": [
    "#### COVID-19 Impact on the NBA\n",
    "Home court advantage in the NBA refers to the boost teams experience when having the game in their arena. The boost comes from the support from fans and this can motivate players performance. However, during the COVID-19 pandemic, the NBA banned fans from attending games in person, which removed support. The absent of live audience impacted the mental health but also financial consequences for the league and teams, which could impact player performance on the court."
   ]
  },
  {
   "cell_type": "markdown",
   "metadata": {},
   "source": [
    "## Business Objective"
   ]
  },
  {
   "cell_type": "markdown",
   "metadata": {},
   "source": [
    "##### What was the impact of the COVID-19 pandemic on the level of home court advantage?"
   ]
  },
  {
   "cell_type": "markdown",
   "metadata": {},
   "source": [
    "##### Our team divide our analysis into five questions"
   ]
  },
  {
   "cell_type": "code",
   "execution_count": null,
   "metadata": {},
   "outputs": [],
   "source": [
    "import pandas as pd\n",
    "import sqlite3\n",
    "\n",
    "con = sqlite3.connect(\"data/nba.sqlite\")\n",
    "\n",
    "seasons = ['2019', '2020', '2021', '2022']"
   ]
  },
  {
   "cell_type": "markdown",
   "metadata": {},
   "source": [
    "### Question 1: How has the difference in win-loss ratio between home and away teams changed from the 2019-20 season to the 2022-23 season?\n"
   ]
  },
  {
   "cell_type": "code",
   "execution_count": null,
   "metadata": {},
   "outputs": [
    {
     "name": "stderr",
     "output_type": "stream",
     "text": [
      "C:\\Users\\emmet\\AppData\\Local\\Temp\\ipykernel_21628\\3688947812.py:3: FutureWarning: Downcasting behavior in `replace` is deprecated and will be removed in a future version. To retain the old behavior, explicitly call `result.infer_objects(copy=False)`. To opt-in to the future behavior, set `pd.set_option('future.no_silent_downcasting', True)`\n",
      "  covid_wl_home = covid_wl_home.replace('L', 0)\n"
     ]
    },
    {
     "data": {
      "text/html": [
       "<div>\n",
       "<style scoped>\n",
       "    .dataframe tbody tr th:only-of-type {\n",
       "        vertical-align: middle;\n",
       "    }\n",
       "\n",
       "    .dataframe tbody tr th {\n",
       "        vertical-align: top;\n",
       "    }\n",
       "\n",
       "    .dataframe thead tr th {\n",
       "        text-align: left;\n",
       "    }\n",
       "\n",
       "    .dataframe thead tr:last-of-type th {\n",
       "        text-align: right;\n",
       "    }\n",
       "</style>\n",
       "<table border=\"1\" class=\"dataframe\">\n",
       "  <thead>\n",
       "    <tr>\n",
       "      <th></th>\n",
       "      <th>wl_home</th>\n",
       "    </tr>\n",
       "    <tr>\n",
       "      <th></th>\n",
       "      <th>mean</th>\n",
       "    </tr>\n",
       "    <tr>\n",
       "      <th>season_id</th>\n",
       "      <th></th>\n",
       "    </tr>\n",
       "  </thead>\n",
       "  <tbody>\n",
       "    <tr>\n",
       "      <th>22019</th>\n",
       "      <td>0.551464</td>\n",
       "    </tr>\n",
       "    <tr>\n",
       "      <th>22020</th>\n",
       "      <td>0.543519</td>\n",
       "    </tr>\n",
       "    <tr>\n",
       "      <th>22021</th>\n",
       "      <td>0.543902</td>\n",
       "    </tr>\n",
       "    <tr>\n",
       "      <th>22022</th>\n",
       "      <td>0.580488</td>\n",
       "    </tr>\n",
       "  </tbody>\n",
       "</table>\n",
       "</div>"
      ],
      "text/plain": [
       "            wl_home\n",
       "               mean\n",
       "season_id          \n",
       "22019      0.551464\n",
       "22020      0.543519\n",
       "22021      0.543902\n",
       "22022      0.580488"
      ]
     },
     "execution_count": 16,
     "metadata": {},
     "output_type": "execute_result"
    }
   ],
   "source": [
    "covid_wl_home = pd.read_sql_query(\"SELECT team_name_home, wl_home, season_id FROM game WHERE season_id IN (22022, 22021, 22020, 22019) ORDER BY season_id DESC\", con)\n",
    "covid_wl_home = covid_wl_home.replace('W', 1)\n",
    "covid_wl_home = covid_wl_home.replace('L', 0)\n",
    "\n",
    "covid_wl_home_group = covid_wl_home.groupby(['season_id']).agg({'wl_home': ['mean']})\n",
    "covid_wl_home_group"
   ]
  },
  {
   "cell_type": "code",
   "execution_count": null,
   "metadata": {},
   "outputs": [
    {
     "name": "stderr",
     "output_type": "stream",
     "text": [
      "C:\\Users\\emmet\\AppData\\Local\\Temp\\ipykernel_21628\\734295079.py:3: FutureWarning: Downcasting behavior in `replace` is deprecated and will be removed in a future version. To retain the old behavior, explicitly call `result.infer_objects(copy=False)`. To opt-in to the future behavior, set `pd.set_option('future.no_silent_downcasting', True)`\n",
      "  covid_wl_away = covid_wl_away.replace('L', 0)\n"
     ]
    },
    {
     "data": {
      "text/html": [
       "<div>\n",
       "<style scoped>\n",
       "    .dataframe tbody tr th:only-of-type {\n",
       "        vertical-align: middle;\n",
       "    }\n",
       "\n",
       "    .dataframe tbody tr th {\n",
       "        vertical-align: top;\n",
       "    }\n",
       "\n",
       "    .dataframe thead tr th {\n",
       "        text-align: left;\n",
       "    }\n",
       "\n",
       "    .dataframe thead tr:last-of-type th {\n",
       "        text-align: right;\n",
       "    }\n",
       "</style>\n",
       "<table border=\"1\" class=\"dataframe\">\n",
       "  <thead>\n",
       "    <tr>\n",
       "      <th></th>\n",
       "      <th>wl_away</th>\n",
       "    </tr>\n",
       "    <tr>\n",
       "      <th></th>\n",
       "      <th>mean</th>\n",
       "    </tr>\n",
       "    <tr>\n",
       "      <th>season_id</th>\n",
       "      <th></th>\n",
       "    </tr>\n",
       "  </thead>\n",
       "  <tbody>\n",
       "    <tr>\n",
       "      <th>22019</th>\n",
       "      <td>0.448536</td>\n",
       "    </tr>\n",
       "    <tr>\n",
       "      <th>22020</th>\n",
       "      <td>0.456481</td>\n",
       "    </tr>\n",
       "    <tr>\n",
       "      <th>22021</th>\n",
       "      <td>0.456098</td>\n",
       "    </tr>\n",
       "    <tr>\n",
       "      <th>22022</th>\n",
       "      <td>0.419512</td>\n",
       "    </tr>\n",
       "  </tbody>\n",
       "</table>\n",
       "</div>"
      ],
      "text/plain": [
       "            wl_away\n",
       "               mean\n",
       "season_id          \n",
       "22019      0.448536\n",
       "22020      0.456481\n",
       "22021      0.456098\n",
       "22022      0.419512"
      ]
     },
     "execution_count": 5,
     "metadata": {},
     "output_type": "execute_result"
    }
   ],
   "source": [
    "covid_wl_away = pd.read_sql_query(\"SELECT team_name_away, wl_away, season_id FROM game WHERE season_id IN (22022, 22021, 22020, 22019) ORDER BY season_id DESC\", con)\n",
    "covid_wl_away = covid_wl_away.replace('W', 1)\n",
    "covid_wl_away = covid_wl_away.replace('L', 0)\n",
    "\n",
    "covid_wl_away_group = covid_wl_away.groupby(['season_id']).agg({'wl_away': ['mean']})\n",
    "covid_wl_away_group"
   ]
  },
  {
   "cell_type": "code",
   "execution_count": null,
   "metadata": {},
   "outputs": [
    {
     "name": "stderr",
     "output_type": "stream",
     "text": [
      "C:\\Users\\emmet\\AppData\\Local\\Temp\\ipykernel_21628\\1817048779.py:3: FutureWarning: Downcasting behavior in `replace` is deprecated and will be removed in a future version. To retain the old behavior, explicitly call `result.infer_objects(copy=False)`. To opt-in to the future behavior, set `pd.set_option('future.no_silent_downcasting', True)`\n",
      "  covid_wl_home = covid_wl_home.replace('L', 0)\n"
     ]
    },
    {
     "data": {
      "text/html": [
       "<div>\n",
       "<style scoped>\n",
       "    .dataframe tbody tr th:only-of-type {\n",
       "        vertical-align: middle;\n",
       "    }\n",
       "\n",
       "    .dataframe tbody tr th {\n",
       "        vertical-align: top;\n",
       "    }\n",
       "\n",
       "    .dataframe thead tr th {\n",
       "        text-align: left;\n",
       "    }\n",
       "\n",
       "    .dataframe thead tr:last-of-type th {\n",
       "        text-align: right;\n",
       "    }\n",
       "</style>\n",
       "<table border=\"1\" class=\"dataframe\">\n",
       "  <thead>\n",
       "    <tr>\n",
       "      <th></th>\n",
       "      <th></th>\n",
       "      <th>wl_home</th>\n",
       "    </tr>\n",
       "    <tr>\n",
       "      <th></th>\n",
       "      <th></th>\n",
       "      <th>mean</th>\n",
       "    </tr>\n",
       "    <tr>\n",
       "      <th>team_name_home</th>\n",
       "      <th>season_id</th>\n",
       "      <th></th>\n",
       "    </tr>\n",
       "  </thead>\n",
       "  <tbody>\n",
       "    <tr>\n",
       "      <th rowspan=\"4\" valign=\"top\">Atlanta Hawks</th>\n",
       "      <th>22019</th>\n",
       "      <td>0.411765</td>\n",
       "    </tr>\n",
       "    <tr>\n",
       "      <th>22020</th>\n",
       "      <td>0.694444</td>\n",
       "    </tr>\n",
       "    <tr>\n",
       "      <th>22021</th>\n",
       "      <td>0.658537</td>\n",
       "    </tr>\n",
       "    <tr>\n",
       "      <th>22022</th>\n",
       "      <td>0.585366</td>\n",
       "    </tr>\n",
       "    <tr>\n",
       "      <th>Boston Celtics</th>\n",
       "      <th>22019</th>\n",
       "      <td>0.722222</td>\n",
       "    </tr>\n",
       "    <tr>\n",
       "      <th>...</th>\n",
       "      <th>...</th>\n",
       "      <td>...</td>\n",
       "    </tr>\n",
       "    <tr>\n",
       "      <th>Utah Jazz</th>\n",
       "      <th>22022</th>\n",
       "      <td>0.560976</td>\n",
       "    </tr>\n",
       "    <tr>\n",
       "      <th rowspan=\"4\" valign=\"top\">Washington Wizards</th>\n",
       "      <th>22019</th>\n",
       "      <td>0.444444</td>\n",
       "    </tr>\n",
       "    <tr>\n",
       "      <th>22020</th>\n",
       "      <td>0.527778</td>\n",
       "    </tr>\n",
       "    <tr>\n",
       "      <th>22021</th>\n",
       "      <td>0.512195</td>\n",
       "    </tr>\n",
       "    <tr>\n",
       "      <th>22022</th>\n",
       "      <td>0.463415</td>\n",
       "    </tr>\n",
       "  </tbody>\n",
       "</table>\n",
       "<p>120 rows × 1 columns</p>\n",
       "</div>"
      ],
      "text/plain": [
       "                               wl_home\n",
       "                                  mean\n",
       "team_name_home     season_id          \n",
       "Atlanta Hawks      22019      0.411765\n",
       "                   22020      0.694444\n",
       "                   22021      0.658537\n",
       "                   22022      0.585366\n",
       "Boston Celtics     22019      0.722222\n",
       "...                                ...\n",
       "Utah Jazz          22022      0.560976\n",
       "Washington Wizards 22019      0.444444\n",
       "                   22020      0.527778\n",
       "                   22021      0.512195\n",
       "                   22022      0.463415\n",
       "\n",
       "[120 rows x 1 columns]"
      ]
     },
     "execution_count": 6,
     "metadata": {},
     "output_type": "execute_result"
    }
   ],
   "source": [
    "covid_wl_home = pd.read_sql_query(\"SELECT team_name_home, wl_home, season_id FROM game WHERE season_id IN (22022, 22021, 22020, 22019) ORDER BY season_id DESC\", con)\n",
    "covid_wl_home = covid_wl_home.replace('W', 1)\n",
    "covid_wl_home = covid_wl_home.replace('L', 0)\n",
    "\n",
    "covid_wl_home_group = covid_wl_home.groupby(['team_name_home', 'season_id']).agg({'wl_home': ['mean']})\n",
    "covid_wl_home_group"
   ]
  },
  {
   "cell_type": "code",
   "execution_count": null,
   "metadata": {},
   "outputs": [
    {
     "name": "stderr",
     "output_type": "stream",
     "text": [
      "C:\\Users\\emmet\\AppData\\Local\\Temp\\ipykernel_21628\\2654544824.py:3: FutureWarning: Downcasting behavior in `replace` is deprecated and will be removed in a future version. To retain the old behavior, explicitly call `result.infer_objects(copy=False)`. To opt-in to the future behavior, set `pd.set_option('future.no_silent_downcasting', True)`\n",
      "  covid_wl_away = covid_wl_away.replace('L', 0)\n"
     ]
    },
    {
     "data": {
      "text/html": [
       "<div>\n",
       "<style scoped>\n",
       "    .dataframe tbody tr th:only-of-type {\n",
       "        vertical-align: middle;\n",
       "    }\n",
       "\n",
       "    .dataframe tbody tr th {\n",
       "        vertical-align: top;\n",
       "    }\n",
       "\n",
       "    .dataframe thead tr th {\n",
       "        text-align: left;\n",
       "    }\n",
       "\n",
       "    .dataframe thead tr:last-of-type th {\n",
       "        text-align: right;\n",
       "    }\n",
       "</style>\n",
       "<table border=\"1\" class=\"dataframe\">\n",
       "  <thead>\n",
       "    <tr>\n",
       "      <th></th>\n",
       "      <th></th>\n",
       "      <th>wl_away</th>\n",
       "    </tr>\n",
       "    <tr>\n",
       "      <th></th>\n",
       "      <th></th>\n",
       "      <th>mean</th>\n",
       "    </tr>\n",
       "    <tr>\n",
       "      <th>team_name_away</th>\n",
       "      <th>season_id</th>\n",
       "      <th></th>\n",
       "    </tr>\n",
       "  </thead>\n",
       "  <tbody>\n",
       "    <tr>\n",
       "      <th rowspan=\"4\" valign=\"top\">Atlanta Hawks</th>\n",
       "      <th>22019</th>\n",
       "      <td>0.181818</td>\n",
       "    </tr>\n",
       "    <tr>\n",
       "      <th>22020</th>\n",
       "      <td>0.444444</td>\n",
       "    </tr>\n",
       "    <tr>\n",
       "      <th>22021</th>\n",
       "      <td>0.390244</td>\n",
       "    </tr>\n",
       "    <tr>\n",
       "      <th>22022</th>\n",
       "      <td>0.414634</td>\n",
       "    </tr>\n",
       "    <tr>\n",
       "      <th>Boston Celtics</th>\n",
       "      <th>22019</th>\n",
       "      <td>0.611111</td>\n",
       "    </tr>\n",
       "    <tr>\n",
       "      <th>...</th>\n",
       "      <th>...</th>\n",
       "      <td>...</td>\n",
       "    </tr>\n",
       "    <tr>\n",
       "      <th>Utah Jazz</th>\n",
       "      <th>22022</th>\n",
       "      <td>0.341463</td>\n",
       "    </tr>\n",
       "    <tr>\n",
       "      <th rowspan=\"4\" valign=\"top\">Washington Wizards</th>\n",
       "      <th>22019</th>\n",
       "      <td>0.250000</td>\n",
       "    </tr>\n",
       "    <tr>\n",
       "      <th>22020</th>\n",
       "      <td>0.416667</td>\n",
       "    </tr>\n",
       "    <tr>\n",
       "      <th>22021</th>\n",
       "      <td>0.341463</td>\n",
       "    </tr>\n",
       "    <tr>\n",
       "      <th>22022</th>\n",
       "      <td>0.390244</td>\n",
       "    </tr>\n",
       "  </tbody>\n",
       "</table>\n",
       "<p>120 rows × 1 columns</p>\n",
       "</div>"
      ],
      "text/plain": [
       "                               wl_away\n",
       "                                  mean\n",
       "team_name_away     season_id          \n",
       "Atlanta Hawks      22019      0.181818\n",
       "                   22020      0.444444\n",
       "                   22021      0.390244\n",
       "                   22022      0.414634\n",
       "Boston Celtics     22019      0.611111\n",
       "...                                ...\n",
       "Utah Jazz          22022      0.341463\n",
       "Washington Wizards 22019      0.250000\n",
       "                   22020      0.416667\n",
       "                   22021      0.341463\n",
       "                   22022      0.390244\n",
       "\n",
       "[120 rows x 1 columns]"
      ]
     },
     "execution_count": 8,
     "metadata": {},
     "output_type": "execute_result"
    }
   ],
   "source": [
    "covid_wl_away = pd.read_sql_query(\"SELECT team_name_away, wl_away, season_id FROM game WHERE season_id IN (22022, 22021, 22020, 22019) ORDER BY season_id DESC\", con)\n",
    "covid_wl_away = covid_wl_away.replace('W', 1)\n",
    "covid_wl_away = covid_wl_away.replace('L', 0)\n",
    "\n",
    "covid_wl_away_group = covid_wl_away.groupby(['team_name_away', 'season_id']).agg({'wl_away': ['mean']})\n",
    "covid_wl_away_group"
   ]
  },
  {
   "cell_type": "markdown",
   "metadata": {},
   "source": [
    "##### "
   ]
  },
  {
   "cell_type": "markdown",
   "metadata": {},
   "source": [
    "### Question 2: How has the difference in average points scored between home and away teams changed from the 2019-20 season to the 2022-23 season?"
   ]
  },
  {
   "cell_type": "code",
   "execution_count": null,
   "metadata": {},
   "outputs": [
    {
     "name": "stdout",
     "output_type": "stream",
     "text": [
      "  season_year  avg_pts_home  avg_pts_away  points_diff\n",
      "0        2019    112.696413    110.651794     2.044619\n",
      "1        2020    112.466283    111.369243     1.097039\n",
      "2        2021    111.232659    109.271676     1.960983\n",
      "3        2022    115.539683    112.931457     2.608225\n"
     ]
    }
   ],
   "source": [
    "result = []\n",
    "for year in seasons:\n",
    "    points_query = f\"\"\"\n",
    "    SELECT \n",
    "        AVG(pts_home) AS avg_pts_home,\n",
    "        AVG(pts_away) AS avg_pts_away\n",
    "    FROM game\n",
    "    WHERE SUBSTR(season_id, -4) = '{year}'\n",
    "    \"\"\"\n",
    "    \n",
    "    points_data = pd.read_sql_query(points_query, con)\n",
    "    \n",
    "    if not points_data.empty:\n",
    "        avg_pts_home = points_data['avg_pts_home'][0]\n",
    "        avg_pts_away = points_data['avg_pts_away'][0]\n",
    "        \n",
    "        points_diff = avg_pts_home - avg_pts_away\n",
    "        \n",
    "        result.append({\n",
    "            'season_year': year,\n",
    "            'avg_pts_home': avg_pts_home,\n",
    "            'avg_pts_away': avg_pts_away,\n",
    "            'points_diff': points_diff\n",
    "        })\n",
    "\n",
    "result_df = pd.DataFrame(result)\n",
    "print(result_df)"
   ]
  },
  {
   "cell_type": "code",
   "execution_count": null,
   "metadata": {},
   "outputs": [
    {
     "data": {
      "text/html": [
       "<div>\n",
       "<style scoped>\n",
       "    .dataframe tbody tr th:only-of-type {\n",
       "        vertical-align: middle;\n",
       "    }\n",
       "\n",
       "    .dataframe tbody tr th {\n",
       "        vertical-align: top;\n",
       "    }\n",
       "\n",
       "    .dataframe thead th {\n",
       "        text-align: right;\n",
       "    }\n",
       "</style>\n",
       "<table border=\"1\" class=\"dataframe\">\n",
       "  <thead>\n",
       "    <tr style=\"text-align: right;\">\n",
       "      <th></th>\n",
       "      <th>team_name_home</th>\n",
       "      <th>AVG(pts_home)</th>\n",
       "      <th>season_id</th>\n",
       "    </tr>\n",
       "  </thead>\n",
       "  <tbody>\n",
       "    <tr>\n",
       "      <th>0</th>\n",
       "      <td>Atlanta Hawks</td>\n",
       "      <td>114.588235</td>\n",
       "      <td>22019</td>\n",
       "    </tr>\n",
       "    <tr>\n",
       "      <th>1</th>\n",
       "      <td>Atlanta Hawks</td>\n",
       "      <td>115.416667</td>\n",
       "      <td>22020</td>\n",
       "    </tr>\n",
       "    <tr>\n",
       "      <th>2</th>\n",
       "      <td>Atlanta Hawks</td>\n",
       "      <td>116.658537</td>\n",
       "      <td>22021</td>\n",
       "    </tr>\n",
       "    <tr>\n",
       "      <th>3</th>\n",
       "      <td>Atlanta Hawks</td>\n",
       "      <td>119.634146</td>\n",
       "      <td>22022</td>\n",
       "    </tr>\n",
       "    <tr>\n",
       "      <th>4</th>\n",
       "      <td>Boston Celtics</td>\n",
       "      <td>116.305556</td>\n",
       "      <td>22019</td>\n",
       "    </tr>\n",
       "    <tr>\n",
       "      <th>...</th>\n",
       "      <td>...</td>\n",
       "      <td>...</td>\n",
       "      <td>...</td>\n",
       "    </tr>\n",
       "    <tr>\n",
       "      <th>115</th>\n",
       "      <td>Utah Jazz</td>\n",
       "      <td>117.951220</td>\n",
       "      <td>22022</td>\n",
       "    </tr>\n",
       "    <tr>\n",
       "      <th>116</th>\n",
       "      <td>Washington Wizards</td>\n",
       "      <td>114.000000</td>\n",
       "      <td>22019</td>\n",
       "    </tr>\n",
       "    <tr>\n",
       "      <th>117</th>\n",
       "      <td>Washington Wizards</td>\n",
       "      <td>119.000000</td>\n",
       "      <td>22020</td>\n",
       "    </tr>\n",
       "    <tr>\n",
       "      <th>118</th>\n",
       "      <td>Washington Wizards</td>\n",
       "      <td>111.902439</td>\n",
       "      <td>22021</td>\n",
       "    </tr>\n",
       "    <tr>\n",
       "      <th>119</th>\n",
       "      <td>Washington Wizards</td>\n",
       "      <td>114.243902</td>\n",
       "      <td>22022</td>\n",
       "    </tr>\n",
       "  </tbody>\n",
       "</table>\n",
       "<p>120 rows × 3 columns</p>\n",
       "</div>"
      ],
      "text/plain": [
       "         team_name_home  AVG(pts_home) season_id\n",
       "0         Atlanta Hawks     114.588235     22019\n",
       "1         Atlanta Hawks     115.416667     22020\n",
       "2         Atlanta Hawks     116.658537     22021\n",
       "3         Atlanta Hawks     119.634146     22022\n",
       "4        Boston Celtics     116.305556     22019\n",
       "..                  ...            ...       ...\n",
       "115           Utah Jazz     117.951220     22022\n",
       "116  Washington Wizards     114.000000     22019\n",
       "117  Washington Wizards     119.000000     22020\n",
       "118  Washington Wizards     111.902439     22021\n",
       "119  Washington Wizards     114.243902     22022\n",
       "\n",
       "[120 rows x 3 columns]"
      ]
     },
     "execution_count": 7,
     "metadata": {},
     "output_type": "execute_result"
    }
   ],
   "source": [
    "covid_pts_home = pd.read_sql_query(\"SELECT team_name_home, AVG(pts_home), season_id FROM game WHERE season_id IN (22022, 22021, 22020, 22019) GROUP BY team_name_home, season_id\", con)\n",
    "covid_pts_home"
   ]
  },
  {
   "cell_type": "code",
   "execution_count": null,
   "metadata": {},
   "outputs": [
    {
     "data": {
      "text/plain": [
       "count     30.000000\n",
       "mean     111.066667\n",
       "std       14.971083\n",
       "min       84.000000\n",
       "25%      100.500000\n",
       "50%      110.500000\n",
       "75%      120.000000\n",
       "max      158.000000\n",
       "Name: pts_home, dtype: float64"
      ]
     },
     "execution_count": 10,
     "metadata": {},
     "output_type": "execute_result"
    }
   ],
   "source": [
    "covid_pts_home_19 = pd.read_sql_query(\"SELECT team_name_home, pts_home, season_id FROM game WHERE season_id IN (22019) GROUP BY team_name_home, season_id\", con)\n",
    "covid_pts_home_19['pts_home'].describe()"
   ]
  },
  {
   "cell_type": "code",
   "execution_count": null,
   "metadata": {},
   "outputs": [
    {
     "data": {
      "text/plain": [
       "count     30.000000\n",
       "mean     111.066667\n",
       "std       12.940003\n",
       "min       73.000000\n",
       "25%      104.500000\n",
       "50%      111.000000\n",
       "75%      120.750000\n",
       "max      138.000000\n",
       "Name: pts_home, dtype: float64"
      ]
     },
     "execution_count": 9,
     "metadata": {},
     "output_type": "execute_result"
    }
   ],
   "source": [
    "covid_pts_home_21 = pd.read_sql_query(\"SELECT team_name_home, pts_home, season_id FROM game WHERE season_id IN (22020) GROUP BY team_name_home, season_id\", con)\n",
    "covid_pts_home_21['pts_home'].describe()"
   ]
  },
  {
   "cell_type": "code",
   "execution_count": null,
   "metadata": {},
   "outputs": [
    {
     "data": {
      "text/html": [
       "<div>\n",
       "<style scoped>\n",
       "    .dataframe tbody tr th:only-of-type {\n",
       "        vertical-align: middle;\n",
       "    }\n",
       "\n",
       "    .dataframe tbody tr th {\n",
       "        vertical-align: top;\n",
       "    }\n",
       "\n",
       "    .dataframe thead th {\n",
       "        text-align: right;\n",
       "    }\n",
       "</style>\n",
       "<table border=\"1\" class=\"dataframe\">\n",
       "  <thead>\n",
       "    <tr style=\"text-align: right;\">\n",
       "      <th></th>\n",
       "      <th>team_name_away</th>\n",
       "      <th>AVG(pts_away)</th>\n",
       "      <th>season_id</th>\n",
       "    </tr>\n",
       "  </thead>\n",
       "  <tbody>\n",
       "    <tr>\n",
       "      <th>0</th>\n",
       "      <td>Atlanta Hawks</td>\n",
       "      <td>108.848485</td>\n",
       "      <td>22019</td>\n",
       "    </tr>\n",
       "    <tr>\n",
       "      <th>1</th>\n",
       "      <td>Atlanta Hawks</td>\n",
       "      <td>111.972222</td>\n",
       "      <td>22020</td>\n",
       "    </tr>\n",
       "    <tr>\n",
       "      <th>2</th>\n",
       "      <td>Atlanta Hawks</td>\n",
       "      <td>111.219512</td>\n",
       "      <td>22021</td>\n",
       "    </tr>\n",
       "    <tr>\n",
       "      <th>3</th>\n",
       "      <td>Atlanta Hawks</td>\n",
       "      <td>117.219512</td>\n",
       "      <td>22022</td>\n",
       "    </tr>\n",
       "    <tr>\n",
       "      <th>4</th>\n",
       "      <td>Boston Celtics</td>\n",
       "      <td>111.000000</td>\n",
       "      <td>22019</td>\n",
       "    </tr>\n",
       "    <tr>\n",
       "      <th>...</th>\n",
       "      <td>...</td>\n",
       "      <td>...</td>\n",
       "      <td>...</td>\n",
       "    </tr>\n",
       "    <tr>\n",
       "      <th>115</th>\n",
       "      <td>Utah Jazz</td>\n",
       "      <td>116.195122</td>\n",
       "      <td>22022</td>\n",
       "    </tr>\n",
       "    <tr>\n",
       "      <th>116</th>\n",
       "      <td>Washington Wizards</td>\n",
       "      <td>114.833333</td>\n",
       "      <td>22019</td>\n",
       "    </tr>\n",
       "    <tr>\n",
       "      <th>117</th>\n",
       "      <td>Washington Wizards</td>\n",
       "      <td>114.277778</td>\n",
       "      <td>22020</td>\n",
       "    </tr>\n",
       "    <tr>\n",
       "      <th>118</th>\n",
       "      <td>Washington Wizards</td>\n",
       "      <td>105.341463</td>\n",
       "      <td>22021</td>\n",
       "    </tr>\n",
       "    <tr>\n",
       "      <th>119</th>\n",
       "      <td>Washington Wizards</td>\n",
       "      <td>112.073171</td>\n",
       "      <td>22022</td>\n",
       "    </tr>\n",
       "  </tbody>\n",
       "</table>\n",
       "<p>120 rows × 3 columns</p>\n",
       "</div>"
      ],
      "text/plain": [
       "         team_name_away  AVG(pts_away) season_id\n",
       "0         Atlanta Hawks     108.848485     22019\n",
       "1         Atlanta Hawks     111.972222     22020\n",
       "2         Atlanta Hawks     111.219512     22021\n",
       "3         Atlanta Hawks     117.219512     22022\n",
       "4        Boston Celtics     111.000000     22019\n",
       "..                  ...            ...       ...\n",
       "115           Utah Jazz     116.195122     22022\n",
       "116  Washington Wizards     114.833333     22019\n",
       "117  Washington Wizards     114.277778     22020\n",
       "118  Washington Wizards     105.341463     22021\n",
       "119  Washington Wizards     112.073171     22022\n",
       "\n",
       "[120 rows x 3 columns]"
      ]
     },
     "execution_count": 79,
     "metadata": {},
     "output_type": "execute_result"
    }
   ],
   "source": [
    "covid_pts_away = pd.read_sql_query(\"SELECT team_name_away, AVG(pts_away), season_id FROM game WHERE season_id IN (22022, 22021, 22020, 22019) GROUP BY team_name_away, season_id\", con)\n",
    "covid_pts_away"
   ]
  },
  {
   "cell_type": "code",
   "execution_count": null,
   "metadata": {},
   "outputs": [
    {
     "data": {
      "text/plain": [
       "count     30.00000\n",
       "mean     111.00000\n",
       "std       17.15246\n",
       "min       85.00000\n",
       "25%       99.00000\n",
       "50%      107.50000\n",
       "75%      122.00000\n",
       "max      159.00000\n",
       "Name: pts_away, dtype: float64"
      ]
     },
     "execution_count": 93,
     "metadata": {},
     "output_type": "execute_result"
    }
   ],
   "source": [
    "covid_pts_away_19 = pd.read_sql_query(\"SELECT team_name_away, pts_away, season_id FROM game WHERE season_id IN (22019) GROUP BY team_name_away, season_id\", con)\n",
    "covid_pts_away_19['pts_away'].describe()"
   ]
  },
  {
   "cell_type": "code",
   "execution_count": null,
   "metadata": {},
   "outputs": [
    {
     "data": {
      "text/plain": [
       "count     30.000000\n",
       "mean     115.266667\n",
       "std        8.893753\n",
       "min       99.000000\n",
       "25%      107.500000\n",
       "50%      115.000000\n",
       "75%      122.500000\n",
       "max      131.000000\n",
       "Name: pts_away, dtype: float64"
      ]
     },
     "execution_count": 6,
     "metadata": {},
     "output_type": "execute_result"
    }
   ],
   "source": [
    "covid_pts_away_21 = pd.read_sql_query(\"SELECT team_name_away, pts_away, season_id FROM game WHERE season_id IN (22020) GROUP BY team_name_away, season_id\", con)\n",
    "covid_pts_away_21['pts_away'].describe()"
   ]
  },
  {
   "cell_type": "markdown",
   "metadata": {},
   "source": [
    "### Question 3: How has the difference in offensive and defensive rebounds between home and away teams changed from 2019-20 to 2022-23?"
   ]
  },
  {
   "cell_type": "code",
   "execution_count": null,
   "metadata": {},
   "outputs": [
    {
     "name": "stdout",
     "output_type": "stream",
     "text": [
      "  season_year  avg_oreb_home  avg_oreb_away  oreb_diff  avg_dreb_home  \\\n",
      "0        2019      10.179353       9.794401   0.384952      35.209974   \n",
      "1        2020       9.896382       9.742599   0.153783      34.866776   \n",
      "2        2021      10.309249      10.236994   0.072254      34.416185   \n",
      "3        2022      10.485570      10.419913   0.065657      33.575758   \n",
      "\n",
      "   avg_dreb_away  dreb_diff  \n",
      "0      34.256343   0.953631  \n",
      "1      34.178454   0.688322  \n",
      "2      33.875000   0.541185  \n",
      "3      32.632756   0.943001  \n"
     ]
    }
   ],
   "source": [
    "result = []\n",
    "for year in seasons:\n",
    "    rebounds_query = f\"\"\"\n",
    "    SELECT \n",
    "        AVG(oreb_home) AS avg_oreb_home,\n",
    "        AVG(oreb_away) AS avg_oreb_away,\n",
    "        AVG(dreb_home) AS avg_dreb_home,\n",
    "        AVG(dreb_away) AS avg_dreb_away\n",
    "    FROM game\n",
    "    WHERE SUBSTR(season_id, -4) = '{year}'\n",
    "    \"\"\"\n",
    "    \n",
    "    rebounds_data = pd.read_sql_query(rebounds_query, con)\n",
    "    \n",
    "    if not rebounds_data.empty:\n",
    "        avg_oreb_home = rebounds_data['avg_oreb_home'][0]\n",
    "        avg_oreb_away = rebounds_data['avg_oreb_away'][0]\n",
    "        avg_dreb_home = rebounds_data['avg_dreb_home'][0]\n",
    "        avg_dreb_away = rebounds_data['avg_dreb_away'][0]\n",
    "        \n",
    "        oreb_diff = avg_oreb_home - avg_oreb_away\n",
    "        dreb_diff = avg_dreb_home - avg_dreb_away\n",
    "        \n",
    "        result.append({\n",
    "            'season_year': year,\n",
    "            'avg_oreb_home': avg_oreb_home,\n",
    "            'avg_oreb_away': avg_oreb_away,\n",
    "            'oreb_diff': oreb_diff,\n",
    "            'avg_dreb_home': avg_dreb_home,\n",
    "            'avg_dreb_away': avg_dreb_away,\n",
    "            'dreb_diff': dreb_diff\n",
    "        })\n",
    "\n",
    "result_df = pd.DataFrame(result)\n",
    "print(result_df)"
   ]
  },
  {
   "cell_type": "code",
   "execution_count": null,
   "metadata": {},
   "outputs": [
    {
     "data": {
      "text/html": [
       "<div>\n",
       "<style scoped>\n",
       "    .dataframe tbody tr th:only-of-type {\n",
       "        vertical-align: middle;\n",
       "    }\n",
       "\n",
       "    .dataframe tbody tr th {\n",
       "        vertical-align: top;\n",
       "    }\n",
       "\n",
       "    .dataframe thead th {\n",
       "        text-align: right;\n",
       "    }\n",
       "</style>\n",
       "<table border=\"1\" class=\"dataframe\">\n",
       "  <thead>\n",
       "    <tr style=\"text-align: right;\">\n",
       "      <th></th>\n",
       "      <th>team_name_home</th>\n",
       "      <th>AVG(oreb_home)</th>\n",
       "      <th>AVG(dreb_home)</th>\n",
       "      <th>season_id</th>\n",
       "    </tr>\n",
       "  </thead>\n",
       "  <tbody>\n",
       "    <tr>\n",
       "      <th>0</th>\n",
       "      <td>Atlanta Hawks</td>\n",
       "      <td>10.205882</td>\n",
       "      <td>34.323529</td>\n",
       "      <td>22019</td>\n",
       "    </tr>\n",
       "    <tr>\n",
       "      <th>1</th>\n",
       "      <td>Atlanta Hawks</td>\n",
       "      <td>10.388889</td>\n",
       "      <td>36.527778</td>\n",
       "      <td>22020</td>\n",
       "    </tr>\n",
       "    <tr>\n",
       "      <th>2</th>\n",
       "      <td>Atlanta Hawks</td>\n",
       "      <td>9.341463</td>\n",
       "      <td>34.268293</td>\n",
       "      <td>22021</td>\n",
       "    </tr>\n",
       "    <tr>\n",
       "      <th>3</th>\n",
       "      <td>Atlanta Hawks</td>\n",
       "      <td>11.536585</td>\n",
       "      <td>34.439024</td>\n",
       "      <td>22022</td>\n",
       "    </tr>\n",
       "    <tr>\n",
       "      <th>4</th>\n",
       "      <td>Boston Celtics</td>\n",
       "      <td>10.138889</td>\n",
       "      <td>35.194444</td>\n",
       "      <td>22019</td>\n",
       "    </tr>\n",
       "    <tr>\n",
       "      <th>...</th>\n",
       "      <td>...</td>\n",
       "      <td>...</td>\n",
       "      <td>...</td>\n",
       "      <td>...</td>\n",
       "    </tr>\n",
       "    <tr>\n",
       "      <th>115</th>\n",
       "      <td>Utah Jazz</td>\n",
       "      <td>12.000000</td>\n",
       "      <td>35.121951</td>\n",
       "      <td>22022</td>\n",
       "    </tr>\n",
       "    <tr>\n",
       "      <th>116</th>\n",
       "      <td>Washington Wizards</td>\n",
       "      <td>10.277778</td>\n",
       "      <td>32.861111</td>\n",
       "      <td>22019</td>\n",
       "    </tr>\n",
       "    <tr>\n",
       "      <th>117</th>\n",
       "      <td>Washington Wizards</td>\n",
       "      <td>9.611111</td>\n",
       "      <td>35.944444</td>\n",
       "      <td>22020</td>\n",
       "    </tr>\n",
       "    <tr>\n",
       "      <th>118</th>\n",
       "      <td>Washington Wizards</td>\n",
       "      <td>9.024390</td>\n",
       "      <td>34.512195</td>\n",
       "      <td>22021</td>\n",
       "    </tr>\n",
       "    <tr>\n",
       "      <th>119</th>\n",
       "      <td>Washington Wizards</td>\n",
       "      <td>9.317073</td>\n",
       "      <td>34.829268</td>\n",
       "      <td>22022</td>\n",
       "    </tr>\n",
       "  </tbody>\n",
       "</table>\n",
       "<p>120 rows × 4 columns</p>\n",
       "</div>"
      ],
      "text/plain": [
       "         team_name_home  AVG(oreb_home)  AVG(dreb_home) season_id\n",
       "0         Atlanta Hawks       10.205882       34.323529     22019\n",
       "1         Atlanta Hawks       10.388889       36.527778     22020\n",
       "2         Atlanta Hawks        9.341463       34.268293     22021\n",
       "3         Atlanta Hawks       11.536585       34.439024     22022\n",
       "4        Boston Celtics       10.138889       35.194444     22019\n",
       "..                  ...             ...             ...       ...\n",
       "115           Utah Jazz       12.000000       35.121951     22022\n",
       "116  Washington Wizards       10.277778       32.861111     22019\n",
       "117  Washington Wizards        9.611111       35.944444     22020\n",
       "118  Washington Wizards        9.024390       34.512195     22021\n",
       "119  Washington Wizards        9.317073       34.829268     22022\n",
       "\n",
       "[120 rows x 4 columns]"
      ]
     },
     "execution_count": 77,
     "metadata": {},
     "output_type": "execute_result"
    }
   ],
   "source": [
    "covid_reb_home = pd.read_sql_query(\"SELECT team_name_home, AVG(oreb_home), AVG(dreb_home), season_id FROM game WHERE season_id IN (22022, 22021, 22020, 22019) GROUP BY team_name_home, season_id\", con)\n",
    "covid_reb_home"
   ]
  },
  {
   "cell_type": "code",
   "execution_count": null,
   "metadata": {},
   "outputs": [
    {
     "data": {
      "text/plain": [
       "count    30.000000\n",
       "mean     11.133333\n",
       "std       3.401149\n",
       "min       5.000000\n",
       "25%       9.000000\n",
       "50%      11.000000\n",
       "75%      12.750000\n",
       "max      21.000000\n",
       "Name: oreb_home, dtype: float64"
      ]
     },
     "execution_count": 4,
     "metadata": {},
     "output_type": "execute_result"
    }
   ],
   "source": [
    "covid_reb_home = pd.read_sql_query(\"SELECT team_name_home, oreb_home, dreb_home, season_id FROM game WHERE season_id IN (22019) GROUP BY team_name_home, season_id\", con)\n",
    "covid_reb_home['oreb_home'].describe()"
   ]
  },
  {
   "cell_type": "code",
   "execution_count": null,
   "metadata": {},
   "outputs": [
    {
     "data": {
      "text/plain": [
       "count    30.000000\n",
       "mean      9.700000\n",
       "std       3.602202\n",
       "min       3.000000\n",
       "25%       7.000000\n",
       "50%      10.000000\n",
       "75%      12.750000\n",
       "max      19.000000\n",
       "Name: oreb_home, dtype: float64"
      ]
     },
     "execution_count": 7,
     "metadata": {},
     "output_type": "execute_result"
    }
   ],
   "source": [
    "covid_reb_home = pd.read_sql_query(\"SELECT team_name_home, oreb_home, dreb_home, season_id FROM game WHERE season_id IN (22020) GROUP BY team_name_home, season_id\", con)\n",
    "covid_reb_home['oreb_home'].describe()"
   ]
  },
  {
   "cell_type": "code",
   "execution_count": null,
   "metadata": {},
   "outputs": [
    {
     "data": {
      "text/plain": [
       "count    30.000000\n",
       "mean     36.533333\n",
       "std       5.763939\n",
       "min      26.000000\n",
       "25%      32.000000\n",
       "50%      36.500000\n",
       "75%      41.000000\n",
       "max      50.000000\n",
       "Name: dreb_home, dtype: float64"
      ]
     },
     "execution_count": 5,
     "metadata": {},
     "output_type": "execute_result"
    }
   ],
   "source": [
    "covid_reb_home = pd.read_sql_query(\"SELECT team_name_home, oreb_home, dreb_home, season_id FROM game WHERE season_id IN (22019) GROUP BY team_name_home, season_id\", con)\n",
    "covid_reb_home['dreb_home'].describe()"
   ]
  },
  {
   "cell_type": "code",
   "execution_count": null,
   "metadata": {},
   "outputs": [
    {
     "data": {
      "text/plain": [
       "count    30.000000\n",
       "mean     36.166667\n",
       "std       5.866817\n",
       "min      26.000000\n",
       "25%      31.000000\n",
       "50%      36.500000\n",
       "75%      40.000000\n",
       "max      49.000000\n",
       "Name: dreb_home, dtype: float64"
      ]
     },
     "execution_count": 11,
     "metadata": {},
     "output_type": "execute_result"
    }
   ],
   "source": [
    "covid_reb_home = pd.read_sql_query(\"SELECT team_name_home, oreb_home, dreb_home, season_id FROM game WHERE season_id IN (22020) GROUP BY team_name_home, season_id\", con)\n",
    "covid_reb_home['dreb_home'].describe()"
   ]
  },
  {
   "cell_type": "code",
   "execution_count": null,
   "metadata": {},
   "outputs": [
    {
     "data": {
      "text/html": [
       "<div>\n",
       "<style scoped>\n",
       "    .dataframe tbody tr th:only-of-type {\n",
       "        vertical-align: middle;\n",
       "    }\n",
       "\n",
       "    .dataframe tbody tr th {\n",
       "        vertical-align: top;\n",
       "    }\n",
       "\n",
       "    .dataframe thead th {\n",
       "        text-align: right;\n",
       "    }\n",
       "</style>\n",
       "<table border=\"1\" class=\"dataframe\">\n",
       "  <thead>\n",
       "    <tr style=\"text-align: right;\">\n",
       "      <th></th>\n",
       "      <th>team_name_away</th>\n",
       "      <th>AVG(oreb_away)</th>\n",
       "      <th>AVG(dreb_away)</th>\n",
       "      <th>season_id</th>\n",
       "    </tr>\n",
       "  </thead>\n",
       "  <tbody>\n",
       "    <tr>\n",
       "      <th>0</th>\n",
       "      <td>Atlanta Hawks</td>\n",
       "      <td>9.515152</td>\n",
       "      <td>32.424242</td>\n",
       "      <td>22019</td>\n",
       "    </tr>\n",
       "    <tr>\n",
       "      <th>1</th>\n",
       "      <td>Atlanta Hawks</td>\n",
       "      <td>10.722222</td>\n",
       "      <td>33.611111</td>\n",
       "      <td>22020</td>\n",
       "    </tr>\n",
       "    <tr>\n",
       "      <th>2</th>\n",
       "      <td>Atlanta Hawks</td>\n",
       "      <td>10.731707</td>\n",
       "      <td>33.609756</td>\n",
       "      <td>22021</td>\n",
       "    </tr>\n",
       "    <tr>\n",
       "      <th>3</th>\n",
       "      <td>Atlanta Hawks</td>\n",
       "      <td>10.902439</td>\n",
       "      <td>31.878049</td>\n",
       "      <td>22022</td>\n",
       "    </tr>\n",
       "    <tr>\n",
       "      <th>4</th>\n",
       "      <td>Boston Celtics</td>\n",
       "      <td>11.194444</td>\n",
       "      <td>35.611111</td>\n",
       "      <td>22019</td>\n",
       "    </tr>\n",
       "    <tr>\n",
       "      <th>...</th>\n",
       "      <td>...</td>\n",
       "      <td>...</td>\n",
       "      <td>...</td>\n",
       "      <td>...</td>\n",
       "    </tr>\n",
       "    <tr>\n",
       "      <th>115</th>\n",
       "      <td>Utah Jazz</td>\n",
       "      <td>11.609756</td>\n",
       "      <td>33.024390</td>\n",
       "      <td>22022</td>\n",
       "    </tr>\n",
       "    <tr>\n",
       "      <th>116</th>\n",
       "      <td>Washington Wizards</td>\n",
       "      <td>10.055556</td>\n",
       "      <td>30.888889</td>\n",
       "      <td>22019</td>\n",
       "    </tr>\n",
       "    <tr>\n",
       "      <th>117</th>\n",
       "      <td>Washington Wizards</td>\n",
       "      <td>9.750000</td>\n",
       "      <td>35.083333</td>\n",
       "      <td>22020</td>\n",
       "    </tr>\n",
       "    <tr>\n",
       "      <th>118</th>\n",
       "      <td>Washington Wizards</td>\n",
       "      <td>8.951220</td>\n",
       "      <td>33.731707</td>\n",
       "      <td>22021</td>\n",
       "    </tr>\n",
       "    <tr>\n",
       "      <th>119</th>\n",
       "      <td>Washington Wizards</td>\n",
       "      <td>9.560976</td>\n",
       "      <td>33.560976</td>\n",
       "      <td>22022</td>\n",
       "    </tr>\n",
       "  </tbody>\n",
       "</table>\n",
       "<p>120 rows × 4 columns</p>\n",
       "</div>"
      ],
      "text/plain": [
       "         team_name_away  AVG(oreb_away)  AVG(dreb_away) season_id\n",
       "0         Atlanta Hawks        9.515152       32.424242     22019\n",
       "1         Atlanta Hawks       10.722222       33.611111     22020\n",
       "2         Atlanta Hawks       10.731707       33.609756     22021\n",
       "3         Atlanta Hawks       10.902439       31.878049     22022\n",
       "4        Boston Celtics       11.194444       35.611111     22019\n",
       "..                  ...             ...             ...       ...\n",
       "115           Utah Jazz       11.609756       33.024390     22022\n",
       "116  Washington Wizards       10.055556       30.888889     22019\n",
       "117  Washington Wizards        9.750000       35.083333     22020\n",
       "118  Washington Wizards        8.951220       33.731707     22021\n",
       "119  Washington Wizards        9.560976       33.560976     22022\n",
       "\n",
       "[120 rows x 4 columns]"
      ]
     },
     "execution_count": 96,
     "metadata": {},
     "output_type": "execute_result"
    }
   ],
   "source": [
    "covid_reb_away = pd.read_sql_query(\"SELECT team_name_away, AVG(oreb_away), AVG(dreb_away), season_id FROM game WHERE season_id IN (22022, 22021, 22020, 22019) GROUP BY team_name_away, season_id\", con)\n",
    "covid_reb_away"
   ]
  },
  {
   "cell_type": "code",
   "execution_count": null,
   "metadata": {},
   "outputs": [
    {
     "data": {
      "text/plain": [
       "count    30.000000\n",
       "mean      9.833333\n",
       "std       4.291799\n",
       "min       3.000000\n",
       "25%       6.250000\n",
       "50%      10.000000\n",
       "75%      12.000000\n",
       "max      20.000000\n",
       "Name: oreb_away, dtype: float64"
      ]
     },
     "execution_count": 13,
     "metadata": {},
     "output_type": "execute_result"
    }
   ],
   "source": [
    "covid_reb_away = pd.read_sql_query(\"SELECT team_name_away, oreb_away, dreb_away, season_id FROM game WHERE season_id IN (22019) GROUP BY team_name_away, season_id\", con)\n",
    "covid_reb_away['oreb_away'].describe()"
   ]
  },
  {
   "cell_type": "code",
   "execution_count": null,
   "metadata": {},
   "outputs": [
    {
     "data": {
      "text/plain": [
       "count    30.000000\n",
       "mean      9.133333\n",
       "std       3.115405\n",
       "min       5.000000\n",
       "25%       7.000000\n",
       "50%       8.500000\n",
       "75%      11.000000\n",
       "max      18.000000\n",
       "Name: oreb_away, dtype: float64"
      ]
     },
     "execution_count": 14,
     "metadata": {},
     "output_type": "execute_result"
    }
   ],
   "source": [
    "covid_reb_away = pd.read_sql_query(\"SELECT team_name_away, oreb_away, dreb_away, season_id FROM game WHERE season_id IN (22020) GROUP BY team_name_away, season_id\", con)\n",
    "covid_reb_away['oreb_away'].describe()"
   ]
  },
  {
   "cell_type": "code",
   "execution_count": null,
   "metadata": {},
   "outputs": [
    {
     "data": {
      "text/plain": [
       "count    30.000000\n",
       "mean     35.766667\n",
       "std       5.624352\n",
       "min      25.000000\n",
       "25%      32.000000\n",
       "50%      35.000000\n",
       "75%      40.000000\n",
       "max      47.000000\n",
       "Name: dreb_away, dtype: float64"
      ]
     },
     "execution_count": 15,
     "metadata": {},
     "output_type": "execute_result"
    }
   ],
   "source": [
    "covid_reb_away = pd.read_sql_query(\"SELECT team_name_away, oreb_away, dreb_away, season_id FROM game WHERE season_id IN (22019) GROUP BY team_name_away, season_id\", con)\n",
    "covid_reb_away['dreb_away'].describe()"
   ]
  },
  {
   "cell_type": "code",
   "execution_count": null,
   "metadata": {},
   "outputs": [
    {
     "data": {
      "text/plain": [
       "count    30.000000\n",
       "mean     36.166667\n",
       "std       5.180090\n",
       "min      24.000000\n",
       "25%      33.250000\n",
       "50%      36.000000\n",
       "75%      40.000000\n",
       "max      47.000000\n",
       "Name: dreb_away, dtype: float64"
      ]
     },
     "execution_count": 16,
     "metadata": {},
     "output_type": "execute_result"
    }
   ],
   "source": [
    "covid_reb_away = pd.read_sql_query(\"SELECT team_name_away, oreb_away, dreb_away, season_id FROM game WHERE season_id IN (22020) GROUP BY team_name_away, season_id\", con)\n",
    "covid_reb_away['dreb_away'].describe()"
   ]
  },
  {
   "cell_type": "markdown",
   "metadata": {},
   "source": [
    "### Question 4: How does the average number of three-point field goals made by home teams compare to that of away teams from the 2019-20 season to the 2022-23 season?"
   ]
  },
  {
   "cell_type": "code",
   "execution_count": null,
   "metadata": {},
   "outputs": [
    {
     "name": "stdout",
     "output_type": "stream",
     "text": [
      "  season_year  avg_fg3_pct_home  avg_fg3_pct_away\n",
      "0        2019          0.361411          0.353990\n",
      "1        2020          0.367235          0.362348\n",
      "2        2021          0.354915          0.350280\n",
      "3        2022          0.362962          0.351737\n"
     ]
    }
   ],
   "source": [
    "result = []\n",
    "for year in seasons:\n",
    "    fg3_query = f\"\"\"\n",
    "    SELECT \n",
    "        AVG(fg3_pct_home) AS avg_fg3_pct_home,\n",
    "        AVG(fg3_pct_away) AS avg_fg3_pct_away\n",
    "    FROM game\n",
    "    WHERE SUBSTR(season_id, -4) = '{year}'\n",
    "    \"\"\"\n",
    "    \n",
    "    fg3_data = pd.read_sql_query(fg3_query, con)\n",
    "    \n",
    "    if not fg3_data.empty:\n",
    "        avg_fg3_pct_home = fg3_data['avg_fg3_pct_home'][0]\n",
    "        avg_fg3_pct_away = fg3_data['avg_fg3_pct_away'][0]\n",
    "        \n",
    "        result.append({\n",
    "            'season_year': year,\n",
    "            'avg_fg3_pct_home': avg_fg3_pct_home,\n",
    "            'avg_fg3_pct_away': avg_fg3_pct_away\n",
    "        })\n",
    "\n",
    "result_df = pd.DataFrame(result)\n",
    "print(result_df)"
   ]
  },
  {
   "cell_type": "code",
   "execution_count": null,
   "metadata": {},
   "outputs": [
    {
     "data": {
      "text/html": [
       "<div>\n",
       "<style scoped>\n",
       "    .dataframe tbody tr th:only-of-type {\n",
       "        vertical-align: middle;\n",
       "    }\n",
       "\n",
       "    .dataframe tbody tr th {\n",
       "        vertical-align: top;\n",
       "    }\n",
       "\n",
       "    .dataframe thead th {\n",
       "        text-align: right;\n",
       "    }\n",
       "</style>\n",
       "<table border=\"1\" class=\"dataframe\">\n",
       "  <thead>\n",
       "    <tr style=\"text-align: right;\">\n",
       "      <th></th>\n",
       "      <th>team_name_home</th>\n",
       "      <th>AVG(fg3_pct_home)</th>\n",
       "      <th>season_id</th>\n",
       "    </tr>\n",
       "  </thead>\n",
       "  <tbody>\n",
       "    <tr>\n",
       "      <th>0</th>\n",
       "      <td>Atlanta Hawks</td>\n",
       "      <td>0.344735</td>\n",
       "      <td>22019</td>\n",
       "    </tr>\n",
       "    <tr>\n",
       "      <th>1</th>\n",
       "      <td>Atlanta Hawks</td>\n",
       "      <td>0.381444</td>\n",
       "      <td>22020</td>\n",
       "    </tr>\n",
       "    <tr>\n",
       "      <th>2</th>\n",
       "      <td>Atlanta Hawks</td>\n",
       "      <td>0.380049</td>\n",
       "      <td>22021</td>\n",
       "    </tr>\n",
       "    <tr>\n",
       "      <th>3</th>\n",
       "      <td>Atlanta Hawks</td>\n",
       "      <td>0.347439</td>\n",
       "      <td>22022</td>\n",
       "    </tr>\n",
       "    <tr>\n",
       "      <th>4</th>\n",
       "      <td>Boston Celtics</td>\n",
       "      <td>0.378417</td>\n",
       "      <td>22019</td>\n",
       "    </tr>\n",
       "    <tr>\n",
       "      <th>...</th>\n",
       "      <td>...</td>\n",
       "      <td>...</td>\n",
       "      <td>...</td>\n",
       "    </tr>\n",
       "    <tr>\n",
       "      <th>115</th>\n",
       "      <td>Utah Jazz</td>\n",
       "      <td>0.363171</td>\n",
       "      <td>22022</td>\n",
       "    </tr>\n",
       "    <tr>\n",
       "      <th>116</th>\n",
       "      <td>Washington Wizards</td>\n",
       "      <td>0.371778</td>\n",
       "      <td>22019</td>\n",
       "    </tr>\n",
       "    <tr>\n",
       "      <th>117</th>\n",
       "      <td>Washington Wizards</td>\n",
       "      <td>0.346611</td>\n",
       "      <td>22020</td>\n",
       "    </tr>\n",
       "    <tr>\n",
       "      <th>118</th>\n",
       "      <td>Washington Wizards</td>\n",
       "      <td>0.341512</td>\n",
       "      <td>22021</td>\n",
       "    </tr>\n",
       "    <tr>\n",
       "      <th>119</th>\n",
       "      <td>Washington Wizards</td>\n",
       "      <td>0.370707</td>\n",
       "      <td>22022</td>\n",
       "    </tr>\n",
       "  </tbody>\n",
       "</table>\n",
       "<p>120 rows × 3 columns</p>\n",
       "</div>"
      ],
      "text/plain": [
       "         team_name_home  AVG(fg3_pct_home) season_id\n",
       "0         Atlanta Hawks           0.344735     22019\n",
       "1         Atlanta Hawks           0.381444     22020\n",
       "2         Atlanta Hawks           0.380049     22021\n",
       "3         Atlanta Hawks           0.347439     22022\n",
       "4        Boston Celtics           0.378417     22019\n",
       "..                  ...                ...       ...\n",
       "115           Utah Jazz           0.363171     22022\n",
       "116  Washington Wizards           0.371778     22019\n",
       "117  Washington Wizards           0.346611     22020\n",
       "118  Washington Wizards           0.341512     22021\n",
       "119  Washington Wizards           0.370707     22022\n",
       "\n",
       "[120 rows x 3 columns]"
      ]
     },
     "execution_count": 18,
     "metadata": {},
     "output_type": "execute_result"
    }
   ],
   "source": [
    "covid_fg3_home = pd.read_sql_query(\"SELECT team_name_home, AVG(fg3_pct_home), season_id FROM game WHERE season_id IN (22022, 22021, 22020, 22019) GROUP BY team_name_home, season_id\", con)\n",
    "covid_fg3_home"
   ]
  },
  {
   "cell_type": "code",
   "execution_count": null,
   "metadata": {},
   "outputs": [
    {
     "data": {
      "text/plain": [
       "count    30.000000\n",
       "mean      0.332833\n",
       "std       0.077337\n",
       "min       0.217000\n",
       "25%       0.274750\n",
       "50%       0.333000\n",
       "75%       0.356500\n",
       "max       0.556000\n",
       "Name: fg3_pct_home, dtype: float64"
      ]
     },
     "execution_count": 19,
     "metadata": {},
     "output_type": "execute_result"
    }
   ],
   "source": [
    "covid_fg3_home = pd.read_sql_query(\"SELECT team_name_home, fg3_pct_home, season_id FROM game WHERE season_id IN (22019) GROUP BY team_name_home, season_id\", con)\n",
    "covid_fg3_home['fg3_pct_home'].describe()"
   ]
  },
  {
   "cell_type": "code",
   "execution_count": null,
   "metadata": {},
   "outputs": [
    {
     "data": {
      "text/plain": [
       "count    30.00000\n",
       "mean      0.33530\n",
       "std       0.09684\n",
       "min       0.12100\n",
       "25%       0.27600\n",
       "50%       0.35350\n",
       "75%       0.40325\n",
       "max       0.55600\n",
       "Name: fg3_pct_home, dtype: float64"
      ]
     },
     "execution_count": 20,
     "metadata": {},
     "output_type": "execute_result"
    }
   ],
   "source": [
    "covid_fg3_home = pd.read_sql_query(\"SELECT team_name_home, fg3_pct_home, season_id FROM game WHERE season_id IN (22020) GROUP BY team_name_home, season_id\", con)\n",
    "covid_fg3_home['fg3_pct_home'].describe()"
   ]
  },
  {
   "cell_type": "code",
   "execution_count": null,
   "metadata": {},
   "outputs": [
    {
     "data": {
      "text/html": [
       "<div>\n",
       "<style scoped>\n",
       "    .dataframe tbody tr th:only-of-type {\n",
       "        vertical-align: middle;\n",
       "    }\n",
       "\n",
       "    .dataframe tbody tr th {\n",
       "        vertical-align: top;\n",
       "    }\n",
       "\n",
       "    .dataframe thead th {\n",
       "        text-align: right;\n",
       "    }\n",
       "</style>\n",
       "<table border=\"1\" class=\"dataframe\">\n",
       "  <thead>\n",
       "    <tr style=\"text-align: right;\">\n",
       "      <th></th>\n",
       "      <th>team_name_away</th>\n",
       "      <th>AVG(fg3_pct_away)</th>\n",
       "      <th>season_id</th>\n",
       "    </tr>\n",
       "  </thead>\n",
       "  <tbody>\n",
       "    <tr>\n",
       "      <th>0</th>\n",
       "      <td>Atlanta Hawks</td>\n",
       "      <td>0.319788</td>\n",
       "      <td>22019</td>\n",
       "    </tr>\n",
       "    <tr>\n",
       "      <th>1</th>\n",
       "      <td>Atlanta Hawks</td>\n",
       "      <td>0.358944</td>\n",
       "      <td>22020</td>\n",
       "    </tr>\n",
       "    <tr>\n",
       "      <th>2</th>\n",
       "      <td>Atlanta Hawks</td>\n",
       "      <td>0.363439</td>\n",
       "      <td>22021</td>\n",
       "    </tr>\n",
       "    <tr>\n",
       "      <th>3</th>\n",
       "      <td>Atlanta Hawks</td>\n",
       "      <td>0.359341</td>\n",
       "      <td>22022</td>\n",
       "    </tr>\n",
       "    <tr>\n",
       "      <th>4</th>\n",
       "      <td>Boston Celtics</td>\n",
       "      <td>0.353278</td>\n",
       "      <td>22019</td>\n",
       "    </tr>\n",
       "    <tr>\n",
       "      <th>...</th>\n",
       "      <td>...</td>\n",
       "      <td>...</td>\n",
       "      <td>...</td>\n",
       "    </tr>\n",
       "    <tr>\n",
       "      <th>115</th>\n",
       "      <td>Utah Jazz</td>\n",
       "      <td>0.340805</td>\n",
       "      <td>22022</td>\n",
       "    </tr>\n",
       "    <tr>\n",
       "      <th>116</th>\n",
       "      <td>Washington Wizards</td>\n",
       "      <td>0.365111</td>\n",
       "      <td>22019</td>\n",
       "    </tr>\n",
       "    <tr>\n",
       "      <th>117</th>\n",
       "      <td>Washington Wizards</td>\n",
       "      <td>0.359667</td>\n",
       "      <td>22020</td>\n",
       "    </tr>\n",
       "    <tr>\n",
       "      <th>118</th>\n",
       "      <td>Washington Wizards</td>\n",
       "      <td>0.344366</td>\n",
       "      <td>22021</td>\n",
       "    </tr>\n",
       "    <tr>\n",
       "      <th>119</th>\n",
       "      <td>Washington Wizards</td>\n",
       "      <td>0.337756</td>\n",
       "      <td>22022</td>\n",
       "    </tr>\n",
       "  </tbody>\n",
       "</table>\n",
       "<p>120 rows × 3 columns</p>\n",
       "</div>"
      ],
      "text/plain": [
       "         team_name_away  AVG(fg3_pct_away) season_id\n",
       "0         Atlanta Hawks           0.319788     22019\n",
       "1         Atlanta Hawks           0.358944     22020\n",
       "2         Atlanta Hawks           0.363439     22021\n",
       "3         Atlanta Hawks           0.359341     22022\n",
       "4        Boston Celtics           0.353278     22019\n",
       "..                  ...                ...       ...\n",
       "115           Utah Jazz           0.340805     22022\n",
       "116  Washington Wizards           0.365111     22019\n",
       "117  Washington Wizards           0.359667     22020\n",
       "118  Washington Wizards           0.344366     22021\n",
       "119  Washington Wizards           0.337756     22022\n",
       "\n",
       "[120 rows x 3 columns]"
      ]
     },
     "execution_count": 22,
     "metadata": {},
     "output_type": "execute_result"
    }
   ],
   "source": [
    "covid_fg3_away = pd.read_sql_query(\"SELECT team_name_away, AVG(fg3_pct_away), season_id FROM game WHERE season_id IN (22022, 22021, 22020, 22019) GROUP BY team_name_away, season_id\", con)\n",
    "covid_fg3_away"
   ]
  },
  {
   "cell_type": "code",
   "execution_count": null,
   "metadata": {},
   "outputs": [
    {
     "data": {
      "text/plain": [
       "count    30.000000\n",
       "mean      0.344267\n",
       "std       0.099422\n",
       "min       0.152000\n",
       "25%       0.289500\n",
       "50%       0.346500\n",
       "75%       0.379000\n",
       "max       0.563000\n",
       "Name: fg3_pct_away, dtype: float64"
      ]
     },
     "execution_count": 23,
     "metadata": {},
     "output_type": "execute_result"
    }
   ],
   "source": [
    "covid_fg3_away = pd.read_sql_query(\"SELECT team_name_away, fg3_pct_away, season_id FROM game WHERE season_id IN (22019) GROUP BY team_name_away, season_id\", con)\n",
    "covid_fg3_away['fg3_pct_away'].describe()"
   ]
  },
  {
   "cell_type": "code",
   "execution_count": null,
   "metadata": {},
   "outputs": [
    {
     "data": {
      "text/plain": [
       "count    30.000000\n",
       "mean      0.373267\n",
       "std       0.074224\n",
       "min       0.229000\n",
       "25%       0.345250\n",
       "50%       0.365000\n",
       "75%       0.412750\n",
       "max       0.538000\n",
       "Name: fg3_pct_away, dtype: float64"
      ]
     },
     "execution_count": 24,
     "metadata": {},
     "output_type": "execute_result"
    }
   ],
   "source": [
    "covid_fg3_away = pd.read_sql_query(\"SELECT team_name_away, fg3_pct_away, season_id FROM game WHERE season_id IN (22020) GROUP BY team_name_away, season_id\", con)\n",
    "covid_fg3_away['fg3_pct_away'].describe()"
   ]
  },
  {
   "cell_type": "markdown",
   "metadata": {},
   "source": [
    "### Question 5: How does the free throw percentage of home teams compare to that of away teams from the 2019-20 season to the 2022-23 season?\n"
   ]
  },
  {
   "cell_type": "code",
   "execution_count": null,
   "metadata": {},
   "outputs": [
    {
     "name": "stdout",
     "output_type": "stream",
     "text": [
      "  season_year  avg_ft_pct_home  avg_ft_pct_away\n",
      "0        2019         0.771852         0.772411\n",
      "1        2020         0.779016         0.775290\n",
      "2        2021         0.775135         0.775920\n",
      "3        2022         0.782598         0.780615\n"
     ]
    }
   ],
   "source": [
    "result = []\n",
    "for year in seasons:\n",
    "    ft_query = f\"\"\"\n",
    "    SELECT \n",
    "        AVG(ft_pct_home) AS avg_ft_pct_home,\n",
    "        AVG(ft_pct_away) AS avg_ft_pct_away\n",
    "    FROM game\n",
    "    WHERE SUBSTR(season_id, -4) = '{year}'\n",
    "    \"\"\"\n",
    "    \n",
    "    ft_data = pd.read_sql_query(ft_query, con)\n",
    "    \n",
    "    if not ft_data.empty:\n",
    "        avg_ft_pct_home = ft_data['avg_ft_pct_home'][0]\n",
    "        avg_ft_pct_away = ft_data['avg_ft_pct_away'][0]\n",
    "        \n",
    "        result.append({\n",
    "            'season_year': year,\n",
    "            'avg_ft_pct_home': avg_ft_pct_home,\n",
    "            'avg_ft_pct_away': avg_ft_pct_away\n",
    "        })\n",
    "\n",
    "result_df = pd.DataFrame(result)\n",
    "print(result_df)"
   ]
  },
  {
   "cell_type": "code",
   "execution_count": null,
   "metadata": {},
   "outputs": [
    {
     "data": {
      "text/html": [
       "<div>\n",
       "<style scoped>\n",
       "    .dataframe tbody tr th:only-of-type {\n",
       "        vertical-align: middle;\n",
       "    }\n",
       "\n",
       "    .dataframe tbody tr th {\n",
       "        vertical-align: top;\n",
       "    }\n",
       "\n",
       "    .dataframe thead th {\n",
       "        text-align: right;\n",
       "    }\n",
       "</style>\n",
       "<table border=\"1\" class=\"dataframe\">\n",
       "  <thead>\n",
       "    <tr style=\"text-align: right;\">\n",
       "      <th></th>\n",
       "      <th>team_name_home</th>\n",
       "      <th>AVG(fg_pct_home)</th>\n",
       "      <th>season_id</th>\n",
       "    </tr>\n",
       "  </thead>\n",
       "  <tbody>\n",
       "    <tr>\n",
       "      <th>0</th>\n",
       "      <td>Atlanta Hawks</td>\n",
       "      <td>0.459618</td>\n",
       "      <td>22019</td>\n",
       "    </tr>\n",
       "    <tr>\n",
       "      <th>1</th>\n",
       "      <td>Atlanta Hawks</td>\n",
       "      <td>0.477889</td>\n",
       "      <td>22020</td>\n",
       "    </tr>\n",
       "    <tr>\n",
       "      <th>2</th>\n",
       "      <td>Atlanta Hawks</td>\n",
       "      <td>0.482902</td>\n",
       "      <td>22021</td>\n",
       "    </tr>\n",
       "    <tr>\n",
       "      <th>3</th>\n",
       "      <td>Atlanta Hawks</td>\n",
       "      <td>0.482561</td>\n",
       "      <td>22022</td>\n",
       "    </tr>\n",
       "    <tr>\n",
       "      <th>4</th>\n",
       "      <td>Boston Celtics</td>\n",
       "      <td>0.469833</td>\n",
       "      <td>22019</td>\n",
       "    </tr>\n",
       "    <tr>\n",
       "      <th>...</th>\n",
       "      <td>...</td>\n",
       "      <td>...</td>\n",
       "      <td>...</td>\n",
       "    </tr>\n",
       "    <tr>\n",
       "      <th>115</th>\n",
       "      <td>Utah Jazz</td>\n",
       "      <td>0.471341</td>\n",
       "      <td>22022</td>\n",
       "    </tr>\n",
       "    <tr>\n",
       "      <th>116</th>\n",
       "      <td>Washington Wizards</td>\n",
       "      <td>0.457583</td>\n",
       "      <td>22019</td>\n",
       "    </tr>\n",
       "    <tr>\n",
       "      <th>117</th>\n",
       "      <td>Washington Wizards</td>\n",
       "      <td>0.481972</td>\n",
       "      <td>22020</td>\n",
       "    </tr>\n",
       "    <tr>\n",
       "      <th>118</th>\n",
       "      <td>Washington Wizards</td>\n",
       "      <td>0.479000</td>\n",
       "      <td>22021</td>\n",
       "    </tr>\n",
       "    <tr>\n",
       "      <th>119</th>\n",
       "      <td>Washington Wizards</td>\n",
       "      <td>0.486415</td>\n",
       "      <td>22022</td>\n",
       "    </tr>\n",
       "  </tbody>\n",
       "</table>\n",
       "<p>120 rows × 3 columns</p>\n",
       "</div>"
      ],
      "text/plain": [
       "         team_name_home  AVG(fg_pct_home) season_id\n",
       "0         Atlanta Hawks          0.459618     22019\n",
       "1         Atlanta Hawks          0.477889     22020\n",
       "2         Atlanta Hawks          0.482902     22021\n",
       "3         Atlanta Hawks          0.482561     22022\n",
       "4        Boston Celtics          0.469833     22019\n",
       "..                  ...               ...       ...\n",
       "115           Utah Jazz          0.471341     22022\n",
       "116  Washington Wizards          0.457583     22019\n",
       "117  Washington Wizards          0.481972     22020\n",
       "118  Washington Wizards          0.479000     22021\n",
       "119  Washington Wizards          0.486415     22022\n",
       "\n",
       "[120 rows x 3 columns]"
      ]
     },
     "execution_count": 30,
     "metadata": {},
     "output_type": "execute_result"
    }
   ],
   "source": [
    "covid_fg_home = pd.read_sql_query(\"SELECT team_name_home, AVG(fg_pct_home), season_id FROM game WHERE season_id IN (22022, 22021, 22020, 22019) GROUP BY team_name_home, season_id\", con)\n",
    "covid_fg_home"
   ]
  },
  {
   "cell_type": "code",
   "execution_count": null,
   "metadata": {},
   "outputs": [
    {
     "data": {
      "text/plain": [
       "count    30.000000\n",
       "mean      0.441867\n",
       "std       0.061571\n",
       "min       0.299000\n",
       "25%       0.400500\n",
       "50%       0.432500\n",
       "75%       0.474000\n",
       "max       0.626000\n",
       "Name: fg_pct_home, dtype: float64"
      ]
     },
     "execution_count": 26,
     "metadata": {},
     "output_type": "execute_result"
    }
   ],
   "source": [
    "covid_fg_home = pd.read_sql_query(\"SELECT team_name_home, fg_pct_home, season_id FROM game WHERE season_id IN (22019) GROUP BY team_name_home, season_id\", con)\n",
    "covid_fg_home['fg_pct_home'].describe()"
   ]
  },
  {
   "cell_type": "code",
   "execution_count": null,
   "metadata": {},
   "outputs": [
    {
     "data": {
      "text/plain": [
       "count    30.000000\n",
       "mean      0.451600\n",
       "std       0.052411\n",
       "min       0.342000\n",
       "25%       0.403500\n",
       "50%       0.467000\n",
       "75%       0.483250\n",
       "max       0.556000\n",
       "Name: fg_pct_home, dtype: float64"
      ]
     },
     "execution_count": 27,
     "metadata": {},
     "output_type": "execute_result"
    }
   ],
   "source": [
    "covid_fg_home = pd.read_sql_query(\"SELECT team_name_home, fg_pct_home, season_id FROM game WHERE season_id IN (22020) GROUP BY team_name_home, season_id\", con)\n",
    "covid_fg_home['fg_pct_home'].describe()"
   ]
  },
  {
   "cell_type": "code",
   "execution_count": null,
   "metadata": {},
   "outputs": [
    {
     "data": {
      "text/html": [
       "<div>\n",
       "<style scoped>\n",
       "    .dataframe tbody tr th:only-of-type {\n",
       "        vertical-align: middle;\n",
       "    }\n",
       "\n",
       "    .dataframe tbody tr th {\n",
       "        vertical-align: top;\n",
       "    }\n",
       "\n",
       "    .dataframe thead th {\n",
       "        text-align: right;\n",
       "    }\n",
       "</style>\n",
       "<table border=\"1\" class=\"dataframe\">\n",
       "  <thead>\n",
       "    <tr style=\"text-align: right;\">\n",
       "      <th></th>\n",
       "      <th>team_name_away</th>\n",
       "      <th>AVG(fg_pct_away)</th>\n",
       "      <th>season_id</th>\n",
       "    </tr>\n",
       "  </thead>\n",
       "  <tbody>\n",
       "    <tr>\n",
       "      <th>0</th>\n",
       "      <td>Atlanta Hawks</td>\n",
       "      <td>0.440697</td>\n",
       "      <td>22019</td>\n",
       "    </tr>\n",
       "    <tr>\n",
       "      <th>1</th>\n",
       "      <td>Atlanta Hawks</td>\n",
       "      <td>0.460389</td>\n",
       "      <td>22020</td>\n",
       "    </tr>\n",
       "    <tr>\n",
       "      <th>2</th>\n",
       "      <td>Atlanta Hawks</td>\n",
       "      <td>0.459366</td>\n",
       "      <td>22021</td>\n",
       "    </tr>\n",
       "    <tr>\n",
       "      <th>3</th>\n",
       "      <td>Atlanta Hawks</td>\n",
       "      <td>0.486098</td>\n",
       "      <td>22022</td>\n",
       "    </tr>\n",
       "    <tr>\n",
       "      <th>4</th>\n",
       "      <td>Boston Celtics</td>\n",
       "      <td>0.454000</td>\n",
       "      <td>22019</td>\n",
       "    </tr>\n",
       "    <tr>\n",
       "      <th>...</th>\n",
       "      <td>...</td>\n",
       "      <td>...</td>\n",
       "      <td>...</td>\n",
       "    </tr>\n",
       "    <tr>\n",
       "      <th>115</th>\n",
       "      <td>Utah Jazz</td>\n",
       "      <td>0.476951</td>\n",
       "      <td>22022</td>\n",
       "    </tr>\n",
       "    <tr>\n",
       "      <th>116</th>\n",
       "      <td>Washington Wizards</td>\n",
       "      <td>0.458611</td>\n",
       "      <td>22019</td>\n",
       "    </tr>\n",
       "    <tr>\n",
       "      <th>117</th>\n",
       "      <td>Washington Wizards</td>\n",
       "      <td>0.467056</td>\n",
       "      <td>22020</td>\n",
       "    </tr>\n",
       "    <tr>\n",
       "      <th>118</th>\n",
       "      <td>Washington Wizards</td>\n",
       "      <td>0.465390</td>\n",
       "      <td>22021</td>\n",
       "    </tr>\n",
       "    <tr>\n",
       "      <th>119</th>\n",
       "      <td>Washington Wizards</td>\n",
       "      <td>0.487366</td>\n",
       "      <td>22022</td>\n",
       "    </tr>\n",
       "  </tbody>\n",
       "</table>\n",
       "<p>120 rows × 3 columns</p>\n",
       "</div>"
      ],
      "text/plain": [
       "         team_name_away  AVG(fg_pct_away) season_id\n",
       "0         Atlanta Hawks          0.440697     22019\n",
       "1         Atlanta Hawks          0.460389     22020\n",
       "2         Atlanta Hawks          0.459366     22021\n",
       "3         Atlanta Hawks          0.486098     22022\n",
       "4        Boston Celtics          0.454000     22019\n",
       "..                  ...               ...       ...\n",
       "115           Utah Jazz          0.476951     22022\n",
       "116  Washington Wizards          0.458611     22019\n",
       "117  Washington Wizards          0.467056     22020\n",
       "118  Washington Wizards          0.465390     22021\n",
       "119  Washington Wizards          0.487366     22022\n",
       "\n",
       "[120 rows x 3 columns]"
      ]
     },
     "execution_count": 41,
     "metadata": {},
     "output_type": "execute_result"
    }
   ],
   "source": [
    "covid_fg_away = pd.read_sql_query(\"SELECT team_name_away, AVG(fg_pct_away), season_id FROM game WHERE season_id IN (22022, 22021, 22020, 22019) GROUP BY team_name_away, season_id\", con)\n",
    "covid_fg_away"
   ]
  },
  {
   "cell_type": "code",
   "execution_count": null,
   "metadata": {},
   "outputs": [
    {
     "data": {
      "text/plain": [
       "count    30.000000\n",
       "mean      0.442967\n",
       "std       0.063498\n",
       "min       0.326000\n",
       "25%       0.395750\n",
       "50%       0.435500\n",
       "75%       0.472500\n",
       "max       0.625000\n",
       "Name: fg_pct_away, dtype: float64"
      ]
     },
     "execution_count": 42,
     "metadata": {},
     "output_type": "execute_result"
    }
   ],
   "source": [
    "covid_fg_away = pd.read_sql_query(\"SELECT team_name_away, fg_pct_away, season_id FROM game WHERE season_id IN (22019) GROUP BY team_name_away, season_id\", con)\n",
    "covid_fg_away['fg_pct_away'].describe()"
   ]
  },
  {
   "cell_type": "code",
   "execution_count": null,
   "metadata": {},
   "outputs": [
    {
     "data": {
      "text/plain": [
       "count    30.000000\n",
       "mean      0.481567\n",
       "std       0.045188\n",
       "min       0.374000\n",
       "25%       0.455500\n",
       "50%       0.478500\n",
       "75%       0.509750\n",
       "max       0.561000\n",
       "Name: fg_pct_away, dtype: float64"
      ]
     },
     "execution_count": 43,
     "metadata": {},
     "output_type": "execute_result"
    }
   ],
   "source": [
    "covid_fg_away = pd.read_sql_query(\"SELECT team_name_away, fg_pct_away, season_id FROM game WHERE season_id IN (22020) GROUP BY team_name_away, season_id\", con)\n",
    "covid_fg_away['fg_pct_away'].describe()"
   ]
  },
  {
   "cell_type": "code",
   "execution_count": null,
   "metadata": {},
   "outputs": [],
   "source": [
    "con.close()"
   ]
  },
  {
   "cell_type": "markdown",
   "metadata": {},
   "source": [
    "## References\n",
    "- Any links/outside sources"
   ]
  }
 ],
 "metadata": {
  "kernelspec": {
   "display_name": "Python 3",
   "language": "python",
   "name": "python3"
  },
  "language_info": {
   "codemirror_mode": {
    "name": "ipython",
    "version": 3
   },
   "file_extension": ".py",
   "mimetype": "text/x-python",
   "name": "python",
   "nbconvert_exporter": "python",
   "pygments_lexer": "ipython3",
   "version": "3.12.4"
  }
 },
 "nbformat": 4,
 "nbformat_minor": 2
}
