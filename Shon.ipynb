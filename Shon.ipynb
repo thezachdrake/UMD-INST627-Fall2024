{
 "cells": [
  {
   "cell_type": "code",
   "execution_count": 17,
   "id": "1ae2858b-87c7-409f-af65-9cf32aefd430",
   "metadata": {},
   "outputs": [],
   "source": [
    "import pandas as pd\n",
    "\n",
    "df = pd.read_csv('data/data.csv')\n",
    "df_brooklyn = df[df['BORO_NM'] == 'BROOKLYN']\n",
    "\n",
    "df_brooklyn.head()\n",
    "\n"
   ]
  }
 ],
 "metadata": {
  "kernelspec": {
   "display_name": "Python 3 (ipykernel)",
   "language": "python",
   "name": "python3"
  },
  "language_info": {
   "codemirror_mode": {
    "name": "ipython",
    "version": 3
   },
   "file_extension": ".py",
   "mimetype": "text/x-python",
   "name": "python",
   "nbconvert_exporter": "python",
   "pygments_lexer": "ipython3",
   "version": "3.11.7"
  }
 },
 "nbformat": 4,
 "nbformat_minor": 5
}
