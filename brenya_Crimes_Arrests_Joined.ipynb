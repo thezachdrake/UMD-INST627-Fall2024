{
 "cells": [
  {
   "cell_type": "code",
   "execution_count": 10,
   "metadata": {},
   "outputs": [
    {
     "name": "stdout",
     "output_type": "stream",
     "text": [
      "   ARREST_KEY ARREST_DATE                 PD_DESC_x  \\\n",
      "0   280733020  2024-01-18                    RAPE 3   \n",
      "1   281843358  2024-02-07                    RAPE 3   \n",
      "2   281233098  2024-01-28  ASSAULT 2,1,UNCLASSIFIED   \n",
      "3   282359540  2024-02-17         STRANGULATION 1ST   \n",
      "4   282733649  2024-02-24                 ASSAULT 3   \n",
      "\n",
      "                    OFNS_DESC_x ARREST_BORO    LAW_CODE CMPLNT_NUM  \\\n",
      "0                          RAPE           B  PL 1302503  282881106   \n",
      "1                          RAPE           K  PL 1302503  281919407   \n",
      "2                FELONY ASSAULT           K  PL 1200501  281230448   \n",
      "3                FELONY ASSAULT           B  PL 1211200  282359636   \n",
      "4  ASSAULT 3 & RELATED OFFENSES           K  PL 1200001  282731537   \n",
      "\n",
      "  CMPLNT_FR_DT CRM_ATPT_CPTD_CD  X_COORD_CD  Y_COORD_CD  \n",
      "0   2024-01-18        COMPLETED     1013037      236657  \n",
      "1   2024-02-07        COMPLETED      983431      158677  \n",
      "2   2024-01-28        COMPLETED      999746      180992  \n",
      "3   2024-02-17        COMPLETED     1004281      244845  \n",
      "4   2024-02-24        COMPLETED      994949      174604  \n"
     ]
    }
   ],
   "source": [
    "import pandas as pd\n",
    "\n",
    "arrests_path = 'data/arrests.csv'\n",
    "crimes_path = 'data/crimes.csv'\n",
    "\n",
    "arrests_df = pd.read_csv(arrests_path)\n",
    "crimes_df = pd.read_csv(crimes_path)\n",
    "\n",
    "arrests_df['ARREST_DATE'] = pd.to_datetime(arrests_df['ARREST_DATE'], format='%m/%d/%Y')\n",
    "crimes_df['CMPLNT_FR_DT'] = pd.to_datetime(crimes_df['CMPLNT_FR_DT'], errors='coerce')\n",
    "\n",
    "merged_df = pd.merge(\n",
    "    arrests_df,\n",
    "    crimes_df,\n",
    "    left_on=['ARREST_DATE', 'X_COORD_CD', 'Y_COORD_CD'],\n",
    "    right_on=['CMPLNT_FR_DT', 'X_COORD_CD', 'Y_COORD_CD'],\n",
    "    how='inner'\n",
    ")\n",
    "\n",
    "# Select the relevant columns for simplified output\n",
    "simplified_merged_df = merged_df[[\n",
    "    'ARREST_KEY', 'ARREST_DATE', 'PD_DESC_x', 'OFNS_DESC_x', 'ARREST_BORO', 'LAW_CODE',\n",
    "    'CMPLNT_NUM', 'CMPLNT_FR_DT', 'CRM_ATPT_CPTD_CD', 'X_COORD_CD', 'Y_COORD_CD'\n",
    "]].head()\n",
    "\n",
    "print(simplified_merged_df)\n",
    "\n",
    "\n",
    "\n"
   ]
  },
  {
   "cell_type": "code",
   "execution_count": null,
   "metadata": {},
   "outputs": [],
   "source": []
  }
 ],
 "metadata": {
  "kernelspec": {
   "display_name": "Python 3",
   "language": "python",
   "name": "python3"
  },
  "language_info": {
   "codemirror_mode": {
    "name": "ipython",
    "version": 3
   },
   "file_extension": ".py",
   "mimetype": "text/x-python",
   "name": "python",
   "nbconvert_exporter": "python",
   "pygments_lexer": "ipython3",
   "version": "3.11.9"
  }
 },
 "nbformat": 4,
 "nbformat_minor": 2
}
