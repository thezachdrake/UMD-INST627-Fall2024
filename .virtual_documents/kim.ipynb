import pandas as pd
df = pd.read_csv('data/data.csv')
df = df[df.BORO_NM=="MANHATTAN"]
df


df = pd.read_csv('data/data.csv')
df = df[df.OFNS_DESC=="FORGERY"]
df.sort_values("PREM_TYP_DESC")
df









