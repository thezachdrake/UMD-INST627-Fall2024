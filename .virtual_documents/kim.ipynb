


import pandas as pd
df = pd.read_csv('data/data.csv')
df = df[df.BORO_NM=="MANHATTAN"]
df








df = pd.read_csv('data/data.csv')
df = df[df.OFNS_DESC=="FORGERY"]
df.sort_values("PREM_TYP_DESC")
df





import pandas as pd
df_1 = pd.read_csv('data/arrests.csv')
df_1.columns


df_2 = pd.read_csv('data/crimes.csv')
df_2.columns
df_2.head(5)


df_1[['PD_CD','PD_DESC', 'KY_CD', 'OFNS_DESC','LAW_CODE', 'LAW_CAT_CD']]


df_2[['KY_CD','LAW_CAT_CD','PD_DESC','OFNS_DESC']]


print(df_1['KY_CD'].dtype)
print(df_2['KY_CD'].dtype)


df_2['KY_CD'] = df_2['KY_CD'].astype(float)


df_1_subset = df_1[['ARREST_KEY', 'ARREST_DATE', 'PD_CD', 'PD_DESC', 'KY_CD', 'OFNS_DESC','LAW_CODE', 'ARREST_BORO', 'ARREST_PRECINCT','JURISDICTION_CODE']]


df_2_subset = df_2[['CMPLNT_NUM', 'ADDR_PCT_CD', 'BORO_NM','JURISDICTION_CODE', 'JURIS_DESC', 'KY_CD','PD_CD', 'PD_DESC']]


df_subset_mg = df_1_subset.merge(df_2_subset, on=['PD_CD','KY_CD'], how='left', suffixes=('_arrest','_crime'))


print(df_subset_mg.head(10))


### Issue 3 - NBA Games <br>


import pandas as pd
import sqlite3

con = sqlite3.connect("data/nba.sqlite")
games = pd.read_sql_query("SELECT * FROM game LIMIT 100", con)

active_players = pd.read_sql_query("SELECT full_name FROM player WHERE is_active=TRUE", con)


games.columns


games.head(5)


active_players.head(5)


games_recent = pd.read_sql_query("""
    SELECT season_id, season_type, team_name_home, game_Date
    FROM game
    ORDER BY season_id DESC"""
    , con)
games_recent.head(5) 

# Selected Team: Boston Celtics


games_sliced = games.iloc[:,8:28]
games_sliced.head(5)

# Selected columns for calculating average score: pts_home, pts_away


games_bc_avg = pd.read_sql_query("""
    SELECT team_name_home, avg(pts_home) AS home_avg, avg(pts_away) AS away_avg
    FROM game
    WHERE team_name_home = 'Boston Celtics'
    """, con)
print(games_bc_avg)



